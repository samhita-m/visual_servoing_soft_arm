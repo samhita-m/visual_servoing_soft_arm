{
  "nbformat": 4,
  "nbformat_minor": 0,
  "metadata": {
    "colab": {
      "name": "exp2 delta_theta VGG.ipynb",
      "provenance": [],
      "collapsed_sections": []
    },
    "kernelspec": {
      "name": "python3",
      "display_name": "Python 3"
    }
  },
  "cells": [
    {
      "cell_type": "code",
      "metadata": {
        "colab": {
          "base_uri": "https://localhost:8080/"
        },
        "id": "b5mcsngV9IjX",
        "outputId": "cc7d5b2c-966c-4b8c-f20b-2de1578fdaff"
      },
      "source": [
        "from google.colab import drive\n",
        "drive.mount('/content/drive')"
      ],
      "execution_count": 1,
      "outputs": [
        {
          "output_type": "stream",
          "text": [
            "Drive already mounted at /content/drive; to attempt to forcibly remount, call drive.mount(\"/content/drive\", force_remount=True).\n"
          ],
          "name": "stdout"
        }
      ]
    },
    {
      "cell_type": "code",
      "metadata": {
        "colab": {
          "base_uri": "https://localhost:8080/"
        },
        "id": "aClCGALS9N6c",
        "outputId": "32503b22-c8da-4b67-cb28-ce0b10be0cfb"
      },
      "source": [
        "import os\n",
        "os.chdir('/content/drive/My Drive')\n",
        "!pwd"
      ],
      "execution_count": 2,
      "outputs": [
        {
          "output_type": "stream",
          "text": [
            "/content/drive/My Drive\n"
          ],
          "name": "stdout"
        }
      ]
    },
    {
      "cell_type": "code",
      "metadata": {
        "colab": {
          "base_uri": "https://localhost:8080/"
        },
        "id": "k_YleJ_xiBkd",
        "outputId": "d7893845-5136-4cb1-ea9d-d204e098cd9f"
      },
      "source": [
        "%tensorflow_version"
      ],
      "execution_count": null,
      "outputs": [
        {
          "output_type": "stream",
          "text": [
            "Currently selected TF version: 2.x\n",
            "Available versions:\n",
            "* 1.x\n",
            "* 2.x\n"
          ],
          "name": "stdout"
        }
      ]
    },
    {
      "cell_type": "code",
      "metadata": {
        "id": "WUAVH2STVC_U"
      },
      "source": [
        "import pandas as pd\n",
        "import numpy as np\n",
        "from skimage.io import imread\n",
        "from sklearn.model_selection import train_test_split\n",
        "from matplotlib import pyplot as plt\n",
        "# %matplotlib inline\n",
        "\n",
        "import keras\n",
        "from keras import optimizers\n",
        "from keras.utils import to_categorical\n",
        "from keras.layers import Input, Dense, Flatten, Dropout, Conv2D, MaxPooling2D, Activation, concatenate\n",
        "from keras.layers.advanced_activations import ReLU\n",
        "from keras.models import Model\n",
        "from keras.optimizers import Adam, SGD\n",
        "from keras.callbacks import ModelCheckpoint\n",
        "import random"
      ],
      "execution_count": 3,
      "outputs": []
    },
    {
      "cell_type": "code",
      "metadata": {
        "id": "8TAoFO4R-jOC"
      },
      "source": [
        "def load_dataset():\n",
        "  train_data = pd.read_csv('trainset.csv')\n",
        "  y_train = pd.read_csv('theta.csv')\n",
        "  target_data = pd.read_csv('target_data.csv')\n",
        "  # target_label = pd.read_csv('target_label.csv')\n",
        "  return train_data, y_train, target_data"
      ],
      "execution_count": 4,
      "outputs": []
    },
    {
      "cell_type": "code",
      "metadata": {
        "id": "XJwQAkT2-zkv"
      },
      "source": [
        "# train_data.head()\n",
        "# y_train.head()"
      ],
      "execution_count": null,
      "outputs": []
    },
    {
      "cell_type": "code",
      "metadata": {
        "id": "Wy57sGOsBdNh"
      },
      "source": [
        "train_data, y_train, target_data = load_dataset()"
      ],
      "execution_count": 5,
      "outputs": []
    },
    {
      "cell_type": "code",
      "metadata": {
        "id": "mmppeSVB_BRm"
      },
      "source": [
        "# train_data.shape\n",
        "# target_data.shape"
      ],
      "execution_count": null,
      "outputs": []
    },
    {
      "cell_type": "code",
      "metadata": {
        "id": "KfuJXir7E1-k"
      },
      "source": [
        "num_classes = 1\n",
        "train_data = np.array(train_data.iloc[:,:])\n",
        "train_data = np.array([np.reshape(i,(128,128)) for i in train_data])\n",
        "target_data = np.array(target_data.iloc[:,:])\n",
        "target_data = np.array([np.reshape(i,(128,128)) for i in target_data])"
      ],
      "execution_count": 6,
      "outputs": []
    },
    {
      "cell_type": "code",
      "metadata": {
        "colab": {
          "base_uri": "https://localhost:8080/"
        },
        "id": "w02tvuvtE5k_",
        "outputId": "ffb7f02e-881f-4241-aed6-ca2db0ba74ba"
      },
      "source": [
        "train_data.shape\n",
        "target_data.shape"
      ],
      "execution_count": 7,
      "outputs": [
        {
          "output_type": "execute_result",
          "data": {
            "text/plain": [
              "(333, 128, 128)"
            ]
          },
          "metadata": {
            "tags": []
          },
          "execution_count": 7
        }
      ]
    },
    {
      "cell_type": "code",
      "metadata": {
        "colab": {
          "base_uri": "https://localhost:8080/"
        },
        "id": "QaXR-fhI1TMc",
        "outputId": "c634d581-916c-47c6-bdd3-0be45dee1652"
      },
      "source": [
        "train_data = train_data.astype('float32')\n",
        "train_data = train_data/255\n",
        "\n",
        "rgb_batch = np.repeat(train_data[..., np.newaxis], 3, -1)\n",
        "rgb_batch.shape\n",
        "\n",
        "target_data = target_data.astype('float32')\n",
        "target_data = target_data/255\n",
        "\n",
        "rgb_target = np.repeat(target_data[..., np.newaxis], 3, -1)\n",
        "rgb_target.shape"
      ],
      "execution_count": 8,
      "outputs": [
        {
          "output_type": "execute_result",
          "data": {
            "text/plain": [
              "(333, 128, 128, 3)"
            ]
          },
          "metadata": {
            "tags": []
          },
          "execution_count": 8
        }
      ]
    },
    {
      "cell_type": "code",
      "metadata": {
        "id": "F8QTLdM0QeBr"
      },
      "source": [
        "target_data = rgb_target"
      ],
      "execution_count": 9,
      "outputs": []
    },
    {
      "cell_type": "code",
      "metadata": {
        "colab": {
          "base_uri": "https://localhost:8080/"
        },
        "id": "lWPUCq7qhC3N",
        "outputId": "b6770454-2f63-48bf-d962-dd7b025e98a7"
      },
      "source": [
        "target_data.shape"
      ],
      "execution_count": 10,
      "outputs": [
        {
          "output_type": "execute_result",
          "data": {
            "text/plain": [
              "(333, 128, 128, 3)"
            ]
          },
          "metadata": {
            "tags": []
          },
          "execution_count": 10
        }
      ]
    },
    {
      "cell_type": "code",
      "metadata": {
        "id": "PP7Qcm5jXV4U"
      },
      "source": [
        "y_norm = (2*(y_train - (-25))/(55-(-25))) - 1"
      ],
      "execution_count": 20,
      "outputs": []
    },
    {
      "cell_type": "code",
      "metadata": {
        "colab": {
          "base_uri": "https://localhost:8080/"
        },
        "id": "6EegBbpyYGNn",
        "outputId": "139dda00-fae8-4f56-eb9d-1991e13f452a"
      },
      "source": [
        "print(y_norm)"
      ],
      "execution_count": 21,
      "outputs": [
        {
          "output_type": "stream",
          "text": [
            "     theta\n",
            "0      1.0\n",
            "1      1.0\n",
            "2      1.0\n",
            "3      1.0\n",
            "4      1.0\n",
            "..     ...\n",
            "328   -1.0\n",
            "329   -1.0\n",
            "330   -1.0\n",
            "331   -1.0\n",
            "332   -1.0\n",
            "\n",
            "[333 rows x 1 columns]\n"
          ],
          "name": "stdout"
        }
      ]
    },
    {
      "cell_type": "code",
      "metadata": {
        "id": "aAu-kK85Zesh"
      },
      "source": [
        "y_train = y_norm"
      ],
      "execution_count": 23,
      "outputs": []
    },
    {
      "cell_type": "code",
      "metadata": {
        "id": "l3J9DPmoEonU"
      },
      "source": [
        "x_train, x_test, y_train, y_test = train_test_split(rgb_batch, y_train, test_size = 0.3, random_state=666)\n",
        "target_xtrain, target_xtest = train_test_split(target_data, test_size = 0.3, random_state=666)"
      ],
      "execution_count": 24,
      "outputs": []
    },
    {
      "cell_type": "code",
      "metadata": {
        "id": "mEYix5VfIEhe"
      },
      "source": [
        "input_shape = (128, 128, 3)"
      ],
      "execution_count": 26,
      "outputs": []
    },
    {
      "cell_type": "code",
      "metadata": {
        "colab": {
          "base_uri": "https://localhost:8080/"
        },
        "id": "8yKRdRCEagQy",
        "outputId": "3ebf9765-0d1d-4e02-af05-02b5647e480b"
      },
      "source": [
        "# print(y_test)"
      ],
      "execution_count": null,
      "outputs": [
        {
          "output_type": "stream",
          "text": [
            "     theta  R1  R2   B\n",
            "3       55   7   0   2\n",
            "184     15   7 -25  -3\n",
            "302    -25  -8   0  12\n",
            "239     -5  -3   0  -3\n",
            "50      45  -3   0   2\n",
            "..     ...  ..  ..  ..\n",
            "14      55  -8   0   2\n",
            "253     -5   7 -20   2\n",
            "193      5 -18   0  12\n",
            "54      45  -3   0  -3\n",
            "177     15   7 -10   2\n",
            "\n",
            "[100 rows x 4 columns]\n"
          ],
          "name": "stdout"
        }
      ]
    },
    {
      "cell_type": "code",
      "metadata": {
        "id": "TlmvUKDGMzlZ"
      },
      "source": [
        "def VGG_16(input_image):\n",
        "    model = Conv2D(64, (3,3), padding=\"same\", input_shape = input_shape)(input_image)\n",
        "    model = ReLU(max_value=1.0)(model)\n",
        "    # model = Conv2D(64, (3,3), padding=\"same\")(model)\n",
        "    # model = ReLU(max_value=1.0)(model)\n",
        "    model = MaxPooling2D(pool_size=(2,2), padding=\"same\")(model)\n",
        "    # model = Dropout(0.25)(model)\n",
        "\n",
        "    model = Conv2D(128, (3,3), padding=\"same\")(model)\n",
        "    model = ReLU(max_value=1.0)(model)\n",
        "    # model = Conv2D(128, (3,3), padding=\"same\")(model)\n",
        "    # model = ReLU(max_value=1.0)(model)\n",
        "    # model = MaxPooling2D(pool_size=(2,2), padding=\"same\")(model)\n",
        "    model = Dropout(0.25)(model)\n",
        "\n",
        "    # model = Conv2D(256, (3,3), padding=\"same\")(model)\n",
        "    # model = ReLU(max_value=1.0)(model)\n",
        "    model = Conv2D(256, (3,3), padding=\"same\")(model)\n",
        "    model = ReLU(max_value=1.0)(model)\n",
        "    model = MaxPooling2D(pool_size=(2,2), padding=\"same\")(model)\n",
        "    model = Dropout(0.25)(model)\n",
        "\n",
        "\n",
        "    return model"
      ],
      "execution_count": 27,
      "outputs": []
    },
    {
      "cell_type": "code",
      "metadata": {
        "id": "gyD2K2hs47BT"
      },
      "source": [
        "current_input = Input(shape=input_shape)\n",
        "current_model = VGG_16(current_input)\n",
        "\n",
        "target_input = Input(shape=input_shape)\n",
        "target_model = VGG_16(target_input)"
      ],
      "execution_count": 28,
      "outputs": []
    },
    {
      "cell_type": "code",
      "metadata": {
        "id": "oGY8OydFTU8E"
      },
      "source": [
        "conv = concatenate([current_model, target_model])"
      ],
      "execution_count": 29,
      "outputs": []
    },
    {
      "cell_type": "code",
      "metadata": {
        "id": "IjgFVGD1Ta_N"
      },
      "source": [
        "conv = Flatten()(conv)\n",
        "dense = Dense(512)(conv)\n",
        "dense = ReLU(max_value=1.0)(dense)\n",
        "dense = Dropout(0.25)(dense)\n",
        "# dense = Dense(512)(dense)\n",
        "# dense = ReLU(max_value=1.0)(dense)\n",
        "# dense = Dropout(0.5)(dense)\n",
        "\n",
        "output = Dense(num_classes, activation='tanh')(dense)\n",
        "\n",
        "model = Model(inputs=[current_input, target_input], outputs=[output])\n",
        "\n",
        "opt = SGD(learning_rate=0.01)\n",
        "\n",
        "model.compile(loss='mean_squared_error', optimizer=opt, metrics=['mse'])\n"
      ],
      "execution_count": 30,
      "outputs": []
    },
    {
      "cell_type": "code",
      "metadata": {
        "id": "7rHsTXpiU4Zw"
      },
      "source": [
        "best_weights_file=\"weights.best.hdf5\"\n",
        "checkpoint = ModelCheckpoint(best_weights_file, monitor='val_accuracy', verbose=1, save_best_only=True, mode='max')\n",
        "callbacks = [checkpoint]"
      ],
      "execution_count": null,
      "outputs": []
    },
    {
      "cell_type": "code",
      "metadata": {
        "colab": {
          "base_uri": "https://localhost:8080/"
        },
        "id": "6LLcG_DpWKp7",
        "outputId": "123dc8bb-36cd-4f73-a40a-9e26455d6c6d"
      },
      "source": [
        "model.fit([x_train, target_xtrain], y_train,\n",
        "          epochs=30,\n",
        "          validation_data=([x_test, target_xtest], y_test),\n",
        "          verbose=1)"
      ],
      "execution_count": 31,
      "outputs": [
        {
          "output_type": "stream",
          "text": [
            "Epoch 1/30\n",
            "8/8 [==============================] - 130s 16s/step - loss: 1.1836 - mse: 1.1836 - val_loss: 1.3454 - val_mse: 1.3454\n",
            "Epoch 2/30\n",
            "8/8 [==============================] - 119s 15s/step - loss: 1.4649 - mse: 1.4649 - val_loss: 1.3403 - val_mse: 1.3403\n",
            "Epoch 3/30\n",
            "8/8 [==============================] - 118s 15s/step - loss: 1.4496 - mse: 1.4496 - val_loss: 1.3172 - val_mse: 1.3172\n",
            "Epoch 4/30\n",
            "8/8 [==============================] - 120s 15s/step - loss: 1.4120 - mse: 1.4120 - val_loss: 1.0543 - val_mse: 1.0543\n",
            "Epoch 5/30\n",
            "8/8 [==============================] - 125s 16s/step - loss: 0.8901 - mse: 0.8901 - val_loss: 0.4217 - val_mse: 0.4217\n",
            "Epoch 6/30\n",
            "8/8 [==============================] - 134s 17s/step - loss: 0.4419 - mse: 0.4419 - val_loss: 0.4087 - val_mse: 0.4087\n",
            "Epoch 7/30\n",
            "8/8 [==============================] - 145s 18s/step - loss: 0.4076 - mse: 0.4076 - val_loss: 0.4270 - val_mse: 0.4270\n",
            "Epoch 8/30\n",
            "8/8 [==============================] - 136s 17s/step - loss: 0.4730 - mse: 0.4730 - val_loss: 0.4076 - val_mse: 0.4076\n",
            "Epoch 9/30\n",
            "8/8 [==============================] - 132s 17s/step - loss: 0.4241 - mse: 0.4241 - val_loss: 0.4080 - val_mse: 0.4080\n",
            "Epoch 10/30\n",
            "8/8 [==============================] - 136s 17s/step - loss: 0.3971 - mse: 0.3971 - val_loss: 0.4416 - val_mse: 0.4416\n",
            "Epoch 11/30\n",
            "8/8 [==============================] - 133s 17s/step - loss: 0.4369 - mse: 0.4369 - val_loss: 0.4085 - val_mse: 0.4085\n",
            "Epoch 12/30\n",
            "8/8 [==============================] - 127s 16s/step - loss: 0.4140 - mse: 0.4140 - val_loss: 0.4056 - val_mse: 0.4056\n",
            "Epoch 13/30\n",
            "8/8 [==============================] - 122s 15s/step - loss: 0.3814 - mse: 0.3814 - val_loss: 0.4066 - val_mse: 0.4066\n",
            "Epoch 14/30\n",
            "8/8 [==============================] - 121s 15s/step - loss: 0.4171 - mse: 0.4171 - val_loss: 0.4215 - val_mse: 0.4215\n",
            "Epoch 15/30\n",
            "8/8 [==============================] - 134s 17s/step - loss: 0.4214 - mse: 0.4214 - val_loss: 0.4096 - val_mse: 0.4096\n",
            "Epoch 16/30\n",
            "8/8 [==============================] - 128s 16s/step - loss: 0.4252 - mse: 0.4252 - val_loss: 0.4113 - val_mse: 0.4113\n",
            "Epoch 17/30\n",
            "8/8 [==============================] - 122s 15s/step - loss: 0.4108 - mse: 0.4108 - val_loss: 0.4326 - val_mse: 0.4326\n",
            "Epoch 18/30\n",
            "8/8 [==============================] - 123s 15s/step - loss: 0.4030 - mse: 0.4030 - val_loss: 0.3992 - val_mse: 0.3992\n",
            "Epoch 19/30\n",
            "8/8 [==============================] - 122s 15s/step - loss: 0.4351 - mse: 0.4351 - val_loss: 0.4160 - val_mse: 0.4160\n",
            "Epoch 20/30\n",
            "8/8 [==============================] - 128s 16s/step - loss: 0.4307 - mse: 0.4307 - val_loss: 0.4121 - val_mse: 0.4121\n",
            "Epoch 21/30\n",
            "8/8 [==============================] - 123s 15s/step - loss: 0.3953 - mse: 0.3953 - val_loss: 0.4190 - val_mse: 0.4190\n",
            "Epoch 22/30\n",
            "8/8 [==============================] - 123s 15s/step - loss: 0.3814 - mse: 0.3814 - val_loss: 0.3999 - val_mse: 0.3999\n",
            "Epoch 23/30\n",
            "8/8 [==============================] - 122s 15s/step - loss: 0.3966 - mse: 0.3966 - val_loss: 0.4016 - val_mse: 0.4016\n",
            "Epoch 24/30\n",
            "8/8 [==============================] - 123s 15s/step - loss: 0.3971 - mse: 0.3971 - val_loss: 0.4496 - val_mse: 0.4496\n",
            "Epoch 25/30\n",
            "8/8 [==============================] - 131s 16s/step - loss: 0.4313 - mse: 0.4313 - val_loss: 0.4325 - val_mse: 0.4325\n",
            "Epoch 26/30\n",
            "8/8 [==============================] - 120s 15s/step - loss: 0.4135 - mse: 0.4135 - val_loss: 0.4108 - val_mse: 0.4108\n",
            "Epoch 27/30\n",
            "8/8 [==============================] - 122s 15s/step - loss: 0.4167 - mse: 0.4167 - val_loss: 0.4169 - val_mse: 0.4169\n",
            "Epoch 28/30\n",
            "8/8 [==============================] - 119s 15s/step - loss: 0.3987 - mse: 0.3987 - val_loss: 0.4007 - val_mse: 0.4007\n",
            "Epoch 29/30\n",
            "8/8 [==============================] - 123s 15s/step - loss: 0.3673 - mse: 0.3673 - val_loss: 0.4141 - val_mse: 0.4141\n",
            "Epoch 30/30\n",
            "8/8 [==============================] - 144s 18s/step - loss: 0.3816 - mse: 0.3816 - val_loss: 0.4376 - val_mse: 0.4376\n"
          ],
          "name": "stdout"
        },
        {
          "output_type": "execute_result",
          "data": {
            "text/plain": [
              "<tensorflow.python.keras.callbacks.History at 0x7f4e2fcda610>"
            ]
          },
          "metadata": {
            "tags": []
          },
          "execution_count": 31
        }
      ]
    },
    {
      "cell_type": "code",
      "metadata": {
        "id": "Vc_R1cBMXEOM",
        "colab": {
          "base_uri": "https://localhost:8080/"
        },
        "outputId": "7b3e17d0-5d8d-4040-dd2c-dc12852a980a"
      },
      "source": [
        "model.evaluate([x_test, target_xtest], y_test)"
      ],
      "execution_count": 32,
      "outputs": [
        {
          "output_type": "stream",
          "text": [
            "4/4 [==============================] - 13s 3s/step - loss: 0.4376 - mse: 0.4376\n"
          ],
          "name": "stdout"
        },
        {
          "output_type": "execute_result",
          "data": {
            "text/plain": [
              "[0.43758729100227356, 0.43758729100227356]"
            ]
          },
          "metadata": {
            "tags": []
          },
          "execution_count": 32
        }
      ]
    },
    {
      "cell_type": "code",
      "metadata": {
        "colab": {
          "base_uri": "https://localhost:8080/",
          "height": 195
        },
        "id": "ATVPipF3oiAz",
        "outputId": "3fc63ef4-6284-4625-d87a-932cbc0b19c1"
      },
      "source": [
        "y_test.head()"
      ],
      "execution_count": 37,
      "outputs": [
        {
          "output_type": "execute_result",
          "data": {
            "text/html": [
              "<div>\n",
              "<style scoped>\n",
              "    .dataframe tbody tr th:only-of-type {\n",
              "        vertical-align: middle;\n",
              "    }\n",
              "\n",
              "    .dataframe tbody tr th {\n",
              "        vertical-align: top;\n",
              "    }\n",
              "\n",
              "    .dataframe thead th {\n",
              "        text-align: right;\n",
              "    }\n",
              "</style>\n",
              "<table border=\"1\" class=\"dataframe\">\n",
              "  <thead>\n",
              "    <tr style=\"text-align: right;\">\n",
              "      <th></th>\n",
              "      <th>theta</th>\n",
              "    </tr>\n",
              "  </thead>\n",
              "  <tbody>\n",
              "    <tr>\n",
              "      <th>3</th>\n",
              "      <td>1.00</td>\n",
              "    </tr>\n",
              "    <tr>\n",
              "      <th>184</th>\n",
              "      <td>0.00</td>\n",
              "    </tr>\n",
              "    <tr>\n",
              "      <th>302</th>\n",
              "      <td>-1.00</td>\n",
              "    </tr>\n",
              "    <tr>\n",
              "      <th>239</th>\n",
              "      <td>-0.50</td>\n",
              "    </tr>\n",
              "    <tr>\n",
              "      <th>50</th>\n",
              "      <td>0.75</td>\n",
              "    </tr>\n",
              "  </tbody>\n",
              "</table>\n",
              "</div>"
            ],
            "text/plain": [
              "     theta\n",
              "3     1.00\n",
              "184   0.00\n",
              "302  -1.00\n",
              "239  -0.50\n",
              "50    0.75"
            ]
          },
          "metadata": {
            "tags": []
          },
          "execution_count": 37
        }
      ]
    },
    {
      "cell_type": "code",
      "metadata": {
        "id": "t-Pp8UsinhpG"
      },
      "source": [
        "prediction = model.predict([x_test, target_xtest])\n",
        "prediction = np.rint(prediction)"
      ],
      "execution_count": 33,
      "outputs": []
    },
    {
      "cell_type": "code",
      "metadata": {
        "id": "-Ai-hdEUrMcK",
        "colab": {
          "base_uri": "https://localhost:8080/"
        },
        "outputId": "4c28ba78-245d-4b42-9d61-74d40b630254"
      },
      "source": [
        "print(prediction)"
      ],
      "execution_count": 35,
      "outputs": [
        {
          "output_type": "stream",
          "text": [
            "[[-0.]\n",
            " [-0.]\n",
            " [-0.]\n",
            " [-0.]\n",
            " [-0.]\n",
            " [-0.]\n",
            " [-0.]\n",
            " [-0.]\n",
            " [-0.]\n",
            " [-0.]\n",
            " [-0.]\n",
            " [-0.]\n",
            " [-0.]\n",
            " [-0.]\n",
            " [-0.]\n",
            " [-0.]\n",
            " [-0.]\n",
            " [-0.]\n",
            " [-0.]\n",
            " [-0.]\n",
            " [-0.]\n",
            " [-0.]\n",
            " [-0.]\n",
            " [-0.]\n",
            " [-0.]\n",
            " [-0.]\n",
            " [-0.]\n",
            " [-0.]\n",
            " [-0.]\n",
            " [-0.]\n",
            " [-0.]\n",
            " [-0.]\n",
            " [-0.]\n",
            " [-0.]\n",
            " [-0.]\n",
            " [-0.]\n",
            " [-0.]\n",
            " [-0.]\n",
            " [-0.]\n",
            " [-0.]\n",
            " [-0.]\n",
            " [-0.]\n",
            " [-0.]\n",
            " [-0.]\n",
            " [-0.]\n",
            " [-0.]\n",
            " [-0.]\n",
            " [-0.]\n",
            " [-0.]\n",
            " [-0.]\n",
            " [-0.]\n",
            " [-0.]\n",
            " [-0.]\n",
            " [-0.]\n",
            " [-0.]\n",
            " [-0.]\n",
            " [-0.]\n",
            " [-0.]\n",
            " [-0.]\n",
            " [-0.]\n",
            " [-0.]\n",
            " [-0.]\n",
            " [-0.]\n",
            " [-0.]\n",
            " [-0.]\n",
            " [-0.]\n",
            " [-0.]\n",
            " [-0.]\n",
            " [-0.]\n",
            " [-0.]\n",
            " [-0.]\n",
            " [-0.]\n",
            " [-0.]\n",
            " [-0.]\n",
            " [-0.]\n",
            " [-0.]\n",
            " [-0.]\n",
            " [-0.]\n",
            " [-0.]\n",
            " [-0.]\n",
            " [-0.]\n",
            " [-0.]\n",
            " [-0.]\n",
            " [-0.]\n",
            " [-0.]\n",
            " [-0.]\n",
            " [-0.]\n",
            " [-0.]\n",
            " [-0.]\n",
            " [-0.]\n",
            " [-0.]\n",
            " [-0.]\n",
            " [-0.]\n",
            " [-0.]\n",
            " [-0.]\n",
            " [-0.]\n",
            " [-0.]\n",
            " [-0.]\n",
            " [-0.]\n",
            " [-0.]]\n"
          ],
          "name": "stdout"
        }
      ]
    },
    {
      "cell_type": "code",
      "metadata": {
        "id": "965J0fNFpjiJ"
      },
      "source": [
        "true_value = (((prediction + 1)*(55+25))/2)-25"
      ],
      "execution_count": 38,
      "outputs": []
    },
    {
      "cell_type": "code",
      "metadata": {
        "colab": {
          "base_uri": "https://localhost:8080/"
        },
        "id": "sNdbMkZXqLCM",
        "outputId": "9faed218-b83f-4d42-9de3-92bde5b3a374"
      },
      "source": [
        "print(true_value)"
      ],
      "execution_count": 39,
      "outputs": [
        {
          "output_type": "stream",
          "text": [
            "[[15.]\n",
            " [15.]\n",
            " [15.]\n",
            " [15.]\n",
            " [15.]\n",
            " [15.]\n",
            " [15.]\n",
            " [15.]\n",
            " [15.]\n",
            " [15.]\n",
            " [15.]\n",
            " [15.]\n",
            " [15.]\n",
            " [15.]\n",
            " [15.]\n",
            " [15.]\n",
            " [15.]\n",
            " [15.]\n",
            " [15.]\n",
            " [15.]\n",
            " [15.]\n",
            " [15.]\n",
            " [15.]\n",
            " [15.]\n",
            " [15.]\n",
            " [15.]\n",
            " [15.]\n",
            " [15.]\n",
            " [15.]\n",
            " [15.]\n",
            " [15.]\n",
            " [15.]\n",
            " [15.]\n",
            " [15.]\n",
            " [15.]\n",
            " [15.]\n",
            " [15.]\n",
            " [15.]\n",
            " [15.]\n",
            " [15.]\n",
            " [15.]\n",
            " [15.]\n",
            " [15.]\n",
            " [15.]\n",
            " [15.]\n",
            " [15.]\n",
            " [15.]\n",
            " [15.]\n",
            " [15.]\n",
            " [15.]\n",
            " [15.]\n",
            " [15.]\n",
            " [15.]\n",
            " [15.]\n",
            " [15.]\n",
            " [15.]\n",
            " [15.]\n",
            " [15.]\n",
            " [15.]\n",
            " [15.]\n",
            " [15.]\n",
            " [15.]\n",
            " [15.]\n",
            " [15.]\n",
            " [15.]\n",
            " [15.]\n",
            " [15.]\n",
            " [15.]\n",
            " [15.]\n",
            " [15.]\n",
            " [15.]\n",
            " [15.]\n",
            " [15.]\n",
            " [15.]\n",
            " [15.]\n",
            " [15.]\n",
            " [15.]\n",
            " [15.]\n",
            " [15.]\n",
            " [15.]\n",
            " [15.]\n",
            " [15.]\n",
            " [15.]\n",
            " [15.]\n",
            " [15.]\n",
            " [15.]\n",
            " [15.]\n",
            " [15.]\n",
            " [15.]\n",
            " [15.]\n",
            " [15.]\n",
            " [15.]\n",
            " [15.]\n",
            " [15.]\n",
            " [15.]\n",
            " [15.]\n",
            " [15.]\n",
            " [15.]\n",
            " [15.]\n",
            " [15.]]\n"
          ],
          "name": "stdout"
        }
      ]
    },
    {
      "cell_type": "code",
      "metadata": {
        "id": "mKKobFoZqQHn"
      },
      "source": [
        "true_gt = (((y_test + 1)*(55+25))/2)-25"
      ],
      "execution_count": 40,
      "outputs": []
    },
    {
      "cell_type": "code",
      "metadata": {
        "colab": {
          "base_uri": "https://localhost:8080/"
        },
        "id": "oGWLz2rZqUYU",
        "outputId": "989186bb-559f-4c3c-9ded-40fb29bd91af"
      },
      "source": [
        "print(true_gt)"
      ],
      "execution_count": 41,
      "outputs": [
        {
          "output_type": "stream",
          "text": [
            "     theta\n",
            "3     55.0\n",
            "184   15.0\n",
            "302  -25.0\n",
            "239   -5.0\n",
            "50    45.0\n",
            "..     ...\n",
            "14    55.0\n",
            "253   -5.0\n",
            "193    5.0\n",
            "54    45.0\n",
            "177   15.0\n",
            "\n",
            "[100 rows x 1 columns]\n"
          ],
          "name": "stdout"
        }
      ]
    },
    {
      "cell_type": "code",
      "metadata": {
        "id": "eJG4d0sotr3v"
      },
      "source": [
        "arr_gt = true_gt.to_numpy()"
      ],
      "execution_count": 42,
      "outputs": []
    },
    {
      "cell_type": "code",
      "metadata": {
        "colab": {
          "base_uri": "https://localhost:8080/"
        },
        "id": "JYWb_ztJt1KM",
        "outputId": "210300d5-e3c3-4527-ca18-6b402e73deb6"
      },
      "source": [
        "print(arr_gt)"
      ],
      "execution_count": 43,
      "outputs": [
        {
          "output_type": "stream",
          "text": [
            "[[ 55.]\n",
            " [ 15.]\n",
            " [-25.]\n",
            " [ -5.]\n",
            " [ 45.]\n",
            " [-15.]\n",
            " [ 15.]\n",
            " [ 55.]\n",
            " [ 25.]\n",
            " [-25.]\n",
            " [  5.]\n",
            " [-25.]\n",
            " [ -5.]\n",
            " [  5.]\n",
            " [  5.]\n",
            " [-15.]\n",
            " [ -5.]\n",
            " [ 15.]\n",
            " [ 15.]\n",
            " [ 15.]\n",
            " [ 15.]\n",
            " [-25.]\n",
            " [ 45.]\n",
            " [ 35.]\n",
            " [ 55.]\n",
            " [ 55.]\n",
            " [  5.]\n",
            " [ 35.]\n",
            " [  5.]\n",
            " [  5.]\n",
            " [ 35.]\n",
            " [ 15.]\n",
            " [ 15.]\n",
            " [-15.]\n",
            " [ 45.]\n",
            " [ 35.]\n",
            " [ 55.]\n",
            " [ -5.]\n",
            " [-15.]\n",
            " [ -5.]\n",
            " [ 15.]\n",
            " [ 25.]\n",
            " [-25.]\n",
            " [ -5.]\n",
            " [ 45.]\n",
            " [ 55.]\n",
            " [ 15.]\n",
            " [-15.]\n",
            " [ 55.]\n",
            " [ 25.]\n",
            " [ 15.]\n",
            " [ 15.]\n",
            " [ -5.]\n",
            " [ 45.]\n",
            " [ 55.]\n",
            " [ 35.]\n",
            " [ 45.]\n",
            " [ 15.]\n",
            " [ 25.]\n",
            " [-25.]\n",
            " [ -5.]\n",
            " [ 15.]\n",
            " [  5.]\n",
            " [  5.]\n",
            " [-15.]\n",
            " [ 55.]\n",
            " [ 45.]\n",
            " [-25.]\n",
            " [  5.]\n",
            " [-15.]\n",
            " [-15.]\n",
            " [ -5.]\n",
            " [-15.]\n",
            " [ 55.]\n",
            " [ 25.]\n",
            " [ -5.]\n",
            " [-25.]\n",
            " [ 35.]\n",
            " [ 25.]\n",
            " [  5.]\n",
            " [ 35.]\n",
            " [ 45.]\n",
            " [-25.]\n",
            " [-15.]\n",
            " [ 35.]\n",
            " [ 15.]\n",
            " [ 35.]\n",
            " [-25.]\n",
            " [  5.]\n",
            " [-25.]\n",
            " [ 15.]\n",
            " [ 45.]\n",
            " [-15.]\n",
            " [ 55.]\n",
            " [-25.]\n",
            " [ 55.]\n",
            " [ -5.]\n",
            " [  5.]\n",
            " [ 45.]\n",
            " [ 15.]]\n"
          ],
          "name": "stdout"
        }
      ]
    },
    {
      "cell_type": "code",
      "metadata": {
        "colab": {
          "base_uri": "https://localhost:8080/"
        },
        "id": "4rWiTZbit7Dt",
        "outputId": "ad63a755-f9fe-4240-c26c-229f08d3d913"
      },
      "source": [
        "count = 0\n",
        "for i in range(len(arr_gt)):\n",
        "  if arr_gt[i]==15:\n",
        "    count+=1\n",
        "\n",
        "print(count)"
      ],
      "execution_count": 46,
      "outputs": [
        {
          "output_type": "stream",
          "text": [
            "17\n"
          ],
          "name": "stdout"
        }
      ]
    },
    {
      "cell_type": "code",
      "metadata": {
        "id": "oCcYNaPzr2fx"
      },
      "source": [
        "# import cv2\n",
        "# from google.colab.patches import cv2_imshow\n",
        "# img1 = cv2.imread('data65_27.png')\n",
        "# img2 = cv2.imread('target_image_1.png')\n",
        "#mg1 = cv2.cvtColor(img1, cv2.COLOR_BGR2GRAY)\n",
        "# img1 = cv2.resize(img1, dsize=(128,128), interpolation = cv2.INTER_CUBIC)\n",
        "# plt.imshow(img1)\n",
        "# img1.shape\n",
        "\n",
        "# img1 = np.expand_dims(img1, axis = 0)\n",
        "# img1 = np.expand_dims(img1, axis = 3)\n",
        "# img1 = img1.astype('float32')\n",
        "# img1 = img1/255\n",
        "# plt.imshow(img1.reshape(128,128), cmap = plt.cm.binary)"
      ],
      "execution_count": null,
      "outputs": []
    },
    {
      "cell_type": "code",
      "metadata": {
        "id": "UUBwNh_ul7Hn"
      },
      "source": [
        "# from PIL import Image\n",
        "# # Open the image form working directory\n",
        "# img1 = Image.open('/content/data65_27.png')\n",
        "# img2 = Image.open('/content/target_image_1.png')"
      ],
      "execution_count": null,
      "outputs": []
    },
    {
      "cell_type": "code",
      "metadata": {
        "id": "fbJhnxClmnB7"
      },
      "source": [
        "# from matplotlib import image\n",
        "# from matplotlib import pyplot\n",
        "# # load image as pixel array\n",
        "# img1 = image.imread('/content/data65_27.png')\n",
        "# img2 = image.imread('/content/target_image_1.png')"
      ],
      "execution_count": null,
      "outputs": []
    },
    {
      "cell_type": "code",
      "metadata": {
        "id": "yEwjupKomz2Q"
      },
      "source": [
        "import cv2\n",
        "from google.colab.patches import cv2_imshow\n",
        "img = cv2.imread('/content/data65_27.png')\n",
        "img = cv2.cvtColor(img, cv2.COLOR_BGR2GRAY)\n",
        "img= cv2.resize(img, dsize=(128,128), interpolation = cv2.INTER_CUBIC)\n",
        "# plt.imshow(img)\n",
        "img.shape\n",
        "\n",
        "img = np.reshape(img, (1, 128, 128))\n",
        "# img = np.expand_dims(img, axis = 0)\n",
        "# img = np.expand_dims(img, axis = 3)\n",
        "# img = np.reshape(128,128)\n",
        "# img = img.astype('float32')\n",
        "img = img/255\n",
        "img = np.repeat(img[..., np.newaxis], 3, -1)\n",
        "# plt.imshow(img.reshape(128,128), cmap = plt.cm.binary)"
      ],
      "execution_count": null,
      "outputs": []
    },
    {
      "cell_type": "code",
      "metadata": {
        "id": "IPlFIP9VnWcW"
      },
      "source": [
        "img.shape"
      ],
      "execution_count": null,
      "outputs": []
    },
    {
      "cell_type": "code",
      "metadata": {
        "id": "kh3tf8NtpHWw"
      },
      "source": [
        ""
      ],
      "execution_count": null,
      "outputs": []
    },
    {
      "cell_type": "code",
      "metadata": {
        "id": "hcDTSZQUm_b2"
      },
      "source": [
        "img2 = cv2.imread('/content/target_image_1.png')\n",
        "img2 = cv2.cvtColor(img2, cv2.COLOR_BGR2GRAY)\n",
        "img2= cv2.resize(img2, dsize=(128,128), interpolation = cv2.INTER_CUBIC)\n",
        "# plt.imshow(img)\n",
        "img2.shape\n",
        "\n",
        "img2 = np.reshape(img2, (1, 128, 128))\n",
        "# img = np.expand_dims(img, axis = 0)\n",
        "# img = np.expand_dims(img, axis = 3)\n",
        "# img = np.reshape(128,128)\n",
        "# img = img.astype('float32')\n",
        "img2 = img2/255\n",
        "img2 = np.repeat(img2[..., np.newaxis], 3, -1)\n",
        "# plt.imshow(img.reshape(128,128), cmap = plt.cm.binary)"
      ],
      "execution_count": null,
      "outputs": []
    },
    {
      "cell_type": "code",
      "metadata": {
        "id": "4e7k8WDWpa1c"
      },
      "source": [
        "img2.shape"
      ],
      "execution_count": null,
      "outputs": []
    },
    {
      "cell_type": "code",
      "metadata": {
        "id": "BGxf25z0lUM8"
      },
      "source": [
        "predictionimg = model.predict([img,img2])"
      ],
      "execution_count": null,
      "outputs": []
    },
    {
      "cell_type": "code",
      "metadata": {
        "id": "YNAbeatNl20z"
      },
      "source": [
        "predictionimg"
      ],
      "execution_count": null,
      "outputs": []
    },
    {
      "cell_type": "code",
      "metadata": {
        "id": "3Z38S64ZpeB_"
      },
      "source": [
        ""
      ],
      "execution_count": null,
      "outputs": []
    }
  ]
}