{
 "cells": [
  {
   "cell_type": "code",
   "execution_count": 1,
   "metadata": {
    "colab": {
     "base_uri": "https://localhost:8080/",
     "height": 198
    },
    "executionInfo": {
     "elapsed": 118,
     "status": "error",
     "timestamp": 1624488911306,
     "user": {
      "displayName": "shivani kamtikar",
      "photoUrl": "https://lh3.googleusercontent.com/a-/AOh14GgUMgA00swD3UlAD7Mhraedrk8ZdpRKGd-VzdQ3ZA=s64",
      "userId": "12160226014888825127"
     },
     "user_tz": 300
    },
    "id": "jaGBp0EXyNlj",
    "outputId": "325552a3-1faf-4deb-a84b-e55a43437ce4"
   },
   "outputs": [],
   "source": [
    "import os\n",
    "\n",
    "cwd = os.getcwd()\n",
    "os.chdir('/home/n-z/skk7/Thesis')"
   ]
  },
  {
   "cell_type": "code",
   "execution_count": 2,
   "metadata": {
    "executionInfo": {
     "elapsed": 565,
     "status": "ok",
     "timestamp": 1624491457408,
     "user": {
      "displayName": "shivani kamtikar",
      "photoUrl": "https://lh3.googleusercontent.com/a-/AOh14GgUMgA00swD3UlAD7Mhraedrk8ZdpRKGd-VzdQ3ZA=s64",
      "userId": "12160226014888825127"
     },
     "user_tz": 300
    },
    "id": "b5mcsngV9IjX"
   },
   "outputs": [],
   "source": [
    "#imports\n",
    "import glob\n",
    "import os\n",
    "import numpy as np\n",
    "import random\n",
    "import time\n",
    "from tqdm import tqdm\n",
    "import matplotlib.pyplot as plt\n",
    "import math\n",
    "\n",
    "from PIL import Image\n",
    "import torch\n",
    "torch.cuda.empty_cache()\n",
    "import torch.nn as nn\n",
    "import torch.nn.functional as F\n",
    "from torch.utils import data\n",
    "from torchvision import models\n",
    "from torchvision.transforms import ToTensor, Normalize\n",
    "import torch.optim as optim\n",
    "import logging\n",
    "import pandas as pd\n",
    "from torch.utils.data import Dataset, DataLoader, random_split\n",
    "from torchvision import transforms, utils, transforms\n",
    "import re\n",
    "from torch.nn import ReplicationPad3d"
   ]
  },
  {
   "cell_type": "code",
   "execution_count": 3,
   "metadata": {
    "executionInfo": {
     "elapsed": 3,
     "status": "ok",
     "timestamp": 1624491457651,
     "user": {
      "displayName": "shivani kamtikar",
      "photoUrl": "https://lh3.googleusercontent.com/a-/AOh14GgUMgA00swD3UlAD7Mhraedrk8ZdpRKGd-VzdQ3ZA=s64",
      "userId": "12160226014888825127"
     },
     "user_tz": 300
    },
    "id": "_v7DV_lPf4bq"
   },
   "outputs": [],
   "source": [
    "# global variable\n",
    "device = torch.device(\"cuda:0\")"
   ]
  },
  {
   "cell_type": "code",
   "execution_count": 4,
   "metadata": {
    "executionInfo": {
     "elapsed": 203,
     "status": "ok",
     "timestamp": 1624491458457,
     "user": {
      "displayName": "shivani kamtikar",
      "photoUrl": "https://lh3.googleusercontent.com/a-/AOh14GgUMgA00swD3UlAD7Mhraedrk8ZdpRKGd-VzdQ3ZA=s64",
      "userId": "12160226014888825127"
     },
     "user_tz": 300
    },
    "id": "cJak_Tjwf4br"
   },
   "outputs": [],
   "source": [
    "class ImagePoseDataset(Dataset):\n",
    "    \n",
    "    #reading csv file with labels\n",
    "    def __init__(self, image_dir, size = 600, transform=None):\n",
    "        annotation_files = glob.glob(image_dir + '/annotated_*.csv')\n",
    "        \n",
    "        assert len(annotation_files) == 1, \"None or more than one annotation file found at \" + image_dir\n",
    "        self.annotations = pd.read_csv(annotation_files[0])\n",
    "        \n",
    "        self.annotations.astype({'B': 'float32','R': 'float32', 'Theta': 'float32'}).dtypes  #change this\n",
    "        \n",
    "        self.data = glob.glob(image_dir + '/**/*.jpg', recursive=True)\n",
    "        self.data.sort(key=lambda f: int(re.sub('\\D', '', f)))\n",
    "    \n",
    "        \n",
    "        unequal_error = \"Number of images not equal to number of annotations: {} != {}\".format(len(self.data), len(self.annotations[\"image\"].values))\n",
    "        assert len(self.data) == len(self.annotations[\"image\"].values), unequal_error\n",
    "        \n",
    "\n",
    "        # target_scaler = MinMaxScaler()\n",
    "        # target_scaler.fit(y_train)\n",
    "        # y_train = target_scaler.transform(y_train)\n",
    "        # y_test = target_scaler.transform(y_test)\n",
    "\n",
    "        self.image_dir = image_dir\n",
    "        self.image_size = [224, 244] #change this\n",
    "        self.transform = transform\n",
    "        self.size = size\n",
    "        self.minb = self.annotations[\"B\"].values.min()\n",
    "        self.minr = self.annotations[\"R\"].values.min()\n",
    "        self.mint = self.annotations[\"Theta\"].values.min()\n",
    "        self.maxb = self.annotations[\"B\"].values.max()\n",
    "        self.maxr = self.annotations[\"R\"].values.max()\n",
    "        self.maxt = self.annotations[\"Theta\"].values.max()\n",
    "        self.pairs = []\n",
    "        \n",
    "        for i in range(len(self.data)):\n",
    "            for j in np.random.choice(range(len(self.data)), size = 5, replace=False):\n",
    "                self.pairs.append((i,j))\n",
    "\n",
    "        \n",
    "    def __len__(self):        \n",
    "        return len(self.pairs)\n",
    "\n",
    "    def __getitem__(self, idx):\n",
    "        np.random.seed(230)\n",
    "        \n",
    "        first_img_path = self.data[self.pairs[idx][0]]\n",
    "        second_img_path = self.data[self.pairs[idx][1]]\n",
    "        \n",
    "        img_paths = [first_img_path, second_img_path]\n",
    "        img_name = [os.path.split(img_paths[0])[-1][:-4], os.path.split(img_paths[1])[-1][:-4]]  #might have to change this\n",
    "        images = [Image.open(first_img_path), Image.open(second_img_path)]\n",
    "        \n",
    "        \n",
    "        pose = np.zeros((1, 3), dtype=np.float32)  #change this\n",
    "        annotation1 = self.annotations.loc[self.annotations[\"image\"] == img_name[0]].iloc[0]\n",
    "        annotation2 = self.annotations.loc[self.annotations[\"image\"] == img_name[1]].iloc[0]\n",
    "    \n",
    "        ann1 = annotation1[2:].to_numpy()\n",
    "        ann2 = annotation2[2:].to_numpy()\n",
    "    \n",
    "        pose[0] = ann1 - ann2\n",
    "      #  pose[1] = ann2 - ann1\n",
    "#         pose[0][0] = (pose[0][0] - self.minb)/(self.maxb - self.minb)\n",
    "#         pose[0][1] = (pose[0][1] - self.minr)/(self.maxr - self.minr)\n",
    "#         pose[0][2] = (pose[0][2] - self.mint)/(self.maxt - self.mint)\n",
    "#         print(self.minb, self.maxb)\n",
    "#         print(self.minr, self.minr)\n",
    "#         print(self.mint, self.maxt)\n",
    "#         print(pose)\n",
    "                \n",
    "        for i in range(len(images)):            \n",
    "            if i == 0:\n",
    "                j = torch.unsqueeze(self.transform(images[i]), dim=0)\n",
    "            else:\n",
    "                k = torch.unsqueeze(self.transform(images[i]), dim=0)\n",
    "                j = torch.cat((j,k), dim=0)\n",
    "        data = j\n",
    "        \n",
    " \n",
    "        sample = {\"images\": data , \"poses\": pose, \"filename\":img_name}        \n",
    "        \n",
    "        return sample\n",
    "\n",
    "\n",
    "def fetch_dataloader(types, data_dir, batch_size, num_workers):\n",
    "    \"\"\"\n",
    "    Fetches the DataLoader object for each type in types from data_dir.\n",
    "\n",
    "    Args:\n",
    "        types: (list) has one or more of 'train', 'val', 'test' depending on which data is required\n",
    "        data_dir: (string) directory containing the dataset\n",
    "        params: (Params) hyperparameters\n",
    "\n",
    "    Returns:\n",
    "        data: (dict) contains the DataLoader object for each type in types\n",
    "    \"\"\"\n",
    "    dataloaders = {}\n",
    "    \n",
    "    img_dim1 = 224\n",
    "    img_dim2 = 244\n",
    "\n",
    "    train_transforms = transforms.Compose([transforms.Resize((img_dim1, img_dim2), Image.BICUBIC),\n",
    "                                           transforms.ToTensor(),\n",
    "                                           transforms.Normalize(mean=[0.485, 0.456, 0.406], std=[0.229, 0.224, 0.225])]) \n",
    "    \n",
    "    test_transform = transforms.Compose([transforms.Resize((img_dim1, img_dim2), Image.BICUBIC),\n",
    "                                         transforms.ToTensor(),\n",
    "                                    transforms.Normalize(mean=[0.485, 0.456, 0.406], std=[0.229, 0.224, 0.225])]) \n",
    "    \n",
    "    for split in ['train', 'val', 'test']:\n",
    "        if split in types:\n",
    "            path = os.path.join(data_dir, split)\n",
    "\n",
    "            if split == 'train':\n",
    "                dl = DataLoader(ImagePoseDataset(path, size = 100, transform = train_transforms), \n",
    "                                        batch_size=batch_size, shuffle=False,\n",
    "                                        num_workers=num_workers)\n",
    "\n",
    "            else:\n",
    "                dl = DataLoader(ImagePoseDataset(path, size = 10, transform = test_transform), \n",
    "                                batch_size=batch_size, shuffle=False,\n",
    "                                num_workers=num_workers)\n",
    "\n",
    "            dataloaders[split] = dl\n",
    "\n",
    "    return dataloaders\n"
   ]
  },
  {
   "cell_type": "code",
   "execution_count": 5,
   "metadata": {
    "executionInfo": {
     "elapsed": 119,
     "status": "ok",
     "timestamp": 1624491459134,
     "user": {
      "displayName": "shivani kamtikar",
      "photoUrl": "https://lh3.googleusercontent.com/a-/AOh14GgUMgA00swD3UlAD7Mhraedrk8ZdpRKGd-VzdQ3ZA=s64",
      "userId": "12160226014888825127"
     },
     "user_tz": 300
    },
    "id": "sHCxdUik9Xo8"
   },
   "outputs": [],
   "source": [
    "# data_dir = 'theta-biocluster'\n",
    "# train_dataloader = fetch_dataloader(['train'], data_dir, batch_size=4,num_workers=0)['train']"
   ]
  },
  {
   "cell_type": "code",
   "execution_count": 6,
   "metadata": {
    "colab": {
     "base_uri": "https://localhost:8080/"
    },
    "executionInfo": {
     "elapsed": 2855,
     "status": "ok",
     "timestamp": 1624492496654,
     "user": {
      "displayName": "shivani kamtikar",
      "photoUrl": "https://lh3.googleusercontent.com/a-/AOh14GgUMgA00swD3UlAD7Mhraedrk8ZdpRKGd-VzdQ3ZA=s64",
      "userId": "12160226014888825127"
     },
     "user_tz": 300
    },
    "id": "PsombGgzf4bs",
    "outputId": "bb62245b-e644-4a5e-ffd4-f96ce0b81c51"
   },
   "outputs": [
    {
     "name": "stdout",
     "output_type": "stream",
     "text": [
      "torch.Size([2, 1, 3])\n"
     ]
    }
   ],
   "source": [
    "\n",
    "class PoseModel(nn.Module):\n",
    "\n",
    "    def __init__(self):\n",
    "        super(PoseModel, self).__init__()\n",
    "        model1 = models.resnet50(pretrained=True)\n",
    "        model2 = models.resnet50(pretrained=True)\n",
    "        \n",
    "        self.enc1 = nn.Sequential(*list(model1.children())[:-2])\n",
    "        self.enc2 = nn.Sequential(*list(model2.children())[:-2])       \n",
    "        \n",
    "        self.conv1 = nn.Conv2d(4096, 2048, kernel_size=(3,3), stride=(2,2), padding=(1,1))\n",
    "        self.bn1 = nn.BatchNorm2d(2048)\n",
    "        \n",
    "        self.conv2 = nn.Conv2d(2048, 1024, kernel_size=(3,3), stride=(2,2), padding=(1,1))  \n",
    "        self.bn2 = nn.BatchNorm2d(1024)\n",
    "\n",
    "        self.conv3 = nn.Conv2d(1024, 512, kernel_size=(3,3), stride=(2,2), padding=(1,1))  \n",
    "        self.bn3 = nn.BatchNorm2d(512)\n",
    "\n",
    "        self.conv4 = nn.Conv2d(512, 256, kernel_size=(3,3), stride=(2,2), padding=(1,1))  \n",
    "        self.bn4 = nn.BatchNorm2d(256)\n",
    "\n",
    "        self.fc1 = nn.Linear(512, 128)\n",
    "        self.out= nn.Linear(128, 3)\n",
    "        self.dropout = nn.Dropout(p=0.5)\n",
    "\n",
    "    def forward(self, s): \n",
    "        \n",
    "        feature1 = self.enc1(s[:,0])\n",
    "        feature2 = self.enc2(s[:,1])\n",
    "        feature = torch.cat([feature1,feature2],1)\n",
    "#         print(feature.shape)\n",
    "        x = F.relu(self.bn1(self.conv1(feature)))\n",
    "#         print(x.shape)\n",
    "        x = F.relu(self.bn2(self.conv2(x)))\n",
    "#         print(x.shape)\n",
    "        x = F.relu(self.bn3(self.conv3(x)))\n",
    "#         print(x.shape)\n",
    "        # x = F.relu(self.bn4(self.conv4(x)))\n",
    "#         print(x.shape)\n",
    "        x = torch.reshape(x, (x.size(0),-1))\n",
    "#         print(x.shape)\n",
    "        x = self.fc1(x)\n",
    "        x = self.dropout(x)\n",
    "        x = self.out(x)\n",
    "        \n",
    "        x = x.view(s.size(0), 1, 3) \n",
    "\n",
    "        return x\n",
    "        \n",
    "\n",
    "net = PoseModel()\n",
    "\n",
    "\n",
    "dummy_input = torch.rand((2, 2, 3, 224, 244))\n",
    "output = net(dummy_input)\n",
    "\n",
    "# print(net)\n",
    "print(output.shape)"
   ]
  },
  {
   "cell_type": "code",
   "execution_count": 7,
   "metadata": {
    "colab": {
     "base_uri": "https://localhost:8080/"
    },
    "executionInfo": {
     "elapsed": 119,
     "status": "ok",
     "timestamp": 1624492499716,
     "user": {
      "displayName": "shivani kamtikar",
      "photoUrl": "https://lh3.googleusercontent.com/a-/AOh14GgUMgA00swD3UlAD7Mhraedrk8ZdpRKGd-VzdQ3ZA=s64",
      "userId": "12160226014888825127"
     },
     "user_tz": 300
    },
    "id": "pc7TPnvWf4bw",
    "outputId": "55e788bb-145b-4244-cac9-0b4d4d9cf044"
   },
   "outputs": [],
   "source": [
    "class MyCriterion(nn.Module):\n",
    "    def __init__(self):\n",
    "        super(MyCriterion, self).__init__()        \n",
    "\n",
    "    def forward(self, prediction, target): \n",
    "            \n",
    "        return F.mse_loss(prediction, target, reduction=\"mean\")\n",
    "    \n",
    "def show_memory():\n",
    "    t = torch.cuda.get_device_properties(0).total_memory\n",
    "    r = torch.cuda.memory_reserved(0) \n",
    "    a = torch.cuda.memory_allocated(0)\n",
    "    f = (r-a)  # free inside reserved\n",
    "#     print(np.array([t, r, a, f])/(1024*1024))\n",
    "\n",
    "torch.cuda.empty_cache()        \n",
    "show_memory()"
   ]
  },
  {
   "cell_type": "code",
   "execution_count": 8,
   "metadata": {
    "executionInfo": {
     "elapsed": 102,
     "status": "ok",
     "timestamp": 1624492503839,
     "user": {
      "displayName": "shivani kamtikar",
      "photoUrl": "https://lh3.googleusercontent.com/a-/AOh14GgUMgA00swD3UlAD7Mhraedrk8ZdpRKGd-VzdQ3ZA=s64",
      "userId": "12160226014888825127"
     },
     "user_tz": 300
    },
    "id": "_rqob63Qf4bx"
   },
   "outputs": [],
   "source": [
    "def simple_train(model, criterion, optimizer, train_dataloader, **kwargs):\n",
    "    model.train()\n",
    "    losses = []\n",
    "    \n",
    "    torch.cuda.empty_cache()        \n",
    "    show_memory()\n",
    "    \n",
    "    for i, batch in enumerate(tqdm(train_dataloader)):\n",
    "        optimizer.zero_grad()\n",
    "        img, gt = batch['images'], batch['poses']     \n",
    "        img = img.to(device)\n",
    "        \n",
    "     #   print(img.shape)\n",
    "        gt = gt.to(device)\n",
    "        \n",
    "        img = img.float()\n",
    "        pred = model(img)\n",
    "#         print(pred.shape, gt.shape)\n",
    "        \n",
    "        loss = criterion.forward(pred,gt)\n",
    "      \n",
    "        losses.append(loss.item())\n",
    "        loss.backward()\n",
    "        optimizer.step()\n",
    "\n",
    "        show_memory()\n",
    "        del img\n",
    "        del gt\n",
    "        torch.cuda.empty_cache()        \n",
    "        show_memory()\n",
    "\n",
    "    return sum(losses)/len(losses)\n",
    "  \n",
    "\n",
    "\n",
    "\n",
    "def simple_predict(dataloader, model):\n",
    "    model.eval()    \n",
    "   \n",
    "    with torch.no_grad():\n",
    "        for i, batch in enumerate(tqdm(dataloader)):\n",
    "            \n",
    "            img, gt = batch['images'], batch['poses']  \n",
    "            img = img.to(device)\n",
    "            gt = gt.to(device)\n",
    "            img = img.float()\n",
    "            \n",
    "            pred = model(img)\n",
    "            # print(pred)\n",
    "\n",
    "            pred = pred.view(-1,3)\n",
    "            gt =  gt.view(-1,3)\n",
    "            \n",
    "            loss = torch.mean(F.mse_loss(pred, gt, reduction=\"none\"),0)\n",
    "            \n",
    "            if i==0:\n",
    "                losses = torch.clone(torch.unsqueeze(loss,0))\n",
    "                \n",
    "            losses = torch.cat([losses,torch.unsqueeze(loss,0)],0)\n",
    "    \n",
    "    losses = torch.mean(losses, 0).cpu().numpy()\n",
    "    b, r, theta = losses[0],losses[1], losses[2]\n",
    "    \n",
    "    \n",
    "\n",
    "    return np.mean(losses),losses[0],losses[1], losses[2], pred"
   ]
  },
  {
   "cell_type": "code",
   "execution_count": 9,
   "metadata": {
    "colab": {
     "base_uri": "https://localhost:8080/",
     "height": 562
    },
    "executionInfo": {
     "elapsed": 3331,
     "status": "error",
     "timestamp": 1624492507796,
     "user": {
      "displayName": "shivani kamtikar",
      "photoUrl": "https://lh3.googleusercontent.com/a-/AOh14GgUMgA00swD3UlAD7Mhraedrk8ZdpRKGd-VzdQ3ZA=s64",
      "userId": "12160226014888825127"
     },
     "user_tz": 300
    },
    "id": "3hBj-J-Nf4bx",
    "outputId": "3af04533-a2f8-4054-9bc7-54b5e3a95f66"
   },
   "outputs": [
    {
     "name": "stderr",
     "output_type": "stream",
     "text": [
      "  0%|          | 0/1000 [00:00<?, ?it/s]"
     ]
    },
    {
     "name": "stdout",
     "output_type": "stream",
     "text": [
      "Epoch 1/50\n"
     ]
    },
    {
     "name": "stderr",
     "output_type": "stream",
     "text": [
      "100%|██████████| 1000/1000 [05:04<00:00,  3.28it/s]\n",
      "  0%|          | 2/1000 [00:00<00:57, 17.46it/s]"
     ]
    },
    {
     "name": "stdout",
     "output_type": "stream",
     "text": [
      "Training loss 147.62297111701966\n"
     ]
    },
    {
     "name": "stderr",
     "output_type": "stream",
     "text": [
      "100%|██████████| 1000/1000 [00:37<00:00, 26.64it/s]\n"
     ]
    },
    {
     "name": "stdout",
     "output_type": "stream",
     "text": [
      "Validation loss : 121.60975\n",
      "Validation metrics: b error 95.2396, r error 243.2931 , theta error 26.2965\n",
      "predictions: tensor([[12.4243,  4.1924, -3.2468]], device='cuda:0')\n"
     ]
    },
    {
     "name": "stderr",
     "output_type": "stream",
     "text": [
      "  0%|          | 0/1000 [00:00<?, ?it/s]"
     ]
    },
    {
     "name": "stdout",
     "output_type": "stream",
     "text": [
      "Epoch 2/50\n"
     ]
    },
    {
     "name": "stderr",
     "output_type": "stream",
     "text": [
      "100%|██████████| 1000/1000 [04:51<00:00,  3.43it/s]\n",
      "  0%|          | 3/1000 [00:00<00:33, 29.88it/s]"
     ]
    },
    {
     "name": "stdout",
     "output_type": "stream",
     "text": [
      "Training loss 142.11665659046173\n"
     ]
    },
    {
     "name": "stderr",
     "output_type": "stream",
     "text": [
      "100%|██████████| 1000/1000 [00:33<00:00, 29.48it/s]\n",
      "  0%|          | 0/1000 [00:00<?, ?it/s]"
     ]
    },
    {
     "name": "stdout",
     "output_type": "stream",
     "text": [
      "Validation loss : 159.77019\n",
      "Validation metrics: b error 202.9514, r error 237.9498 , theta error 38.4094\n",
      "predictions: tensor([[17.2921, 16.6060, -5.5945]], device='cuda:0')\n",
      "Epoch 3/50\n"
     ]
    },
    {
     "name": "stderr",
     "output_type": "stream",
     "text": [
      "100%|██████████| 1000/1000 [04:51<00:00,  3.43it/s]\n",
      "  0%|          | 4/1000 [00:00<00:32, 30.28it/s]"
     ]
    },
    {
     "name": "stdout",
     "output_type": "stream",
     "text": [
      "Training loss 140.7949553527832\n"
     ]
    },
    {
     "name": "stderr",
     "output_type": "stream",
     "text": [
      "100%|██████████| 1000/1000 [00:33<00:00, 29.80it/s]\n"
     ]
    },
    {
     "name": "stdout",
     "output_type": "stream",
     "text": [
      "Validation loss : 117.21384\n",
      "Validation metrics: b error 142.8291, r error 188.5790 , theta error 20.2335\n",
      "predictions: tensor([[14.2041, 10.6508, -3.9252]], device='cuda:0')\n"
     ]
    },
    {
     "name": "stderr",
     "output_type": "stream",
     "text": [
      "  0%|          | 0/1000 [00:00<?, ?it/s]"
     ]
    },
    {
     "name": "stdout",
     "output_type": "stream",
     "text": [
      "Epoch 4/50\n"
     ]
    },
    {
     "name": "stderr",
     "output_type": "stream",
     "text": [
      "100%|██████████| 1000/1000 [04:49<00:00,  3.45it/s]\n",
      "  0%|          | 4/1000 [00:00<00:32, 30.48it/s]"
     ]
    },
    {
     "name": "stdout",
     "output_type": "stream",
     "text": [
      "Training loss 139.9485085544586\n"
     ]
    },
    {
     "name": "stderr",
     "output_type": "stream",
     "text": [
      "100%|██████████| 1000/1000 [00:33<00:00, 29.98it/s]\n",
      "  0%|          | 0/1000 [00:00<?, ?it/s]"
     ]
    },
    {
     "name": "stdout",
     "output_type": "stream",
     "text": [
      "Validation loss : 167.29567\n",
      "Validation metrics: b error 231.8290, r error 244.1969 , theta error 25.8611\n",
      "predictions: tensor([[17.3099,  7.0777, -5.9412]], device='cuda:0')\n",
      "Epoch 5/50\n"
     ]
    },
    {
     "name": "stderr",
     "output_type": "stream",
     "text": [
      "100%|██████████| 1000/1000 [04:49<00:00,  3.45it/s]\n",
      "  0%|          | 4/1000 [00:00<00:32, 30.53it/s]"
     ]
    },
    {
     "name": "stdout",
     "output_type": "stream",
     "text": [
      "Training loss 139.3855966758728\n"
     ]
    },
    {
     "name": "stderr",
     "output_type": "stream",
     "text": [
      "100%|██████████| 1000/1000 [00:33<00:00, 30.16it/s]\n",
      "  0%|          | 0/1000 [00:00<?, ?it/s]"
     ]
    },
    {
     "name": "stdout",
     "output_type": "stream",
     "text": [
      "Validation loss : 126.744995\n",
      "Validation metrics: b error 139.7113, r error 218.7344 , theta error 21.7894\n",
      "predictions: tensor([[12.7640, 11.5770, -4.6366]], device='cuda:0')\n",
      "Epoch 6/50\n"
     ]
    },
    {
     "name": "stderr",
     "output_type": "stream",
     "text": [
      "100%|██████████| 1000/1000 [04:50<00:00,  3.44it/s]\n",
      "  0%|          | 4/1000 [00:00<00:32, 30.54it/s]"
     ]
    },
    {
     "name": "stdout",
     "output_type": "stream",
     "text": [
      "Training loss 139.31585327529908\n"
     ]
    },
    {
     "name": "stderr",
     "output_type": "stream",
     "text": [
      "100%|██████████| 1000/1000 [00:33<00:00, 30.15it/s]\n"
     ]
    },
    {
     "name": "stdout",
     "output_type": "stream",
     "text": [
      "Validation loss : 116.74057\n",
      "Validation metrics: b error 172.7461, r error 154.5201 , theta error 22.9555\n",
      "predictions: tensor([[10.7068, 21.6860, -3.4998]], device='cuda:0')\n"
     ]
    },
    {
     "name": "stderr",
     "output_type": "stream",
     "text": [
      "  0%|          | 0/1000 [00:00<?, ?it/s]"
     ]
    },
    {
     "name": "stdout",
     "output_type": "stream",
     "text": [
      "Epoch 7/50\n"
     ]
    },
    {
     "name": "stderr",
     "output_type": "stream",
     "text": [
      "100%|██████████| 1000/1000 [04:48<00:00,  3.46it/s]\n",
      "  0%|          | 4/1000 [00:00<00:32, 30.64it/s]"
     ]
    },
    {
     "name": "stdout",
     "output_type": "stream",
     "text": [
      "Training loss 137.86963821268083\n"
     ]
    },
    {
     "name": "stderr",
     "output_type": "stream",
     "text": [
      "100%|██████████| 1000/1000 [00:32<00:00, 30.32it/s]\n",
      "  0%|          | 0/1000 [00:00<?, ?it/s]"
     ]
    },
    {
     "name": "stdout",
     "output_type": "stream",
     "text": [
      "Validation loss : 122.5248\n",
      "Validation metrics: b error 187.6449, r error 141.1019 , theta error 38.8276\n",
      "predictions: tensor([[14.3869, 16.6496, -9.6962]], device='cuda:0')\n",
      "Epoch 8/50\n"
     ]
    },
    {
     "name": "stderr",
     "output_type": "stream",
     "text": [
      "100%|██████████| 1000/1000 [04:49<00:00,  3.45it/s]\n",
      "  0%|          | 4/1000 [00:00<00:32, 30.68it/s]"
     ]
    },
    {
     "name": "stdout",
     "output_type": "stream",
     "text": [
      "Training loss 136.9168321123123\n"
     ]
    },
    {
     "name": "stderr",
     "output_type": "stream",
     "text": [
      "100%|██████████| 1000/1000 [00:32<00:00, 30.33it/s]\n",
      "  0%|          | 0/1000 [00:00<?, ?it/s]"
     ]
    },
    {
     "name": "stdout",
     "output_type": "stream",
     "text": [
      "Validation loss : 137.84163\n",
      "Validation metrics: b error 177.7437, r error 194.6899 , theta error 41.0913\n",
      "predictions: tensor([[12.5143, 23.5773, -7.8336]], device='cuda:0')\n",
      "Epoch 9/50\n"
     ]
    },
    {
     "name": "stderr",
     "output_type": "stream",
     "text": [
      "100%|██████████| 1000/1000 [04:49<00:00,  3.45it/s]\n",
      "  0%|          | 4/1000 [00:00<00:32, 30.66it/s]"
     ]
    },
    {
     "name": "stdout",
     "output_type": "stream",
     "text": [
      "Training loss 135.7450700006485\n"
     ]
    },
    {
     "name": "stderr",
     "output_type": "stream",
     "text": [
      "100%|██████████| 1000/1000 [00:32<00:00, 30.31it/s]\n",
      "  0%|          | 0/1000 [00:00<?, ?it/s]"
     ]
    },
    {
     "name": "stdout",
     "output_type": "stream",
     "text": [
      "Validation loss : 129.87349\n",
      "Validation metrics: b error 153.2841, r error 200.2448 , theta error 36.0916\n",
      "predictions: tensor([[ 9.9182, 15.6574, -5.3072]], device='cuda:0')\n",
      "Epoch 10/50\n"
     ]
    },
    {
     "name": "stderr",
     "output_type": "stream",
     "text": [
      "100%|██████████| 1000/1000 [04:49<00:00,  3.45it/s]\n",
      "  0%|          | 4/1000 [00:00<00:32, 30.67it/s]"
     ]
    },
    {
     "name": "stdout",
     "output_type": "stream",
     "text": [
      "Training loss 134.7957350716591\n"
     ]
    },
    {
     "name": "stderr",
     "output_type": "stream",
     "text": [
      "100%|██████████| 1000/1000 [00:32<00:00, 30.32it/s]\n",
      "  0%|          | 0/1000 [00:00<?, ?it/s]"
     ]
    },
    {
     "name": "stdout",
     "output_type": "stream",
     "text": [
      "Validation loss : 121.65796\n",
      "Validation metrics: b error 144.9646, r error 202.7922 , theta error 17.2171\n",
      "predictions: tensor([[14.2923, 15.9595, -4.3174]], device='cuda:0')\n",
      "Epoch 11/50\n"
     ]
    },
    {
     "name": "stderr",
     "output_type": "stream",
     "text": [
      "100%|██████████| 1000/1000 [04:49<00:00,  3.45it/s]\n",
      "  0%|          | 4/1000 [00:00<00:32, 30.67it/s]"
     ]
    },
    {
     "name": "stdout",
     "output_type": "stream",
     "text": [
      "Training loss 135.2834898571968\n"
     ]
    },
    {
     "name": "stderr",
     "output_type": "stream",
     "text": [
      "100%|██████████| 1000/1000 [00:33<00:00, 30.22it/s]\n",
      "  0%|          | 0/1000 [00:00<?, ?it/s]"
     ]
    },
    {
     "name": "stdout",
     "output_type": "stream",
     "text": [
      "Validation loss : 121.88031\n",
      "Validation metrics: b error 151.8362, r error 179.3839 , theta error 34.4208\n",
      "predictions: tensor([[13.3375, 22.9022, -5.7799]], device='cuda:0')\n",
      "Epoch 12/50\n"
     ]
    },
    {
     "name": "stderr",
     "output_type": "stream",
     "text": [
      "100%|██████████| 1000/1000 [04:49<00:00,  3.46it/s]\n",
      "  0%|          | 4/1000 [00:00<00:32, 30.41it/s]"
     ]
    },
    {
     "name": "stdout",
     "output_type": "stream",
     "text": [
      "Training loss 134.05085726213454\n"
     ]
    },
    {
     "name": "stderr",
     "output_type": "stream",
     "text": [
      "100%|██████████| 1000/1000 [00:32<00:00, 30.31it/s]\n",
      "  0%|          | 0/1000 [00:00<?, ?it/s]"
     ]
    },
    {
     "name": "stdout",
     "output_type": "stream",
     "text": [
      "Validation loss : 129.97655\n",
      "Validation metrics: b error 158.4258, r error 172.7098 , theta error 58.7941\n",
      "predictions: tensor([[13.8608, 26.1792, -7.9646]], device='cuda:0')\n",
      "Epoch 13/50\n"
     ]
    },
    {
     "name": "stderr",
     "output_type": "stream",
     "text": [
      "100%|██████████| 1000/1000 [04:49<00:00,  3.46it/s]\n",
      "  0%|          | 4/1000 [00:00<00:32, 30.75it/s]"
     ]
    },
    {
     "name": "stdout",
     "output_type": "stream",
     "text": [
      "Training loss 133.84948807573318\n"
     ]
    },
    {
     "name": "stderr",
     "output_type": "stream",
     "text": [
      "100%|██████████| 1000/1000 [00:32<00:00, 30.32it/s]\n",
      "  0%|          | 0/1000 [00:00<?, ?it/s]"
     ]
    },
    {
     "name": "stdout",
     "output_type": "stream",
     "text": [
      "Validation loss : 133.3842\n",
      "Validation metrics: b error 170.8293, r error 173.7164 , theta error 55.6069\n",
      "predictions: tensor([[10.3659, 13.8988, -8.0274]], device='cuda:0')\n",
      "Epoch 14/50\n"
     ]
    },
    {
     "name": "stderr",
     "output_type": "stream",
     "text": [
      "100%|██████████| 1000/1000 [04:48<00:00,  3.46it/s]\n",
      "  0%|          | 4/1000 [00:00<00:32, 30.58it/s]"
     ]
    },
    {
     "name": "stdout",
     "output_type": "stream",
     "text": [
      "Training loss 133.89030680704116\n"
     ]
    },
    {
     "name": "stderr",
     "output_type": "stream",
     "text": [
      "100%|██████████| 1000/1000 [00:33<00:00, 30.14it/s]\n",
      "  0%|          | 0/1000 [00:00<?, ?it/s]"
     ]
    },
    {
     "name": "stdout",
     "output_type": "stream",
     "text": [
      "Validation loss : 130.70885\n",
      "Validation metrics: b error 154.5494, r error 194.3888 , theta error 43.1883\n",
      "predictions: tensor([[ 8.7391, 14.1234, -6.6830]], device='cuda:0')\n",
      "Epoch 15/50\n"
     ]
    },
    {
     "name": "stderr",
     "output_type": "stream",
     "text": [
      "100%|██████████| 1000/1000 [04:48<00:00,  3.46it/s]\n",
      "  0%|          | 4/1000 [00:00<00:32, 30.62it/s]"
     ]
    },
    {
     "name": "stdout",
     "output_type": "stream",
     "text": [
      "Training loss 133.3152191257477\n"
     ]
    },
    {
     "name": "stderr",
     "output_type": "stream",
     "text": [
      "100%|██████████| 1000/1000 [00:33<00:00, 30.29it/s]\n",
      "  0%|          | 0/1000 [00:00<?, ?it/s]"
     ]
    },
    {
     "name": "stdout",
     "output_type": "stream",
     "text": [
      "Validation loss : 128.23595\n",
      "Validation metrics: b error 132.6332, r error 210.6870 , theta error 41.3876\n",
      "predictions: tensor([[ 12.0919,  25.4254, -10.2675]], device='cuda:0')\n",
      "Epoch 16/50\n"
     ]
    },
    {
     "name": "stderr",
     "output_type": "stream",
     "text": [
      "100%|██████████| 1000/1000 [04:47<00:00,  3.47it/s]\n",
      "  0%|          | 4/1000 [00:00<00:32, 30.68it/s]"
     ]
    },
    {
     "name": "stdout",
     "output_type": "stream",
     "text": [
      "Training loss 132.45637246465682\n"
     ]
    },
    {
     "name": "stderr",
     "output_type": "stream",
     "text": [
      "100%|██████████| 1000/1000 [00:33<00:00, 30.28it/s]\n",
      "  0%|          | 0/1000 [00:00<?, ?it/s]"
     ]
    },
    {
     "name": "stdout",
     "output_type": "stream",
     "text": [
      "Validation loss : 126.15164\n",
      "Validation metrics: b error 160.6285, r error 173.8967 , theta error 43.9297\n",
      "predictions: tensor([[10.6248, 19.3658, -8.2940]], device='cuda:0')\n",
      "Epoch 17/50\n"
     ]
    },
    {
     "name": "stderr",
     "output_type": "stream",
     "text": [
      "100%|██████████| 1000/1000 [04:47<00:00,  3.48it/s]\n",
      "  0%|          | 4/1000 [00:00<00:32, 30.74it/s]"
     ]
    },
    {
     "name": "stdout",
     "output_type": "stream",
     "text": [
      "Training loss 132.511481361866\n"
     ]
    },
    {
     "name": "stderr",
     "output_type": "stream",
     "text": [
      "100%|██████████| 1000/1000 [00:33<00:00, 30.28it/s]\n"
     ]
    },
    {
     "name": "stdout",
     "output_type": "stream",
     "text": [
      "Validation loss : 112.406166\n",
      "Validation metrics: b error 125.0525, r error 165.6742 , theta error 46.4917\n",
      "predictions: tensor([[ 9.6347, 15.1392, -7.4778]], device='cuda:0')\n"
     ]
    },
    {
     "name": "stderr",
     "output_type": "stream",
     "text": [
      "  0%|          | 0/1000 [00:00<?, ?it/s]"
     ]
    },
    {
     "name": "stdout",
     "output_type": "stream",
     "text": [
      "Epoch 18/50\n"
     ]
    },
    {
     "name": "stderr",
     "output_type": "stream",
     "text": [
      "100%|██████████| 1000/1000 [04:47<00:00,  3.48it/s]\n",
      "  0%|          | 4/1000 [00:00<00:32, 30.54it/s]"
     ]
    },
    {
     "name": "stdout",
     "output_type": "stream",
     "text": [
      "Training loss 132.43284297561647\n"
     ]
    },
    {
     "name": "stderr",
     "output_type": "stream",
     "text": [
      "100%|██████████| 1000/1000 [00:33<00:00, 30.22it/s]\n",
      "  0%|          | 0/1000 [00:00<?, ?it/s]"
     ]
    },
    {
     "name": "stdout",
     "output_type": "stream",
     "text": [
      "Validation loss : 126.66022\n",
      "Validation metrics: b error 139.1845, r error 189.8839 , theta error 50.9123\n",
      "predictions: tensor([[11.5806, 27.1278, -8.3214]], device='cuda:0')\n",
      "Epoch 19/50\n"
     ]
    },
    {
     "name": "stderr",
     "output_type": "stream",
     "text": [
      "100%|██████████| 1000/1000 [04:47<00:00,  3.48it/s]\n",
      "  0%|          | 4/1000 [00:00<00:32, 30.58it/s]"
     ]
    },
    {
     "name": "stdout",
     "output_type": "stream",
     "text": [
      "Training loss 131.5301462802887\n"
     ]
    },
    {
     "name": "stderr",
     "output_type": "stream",
     "text": [
      "100%|██████████| 1000/1000 [00:33<00:00, 30.28it/s]\n",
      "  0%|          | 0/1000 [00:00<?, ?it/s]"
     ]
    },
    {
     "name": "stdout",
     "output_type": "stream",
     "text": [
      "Validation loss : 117.97303\n",
      "Validation metrics: b error 129.4600, r error 181.9981 , theta error 42.4610\n",
      "predictions: tensor([[ 8.3450, 10.2567, -8.2652]], device='cuda:0')\n",
      "Epoch 20/50\n"
     ]
    },
    {
     "name": "stderr",
     "output_type": "stream",
     "text": [
      "100%|██████████| 1000/1000 [04:46<00:00,  3.49it/s]\n",
      "  0%|          | 4/1000 [00:00<00:32, 30.68it/s]"
     ]
    },
    {
     "name": "stdout",
     "output_type": "stream",
     "text": [
      "Training loss 132.19045862293243\n"
     ]
    },
    {
     "name": "stderr",
     "output_type": "stream",
     "text": [
      "100%|██████████| 1000/1000 [00:33<00:00, 30.25it/s]\n",
      "  0%|          | 0/1000 [00:00<?, ?it/s]"
     ]
    },
    {
     "name": "stdout",
     "output_type": "stream",
     "text": [
      "Validation loss : 115.183136\n",
      "Validation metrics: b error 130.4487, r error 179.3234 , theta error 35.7773\n",
      "predictions: tensor([[10.1719, 17.2836, -6.5258]], device='cuda:0')\n",
      "Epoch 21/50\n"
     ]
    },
    {
     "name": "stderr",
     "output_type": "stream",
     "text": [
      "100%|██████████| 1000/1000 [04:46<00:00,  3.49it/s]\n",
      "  0%|          | 4/1000 [00:00<00:32, 30.30it/s]"
     ]
    },
    {
     "name": "stdout",
     "output_type": "stream",
     "text": [
      "Training loss 131.4421183052063\n"
     ]
    },
    {
     "name": "stderr",
     "output_type": "stream",
     "text": [
      "100%|██████████| 1000/1000 [00:33<00:00, 30.27it/s]\n",
      "  0%|          | 0/1000 [00:00<?, ?it/s]"
     ]
    },
    {
     "name": "stdout",
     "output_type": "stream",
     "text": [
      "Validation loss : 118.84568\n",
      "Validation metrics: b error 131.8129, r error 185.0600 , theta error 39.6642\n",
      "predictions: tensor([[ 9.8416,  6.9476, -6.0191]], device='cuda:0')\n",
      "Epoch 22/50\n"
     ]
    },
    {
     "name": "stderr",
     "output_type": "stream",
     "text": [
      "100%|██████████| 1000/1000 [04:46<00:00,  3.49it/s]\n",
      "  0%|          | 4/1000 [00:00<00:32, 30.64it/s]"
     ]
    },
    {
     "name": "stdout",
     "output_type": "stream",
     "text": [
      "Training loss 130.53363194942474\n"
     ]
    },
    {
     "name": "stderr",
     "output_type": "stream",
     "text": [
      "100%|██████████| 1000/1000 [00:33<00:00, 30.22it/s]\n",
      "  0%|          | 0/1000 [00:00<?, ?it/s]"
     ]
    },
    {
     "name": "stdout",
     "output_type": "stream",
     "text": [
      "Validation loss : 117.3397\n",
      "Validation metrics: b error 124.6031, r error 189.8861 , theta error 37.5299\n",
      "predictions: tensor([[10.0346, 10.0320, -9.2815]], device='cuda:0')\n",
      "Epoch 23/50\n"
     ]
    },
    {
     "name": "stderr",
     "output_type": "stream",
     "text": [
      "100%|██████████| 1000/1000 [04:46<00:00,  3.49it/s]\n",
      "  0%|          | 4/1000 [00:00<00:32, 30.54it/s]"
     ]
    },
    {
     "name": "stdout",
     "output_type": "stream",
     "text": [
      "Training loss 131.2389379775524\n"
     ]
    },
    {
     "name": "stderr",
     "output_type": "stream",
     "text": [
      "100%|██████████| 1000/1000 [00:33<00:00, 30.23it/s]\n",
      "  0%|          | 0/1000 [00:00<?, ?it/s]"
     ]
    },
    {
     "name": "stdout",
     "output_type": "stream",
     "text": [
      "Validation loss : 131.99776\n",
      "Validation metrics: b error 137.0180, r error 222.9498 , theta error 36.0254\n",
      "predictions: tensor([[ 9.9371,  9.9040, -9.5139]], device='cuda:0')\n",
      "Epoch 24/50\n"
     ]
    },
    {
     "name": "stderr",
     "output_type": "stream",
     "text": [
      "100%|██████████| 1000/1000 [04:46<00:00,  3.49it/s]\n",
      "  0%|          | 4/1000 [00:00<00:32, 30.64it/s]"
     ]
    },
    {
     "name": "stdout",
     "output_type": "stream",
     "text": [
      "Training loss 130.87825703287123\n"
     ]
    },
    {
     "name": "stderr",
     "output_type": "stream",
     "text": [
      "100%|██████████| 1000/1000 [00:32<00:00, 30.34it/s]\n"
     ]
    },
    {
     "name": "stdout",
     "output_type": "stream",
     "text": [
      "Validation loss : 109.00144\n",
      "Validation metrics: b error 136.3885, r error 144.5460 , theta error 46.0698\n",
      "predictions: tensor([[12.3626, 20.2002, -8.8786]], device='cuda:0')\n"
     ]
    },
    {
     "name": "stderr",
     "output_type": "stream",
     "text": [
      "  0%|          | 0/1000 [00:00<?, ?it/s]"
     ]
    },
    {
     "name": "stdout",
     "output_type": "stream",
     "text": [
      "Epoch 25/50\n"
     ]
    },
    {
     "name": "stderr",
     "output_type": "stream",
     "text": [
      "100%|██████████| 1000/1000 [04:45<00:00,  3.50it/s]\n",
      "  0%|          | 4/1000 [00:00<00:32, 30.32it/s]"
     ]
    },
    {
     "name": "stdout",
     "output_type": "stream",
     "text": [
      "Training loss 131.2591183025837\n"
     ]
    },
    {
     "name": "stderr",
     "output_type": "stream",
     "text": [
      "100%|██████████| 1000/1000 [00:33<00:00, 30.14it/s]\n",
      "  0%|          | 0/1000 [00:00<?, ?it/s]"
     ]
    },
    {
     "name": "stdout",
     "output_type": "stream",
     "text": [
      "Validation loss : 116.27615\n",
      "Validation metrics: b error 127.7243, r error 176.5524 , theta error 44.5518\n",
      "predictions: tensor([[10.2714, 13.2724, -9.9613]], device='cuda:0')\n",
      "Epoch 26/50\n"
     ]
    },
    {
     "name": "stderr",
     "output_type": "stream",
     "text": [
      "100%|██████████| 1000/1000 [04:46<00:00,  3.50it/s]\n",
      "  0%|          | 4/1000 [00:00<00:32, 30.65it/s]"
     ]
    },
    {
     "name": "stdout",
     "output_type": "stream",
     "text": [
      "Training loss 129.3818973982334\n"
     ]
    },
    {
     "name": "stderr",
     "output_type": "stream",
     "text": [
      "100%|██████████| 1000/1000 [00:33<00:00, 30.24it/s]\n",
      "  0%|          | 0/1000 [00:00<?, ?it/s]"
     ]
    },
    {
     "name": "stdout",
     "output_type": "stream",
     "text": [
      "Validation loss : 118.20466\n",
      "Validation metrics: b error 136.2881, r error 177.8866 , theta error 40.4392\n",
      "predictions: tensor([[ 8.8329, 16.0556, -7.4919]], device='cuda:0')\n",
      "Epoch 27/50\n"
     ]
    },
    {
     "name": "stderr",
     "output_type": "stream",
     "text": [
      "100%|██████████| 1000/1000 [04:46<00:00,  3.50it/s]\n",
      "  0%|          | 4/1000 [00:00<00:32, 30.64it/s]"
     ]
    },
    {
     "name": "stdout",
     "output_type": "stream",
     "text": [
      "Training loss 129.28983395385742\n"
     ]
    },
    {
     "name": "stderr",
     "output_type": "stream",
     "text": [
      "100%|██████████| 1000/1000 [00:33<00:00, 30.30it/s]\n",
      "  0%|          | 0/1000 [00:00<?, ?it/s]"
     ]
    },
    {
     "name": "stdout",
     "output_type": "stream",
     "text": [
      "Validation loss : 114.06542\n",
      "Validation metrics: b error 127.7543, r error 171.2953 , theta error 43.1466\n",
      "predictions: tensor([[  7.7504,  10.0838, -10.4724]], device='cuda:0')\n",
      "Epoch 28/50\n"
     ]
    },
    {
     "name": "stderr",
     "output_type": "stream",
     "text": [
      "100%|██████████| 1000/1000 [04:45<00:00,  3.50it/s]\n",
      "  0%|          | 4/1000 [00:00<00:32, 30.66it/s]"
     ]
    },
    {
     "name": "stdout",
     "output_type": "stream",
     "text": [
      "Training loss 128.77282309556008\n"
     ]
    },
    {
     "name": "stderr",
     "output_type": "stream",
     "text": [
      "100%|██████████| 1000/1000 [00:33<00:00, 30.27it/s]\n",
      "  0%|          | 0/1000 [00:00<?, ?it/s]"
     ]
    },
    {
     "name": "stdout",
     "output_type": "stream",
     "text": [
      "Validation loss : 123.2902\n",
      "Validation metrics: b error 140.8807, r error 190.9532 , theta error 38.0366\n",
      "predictions: tensor([[ 9.9052,  9.4346, -7.9269]], device='cuda:0')\n",
      "Epoch 29/50\n"
     ]
    },
    {
     "name": "stderr",
     "output_type": "stream",
     "text": [
      "100%|██████████| 1000/1000 [04:46<00:00,  3.50it/s]\n",
      "  0%|          | 4/1000 [00:00<00:33, 29.69it/s]"
     ]
    },
    {
     "name": "stdout",
     "output_type": "stream",
     "text": [
      "Training loss 129.0485188384056\n"
     ]
    },
    {
     "name": "stderr",
     "output_type": "stream",
     "text": [
      "100%|██████████| 1000/1000 [00:33<00:00, 30.18it/s]\n",
      "  0%|          | 0/1000 [00:00<?, ?it/s]"
     ]
    },
    {
     "name": "stdout",
     "output_type": "stream",
     "text": [
      "Validation loss : 123.34739\n",
      "Validation metrics: b error 121.8961, r error 210.5262 , theta error 37.6199\n",
      "predictions: tensor([[ 9.8538,  9.6552, -9.8357]], device='cuda:0')\n",
      "Epoch 30/50\n"
     ]
    },
    {
     "name": "stderr",
     "output_type": "stream",
     "text": [
      "100%|██████████| 1000/1000 [04:46<00:00,  3.49it/s]\n",
      "  0%|          | 3/1000 [00:00<00:33, 30.00it/s]"
     ]
    },
    {
     "name": "stdout",
     "output_type": "stream",
     "text": [
      "Training loss 128.2120710158348\n"
     ]
    },
    {
     "name": "stderr",
     "output_type": "stream",
     "text": [
      "100%|██████████| 1000/1000 [00:33<00:00, 30.26it/s]\n",
      "  0%|          | 0/1000 [00:00<?, ?it/s]"
     ]
    },
    {
     "name": "stdout",
     "output_type": "stream",
     "text": [
      "Validation loss : 112.30243\n",
      "Validation metrics: b error 123.4992, r error 174.9786 , theta error 38.4295\n",
      "predictions: tensor([[ 8.8532, 13.8013, -9.1606]], device='cuda:0')\n",
      "Epoch 31/50\n"
     ]
    },
    {
     "name": "stderr",
     "output_type": "stream",
     "text": [
      "100%|██████████| 1000/1000 [04:46<00:00,  3.49it/s]\n",
      "  0%|          | 4/1000 [00:00<00:32, 30.32it/s]"
     ]
    },
    {
     "name": "stdout",
     "output_type": "stream",
     "text": [
      "Training loss 127.52033139419555\n"
     ]
    },
    {
     "name": "stderr",
     "output_type": "stream",
     "text": [
      "100%|██████████| 1000/1000 [00:33<00:00, 30.23it/s]\n"
     ]
    },
    {
     "name": "stdout",
     "output_type": "stream",
     "text": [
      "Validation loss : 108.512024\n",
      "Validation metrics: b error 113.6699, r error 172.7293 , theta error 39.1369\n",
      "predictions: tensor([[ 9.2574,  8.6108, -8.6734]], device='cuda:0')\n"
     ]
    },
    {
     "name": "stderr",
     "output_type": "stream",
     "text": [
      "  0%|          | 0/1000 [00:00<?, ?it/s]"
     ]
    },
    {
     "name": "stdout",
     "output_type": "stream",
     "text": [
      "Epoch 32/50\n"
     ]
    },
    {
     "name": "stderr",
     "output_type": "stream",
     "text": [
      "100%|██████████| 1000/1000 [04:45<00:00,  3.50it/s]\n",
      "  0%|          | 4/1000 [00:00<00:32, 30.67it/s]"
     ]
    },
    {
     "name": "stdout",
     "output_type": "stream",
     "text": [
      "Training loss 127.01081252670288\n"
     ]
    },
    {
     "name": "stderr",
     "output_type": "stream",
     "text": [
      "100%|██████████| 1000/1000 [00:33<00:00, 30.20it/s]\n",
      "  0%|          | 0/1000 [00:00<?, ?it/s]"
     ]
    },
    {
     "name": "stdout",
     "output_type": "stream",
     "text": [
      "Validation loss : 109.61291\n",
      "Validation metrics: b error 113.8041, r error 174.6497 , theta error 40.3849\n",
      "predictions: tensor([[ 7.8542, 11.7152, -8.9485]], device='cuda:0')\n",
      "Epoch 33/50\n"
     ]
    },
    {
     "name": "stderr",
     "output_type": "stream",
     "text": [
      "100%|██████████| 1000/1000 [04:45<00:00,  3.50it/s]\n",
      "  0%|          | 4/1000 [00:00<00:32, 30.59it/s]"
     ]
    },
    {
     "name": "stdout",
     "output_type": "stream",
     "text": [
      "Training loss 126.68447557687759\n"
     ]
    },
    {
     "name": "stderr",
     "output_type": "stream",
     "text": [
      "100%|██████████| 1000/1000 [00:33<00:00, 30.23it/s]\n",
      "  0%|          | 0/1000 [00:00<?, ?it/s]"
     ]
    },
    {
     "name": "stdout",
     "output_type": "stream",
     "text": [
      "Validation loss : 115.87092\n",
      "Validation metrics: b error 111.7538, r error 192.5633 , theta error 43.2957\n",
      "predictions: tensor([[ 8.4830, 11.0968, -9.5477]], device='cuda:0')\n",
      "Epoch 34/50\n"
     ]
    },
    {
     "name": "stderr",
     "output_type": "stream",
     "text": [
      "100%|██████████| 1000/1000 [04:46<00:00,  3.49it/s]\n",
      "  0%|          | 4/1000 [00:00<00:32, 30.64it/s]"
     ]
    },
    {
     "name": "stdout",
     "output_type": "stream",
     "text": [
      "Training loss 125.71476386594772\n"
     ]
    },
    {
     "name": "stderr",
     "output_type": "stream",
     "text": [
      "100%|██████████| 1000/1000 [00:32<00:00, 30.31it/s]\n",
      "  0%|          | 0/1000 [00:00<?, ?it/s]"
     ]
    },
    {
     "name": "stdout",
     "output_type": "stream",
     "text": [
      "Validation loss : 114.46051\n",
      "Validation metrics: b error 118.0343, r error 184.4096 , theta error 40.9377\n",
      "predictions: tensor([[ 9.1275,  8.7748, -8.4134]], device='cuda:0')\n",
      "Epoch 35/50\n"
     ]
    },
    {
     "name": "stderr",
     "output_type": "stream",
     "text": [
      "100%|██████████| 1000/1000 [04:46<00:00,  3.50it/s]\n",
      "  0%|          | 4/1000 [00:00<00:32, 30.55it/s]"
     ]
    },
    {
     "name": "stdout",
     "output_type": "stream",
     "text": [
      "Training loss 124.5992201089859\n"
     ]
    },
    {
     "name": "stderr",
     "output_type": "stream",
     "text": [
      "100%|██████████| 1000/1000 [00:33<00:00, 30.24it/s]\n",
      "  0%|          | 0/1000 [00:00<?, ?it/s]"
     ]
    },
    {
     "name": "stdout",
     "output_type": "stream",
     "text": [
      "Validation loss : 118.3704\n",
      "Validation metrics: b error 115.4025, r error 197.9494 , theta error 41.7594\n",
      "predictions: tensor([[ 9.1101, 12.1016, -9.7416]], device='cuda:0')\n",
      "Epoch 36/50\n"
     ]
    },
    {
     "name": "stderr",
     "output_type": "stream",
     "text": [
      "100%|██████████| 1000/1000 [04:45<00:00,  3.50it/s]\n",
      "  0%|          | 4/1000 [00:00<00:32, 30.70it/s]"
     ]
    },
    {
     "name": "stdout",
     "output_type": "stream",
     "text": [
      "Training loss 123.59759567832947\n"
     ]
    },
    {
     "name": "stderr",
     "output_type": "stream",
     "text": [
      "100%|██████████| 1000/1000 [00:32<00:00, 30.33it/s]\n",
      "  0%|          | 0/1000 [00:00<?, ?it/s]"
     ]
    },
    {
     "name": "stdout",
     "output_type": "stream",
     "text": [
      "Validation loss : 120.7605\n",
      "Validation metrics: b error 122.8188, r error 201.5055 , theta error 37.9572\n",
      "predictions: tensor([[ 6.8320, 11.7403, -8.2724]], device='cuda:0')\n",
      "Epoch 37/50\n"
     ]
    },
    {
     "name": "stderr",
     "output_type": "stream",
     "text": [
      "100%|██████████| 1000/1000 [04:45<00:00,  3.50it/s]\n",
      "  0%|          | 4/1000 [00:00<00:32, 30.60it/s]"
     ]
    },
    {
     "name": "stdout",
     "output_type": "stream",
     "text": [
      "Training loss 121.61877287244796\n"
     ]
    },
    {
     "name": "stderr",
     "output_type": "stream",
     "text": [
      "100%|██████████| 1000/1000 [00:33<00:00, 30.26it/s]\n",
      "  0%|          | 0/1000 [00:00<?, ?it/s]"
     ]
    },
    {
     "name": "stdout",
     "output_type": "stream",
     "text": [
      "Validation loss : 120.34845\n",
      "Validation metrics: b error 120.7140, r error 199.0422 , theta error 41.2891\n",
      "predictions: tensor([[10.9824,  7.4462, -9.1253]], device='cuda:0')\n",
      "Epoch 38/50\n"
     ]
    },
    {
     "name": "stderr",
     "output_type": "stream",
     "text": [
      "100%|██████████| 1000/1000 [04:45<00:00,  3.50it/s]\n",
      "  0%|          | 4/1000 [00:00<00:32, 30.70it/s]"
     ]
    },
    {
     "name": "stdout",
     "output_type": "stream",
     "text": [
      "Training loss 119.35630302333831\n"
     ]
    },
    {
     "name": "stderr",
     "output_type": "stream",
     "text": [
      "100%|██████████| 1000/1000 [00:32<00:00, 30.31it/s]\n",
      "  0%|          | 0/1000 [00:00<?, ?it/s]"
     ]
    },
    {
     "name": "stdout",
     "output_type": "stream",
     "text": [
      "Validation loss : 115.23882\n",
      "Validation metrics: b error 113.1355, r error 189.6819 , theta error 42.8991\n",
      "predictions: tensor([[ 9.2054, 10.1139, -7.9087]], device='cuda:0')\n",
      "Epoch 39/50\n"
     ]
    },
    {
     "name": "stderr",
     "output_type": "stream",
     "text": [
      "100%|██████████| 1000/1000 [04:46<00:00,  3.49it/s]\n",
      "  0%|          | 4/1000 [00:00<00:32, 30.65it/s]"
     ]
    },
    {
     "name": "stdout",
     "output_type": "stream",
     "text": [
      "Training loss 117.38828977155686\n"
     ]
    },
    {
     "name": "stderr",
     "output_type": "stream",
     "text": [
      "100%|██████████| 1000/1000 [00:32<00:00, 30.31it/s]\n"
     ]
    },
    {
     "name": "stdout",
     "output_type": "stream",
     "text": [
      "Validation loss : 99.30023\n",
      "Validation metrics: b error 105.1623, r error 164.0186 , theta error 28.7199\n",
      "predictions: tensor([[ 9.6771, 10.7130, -7.8161]], device='cuda:0')\n"
     ]
    },
    {
     "name": "stderr",
     "output_type": "stream",
     "text": [
      "  0%|          | 0/1000 [00:00<?, ?it/s]"
     ]
    },
    {
     "name": "stdout",
     "output_type": "stream",
     "text": [
      "Epoch 40/50\n"
     ]
    },
    {
     "name": "stderr",
     "output_type": "stream",
     "text": [
      "100%|██████████| 1000/1000 [04:45<00:00,  3.50it/s]\n",
      "  0%|          | 4/1000 [00:00<00:32, 30.70it/s]"
     ]
    },
    {
     "name": "stdout",
     "output_type": "stream",
     "text": [
      "Training loss 113.98187613296508\n"
     ]
    },
    {
     "name": "stderr",
     "output_type": "stream",
     "text": [
      "100%|██████████| 1000/1000 [00:32<00:00, 30.31it/s]\n",
      "  0%|          | 0/1000 [00:00<?, ?it/s]"
     ]
    },
    {
     "name": "stdout",
     "output_type": "stream",
     "text": [
      "Validation loss : 114.279884\n",
      "Validation metrics: b error 109.0639, r error 200.5015 , theta error 33.2743\n",
      "predictions: tensor([[ 8.8883, 11.0110, -6.7770]], device='cuda:0')\n",
      "Epoch 41/50\n"
     ]
    },
    {
     "name": "stderr",
     "output_type": "stream",
     "text": [
      "100%|██████████| 1000/1000 [04:45<00:00,  3.50it/s]\n",
      "  0%|          | 4/1000 [00:00<00:32, 30.66it/s]"
     ]
    },
    {
     "name": "stdout",
     "output_type": "stream",
     "text": [
      "Training loss 110.30606894874573\n"
     ]
    },
    {
     "name": "stderr",
     "output_type": "stream",
     "text": [
      "100%|██████████| 1000/1000 [00:33<00:00, 30.28it/s]\n",
      "  0%|          | 0/1000 [00:00<?, ?it/s]"
     ]
    },
    {
     "name": "stdout",
     "output_type": "stream",
     "text": [
      "Validation loss : 116.22095\n",
      "Validation metrics: b error 106.2052, r error 201.4449 , theta error 41.0128\n",
      "predictions: tensor([[ 9.1704, 12.9790, -9.1788]], device='cuda:0')\n",
      "Epoch 42/50\n"
     ]
    },
    {
     "name": "stderr",
     "output_type": "stream",
     "text": [
      "100%|██████████| 1000/1000 [04:46<00:00,  3.49it/s]\n",
      "  0%|          | 4/1000 [00:00<00:32, 30.57it/s]"
     ]
    },
    {
     "name": "stdout",
     "output_type": "stream",
     "text": [
      "Training loss 104.26419211006164\n"
     ]
    },
    {
     "name": "stderr",
     "output_type": "stream",
     "text": [
      "100%|██████████| 1000/1000 [00:33<00:00, 30.30it/s]\n",
      "  0%|          | 0/1000 [00:00<?, ?it/s]"
     ]
    },
    {
     "name": "stdout",
     "output_type": "stream",
     "text": [
      "Validation loss : 113.48696\n",
      "Validation metrics: b error 97.7092, r error 207.1748 , theta error 35.5769\n",
      "predictions: tensor([[ 9.8834, 11.3776, -8.1248]], device='cuda:0')\n",
      "Epoch 43/50\n"
     ]
    },
    {
     "name": "stderr",
     "output_type": "stream",
     "text": [
      "100%|██████████| 1000/1000 [04:46<00:00,  3.49it/s]\n",
      "  0%|          | 4/1000 [00:00<00:32, 30.67it/s]"
     ]
    },
    {
     "name": "stdout",
     "output_type": "stream",
     "text": [
      "Training loss 98.77557315826417\n"
     ]
    },
    {
     "name": "stderr",
     "output_type": "stream",
     "text": [
      "100%|██████████| 1000/1000 [00:33<00:00, 30.20it/s]\n",
      "  0%|          | 0/1000 [00:00<?, ?it/s]"
     ]
    },
    {
     "name": "stdout",
     "output_type": "stream",
     "text": [
      "Validation loss : 120.05386\n",
      "Validation metrics: b error 117.3611, r error 205.3542 , theta error 37.4462\n",
      "predictions: tensor([[ 9.1051, 15.0809, -6.6077]], device='cuda:0')\n",
      "Epoch 44/50\n"
     ]
    },
    {
     "name": "stderr",
     "output_type": "stream",
     "text": [
      "100%|██████████| 1000/1000 [04:45<00:00,  3.50it/s]\n",
      "  0%|          | 4/1000 [00:00<00:32, 30.52it/s]"
     ]
    },
    {
     "name": "stdout",
     "output_type": "stream",
     "text": [
      "Training loss 90.89343525457382\n"
     ]
    },
    {
     "name": "stderr",
     "output_type": "stream",
     "text": [
      "100%|██████████| 1000/1000 [00:33<00:00, 30.25it/s]\n",
      "  0%|          | 0/1000 [00:00<?, ?it/s]"
     ]
    },
    {
     "name": "stdout",
     "output_type": "stream",
     "text": [
      "Validation loss : 117.97277\n",
      "Validation metrics: b error 110.9018, r error 216.1505 , theta error 26.8661\n",
      "predictions: tensor([[10.7998, 18.0161, -8.0455]], device='cuda:0')\n",
      "Epoch 45/50\n"
     ]
    },
    {
     "name": "stderr",
     "output_type": "stream",
     "text": [
      "100%|██████████| 1000/1000 [04:45<00:00,  3.50it/s]\n",
      "  0%|          | 4/1000 [00:00<00:32, 30.70it/s]"
     ]
    },
    {
     "name": "stdout",
     "output_type": "stream",
     "text": [
      "Training loss 85.76532816505433\n"
     ]
    },
    {
     "name": "stderr",
     "output_type": "stream",
     "text": [
      "100%|██████████| 1000/1000 [00:33<00:00, 30.28it/s]\n",
      "  0%|          | 0/1000 [00:00<?, ?it/s]"
     ]
    },
    {
     "name": "stdout",
     "output_type": "stream",
     "text": [
      "Validation loss : 122.434074\n",
      "Validation metrics: b error 128.8447, r error 190.4792 , theta error 47.9783\n",
      "predictions: tensor([[ 10.6741,  20.7115, -10.2494]], device='cuda:0')\n",
      "Epoch 46/50\n"
     ]
    },
    {
     "name": "stderr",
     "output_type": "stream",
     "text": [
      "100%|██████████| 1000/1000 [04:46<00:00,  3.49it/s]\n",
      "  0%|          | 4/1000 [00:00<00:32, 30.58it/s]"
     ]
    },
    {
     "name": "stdout",
     "output_type": "stream",
     "text": [
      "Training loss 81.18682950782775\n"
     ]
    },
    {
     "name": "stderr",
     "output_type": "stream",
     "text": [
      "100%|██████████| 1000/1000 [00:33<00:00, 30.18it/s]\n",
      "  0%|          | 0/1000 [00:00<?, ?it/s]"
     ]
    },
    {
     "name": "stdout",
     "output_type": "stream",
     "text": [
      "Validation loss : 113.79349\n",
      "Validation metrics: b error 100.1697, r error 198.4518 , theta error 42.7590\n",
      "predictions: tensor([[ 7.8256, 29.9242, -8.1417]], device='cuda:0')\n",
      "Epoch 47/50\n"
     ]
    },
    {
     "name": "stderr",
     "output_type": "stream",
     "text": [
      "100%|██████████| 1000/1000 [04:46<00:00,  3.49it/s]\n",
      "  0%|          | 4/1000 [00:00<00:32, 30.54it/s]"
     ]
    },
    {
     "name": "stdout",
     "output_type": "stream",
     "text": [
      "Training loss 74.40634348249435\n"
     ]
    },
    {
     "name": "stderr",
     "output_type": "stream",
     "text": [
      "100%|██████████| 1000/1000 [00:33<00:00, 30.19it/s]\n",
      "  0%|          | 0/1000 [00:00<?, ?it/s]"
     ]
    },
    {
     "name": "stdout",
     "output_type": "stream",
     "text": [
      "Validation loss : 132.00745\n",
      "Validation metrics: b error 135.7261, r error 203.2722 , theta error 57.0240\n",
      "predictions: tensor([[ 13.1079,  17.7821, -11.6206]], device='cuda:0')\n",
      "Epoch 48/50\n"
     ]
    },
    {
     "name": "stderr",
     "output_type": "stream",
     "text": [
      "100%|██████████| 1000/1000 [04:45<00:00,  3.50it/s]\n",
      "  0%|          | 4/1000 [00:00<00:32, 30.66it/s]"
     ]
    },
    {
     "name": "stdout",
     "output_type": "stream",
     "text": [
      "Training loss 72.2708604645729\n"
     ]
    },
    {
     "name": "stderr",
     "output_type": "stream",
     "text": [
      "100%|██████████| 1000/1000 [00:33<00:00, 30.17it/s]\n",
      "  0%|          | 0/1000 [00:00<?, ?it/s]"
     ]
    },
    {
     "name": "stdout",
     "output_type": "stream",
     "text": [
      "Validation loss : 114.31791\n",
      "Validation metrics: b error 135.0720, r error 167.8054 , theta error 40.0764\n",
      "predictions: tensor([[ 7.4144, 20.9795, -9.0862]], device='cuda:0')\n",
      "Epoch 49/50\n"
     ]
    },
    {
     "name": "stderr",
     "output_type": "stream",
     "text": [
      "100%|██████████| 1000/1000 [04:45<00:00,  3.50it/s]\n",
      "  0%|          | 4/1000 [00:00<00:32, 30.52it/s]"
     ]
    },
    {
     "name": "stdout",
     "output_type": "stream",
     "text": [
      "Training loss 71.64129077720642\n"
     ]
    },
    {
     "name": "stderr",
     "output_type": "stream",
     "text": [
      "100%|██████████| 1000/1000 [00:33<00:00, 30.07it/s]\n",
      "  0%|          | 0/1000 [00:00<?, ?it/s]"
     ]
    },
    {
     "name": "stdout",
     "output_type": "stream",
     "text": [
      "Validation loss : 130.89198\n",
      "Validation metrics: b error 106.5218, r error 243.7423 , theta error 42.4119\n",
      "predictions: tensor([[ 3.5072,  6.5312, -8.2215]], device='cuda:0')\n",
      "Epoch 50/50\n"
     ]
    },
    {
     "name": "stderr",
     "output_type": "stream",
     "text": [
      "100%|██████████| 1000/1000 [04:46<00:00,  3.49it/s]\n",
      "  0%|          | 4/1000 [00:00<00:32, 30.66it/s]"
     ]
    },
    {
     "name": "stdout",
     "output_type": "stream",
     "text": [
      "Training loss 70.03271188545227\n"
     ]
    },
    {
     "name": "stderr",
     "output_type": "stream",
     "text": [
      "100%|██████████| 1000/1000 [00:33<00:00, 30.29it/s]"
     ]
    },
    {
     "name": "stdout",
     "output_type": "stream",
     "text": [
      "Validation loss : 113.956\n",
      "Validation metrics: b error 139.7066, r error 155.8414 , theta error 46.3200\n",
      "predictions: tensor([[  9.7727,  25.7146, -10.8482]], device='cuda:0')\n"
     ]
    },
    {
     "name": "stderr",
     "output_type": "stream",
     "text": [
      "\n"
     ]
    }
   ],
   "source": [
    "\n",
    "num_epochs = 50\n",
    "batch_size = 4\n",
    "\n",
    "\n",
    "model = PoseModel().to(device)\n",
    "\n",
    "\n",
    "criterion = MyCriterion().to(device)\n",
    "parameter = model.parameters()\n",
    "optimizer = optim.Adam(parameter, lr=1e-4, weight_decay=1e-2)\n",
    "\n",
    "# #scheduler = optim.lr_scheduler.MultiStepLR(optimizer, milestones=[4], gamma=0.1)\n",
    "data_dir = 'data-theta'\n",
    "train_dataloader = fetch_dataloader(['train'], data_dir, batch_size=batch_size,num_workers=0)['train']\n",
    "val_dataloader = fetch_dataloader(['val'], data_dir, batch_size=1,num_workers=0)['val']\n",
    "test_dataloader = fetch_dataloader(['test'], data_dir, batch_size=1,num_workers=0)['test']\n",
    "# print(len(train_dataloader))\n",
    "\n",
    "\n",
    "train_losses = []\n",
    "val_losses = []\n",
    "b1 = []\n",
    "r1 = []\n",
    "theta1 = []\n",
    "x1 = []\n",
    "y1 = []\n",
    "\n",
    "predicts = []\n",
    "\n",
    "best_loss = 5000\n",
    "for epoch in range(num_epochs):\n",
    "  \n",
    "    \n",
    "    print(\"Epoch {}/{}\".format(epoch+1, num_epochs))\n",
    "\n",
    "    epoch_loss = simple_train(model, criterion, optimizer, train_dataloader)\n",
    "    train_losses.append(epoch_loss)\n",
    "    \n",
    "    print(\"Training loss {}\".format(epoch_loss))\n",
    "    # print(\"Training metrics: b error %.4f, r error %.4f, theta error %.4f, x error %.4f, y error %.4f\" % (train_losses[0],train_losses[1],train_losses[2], train_losses[3], train_losses[4]))\n",
    "\n",
    "    val_loss, b, r, theta, pred = simple_predict(val_dataloader, model)\n",
    "    b1.append(b)\n",
    "    r1.append(r)\n",
    "    theta1.append(theta)\n",
    "    \n",
    "    predicts.append(pred)\n",
    "    val_losses.append(val_loss)\n",
    "\n",
    "    print(\"Validation loss :\", val_loss)\n",
    "    print(\"Validation metrics: b error %.4f, r error %.4f , theta error %.4f\" % (b, r, theta))\n",
    "\n",
    "    print(\"predictions:\", pred)\n",
    "\n",
    "   \n",
    "    if val_loss<best_loss:          \n",
    "        torch.save(model.state_dict(), 'best_model_theta_outputs.torch')         \n",
    "        best_loss = val_loss\n",
    "        \n",
    "    #scheduler.step()\n",
    "\n",
    "\n"
   ]
  },
  {
   "cell_type": "code",
   "execution_count": 10,
   "metadata": {
    "executionInfo": {
     "elapsed": 2,
     "status": "aborted",
     "timestamp": 1624490362825,
     "user": {
      "displayName": "shivani kamtikar",
      "photoUrl": "https://lh3.googleusercontent.com/a-/AOh14GgUMgA00swD3UlAD7Mhraedrk8ZdpRKGd-VzdQ3ZA=s64",
      "userId": "12160226014888825127"
     },
     "user_tz": 300
    },
    "id": "_iIt8iehf4bx"
   },
   "outputs": [
    {
     "name": "stdout",
     "output_type": "stream",
     "text": [
      "[147.62297111701966, 142.11665659046173, 140.7949553527832, 139.9485085544586, 139.3855966758728, 139.31585327529908, 137.86963821268083, 136.9168321123123, 135.7450700006485, 134.7957350716591, 135.2834898571968, 134.05085726213454, 133.84948807573318, 133.89030680704116, 133.3152191257477, 132.45637246465682, 132.511481361866, 132.43284297561647, 131.5301462802887, 132.19045862293243, 131.4421183052063, 130.53363194942474, 131.2389379775524, 130.87825703287123, 131.2591183025837, 129.3818973982334, 129.28983395385742, 128.77282309556008, 129.0485188384056, 128.2120710158348, 127.52033139419555, 127.01081252670288, 126.68447557687759, 125.71476386594772, 124.5992201089859, 123.59759567832947, 121.61877287244796, 119.35630302333831, 117.38828977155686, 113.98187613296508, 110.30606894874573, 104.26419211006164, 98.77557315826417, 90.89343525457382, 85.76532816505433, 81.18682950782775, 74.40634348249435, 72.2708604645729, 71.64129077720642, 70.03271188545227]\n"
     ]
    }
   ],
   "source": [
    "print(train_losses)"
   ]
  },
  {
   "cell_type": "code",
   "execution_count": 11,
   "metadata": {
    "id": "pYEMKAeuf4by"
   },
   "outputs": [
    {
     "name": "stdout",
     "output_type": "stream",
     "text": [
      "[121.60975, 159.77019, 117.21384, 167.29567, 126.744995, 116.74057, 122.5248, 137.84163, 129.87349, 121.65796, 121.88031, 129.97655, 133.3842, 130.70885, 128.23595, 126.15164, 112.406166, 126.66022, 117.97303, 115.183136, 118.84568, 117.3397, 131.99776, 109.00144, 116.27615, 118.20466, 114.06542, 123.2902, 123.34739, 112.30243, 108.512024, 109.61291, 115.87092, 114.46051, 118.3704, 120.7605, 120.34845, 115.23882, 99.30023, 114.279884, 116.22095, 113.48696, 120.05386, 117.97277, 122.434074, 113.79349, 132.00745, 114.31791, 130.89198, 113.956]\n"
     ]
    }
   ],
   "source": [
    "print(val_losses)"
   ]
  },
  {
   "cell_type": "code",
   "execution_count": 25,
   "metadata": {
    "id": "9B4nrt7IaT7A"
   },
   "outputs": [
    {
     "name": "stdout",
     "output_type": "stream",
     "text": [
      "[tensor([[12.4243,  4.1924, -3.2468]], device='cuda:0'), tensor([[17.2921, 16.6060, -5.5945]], device='cuda:0'), tensor([[14.2041, 10.6508, -3.9252]], device='cuda:0'), tensor([[17.3099,  7.0777, -5.9412]], device='cuda:0'), tensor([[12.7640, 11.5770, -4.6366]], device='cuda:0'), tensor([[10.7068, 21.6860, -3.4998]], device='cuda:0'), tensor([[14.3869, 16.6496, -9.6962]], device='cuda:0'), tensor([[12.5143, 23.5773, -7.8336]], device='cuda:0'), tensor([[ 9.9182, 15.6574, -5.3072]], device='cuda:0'), tensor([[14.2923, 15.9595, -4.3174]], device='cuda:0'), tensor([[13.3375, 22.9022, -5.7799]], device='cuda:0'), tensor([[13.8608, 26.1792, -7.9646]], device='cuda:0'), tensor([[10.3659, 13.8988, -8.0274]], device='cuda:0'), tensor([[ 8.7391, 14.1234, -6.6830]], device='cuda:0'), tensor([[ 12.0919,  25.4254, -10.2675]], device='cuda:0'), tensor([[10.6248, 19.3658, -8.2940]], device='cuda:0'), tensor([[ 9.6347, 15.1392, -7.4778]], device='cuda:0'), tensor([[11.5806, 27.1278, -8.3214]], device='cuda:0'), tensor([[ 8.3450, 10.2567, -8.2652]], device='cuda:0'), tensor([[10.1719, 17.2836, -6.5258]], device='cuda:0'), tensor([[ 9.8416,  6.9476, -6.0191]], device='cuda:0'), tensor([[10.0346, 10.0320, -9.2815]], device='cuda:0'), tensor([[ 9.9371,  9.9040, -9.5139]], device='cuda:0'), tensor([[12.3626, 20.2002, -8.8786]], device='cuda:0'), tensor([[10.2714, 13.2724, -9.9613]], device='cuda:0'), tensor([[ 8.8329, 16.0556, -7.4919]], device='cuda:0'), tensor([[  7.7504,  10.0838, -10.4724]], device='cuda:0'), tensor([[ 9.9052,  9.4346, -7.9269]], device='cuda:0'), tensor([[ 9.8538,  9.6552, -9.8357]], device='cuda:0'), tensor([[ 8.8532, 13.8013, -9.1606]], device='cuda:0'), tensor([[ 9.2574,  8.6108, -8.6734]], device='cuda:0'), tensor([[ 7.8542, 11.7152, -8.9485]], device='cuda:0'), tensor([[ 8.4830, 11.0968, -9.5477]], device='cuda:0'), tensor([[ 9.1275,  8.7748, -8.4134]], device='cuda:0'), tensor([[ 9.1101, 12.1016, -9.7416]], device='cuda:0'), tensor([[ 6.8320, 11.7403, -8.2724]], device='cuda:0'), tensor([[10.9824,  7.4462, -9.1253]], device='cuda:0'), tensor([[ 9.2054, 10.1139, -7.9087]], device='cuda:0'), tensor([[ 9.6771, 10.7130, -7.8161]], device='cuda:0'), tensor([[ 8.8883, 11.0110, -6.7770]], device='cuda:0'), tensor([[ 9.1704, 12.9790, -9.1788]], device='cuda:0'), tensor([[ 9.8834, 11.3776, -8.1248]], device='cuda:0'), tensor([[ 9.1051, 15.0809, -6.6077]], device='cuda:0'), tensor([[10.7998, 18.0161, -8.0455]], device='cuda:0'), tensor([[ 10.6741,  20.7115, -10.2494]], device='cuda:0'), tensor([[ 7.8256, 29.9242, -8.1417]], device='cuda:0'), tensor([[ 13.1079,  17.7821, -11.6206]], device='cuda:0'), tensor([[ 7.4144, 20.9795, -9.0862]], device='cuda:0'), tensor([[ 3.5072,  6.5312, -8.2215]], device='cuda:0'), tensor([[  9.7727,  25.7146, -10.8482]], device='cuda:0')]\n"
     ]
    }
   ],
   "source": [
    "print(predicts)"
   ]
  },
  {
   "cell_type": "code",
   "execution_count": 16,
   "metadata": {
    "id": "ZRlgY2neiAE8"
   },
   "outputs": [],
   "source": [
    "metrics = predicts"
   ]
  },
  {
   "cell_type": "code",
   "execution_count": 29,
   "metadata": {
    "id": "tR1uUOR8f4by"
   },
   "outputs": [
    {
     "name": "stdout",
     "output_type": "stream",
     "text": [
      "[[95.23959, 243.2931, 26.296528], [202.9514, 237.94978, 38.40939], [142.82907, 188.57896, 20.233484], [231.82904, 244.19691, 25.861086], [139.71126, 218.73436, 21.789352], [172.74608, 154.52013, 22.955505], [187.64487, 141.1019, 38.82765], [177.74368, 194.68988, 41.091297], [153.28413, 200.24475, 36.091614], [144.96458, 202.79222, 17.217072], [151.83623, 179.38394, 34.42078], [158.42578, 172.70976, 58.794056], [170.82927, 173.71637, 55.606926], [154.54941, 194.3888, 43.188328], [132.6332, 210.68703, 41.387634], [160.62846, 173.89673, 43.929726], [125.052536, 165.67424, 46.49172], [139.1845, 189.88387, 50.912296], [129.45999, 181.9981, 42.461025], [130.44873, 179.3234, 35.777294], [131.8129, 185.05998, 39.664177], [124.60311, 189.88611, 37.52987], [137.01804, 222.94978, 36.025414], [136.38847, 144.546, 46.069843], [127.72426, 176.55237, 44.55184], [136.28812, 177.88664, 40.43924], [127.75428, 171.29535, 43.146633], [140.88072, 190.95325, 38.03661], [121.89612, 210.52618, 37.619884], [123.499214, 174.9786, 38.429485], [113.66986, 172.7293, 39.13689], [113.804054, 174.64973, 40.38491], [111.75378, 192.56331, 43.29569], [118.034256, 184.40962, 40.937664], [115.40245, 197.94939, 41.759365], [122.818825, 201.50546, 37.957207], [120.71398, 199.0422, 41.28914], [113.135506, 189.68187, 42.899075], [105.162285, 164.01855, 28.719854], [109.063896, 200.50148, 33.274303], [106.20517, 201.44485, 41.01283], [97.709236, 207.17476, 35.57688], [117.361145, 205.35425, 37.44621], [110.90177, 216.15045, 26.866083], [128.84474, 190.4792, 47.978283], [100.1697, 198.4518, 42.75898], [135.72609, 203.27225, 57.024002], [135.07199, 167.80537, 40.076366], [106.52178, 243.74228, 42.4119], [139.70665, 155.8414, 46.319977]]\n"
     ]
    }
   ],
   "source": [
    "print([[b1[i],r1[i],theta1[i]] for i in range(len(b1))])"
   ]
  },
  {
   "cell_type": "code",
   "execution_count": 24,
   "metadata": {
    "id": "cAaOu8vBkHpZ"
   },
   "outputs": [],
   "source": [
    "# metrics = np.asarray(metrics)"
   ]
  },
  {
   "cell_type": "code",
   "execution_count": 28,
   "metadata": {},
   "outputs": [
    {
     "name": "stdout",
     "output_type": "stream",
     "text": [
      "[95.23959, 202.9514, 142.82907, 231.82904, 139.71126, 172.74608, 187.64487, 177.74368, 153.28413, 144.96458, 151.83623, 158.42578, 170.82927, 154.54941, 132.6332, 160.62846, 125.052536, 139.1845, 129.45999, 130.44873, 131.8129, 124.60311, 137.01804, 136.38847, 127.72426, 136.28812, 127.75428, 140.88072, 121.89612, 123.499214, 113.66986, 113.804054, 111.75378, 118.034256, 115.40245, 122.818825, 120.71398, 113.135506, 105.162285, 109.063896, 106.20517, 97.709236, 117.361145, 110.90177, 128.84474, 100.1697, 135.72609, 135.07199, 106.52178, 139.70665]\n"
     ]
    }
   ],
   "source": [
    "print([b1[i] for i in range (len(b1))])"
   ]
  },
  {
   "cell_type": "code",
   "execution_count": null,
   "metadata": {
    "id": "wyyLOBhOjEO1"
   },
   "outputs": [],
   "source": [
    "# import numpy as np\n",
    "# import matplotlib.pyplot as plt\n",
    "# fig, ax1 = plt.subplots()\n",
    "# color = 'tab:red'\n",
    "# ax1.set_xlabel('Epochs')\n",
    "# ax1.set_ylabel('Error (cm)', color=color)\n",
    "# ax1.plot(epochs, metrics[:,0], 'r')\n",
    "# ax1.plot(epochs, metrics[:,1], 'b')\n",
    "# ax1.plot(epochs, metrics[:,2], 'g')\n",
    "# ax1.tick_params(axis='y', labelcolor=color)\n",
    "# ax1.set_ylim(0, 0.1)\n",
    "# ax2 = ax1.twinx()  # instantiate a second axes that shares the same x-axis\n",
    "# color = 'tab:blue'\n",
    "# ax2.set_ylabel('Error (radians)', color=color)  # we already handled the x-label with ax1\n",
    "# ax2.plot(epochs, metrics[:,3], 'y')\n",
    "# ax2.plot(epochs, metrics[:,4], 'c')\n",
    "# ax2.tick_params(axis='y', labelcolor=color)\n",
    "# fig.tight_layout()  # otherwise the right y-label is slightly clipped\n",
    "# plt.show()"
   ]
  },
  {
   "cell_type": "code",
   "execution_count": null,
   "metadata": {
    "id": "ZC80mXDgkiKW"
   },
   "outputs": [],
   "source": [
    "# predicts1 = [[71.3455, 299.98846, 612.14197, 17.913647, 67.760956], [70.61943, 308.3565, 614.71674, 18.341103, 66.79955], [72.254776, 308.16354, 624.0446, 17.517784, 68.64179], [79.20256, 313.67682, 756.6699, 21.187294, 76.29698], [68.64581, 445.8373, 1308.4067, 45.08603, 147.08012], [67.010864, 394.3578, 1163.5549, 37.64315, 111.245186], [72.79684, 407.45255, 1438.2988, 37.703526, 122.95048], [66.26516, 509.4921, 2232.0396, 53.581795, 160.51176], [71.617165, 553.7531, 2251.1345, 50.06454, 163.87398], [67.6314, 645.1201, 3004.0298, 64.6395, 201.75027], [68.610435, 670.9459, 3495.046, 70.110756, 229.66035], [78.080925, 838.47186, 3762.1555, 78.345604, 224.2315], [82.31957, 791.64526, 3300.3245, 68.491196, 200.6706], [85.77867, 724.0587, 2986.078, 61.731506, 186.24583], [88.41423, 767.7903, 2660.4978, 58.266937, 180.84425], [92.60425, 729.06586, 2681.3442, 55.219467, 174.54987], [88.064064, 702.8218, 2273.686, 47.222137, 142.69472], [92.22376, 915.272, 3502.126, 67.31765, 197.83511], [95.04986, 732.945, 2337.5552, 47.52399, 143.4624], [103.41726, 750.2705, 1805.5945, 39.52808, 141.29509], [115.16615, 639.1609, 1685.0542, 31.669968, 111.18192], [104.19611, 698.6576, 1724.9683, 36.858562, 113.58083], [112.40713, 964.80774, 2499.877, 51.554733, 155.13557], [95.69072, 626.71136, 1799.6161, 37.875294, 117.63456], [128.13573, 694.4404, 2200.0706, 35.31282, 113.16661], [115.73999, 649.15173, 1381.557, 29.185846, 106.21257], [132.67511, 638.09875, 1506.5328, 31.595715, 90.02608], [140.15654, 648.0216, 1620.7126, 32.83686, 100.44681], [133.61388, 673.5364, 1540.6757, 31.223743, 103.85487], [120.989136, 620.9135, 2077.5657, 36.32834, 108.56132], [132.84982, 589.97534, 1586.4774, 31.332727, 85.892555], [134.00136, 630.5227, 2079.9744, 37.17443, 105.96474], [142.30118, 713.86334, 1812.0747, 34.262226, 93.07108], [131.9562, 618.09344, 1308.4608, 30.623444, 92.09023], [150.78465, 771.7664, 1536.8103, 38.427544, 88.707756], [124.79615, 650.9295, 1969.3282, 37.62735, 109.81103], [117.48657, 528.9835, 1442.0688, 30.423353, 84.737495], [166.30316, 554.52606, 1387.5977, 27.794542, 72.16256], [132.65923, 610.9276, 1272.4724, 30.719393, 83.64812], [170.80846, 651.6129, 1587.1293, 31.822659, 86.05595], [148.26839, 546.7099, 1423.1058, 23.101112, 69.18983], [119.36049, 562.3412, 1525.4735, 33.434387, 90.121826], [126.641014, 579.34705, 1643.3766, 42.385773, 106.71667], [153.49957, 608.18365, 1292.7495, 30.102694, 72.05002], [140.59573, 538.986, 1275.6699, 26.956669, 72.718094], [128.63644, 565.2077, 1283.3916, 31.26406, 80.66515], [142.91138, 589.8891, 1425.4674, 36.772514, 108.61162], [174.99702, 604.99945, 1231.4559, 25.457443, 73.68763], [124.46342, 532.1797, 1284.4299, 37.867233, 90.98839], [156.39485, 572.2624, 1304.4873, 29.487886, 64.113655], [141.00058, 599.98944, 1427.2222, 32.966682, 78.49583], [140.62863, 510.04877, 1460.5568, 28.990866, 70.09744], [122.61561, 541.0749, 1227.1143, 30.144491, 77.38699], [118.877815, 520.6939, 1433.2882, 35.451847, 67.93618], [149.10368, 488.75287, 1207.9657, 27.233482, 74.68739], [114.91516, 574.0989, 1348.9976, 40.59728, 87.81351], [123.55287, 516.64185, 1131.8646, 32.938347, 82.748245], [153.83464, 508.87488, 1146.1227, 26.891317, 54.73151], [140.56522, 608.0974, 1416.4187, 40.215973, 79.94072], [152.53659, 592.6191, 1324.523, 39.891792, 78.46605]]\n"
   ]
  },
  {
   "cell_type": "code",
   "execution_count": null,
   "metadata": {
    "id": "NiRofoIskVXO"
   },
   "outputs": [],
   "source": [
    "# predicts1 = np.asarray(predicts1)"
   ]
  },
  {
   "cell_type": "code",
   "execution_count": null,
   "metadata": {
    "id": "0JXZQDtIkQY6"
   },
   "outputs": [],
   "source": [
    "# import numpy as np\n",
    "# import matplotlib.pyplot as plt\n",
    "\n",
    "# epochs = range(1,61)\n",
    "# fig, ax1 = plt.subplots()\n",
    "\n",
    "# color = 'tab:red'\n",
    "# ax1.set_xlabel('Epochs')\n",
    "# ax1.set_ylabel('Error (cm)', color=color)\n",
    "# ax1.plot(epochs, predicts1[:,0], 'r',)\n",
    "# ax1.plot(epochs, predicts1[:,1], 'b')\n",
    "# ax1.plot(epochs, predicts1[:,2], 'g')\n",
    "# ax1.tick_params(axis='y', labelcolor=color)\n",
    "# # ax1.set_ylim(0, 0.1)\n",
    "\n",
    "# ax2 = ax1.twinx()  # instantiate a second axes that shares the same x-axis\n",
    "\n",
    "# color = 'tab:blue'\n",
    "# ax2.set_ylabel('Error (radians)', color=color)  # we already handled the x-label with ax1\n",
    "# ax2.plot(epochs, predicts1[:,3], 'm')\n",
    "# ax2.plot(epochs, predicts1[:,4], 'c')\n",
    "# ax2.tick_params(axis='y', labelcolor=color)\n",
    "# plt.title('x,y,z,phi,theta,psi error')\n",
    "# fig.tight_layout()  # otherwise the right y-label is slightly clipped\n",
    "# plt.show()"
   ]
  },
  {
   "cell_type": "code",
   "execution_count": null,
   "metadata": {
    "id": "XXW5C3oHjGov"
   },
   "outputs": [],
   "source": [
    "# epochs = range(1,41)\n",
    "# plt.plot(epochs, train_losses, 'g', label='Training loss')\n",
    "# plt.plot(epochs, val_losses, 'b', label='validation loss')\n",
    "# plt.title('Training and Validation loss')\n",
    "# plt.xlabel('Epochs')\n",
    "# plt.ylabel('Loss')\n",
    "# plt.legend()\n",
    "# plt.show()"
   ]
  },
  {
   "cell_type": "code",
   "execution_count": null,
   "metadata": {
    "id": "-hptcLlnf4b3"
   },
   "outputs": [],
   "source": [
    "# metrics = [[27.24967, 313.78604, 103.22942, 0.12602033, 2.4108167], [27.305887, 312.19617, 103.47133, 0.14717528, 2.3978324], [27.524355, 311.05536, 104.642555, 0.15902913, 2.4331577], [27.548677, 325.57285, 106.00729, 0.13429697, 2.4158552], [27.098442, 328.60037, 104.91552, 0.12587117, 2.472294], [27.359726, 334.21838, 104.05903, 0.12709449, 2.4215572], [27.339266, 358.40887, 106.68851, 0.11997138, 2.393511], [27.588818, 383.73975, 107.74374, 0.11348984, 2.3892288], [27.389458, 371.63693, 105.884705, 0.12097337, 2.403273], [27.360971, 342.81848, 106.109245, 0.11562351, 2.3738363], [27.719664, 393.87692, 110.986465, 0.119660616, 2.3882978], [27.633759, 339.6035, 105.70057, 0.113286234, 2.3775778], [28.07819, 360.8138, 112.83532, 0.11849985, 2.3681376], [28.364185, 360.29456, 117.695984, 0.113442786, 2.388075], [29.205482, 357.27008, 125.467896, 0.11830383, 2.386264], [28.379833, 344.7701, 112.977585, 0.10953671, 2.3661098], [28.847458, 355.65115, 118.61085, 0.111811385, 2.4001744], [27.850155, 341.3711, 114.77934, 0.10915208, 2.3725796], [27.88572, 346.0621, 118.30813, 0.110895686, 2.3910563], [27.872988, 349.0645, 115.55186, 0.10912815, 2.3672535], [28.218578, 353.3147, 131.556, 0.11358704, 2.3951552], [28.392235, 339.58942, 121.12667, 0.111038156, 2.3803837], [28.25236, 329.97418, 115.96446, 0.10942464, 2.3864708], [29.406773, 366.15808, 123.42579, 0.11040557, 2.374963], [29.454271, 344.52792, 131.52682, 0.11232563, 2.3724134], [30.187252, 347.98532, 116.14241, 0.10585186, 2.3729453], [29.41112, 349.68896, 114.18263, 0.10918645, 2.3731532], [28.895391, 348.74268, 113.15022, 0.10991674, 2.3822908], [29.371452, 335.8846, 115.51087, 0.11001146, 2.3862026], [31.134686, 344.45355, 119.50881, 0.108406834, 2.375381], [30.70894, 342.97552, 120.56805, 0.11375582, 2.3945308], [29.832468, 343.45724, 109.87155, 0.10899758, 2.3766632], [29.862116, 343.1723, 113.25473, 0.10866166, 2.3900619], [30.768106, 342.69632, 112.46852, 0.10878944, 2.376799], [31.60865, 343.18985, 121.2012, 0.11096387, 2.392029], [31.704603, 339.0673, 129.9622, 0.109866515, 2.3703597], [29.185385, 334.6232, 109.926186, 0.10787476, 2.377635], [30.564453, 349.78403, 112.91635, 0.10928899, 2.3760023], [30.50954, 335.69626, 113.32439, 0.10892574, 2.3779461], [30.807068, 329.50632, 111.41365, 0.108789176, 2.380784]]"
   ]
  },
  {
   "cell_type": "code",
   "execution_count": null,
   "metadata": {
    "id": "6xc1SmLUlbKf"
   },
   "outputs": [],
   "source": [
    "# metrics = np.asarray(metrics)"
   ]
  },
  {
   "cell_type": "code",
   "execution_count": null,
   "metadata": {
    "id": "tORQA6LLlPAX"
   },
   "outputs": [],
   "source": [
    "# import numpy as np\n",
    "# # import matplotlib.pyplot as plt\n",
    "\n",
    "# epochs= range(1, 41)\n",
    "# fig, ax1 = plt.subplots()\n",
    "\n",
    "# color = 'tab:red'\n",
    "# ax1.set_xlabel('Epochs')\n",
    "# ax1.set_ylabel('Error (cm)', color=color)\n",
    "# ax1.plot(epochs, metrics[:,0], 'r',)\n",
    "# ax1.plot(epochs, metrics[:,1], 'b')\n",
    "# ax1.plot(epochs, metrics[:,2], 'g')\n",
    "# ax1.tick_params(axis='y', labelcolor=color)\n",
    "# # ax1.set_ylim(0, 0.1)\n",
    "\n",
    "# ax2 = ax1.twinx()  # instantiate a second axes that shares the same x-axis\n",
    "\n",
    "# color = 'tab:blue'\n",
    "# ax2.set_ylabel('Error (radians)', color=color)  # we already handled the x-label with ax1\n",
    "# ax2.plot(epochs, metrics[:,3], 'm')\n",
    "# ax2.plot(epochs, metrics[:,4], 'c')\n",
    "# # ax2.plot(epochs, metrics[:,5], 'y')\n",
    "# ax2.tick_params(axis='y', labelcolor=color)\n",
    "# plt.title('x,y,z,phi,theta,psi error')\n",
    "# fig.tight_layout()  # otherwise the right y-label is slightly clipped\n",
    "# plt.show()"
   ]
  },
  {
   "cell_type": "code",
   "execution_count": null,
   "metadata": {
    "id": "IFcBZhn0lYxk"
   },
   "outputs": [],
   "source": [
    "train_losses = [147.62297111701966, 142.11665659046173, 140.7949553527832, 139.9485085544586, 139.3855966758728, 139.31585327529908, 137.86963821268083, 136.9168321123123, 135.7450700006485, 134.7957350716591, 135.2834898571968, 134.05085726213454, 133.84948807573318, 133.89030680704116, 133.3152191257477, 132.45637246465682, 132.511481361866, 132.43284297561647, 131.5301462802887, 132.19045862293243, 131.4421183052063, 130.53363194942474, 131.2389379775524, 130.87825703287123, 131.2591183025837, 129.3818973982334, 129.28983395385742, 128.77282309556008, 129.0485188384056, 128.2120710158348, 127.52033139419555, 127.01081252670288, 126.68447557687759, 125.71476386594772, 124.5992201089859, 123.59759567832947, 121.61877287244796, 119.35630302333831, 117.38828977155686, 113.98187613296508, 110.30606894874573, 104.26419211006164, 98.77557315826417, 90.89343525457382, 85.76532816505433, 81.18682950782775, 74.40634348249435, 72.2708604645729, 71.64129077720642, 70.03271188545227]"
   ]
  },
  {
   "cell_type": "code",
   "execution_count": null,
   "metadata": {
    "id": "Zwde5I1GyNlw"
   },
   "outputs": [],
   "source": [
    "val_losses = [121.60975, 159.77019, 117.21384, 167.29567, 126.744995, 116.74057, 122.5248, 137.84163, 129.87349, 121.65796, 121.88031, 129.97655, 133.3842, 130.70885, 128.23595, 126.15164, 112.406166, 126.66022, 117.97303, 115.183136, 118.84568, 117.3397, 131.99776, 109.00144, 116.27615, 118.20466, 114.06542, 123.2902, 123.34739, 112.30243, 108.512024, 109.61291, 115.87092, 114.46051, 118.3704, 120.7605, 120.34845, 115.23882, 99.30023, 114.279884, 116.22095, 113.48696, 120.05386, 117.97277, 122.434074, 113.79349, 132.00745, 114.31791, 130.89198, 113.956]"
   ]
  },
  {
   "cell_type": "code",
   "execution_count": null,
   "metadata": {
    "id": "IpM0DK6ByNlw"
   },
   "outputs": [],
   "source": [
    "predicts = [tensor([[12.4243,  4.1924, -3.2468]], device='cuda:0'), tensor([[17.2921, 16.6060, -5.5945]], device='cuda:0'), tensor([[14.2041, 10.6508, -3.9252]], device='cuda:0'), tensor([[17.3099,  7.0777, -5.9412]], device='cuda:0'), tensor([[12.7640, 11.5770, -4.6366]], device='cuda:0'), tensor([[10.7068, 21.6860, -3.4998]], device='cuda:0'), tensor([[14.3869, 16.6496, -9.6962]], device='cuda:0'), tensor([[12.5143, 23.5773, -7.8336]], device='cuda:0'), tensor([[ 9.9182, 15.6574, -5.3072]], device='cuda:0'), tensor([[14.2923, 15.9595, -4.3174]], device='cuda:0'), tensor([[13.3375, 22.9022, -5.7799]], device='cuda:0'), tensor([[13.8608, 26.1792, -7.9646]], device='cuda:0'), tensor([[10.3659, 13.8988, -8.0274]], device='cuda:0'), tensor([[ 8.7391, 14.1234, -6.6830]], device='cuda:0'), tensor([[ 12.0919,  25.4254, -10.2675]], device='cuda:0'), tensor([[10.6248, 19.3658, -8.2940]], device='cuda:0'), tensor([[ 9.6347, 15.1392, -7.4778]], device='cuda:0'), tensor([[11.5806, 27.1278, -8.3214]], device='cuda:0'), tensor([[ 8.3450, 10.2567, -8.2652]], device='cuda:0'), tensor([[10.1719, 17.2836, -6.5258]], device='cuda:0'), tensor([[ 9.8416,  6.9476, -6.0191]], device='cuda:0'), tensor([[10.0346, 10.0320, -9.2815]], device='cuda:0'), tensor([[ 9.9371,  9.9040, -9.5139]], device='cuda:0'), tensor([[12.3626, 20.2002, -8.8786]], device='cuda:0'), tensor([[10.2714, 13.2724, -9.9613]], device='cuda:0'), tensor([[ 8.8329, 16.0556, -7.4919]], device='cuda:0'), tensor([[  7.7504,  10.0838, -10.4724]], device='cuda:0'), tensor([[ 9.9052,  9.4346, -7.9269]], device='cuda:0'), tensor([[ 9.8538,  9.6552, -9.8357]], device='cuda:0'), tensor([[ 8.8532, 13.8013, -9.1606]], device='cuda:0'), tensor([[ 9.2574,  8.6108, -8.6734]], device='cuda:0'), tensor([[ 7.8542, 11.7152, -8.9485]], device='cuda:0'), tensor([[ 8.4830, 11.0968, -9.5477]], device='cuda:0'), tensor([[ 9.1275,  8.7748, -8.4134]], device='cuda:0'), tensor([[ 9.1101, 12.1016, -9.7416]], device='cuda:0'), tensor([[ 6.8320, 11.7403, -8.2724]], device='cuda:0'), tensor([[10.9824,  7.4462, -9.1253]], device='cuda:0'), tensor([[ 9.2054, 10.1139, -7.9087]], device='cuda:0'), tensor([[ 9.6771, 10.7130, -7.8161]], device='cuda:0'), tensor([[ 8.8883, 11.0110, -6.7770]], device='cuda:0'), tensor([[ 9.1704, 12.9790, -9.1788]], device='cuda:0'), tensor([[ 9.8834, 11.3776, -8.1248]], device='cuda:0'), tensor([[ 9.1051, 15.0809, -6.6077]], device='cuda:0'), tensor([[10.7998, 18.0161, -8.0455]], device='cuda:0'), tensor([[ 10.6741,  20.7115, -10.2494]], device='cuda:0'), tensor([[ 7.8256, 29.9242, -8.1417]], device='cuda:0'), tensor([[ 13.1079,  17.7821, -11.6206]], device='cuda:0'), tensor([[ 7.4144, 20.9795, -9.0862]], device='cuda:0'), tensor([[ 3.5072,  6.5312, -8.2215]], device='cuda:0'), tensor([[  9.7727,  25.7146, -10.8482]], device='cuda:0')]"
   ]
  },
  {
   "cell_type": "code",
   "execution_count": null,
   "metadata": {},
   "outputs": [],
   "source": [
    "metrics = [[95.23959, 243.2931, 26.296528], [202.9514, 237.94978, 38.40939], [142.82907, 188.57896, 20.233484], [231.82904, 244.19691, 25.861086], [139.71126, 218.73436, 21.789352], [172.74608, 154.52013, 22.955505], [187.64487, 141.1019, 38.82765], [177.74368, 194.68988, 41.091297], [153.28413, 200.24475, 36.091614], [144.96458, 202.79222, 17.217072], [151.83623, 179.38394, 34.42078], [158.42578, 172.70976, 58.794056], [170.82927, 173.71637, 55.606926], [154.54941, 194.3888, 43.188328], [132.6332, 210.68703, 41.387634], [160.62846, 173.89673, 43.929726], [125.052536, 165.67424, 46.49172], [139.1845, 189.88387, 50.912296], [129.45999, 181.9981, 42.461025], [130.44873, 179.3234, 35.777294], [131.8129, 185.05998, 39.664177], [124.60311, 189.88611, 37.52987], [137.01804, 222.94978, 36.025414], [136.38847, 144.546, 46.069843], [127.72426, 176.55237, 44.55184], [136.28812, 177.88664, 40.43924], [127.75428, 171.29535, 43.146633], [140.88072, 190.95325, 38.03661], [121.89612, 210.52618, 37.619884], [123.499214, 174.9786, 38.429485], [113.66986, 172.7293, 39.13689], [113.804054, 174.64973, 40.38491], [111.75378, 192.56331, 43.29569], [118.034256, 184.40962, 40.937664], [115.40245, 197.94939, 41.759365], [122.818825, 201.50546, 37.957207], [120.71398, 199.0422, 41.28914], [113.135506, 189.68187, 42.899075], [105.162285, 164.01855, 28.719854], [109.063896, 200.50148, 33.274303], [106.20517, 201.44485, 41.01283], [97.709236, 207.17476, 35.57688], [117.361145, 205.35425, 37.44621], [110.90177, 216.15045, 26.866083], [128.84474, 190.4792, 47.978283], [100.1697, 198.4518, 42.75898], [135.72609, 203.27225, 57.024002], [135.07199, 167.80537, 40.076366], [106.52178, 243.74228, 42.4119], [139.70665, 155.8414, 46.319977]]"
   ]
  }
 ],
 "metadata": {
  "accelerator": "GPU",
  "colab": {
   "collapsed_sections": [],
   "name": "biocluster-theta.ipynb",
   "provenance": []
  },
  "kernelspec": {
   "display_name": "Python 3",
   "language": "python",
   "name": "python3"
  },
  "language_info": {
   "codemirror_mode": {
    "name": "ipython",
    "version": 3
   },
   "file_extension": ".py",
   "mimetype": "text/x-python",
   "name": "python",
   "nbconvert_exporter": "python",
   "pygments_lexer": "ipython3",
   "version": "3.7.2"
  }
 },
 "nbformat": 4,
 "nbformat_minor": 4
}
