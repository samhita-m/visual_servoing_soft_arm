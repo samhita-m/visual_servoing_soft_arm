{
  "nbformat": 4,
  "nbformat_minor": 0,
  "metadata": {
    "colab": {
      "name": "Superimposition.ipynb",
      "provenance": []
    },
    "kernelspec": {
      "name": "python3",
      "display_name": "Python 3"
    },
    "language_info": {
      "name": "python"
    }
  },
  "cells": [
    {
      "cell_type": "code",
      "metadata": {
        "colab": {
          "base_uri": "https://localhost:8080/"
        },
        "id": "DvZ-oVzVTN3z",
        "outputId": "0ae03a9c-8f2a-4efe-8134-e05a53073daf"
      },
      "source": [
        "from google.colab import drive\n",
        "drive.mount('/content/drive')"
      ],
      "execution_count": null,
      "outputs": [
        {
          "output_type": "stream",
          "text": [
            "Mounted at /content/drive\n"
          ],
          "name": "stdout"
        }
      ]
    },
    {
      "cell_type": "code",
      "metadata": {
        "colab": {
          "base_uri": "https://localhost:8080/"
        },
        "id": "O10NprvYTWQ0",
        "outputId": "e641d856-30f5-4cc4-ef7e-76d0082d5afa"
      },
      "source": [
        "import os\n",
        "os.chdir('/content/drive/My Drive')\n",
        "!pwd"
      ],
      "execution_count": null,
      "outputs": [
        {
          "output_type": "stream",
          "text": [
            "/content/drive/My Drive\n"
          ],
          "name": "stdout"
        }
      ]
    },
    {
      "cell_type": "code",
      "metadata": {
        "id": "NO2EG4jWTNMi"
      },
      "source": [
        "from PIL import Image\n",
        "\n",
        "\n",
        "background = Image.open(\"img286.jpg\")\n",
        "overlay = Image.open(\"test36.jpg\")\n",
        "\n",
        "background = background.convert(\"RGBA\")\n",
        "overlay = overlay.convert(\"RGBA\")\n",
        "\n",
        "new_img = Image.blend(background, overlay, 0.5)\n",
        "new_img.save(\"new3.png\",\"PNG\")"
      ],
      "execution_count": null,
      "outputs": []
    }
  ]
}