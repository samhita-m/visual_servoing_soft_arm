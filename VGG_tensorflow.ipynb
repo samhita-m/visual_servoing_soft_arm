{
  "nbformat": 4,
  "nbformat_minor": 0,
  "metadata": {
    "colab": {
      "name": "VGG_tensorflow.ipynb",
      "provenance": [],
      "collapsed_sections": []
    },
    "kernelspec": {
      "name": "python3",
      "display_name": "Python 3"
    },
    "accelerator": "GPU"
  },
  "cells": [
    {
      "cell_type": "code",
      "metadata": {
        "colab": {
          "base_uri": "https://localhost:8080/"
        },
        "id": "b5mcsngV9IjX",
        "outputId": "77058789-6318-41f8-c382-9dbec4fc63e7"
      },
      "source": [
        "from google.colab import drive\n",
        "drive.mount('/content/drive')"
      ],
      "execution_count": null,
      "outputs": [
        {
          "output_type": "stream",
          "text": [
            "Mounted at /content/drive\n"
          ],
          "name": "stdout"
        }
      ]
    },
    {
      "cell_type": "code",
      "metadata": {
        "colab": {
          "base_uri": "https://localhost:8080/"
        },
        "id": "aClCGALS9N6c",
        "outputId": "b58fcc92-c654-47b4-8ae9-b6d8ffa63d89"
      },
      "source": [
        "import os\n",
        "os.chdir('/content/drive/My Drive')\n",
        "!pwd"
      ],
      "execution_count": null,
      "outputs": [
        {
          "output_type": "stream",
          "text": [
            "/content/drive/My Drive\n"
          ],
          "name": "stdout"
        }
      ]
    },
    {
      "cell_type": "code",
      "metadata": {
        "colab": {
          "base_uri": "https://localhost:8080/"
        },
        "id": "k_YleJ_xiBkd",
        "outputId": "5a18102b-0ce0-4649-9ad8-a0871de00596"
      },
      "source": [
        "%tensorflow_version"
      ],
      "execution_count": null,
      "outputs": [
        {
          "output_type": "stream",
          "text": [
            "Currently selected TF version: 2.x\n",
            "Available versions:\n",
            "* 1.x\n",
            "* 2.x\n"
          ],
          "name": "stdout"
        }
      ]
    },
    {
      "cell_type": "code",
      "metadata": {
        "id": "WUAVH2STVC_U"
      },
      "source": [
        "import pandas as pd\n",
        "import numpy as np\n",
        "from skimage.io import imread\n",
        "from sklearn.model_selection import train_test_split\n",
        "from matplotlib import pyplot as plt\n",
        "# %matplotlib inline\n",
        "\n",
        "import keras\n",
        "from keras import optimizers\n",
        "from keras.utils import to_categorical\n",
        "from keras.layers import Input, Dense, Flatten, Dropout, Conv2D, MaxPooling2D, Activation, concatenate\n",
        "from keras.layers.advanced_activations import ReLU\n",
        "from keras.models import Model\n",
        "from keras.optimizers import Adam, SGD\n",
        "from keras.callbacks import ModelCheckpoint"
      ],
      "execution_count": null,
      "outputs": []
    },
    {
      "cell_type": "code",
      "metadata": {
        "id": "8TAoFO4R-jOC"
      },
      "source": [
        "def load_dataset():\n",
        "  train_data = pd.read_csv('trainset.csv')\n",
        "  y_train = pd.read_csv('data1.csv')\n",
        "  target_data = pd.read_csv('target_data.csv')\n",
        "  # target_label = pd.read_csv('target_label.csv')\n",
        "  return train_data, y_train, target_data"
      ],
      "execution_count": null,
      "outputs": []
    },
    {
      "cell_type": "code",
      "metadata": {
        "id": "XJwQAkT2-zkv"
      },
      "source": [
        "# train_data.head()\n",
        "# y_train.head()"
      ],
      "execution_count": null,
      "outputs": []
    },
    {
      "cell_type": "code",
      "metadata": {
        "id": "Wy57sGOsBdNh"
      },
      "source": [
        "train_data, y_train, target_data = load_dataset()"
      ],
      "execution_count": null,
      "outputs": []
    },
    {
      "cell_type": "code",
      "metadata": {
        "id": "mmppeSVB_BRm"
      },
      "source": [
        "# train_data.shape\n",
        "# target_data.shape"
      ],
      "execution_count": null,
      "outputs": []
    },
    {
      "cell_type": "code",
      "metadata": {
        "id": "KfuJXir7E1-k"
      },
      "source": [
        "num_classes = 7\n",
        "train_data = np.array(train_data.iloc[:,:])\n",
        "train_data = np.array([np.reshape(i,(128,128)) for i in train_data])\n",
        "target_data = np.array(target_data.iloc[:,:])\n",
        "target_data = np.array([np.reshape(i,(128,128)) for i in target_data])"
      ],
      "execution_count": null,
      "outputs": []
    },
    {
      "cell_type": "code",
      "metadata": {
        "colab": {
          "base_uri": "https://localhost:8080/"
        },
        "id": "w02tvuvtE5k_",
        "outputId": "d8e3d227-f45d-4ad9-a6c3-64e0c59209a3"
      },
      "source": [
        "train_data.shape\n",
        "target_data.shape"
      ],
      "execution_count": null,
      "outputs": [
        {
          "output_type": "execute_result",
          "data": {
            "text/plain": [
              "(333, 128, 128)"
            ]
          },
          "metadata": {
            "tags": []
          },
          "execution_count": 8
        }
      ]
    },
    {
      "cell_type": "code",
      "metadata": {
        "colab": {
          "base_uri": "https://localhost:8080/"
        },
        "id": "QaXR-fhI1TMc",
        "outputId": "913802c3-9740-4095-cfd6-cd19ae6482d6"
      },
      "source": [
        "train_data = train_data.astype('float32')\n",
        "train_data = train_data/255\n",
        "\n",
        "rgb_batch = np.repeat(train_data[..., np.newaxis], 3, -1)\n",
        "rgb_batch.shape\n",
        "\n",
        "target_data = target_data.astype('float32')\n",
        "target_data = target_data/255\n",
        "\n",
        "rgb_target = np.repeat(target_data[..., np.newaxis], 3, -1)\n",
        "rgb_target.shape"
      ],
      "execution_count": null,
      "outputs": [
        {
          "output_type": "execute_result",
          "data": {
            "text/plain": [
              "(333, 128, 128, 3)"
            ]
          },
          "metadata": {
            "tags": []
          },
          "execution_count": 9
        }
      ]
    },
    {
      "cell_type": "code",
      "metadata": {
        "id": "F8QTLdM0QeBr"
      },
      "source": [
        "target_data = rgb_target"
      ],
      "execution_count": null,
      "outputs": []
    },
    {
      "cell_type": "code",
      "metadata": {
        "colab": {
          "base_uri": "https://localhost:8080/"
        },
        "id": "lWPUCq7qhC3N",
        "outputId": "fbac5481-b4a4-4615-e5fb-38f5dcead4e6"
      },
      "source": [
        "target_data.shape"
      ],
      "execution_count": null,
      "outputs": [
        {
          "output_type": "execute_result",
          "data": {
            "text/plain": [
              "(333, 128, 128, 3)"
            ]
          },
          "metadata": {
            "tags": []
          },
          "execution_count": 11
        }
      ]
    },
    {
      "cell_type": "code",
      "metadata": {
        "id": "l3J9DPmoEonU"
      },
      "source": [
        "x_train, x_test, y_train, y_test = train_test_split(rgb_batch, y_train, test_size = 0.3, random_state=666)\n",
        "target_xtrain, target_xtest = train_test_split(target_data, test_size = 0.3, random_state=666)"
      ],
      "execution_count": null,
      "outputs": []
    },
    {
      "cell_type": "code",
      "metadata": {
        "id": "mEYix5VfIEhe"
      },
      "source": [
        "input_shape = (128, 128, 3)"
      ],
      "execution_count": null,
      "outputs": []
    },
    {
      "cell_type": "code",
      "metadata": {
        "id": "TlmvUKDGMzlZ"
      },
      "source": [
        "def VGG_16(input_image):\n",
        "    model = Conv2D(64, (3,3), padding=\"same\", input_shape = input_shape)(input_image)\n",
        "    model = ReLU(max_value=1.0)(model)\n",
        "    # model = Conv2D(64, (3,3), padding=\"same\")(model)\n",
        "    # model = ReLU(max_value=1.0)(model)\n",
        "    model = MaxPooling2D(pool_size=(2,2), padding=\"same\")(model)\n",
        "    # model = Dropout(0.25)(model)\n",
        "\n",
        "    model = Conv2D(128, (3,3), padding=\"same\")(model)\n",
        "    model = ReLU(max_value=1.0)(model)\n",
        "    model = Conv2D(128, (3,3), padding=\"same\")(model)\n",
        "    model = ReLU(max_value=1.0)(model)\n",
        "    model = MaxPooling2D(pool_size=(2,2), padding=\"same\")(model)\n",
        "    model = Dropout(0.25)(model)\n",
        "\n",
        "    # model = Conv2D(256, (3,3), padding=\"same\")(model)\n",
        "    # model = ReLU(max_value=1.0)(model)\n",
        "    model = Conv2D(256, (3,3), padding=\"same\")(model)\n",
        "    model = ReLU(max_value=1.0)(model)\n",
        "    model = MaxPooling2D(pool_size=(2,2), padding=\"same\")(model)\n",
        "    model = Dropout(0.25)(model)\n",
        "\n",
        "\n",
        "    return model"
      ],
      "execution_count": null,
      "outputs": []
    },
    {
      "cell_type": "code",
      "metadata": {
        "id": "gyD2K2hs47BT"
      },
      "source": [
        "current_input = Input(shape=input_shape)\n",
        "current_model = VGG_16(current_input)\n",
        "\n",
        "target_input = Input(shape=input_shape)\n",
        "target_model = VGG_16(target_input)"
      ],
      "execution_count": null,
      "outputs": []
    },
    {
      "cell_type": "code",
      "metadata": {
        "id": "oGY8OydFTU8E"
      },
      "source": [
        "conv = concatenate([current_model, target_model])"
      ],
      "execution_count": null,
      "outputs": []
    },
    {
      "cell_type": "code",
      "metadata": {
        "id": "IjgFVGD1Ta_N"
      },
      "source": [
        "conv = Flatten()(conv)\n",
        "dense = Dense(512)(conv)\n",
        "dense = ReLU(max_value=1.0)(dense)\n",
        "dense = Dropout(0.25)(dense)\n",
        "# dense = Dense(512)(dense)\n",
        "# dense = ReLU(max_value=1.0)(dense)\n",
        "# dense = Dropout(0.5)(dense)\n",
        "\n",
        "output = Dense(num_classes, activation='tanh')(dense)\n",
        "\n",
        "model = Model(inputs=[current_input, target_input], outputs=[output])\n",
        "\n",
        "opt = SGD(learning_rate=0.01)\n",
        "\n",
        "model.compile(loss='mean_squared_error', optimizer=opt, metrics=['accuracy'])\n"
      ],
      "execution_count": null,
      "outputs": []
    },
    {
      "cell_type": "code",
      "metadata": {
        "id": "7rHsTXpiU4Zw"
      },
      "source": [
        "best_weights_file=\"weights.best.hdf5\"\n",
        "checkpoint = ModelCheckpoint(best_weights_file, monitor='val_accuracy', verbose=1, save_best_only=True, mode='max')\n",
        "callbacks = [checkpoint]"
      ],
      "execution_count": null,
      "outputs": []
    },
    {
      "cell_type": "code",
      "metadata": {
        "colab": {
          "base_uri": "https://localhost:8080/"
        },
        "id": "6LLcG_DpWKp7",
        "outputId": "7e44b970-d3b0-4f0d-e454-c042451d57df"
      },
      "source": [
        "model.fit([x_train, target_xtrain], y_train,\n",
        "          epochs=15,\n",
        "          validation_data=([x_test, target_xtest], y_test),\n",
        "          callbacks=callbacks,\n",
        "          verbose=1)"
      ],
      "execution_count": null,
      "outputs": [
        {
          "output_type": "stream",
          "text": [
            "Epoch 1/15\n",
            "8/8 [==============================] - 34s 278ms/step - loss: 15.7407 - accuracy: 0.5451 - val_loss: 14.6341 - val_accuracy: 0.6700\n",
            "\n",
            "Epoch 00001: val_accuracy improved from -inf to 0.67000, saving model to weights.best.hdf5\n",
            "Epoch 2/15\n",
            "8/8 [==============================] - 1s 88ms/step - loss: 15.5502 - accuracy: 0.7637 - val_loss: 14.6409 - val_accuracy: 0.6700\n",
            "\n",
            "Epoch 00002: val_accuracy did not improve from 0.67000\n",
            "Epoch 3/15\n",
            "8/8 [==============================] - 1s 86ms/step - loss: 15.6285 - accuracy: 0.7597 - val_loss: 14.7400 - val_accuracy: 0.6700\n",
            "\n",
            "Epoch 00003: val_accuracy did not improve from 0.67000\n",
            "Epoch 4/15\n",
            "8/8 [==============================] - 1s 86ms/step - loss: 15.9161 - accuracy: 0.7685 - val_loss: 14.6840 - val_accuracy: 0.6700\n",
            "\n",
            "Epoch 00004: val_accuracy did not improve from 0.67000\n",
            "Epoch 5/15\n",
            "8/8 [==============================] - 1s 88ms/step - loss: 15.6059 - accuracy: 0.7276 - val_loss: 14.6867 - val_accuracy: 0.6700\n",
            "\n",
            "Epoch 00005: val_accuracy did not improve from 0.67000\n",
            "Epoch 6/15\n",
            "8/8 [==============================] - 1s 87ms/step - loss: 15.5485 - accuracy: 0.7656 - val_loss: 14.6711 - val_accuracy: 0.6700\n",
            "\n",
            "Epoch 00006: val_accuracy did not improve from 0.67000\n",
            "Epoch 7/15\n",
            "8/8 [==============================] - 1s 88ms/step - loss: 15.5667 - accuracy: 0.7744 - val_loss: 14.6754 - val_accuracy: 0.6700\n",
            "\n",
            "Epoch 00007: val_accuracy did not improve from 0.67000\n",
            "Epoch 8/15\n",
            "8/8 [==============================] - 1s 88ms/step - loss: 16.4981 - accuracy: 0.7693 - val_loss: 14.6675 - val_accuracy: 0.6700\n",
            "\n",
            "Epoch 00008: val_accuracy did not improve from 0.67000\n",
            "Epoch 9/15\n",
            "8/8 [==============================] - 1s 87ms/step - loss: 15.6520 - accuracy: 0.7615 - val_loss: 14.6654 - val_accuracy: 0.6700\n",
            "\n",
            "Epoch 00009: val_accuracy did not improve from 0.67000\n",
            "Epoch 10/15\n",
            "8/8 [==============================] - 1s 88ms/step - loss: 14.2382 - accuracy: 0.7510 - val_loss: 14.6629 - val_accuracy: 0.6700\n",
            "\n",
            "Epoch 00010: val_accuracy did not improve from 0.67000\n",
            "Epoch 11/15\n",
            "8/8 [==============================] - 1s 87ms/step - loss: 15.7798 - accuracy: 0.7426 - val_loss: 14.6574 - val_accuracy: 0.6700\n",
            "\n",
            "Epoch 00011: val_accuracy did not improve from 0.67000\n",
            "Epoch 12/15\n",
            "8/8 [==============================] - 1s 88ms/step - loss: 15.6719 - accuracy: 0.7478 - val_loss: 14.6505 - val_accuracy: 0.6700\n",
            "\n",
            "Epoch 00012: val_accuracy did not improve from 0.67000\n",
            "Epoch 13/15\n",
            "8/8 [==============================] - 1s 86ms/step - loss: 15.5930 - accuracy: 0.7521 - val_loss: 14.6036 - val_accuracy: 0.6700\n",
            "\n",
            "Epoch 00013: val_accuracy did not improve from 0.67000\n",
            "Epoch 14/15\n",
            "8/8 [==============================] - 1s 91ms/step - loss: 15.3453 - accuracy: 0.7566 - val_loss: 14.5149 - val_accuracy: 0.6700\n",
            "\n",
            "Epoch 00014: val_accuracy did not improve from 0.67000\n",
            "Epoch 15/15\n",
            "8/8 [==============================] - 1s 93ms/step - loss: 15.1627 - accuracy: 0.7762 - val_loss: 14.4594 - val_accuracy: 0.6700\n",
            "\n",
            "Epoch 00015: val_accuracy did not improve from 0.67000\n"
          ],
          "name": "stdout"
        },
        {
          "output_type": "execute_result",
          "data": {
            "text/plain": [
              "<tensorflow.python.keras.callbacks.History at 0x7f05720582d0>"
            ]
          },
          "metadata": {
            "tags": []
          },
          "execution_count": 20
        }
      ]
    },
    {
      "cell_type": "code",
      "metadata": {
        "id": "Vc_R1cBMXEOM",
        "colab": {
          "base_uri": "https://localhost:8080/"
        },
        "outputId": "4be30580-c63d-4c3e-a5dc-7c66c5bc0b12"
      },
      "source": [
        "model.evaluate([x_test, target_xtest], y_test)"
      ],
      "execution_count": null,
      "outputs": [
        {
          "output_type": "stream",
          "text": [
            "4/4 [==============================] - 0s 20ms/step - loss: 14.4594 - accuracy: 0.6700\n"
          ],
          "name": "stdout"
        },
        {
          "output_type": "execute_result",
          "data": {
            "text/plain": [
              "[14.459378242492676, 0.6700000166893005]"
            ]
          },
          "metadata": {
            "tags": []
          },
          "execution_count": 21
        }
      ]
    },
    {
      "cell_type": "code",
      "metadata": {
        "id": "t-Pp8UsinhpG"
      },
      "source": [
        "prediction = model.predict([x_test, target_xtest])\n",
        "# prediction = np.argmax(prediction[10])"
      ],
      "execution_count": null,
      "outputs": []
    },
    {
      "cell_type": "code",
      "metadata": {
        "id": "-Ai-hdEUrMcK",
        "colab": {
          "base_uri": "https://localhost:8080/"
        },
        "outputId": "40c9a692-4de8-4041-cd47-01005d1f3a8f"
      },
      "source": [
        "print(prediction)"
      ],
      "execution_count": null,
      "outputs": [
        {
          "output_type": "stream",
          "text": [
            "[[ 9.84908283e-01 -4.08849008e-02 -9.89484072e-01  4.66970265e-01\n",
            "   1.05800189e-01  1.67856604e-01  9.16396379e-02]\n",
            " [ 9.92205203e-01 -3.88330609e-01 -9.94253993e-01  5.42590857e-01\n",
            "   9.44996998e-02  8.35585743e-02  7.60527775e-02]\n",
            " [ 9.68952954e-01  3.84597719e-01 -9.78712320e-01  3.84883404e-01\n",
            "   1.21202044e-01  2.32258514e-01  8.74703676e-02]\n",
            " [ 9.77179229e-01  1.54018015e-01 -9.84513581e-01  4.28686947e-01\n",
            "   9.89760906e-02  1.86423048e-01  8.03595334e-02]\n",
            " [ 9.90933299e-01 -2.96536952e-01 -9.93307531e-01  5.22805274e-01\n",
            "   9.88750011e-02  9.49409306e-02  8.57084095e-02]\n",
            " [ 9.81587172e-01  1.08045988e-01 -9.87598240e-01  4.40004706e-01\n",
            "   1.23697571e-01  1.64365754e-01  9.32225659e-02]\n",
            " [ 9.92372394e-01 -4.55821633e-01 -9.94494438e-01  5.53294897e-01\n",
            "   7.91994408e-02  7.71674886e-02  6.76269680e-02]\n",
            " [ 9.69987392e-01  3.31764460e-01 -9.79657292e-01  3.81705582e-01\n",
            "   1.05609372e-01  2.08229974e-01  8.65168571e-02]\n",
            " [ 9.93171275e-01 -4.87989038e-01 -9.94942665e-01  5.60449600e-01\n",
            "   8.46852735e-02  6.91990256e-02  6.50494695e-02]\n",
            " [ 9.65616286e-01  4.63090748e-01 -9.75701690e-01  3.62758666e-01\n",
            "   1.37262359e-01  2.32855394e-01  8.17954689e-02]\n",
            " [ 9.88991022e-01 -1.36110350e-01 -9.91757035e-01  4.99438137e-01\n",
            "   1.04909785e-01  1.77448258e-01  9.24889520e-02]\n",
            " [ 9.84989226e-01 -2.56324257e-03 -9.89485800e-01  4.65862840e-01\n",
            "   1.11034669e-01  1.59515038e-01  9.64336917e-02]\n",
            " [ 9.94523466e-01 -5.27199447e-01 -9.95734870e-01  5.76455235e-01\n",
            "   1.06312789e-01  1.58960074e-02  5.94017357e-02]\n",
            " [ 9.88079906e-01 -1.89038128e-01 -9.91785109e-01  4.95413005e-01\n",
            "   1.04104854e-01  1.14321686e-01  7.92197958e-02]\n",
            " [ 9.81987417e-01  1.51378527e-01 -9.87471044e-01  4.42276359e-01\n",
            "   1.24062397e-01  1.77990422e-01  1.02806948e-01]\n",
            " [ 9.90097344e-01 -2.42108092e-01 -9.92793977e-01  5.15720487e-01\n",
            "   1.02431320e-01  9.95452702e-02  8.26760828e-02]\n",
            " [ 9.75966096e-01  3.39434773e-01 -9.83302951e-01  4.12157714e-01\n",
            "   1.31788313e-01  2.07255140e-01  7.42623881e-02]\n",
            " [ 9.63021159e-01  4.36157018e-01 -9.75173593e-01  3.62626076e-01\n",
            "   1.25214070e-01  2.48499289e-01  7.89380670e-02]\n",
            " [ 9.59676325e-01  4.68963861e-01 -9.72596169e-01  3.53541881e-01\n",
            "   1.20438404e-01  2.43353993e-01  7.78548419e-02]\n",
            " [ 9.79313076e-01  1.23641789e-01 -9.86702263e-01  4.33161110e-01\n",
            "   1.21865019e-01  2.03818560e-01  1.15174077e-01]\n",
            " [ 9.83433068e-01  6.28922358e-02 -9.88400638e-01  4.58877355e-01\n",
            "   1.06498621e-01  1.62667394e-01  9.52133313e-02]\n",
            " [ 9.72725987e-01  2.54835010e-01 -9.81127322e-01  4.09003705e-01\n",
            "   1.05103575e-01  2.21248910e-01  1.01000555e-01]\n",
            " [ 9.83727634e-01  6.79577589e-02 -9.88368630e-01  4.49938178e-01\n",
            "   1.13493748e-01  1.85104117e-01  9.23772305e-02]\n",
            " [ 9.89920735e-01 -1.29562989e-01 -9.92628336e-01  5.23387492e-01\n",
            "   1.21590070e-01  7.23356605e-02  1.00031786e-01]\n",
            " [ 9.78194535e-01  5.62710166e-02 -9.85602140e-01  4.32622612e-01\n",
            "   1.32433325e-01  2.35761493e-01  9.89309922e-02]\n",
            " [ 9.93305385e-01 -4.49532777e-01 -9.94907022e-01  5.58176696e-01\n",
            "   1.04933202e-01  8.06107968e-02  7.51847997e-02]\n",
            " [ 9.64619160e-01  4.01834458e-01 -9.75762308e-01  3.78435045e-01\n",
            "   1.16233103e-01  2.27297664e-01  8.69433358e-02]\n",
            " [ 9.93470192e-01 -4.51829761e-01 -9.95005667e-01  5.61902106e-01\n",
            "   9.76350605e-02  4.29247953e-02  6.64042011e-02]\n",
            " [ 9.94385183e-01 -5.44155002e-01 -9.95709479e-01  5.72896838e-01\n",
            "   9.71590132e-02  5.40695488e-02  6.65875375e-02]\n",
            " [ 9.79100764e-01  2.02933118e-01 -9.85600412e-01  4.35753971e-01\n",
            "   1.24830306e-01  1.87450767e-01  9.35097337e-02]\n",
            " [ 9.92755592e-01 -4.31673229e-01 -9.94524002e-01  5.52015126e-01\n",
            "   9.16439295e-02  7.32265115e-02  7.38778114e-02]\n",
            " [ 9.81403351e-01  1.69846058e-01 -9.86889899e-01  4.38205481e-01\n",
            "   1.14447720e-01  1.66961983e-01  8.92966762e-02]\n",
            " [ 9.90585327e-01 -3.46925050e-01 -9.93314981e-01  5.27077854e-01\n",
            "   7.30308667e-02  9.54897702e-02  8.00973251e-02]\n",
            " [ 9.82714832e-01  1.78872243e-01 -9.88131583e-01  4.45626795e-01\n",
            "   1.16087899e-01  1.37954414e-01  9.39269662e-02]\n",
            " [ 9.93003845e-01 -4.76897657e-01 -9.94785249e-01  5.54181576e-01\n",
            "   8.31774026e-02  6.64658695e-02  7.02985600e-02]\n",
            " [ 9.91492569e-01 -3.24340343e-01 -9.93689954e-01  5.32424152e-01\n",
            "   1.00566149e-01  8.62925798e-02  8.02276656e-02]\n",
            " [ 9.90927279e-01 -4.28741783e-01 -9.93438721e-01  5.25268137e-01\n",
            "   8.67135748e-02  1.16934232e-01  6.39068335e-02]\n",
            " [ 9.85144198e-01  3.31004150e-04 -9.89771664e-01  4.72207397e-01\n",
            "   1.15512520e-01  1.57137886e-01  8.96966681e-02]\n",
            " [ 9.78196800e-01  2.69338787e-01 -9.85330760e-01  4.27450508e-01\n",
            "   1.18931726e-01  1.85245782e-01  9.70913321e-02]\n",
            " [ 9.91976202e-01 -3.89828742e-01 -9.94032323e-01  5.42003989e-01\n",
            "   9.11741853e-02  8.25294182e-02  7.77513906e-02]\n",
            " [ 9.90129173e-01 -2.17797369e-01 -9.92735803e-01  5.12213409e-01\n",
            "   1.07777655e-01  1.28384024e-01  9.18597206e-02]\n",
            " [ 9.95529473e-01 -6.36189759e-01 -9.96482193e-01  5.95843732e-01\n",
            "   9.52343345e-02  1.94725320e-02  5.79266623e-02]\n",
            " [ 9.95911121e-01 -6.80492699e-01 -9.96843994e-01  6.06647253e-01\n",
            "   9.17231441e-02  2.98643615e-02  4.95790690e-02]\n",
            " [ 9.69470739e-01  3.90802890e-01 -9.79368031e-01  3.89838070e-01\n",
            "   1.32226214e-01  2.29413927e-01  9.06342193e-02]\n",
            " [ 9.93851364e-01 -4.96831417e-01 -9.95278835e-01  5.64278007e-01\n",
            "   9.80166942e-02  5.55105098e-02  7.00307563e-02]\n",
            " [ 9.85482097e-01 -1.47799458e-02 -9.89759743e-01  4.61803913e-01\n",
            "   1.19600654e-01  1.58337712e-01  9.50398073e-02]\n",
            " [ 9.90278721e-01 -2.51543522e-01 -9.92876828e-01  5.17463148e-01\n",
            "   1.02584034e-01  1.10539414e-01  8.54281709e-02]\n",
            " [ 9.59886014e-01  4.51200128e-01 -9.73101497e-01  3.57738703e-01\n",
            "   1.19078182e-01  2.57836312e-01  8.27795491e-02]\n",
            " [ 9.91886020e-01 -3.59550625e-01 -9.93954957e-01  5.37558615e-01\n",
            "   9.74522159e-02  8.12644586e-02  7.87358209e-02]\n",
            " [ 9.89049613e-01 -1.86594263e-01 -9.91896391e-01  5.02328396e-01\n",
            "   1.17738098e-01  1.46742597e-01  9.79258791e-02]\n",
            " [ 9.95381773e-01 -6.43589616e-01 -9.96454895e-01  5.99567413e-01\n",
            "   9.37827379e-02  1.14209428e-02  5.47193512e-02]\n",
            " [ 9.87310290e-01 -2.00692773e-01 -9.91444290e-01  4.90202427e-01\n",
            "   9.50997397e-02  1.14943035e-01  6.71980157e-02]\n",
            " [ 9.94367003e-01 -5.37492454e-01 -9.95583117e-01  5.71620882e-01\n",
            "   9.92158502e-02  6.81011900e-02  7.74525627e-02]\n",
            " [ 9.92817938e-01 -4.29139465e-01 -9.94706571e-01  5.55640161e-01\n",
            "   1.02598086e-01  7.91226327e-02  8.34717676e-02]\n",
            " [ 9.86430287e-01 -3.77187729e-02 -9.90378559e-01  4.79617327e-01\n",
            "   1.09835386e-01  1.45105079e-01  9.47582051e-02]\n",
            " [ 9.89621043e-01 -2.20078796e-01 -9.92468476e-01  5.09840190e-01\n",
            "   1.02073207e-01  1.13168605e-01  8.64016414e-02]\n",
            " [ 9.93870854e-01 -5.02793729e-01 -9.95286226e-01  5.65097213e-01\n",
            "   9.47587788e-02  5.45414314e-02  7.14273155e-02]\n",
            " [ 9.83812153e-01 -1.07120633e-01 -9.88884270e-01  4.64825183e-01\n",
            "   9.36284661e-02  1.70787096e-01  7.93647766e-02]\n",
            " [ 9.79854882e-01  1.23477489e-01 -9.86522436e-01  4.42945987e-01\n",
            "   1.15585148e-01  2.03846171e-01  1.31650999e-01]\n",
            " [ 9.89992261e-01 -2.37523735e-01 -9.92725074e-01  5.13768971e-01\n",
            "   1.02004185e-01  1.00388050e-01  8.22328329e-02]\n",
            " [ 9.94242013e-01 -4.46458519e-01 -9.95389223e-01  5.67268550e-01\n",
            "   1.10026866e-01  7.47619793e-02  7.80710131e-02]\n",
            " [ 9.81966972e-01  1.32149354e-01 -9.87401187e-01  4.51451004e-01\n",
            "   1.16044417e-01  1.70534670e-01  9.19979662e-02]\n",
            " [ 9.87502694e-01 -1.00927636e-01 -9.91097093e-01  4.87413347e-01\n",
            "   1.07318826e-01  1.34821892e-01  9.06595066e-02]\n",
            " [ 9.94020760e-01 -5.30220151e-01 -9.95608926e-01  5.77179134e-01\n",
            "   9.25581381e-02 -7.65189761e-03  6.24599196e-02]\n",
            " [ 9.89068925e-01 -1.76153868e-01 -9.92099404e-01  5.02261996e-01\n",
            "   1.07178077e-01  1.22368343e-01  8.98821577e-02]\n",
            " [ 9.94373739e-01 -5.77470839e-01 -9.95691717e-01  5.70863903e-01\n",
            "   8.92652422e-02  7.21981078e-02  6.15584925e-02]\n",
            " [ 9.91807342e-01 -4.10841018e-01 -9.93971348e-01  5.28822184e-01\n",
            "   9.58586857e-02  1.31426468e-01  6.84843585e-02]\n",
            " [ 9.77239907e-01  2.36419678e-01 -9.83581424e-01  4.22171652e-01\n",
            "   1.22529186e-01  2.39986345e-01  9.64531526e-02]\n",
            " [ 9.92645979e-01 -4.45808232e-01 -9.94490623e-01  5.50670028e-01\n",
            "   8.74158517e-02  8.19282979e-02  7.32306316e-02]\n",
            " [ 9.82928336e-01  5.48309973e-03 -9.88277793e-01  4.53777283e-01\n",
            "   1.07972436e-01  1.47923157e-01  8.45362023e-02]\n",
            " [ 9.73520935e-01  3.04344565e-01 -9.81347263e-01  3.92392367e-01\n",
            "   1.22093424e-01  2.31913075e-01  9.80165452e-02]\n",
            " [ 9.84411001e-01  1.48970094e-02 -9.89090383e-01  4.60378170e-01\n",
            "   1.15759969e-01  1.67407066e-01  9.64938328e-02]\n",
            " [ 9.90659773e-01 -2.94237286e-01 -9.93221641e-01  5.21508694e-01\n",
            "   1.33734941e-01  1.51514590e-01  8.57995227e-02]\n",
            " [ 9.88933682e-01 -1.73322901e-01 -9.92083788e-01  5.04624248e-01\n",
            "   1.08303174e-01  1.23307504e-01  8.61403570e-02]\n",
            " [ 9.93725538e-01 -5.31245053e-01 -9.95274901e-01  5.71339369e-01\n",
            "   8.12614635e-02  5.56002483e-02  6.15884811e-02]\n",
            " [ 9.84285712e-01 -2.76676100e-03 -9.89091277e-01  4.49671507e-01\n",
            "   1.14012927e-01  1.80980757e-01  9.80058834e-02]\n",
            " [ 9.88185525e-01 -1.36805117e-01 -9.91591573e-01  4.94194061e-01\n",
            "   1.04928158e-01  1.23137064e-01  8.77196789e-02]\n",
            " [ 9.88694072e-01 -2.20268771e-01 -9.92049456e-01  4.97633129e-01\n",
            "   9.56540257e-02  1.61273658e-01  9.68571231e-02]\n",
            " [ 9.91677999e-01 -4.28700715e-01 -9.94034588e-01  5.54066420e-01\n",
            "   6.30978122e-02  6.75842986e-02  6.44467101e-02]\n",
            " [ 9.60954130e-01  4.72270370e-01 -9.73496735e-01  3.58037621e-01\n",
            "   1.30836472e-01  2.52790511e-01  8.65186900e-02]\n",
            " [ 9.76840258e-01  2.45184571e-01 -9.84243333e-01  4.07266706e-01\n",
            "   1.22336738e-01  2.20077291e-01  9.44302678e-02]\n",
            " [ 9.90788698e-01 -2.88897693e-01 -9.93224740e-01  5.23796141e-01\n",
            "   1.00798354e-01  1.05625927e-01  8.44503492e-02]\n",
            " [ 9.96217310e-01 -6.99032247e-01 -9.97032046e-01  6.12549961e-01\n",
            "   9.78086218e-02  5.08248527e-03  4.98863198e-02]\n",
            " [ 9.87576067e-01 -1.06656268e-01 -9.91011798e-01  4.92271990e-01\n",
            "   1.06671005e-01  1.07454970e-01  9.58380923e-02]\n",
            " [ 9.91081417e-01 -3.04173946e-01 -9.93411422e-01  5.27615786e-01\n",
            "   9.95983258e-02  9.23763365e-02  8.15089270e-02]\n",
            " [ 9.89504933e-01 -1.17022954e-01 -9.92443681e-01  5.01217365e-01\n",
            "   1.09550677e-01  7.80666247e-02  9.85466614e-02]\n",
            " [ 9.90039349e-01 -2.48170704e-01 -9.92819607e-01  5.14153183e-01\n",
            "   1.01148546e-01  1.08902372e-01  8.66991505e-02]\n",
            " [ 9.76018548e-01  3.20652574e-01 -9.83507931e-01  4.07190889e-01\n",
            "   1.22052267e-01  2.15442896e-01  1.06642924e-01]\n",
            " [ 9.79894638e-01  1.75728202e-01 -9.86389458e-01  4.41655785e-01\n",
            "   1.11857139e-01  1.79842457e-01  1.16930522e-01]\n",
            " [ 9.63722706e-01  4.21634585e-01 -9.75364923e-01  3.69480222e-01\n",
            "   1.18878119e-01  2.34894559e-01  7.99728483e-02]\n",
            " [ 9.89164531e-01 -1.84516430e-01 -9.92082953e-01  5.04148662e-01\n",
            "   1.05945595e-01  1.18944645e-01  8.52018148e-02]\n",
            " [ 9.93311524e-01 -4.75261062e-01 -9.94960308e-01  5.55556297e-01\n",
            "   1.04764529e-01  8.59426111e-02  6.81050792e-02]\n",
            " [ 9.90085602e-01 -2.55117595e-01 -9.92807031e-01  5.15129745e-01\n",
            "   9.99600291e-02  1.05134659e-01  8.28098431e-02]\n",
            " [ 9.95313168e-01 -6.28105164e-01 -9.96278703e-01  5.90961039e-01\n",
            "   9.20231193e-02  2.86293253e-02  5.45902587e-02]\n",
            " [ 9.83510911e-01  2.86567565e-02 -9.88563955e-01  4.56626713e-01\n",
            "   1.07210338e-01  1.62056357e-01  8.94833505e-02]\n",
            " [ 9.91684616e-01 -3.44632387e-01 -9.93801177e-01  5.34780622e-01\n",
            "   9.82193351e-02  8.57159868e-02  7.78806359e-02]\n",
            " [ 9.94111478e-01 -5.10230780e-01 -9.95472193e-01  5.69586456e-01\n",
            "   9.67668891e-02  4.51764166e-02  6.76442161e-02]\n",
            " [ 9.89616692e-01 -2.23927289e-01 -9.92503285e-01  5.09031177e-01\n",
            "   1.00528657e-01  1.07800357e-01  8.30354244e-02]\n",
            " [ 9.85748887e-01 -2.29221821e-01 -9.90329921e-01  4.80244458e-01\n",
            "   7.59295300e-02  1.38984740e-01  7.21794590e-02]\n",
            " [ 9.59820807e-01  4.91000563e-01 -9.72628415e-01  3.51474851e-01\n",
            "   1.29391745e-01  2.58709937e-01  7.54625276e-02]]\n"
          ],
          "name": "stdout"
        }
      ]
    },
    {
      "cell_type": "code",
      "metadata": {
        "id": "oCcYNaPzr2fx"
      },
      "source": [
        "# import cv2\n",
        "# from google.colab.patches import cv2_imshow\n",
        "# img1 = cv2.imread('data65_27.png')\n",
        "# img2 = cv2.imread('target_image_1.png')\n",
        "#mg1 = cv2.cvtColor(img1, cv2.COLOR_BGR2GRAY)\n",
        "# img1 = cv2.resize(img1, dsize=(128,128), interpolation = cv2.INTER_CUBIC)\n",
        "# plt.imshow(img1)\n",
        "# img1.shape\n",
        "\n",
        "# img1 = np.expand_dims(img1, axis = 0)\n",
        "# img1 = np.expand_dims(img1, axis = 3)\n",
        "# img1 = img1.astype('float32')\n",
        "# img1 = img1/255\n",
        "# plt.imshow(img1.reshape(128,128), cmap = plt.cm.binary)"
      ],
      "execution_count": null,
      "outputs": []
    },
    {
      "cell_type": "code",
      "metadata": {
        "id": "UUBwNh_ul7Hn"
      },
      "source": [
        "# from PIL import Image\n",
        "# # Open the image form working directory\n",
        "# img1 = Image.open('/content/data65_27.png')\n",
        "# img2 = Image.open('/content/target_image_1.png')"
      ],
      "execution_count": null,
      "outputs": []
    },
    {
      "cell_type": "code",
      "metadata": {
        "id": "fbJhnxClmnB7"
      },
      "source": [
        "# from matplotlib import image\n",
        "# from matplotlib import pyplot\n",
        "# # load image as pixel array\n",
        "# img1 = image.imread('/content/data65_27.png')\n",
        "# img2 = image.imread('/content/target_image_1.png')"
      ],
      "execution_count": null,
      "outputs": []
    },
    {
      "cell_type": "code",
      "metadata": {
        "colab": {
          "base_uri": "https://localhost:8080/",
          "height": 238
        },
        "id": "yEwjupKomz2Q",
        "outputId": "7d4959f6-d2c5-4fc3-f44b-8e16d310b899"
      },
      "source": [
        "import cv2\n",
        "from google.colab.patches import cv2_imshow\n",
        "img = cv2.imread('/content/data65_27.png')\n",
        "img = cv2.cvtColor(img, cv2.COLOR_BGR2GRAY)\n",
        "img= cv2.resize(img, dsize=(128,128), interpolation = cv2.INTER_CUBIC)\n",
        "# plt.imshow(img)\n",
        "img.shape\n",
        "\n",
        "img = np.reshape(img, (1, 128, 128))\n",
        "# img = np.expand_dims(img, axis = 0)\n",
        "# img = np.expand_dims(img, axis = 3)\n",
        "# img = np.reshape(128,128)\n",
        "# img = img.astype('float32')\n",
        "img = img/255\n",
        "img = np.repeat(img[..., np.newaxis], 3, -1)\n",
        "# plt.imshow(img.reshape(128,128), cmap = plt.cm.binary)"
      ],
      "execution_count": null,
      "outputs": [
        {
          "output_type": "error",
          "ename": "error",
          "evalue": "ignored",
          "traceback": [
            "\u001b[0;31m---------------------------------------------------------------------------\u001b[0m",
            "\u001b[0;31merror\u001b[0m                                     Traceback (most recent call last)",
            "\u001b[0;32m<ipython-input-35-8a1293317f21>\u001b[0m in \u001b[0;36m<module>\u001b[0;34m()\u001b[0m\n\u001b[1;32m      2\u001b[0m \u001b[0;32mfrom\u001b[0m \u001b[0mgoogle\u001b[0m\u001b[0;34m.\u001b[0m\u001b[0mcolab\u001b[0m\u001b[0;34m.\u001b[0m\u001b[0mpatches\u001b[0m \u001b[0;32mimport\u001b[0m \u001b[0mcv2_imshow\u001b[0m\u001b[0;34m\u001b[0m\u001b[0;34m\u001b[0m\u001b[0m\n\u001b[1;32m      3\u001b[0m \u001b[0mimg\u001b[0m \u001b[0;34m=\u001b[0m \u001b[0mcv2\u001b[0m\u001b[0;34m.\u001b[0m\u001b[0mimread\u001b[0m\u001b[0;34m(\u001b[0m\u001b[0;34m'/content/data65_27.png'\u001b[0m\u001b[0;34m)\u001b[0m\u001b[0;34m\u001b[0m\u001b[0;34m\u001b[0m\u001b[0m\n\u001b[0;32m----> 4\u001b[0;31m \u001b[0mimg\u001b[0m \u001b[0;34m=\u001b[0m \u001b[0mcv2\u001b[0m\u001b[0;34m.\u001b[0m\u001b[0mcvtColor\u001b[0m\u001b[0;34m(\u001b[0m\u001b[0mimg\u001b[0m\u001b[0;34m,\u001b[0m \u001b[0mcv2\u001b[0m\u001b[0;34m.\u001b[0m\u001b[0mCOLOR_BGR2GRAY\u001b[0m\u001b[0;34m)\u001b[0m\u001b[0;34m\u001b[0m\u001b[0;34m\u001b[0m\u001b[0m\n\u001b[0m\u001b[1;32m      5\u001b[0m \u001b[0mimg\u001b[0m\u001b[0;34m=\u001b[0m \u001b[0mcv2\u001b[0m\u001b[0;34m.\u001b[0m\u001b[0mresize\u001b[0m\u001b[0;34m(\u001b[0m\u001b[0mimg\u001b[0m\u001b[0;34m,\u001b[0m \u001b[0mdsize\u001b[0m\u001b[0;34m=\u001b[0m\u001b[0;34m(\u001b[0m\u001b[0;36m128\u001b[0m\u001b[0;34m,\u001b[0m\u001b[0;36m128\u001b[0m\u001b[0;34m)\u001b[0m\u001b[0;34m,\u001b[0m \u001b[0minterpolation\u001b[0m \u001b[0;34m=\u001b[0m \u001b[0mcv2\u001b[0m\u001b[0;34m.\u001b[0m\u001b[0mINTER_CUBIC\u001b[0m\u001b[0;34m)\u001b[0m\u001b[0;34m\u001b[0m\u001b[0;34m\u001b[0m\u001b[0m\n\u001b[1;32m      6\u001b[0m \u001b[0;31m# plt.imshow(img)\u001b[0m\u001b[0;34m\u001b[0m\u001b[0;34m\u001b[0m\u001b[0;34m\u001b[0m\u001b[0m\n",
            "\u001b[0;31merror\u001b[0m: OpenCV(4.1.2) /io/opencv/modules/imgproc/src/color.cpp:182: error: (-215:Assertion failed) !_src.empty() in function 'cvtColor'\n"
          ]
        }
      ]
    },
    {
      "cell_type": "code",
      "metadata": {
        "id": "IPlFIP9VnWcW"
      },
      "source": [
        "img.shape"
      ],
      "execution_count": null,
      "outputs": []
    },
    {
      "cell_type": "code",
      "metadata": {
        "id": "kh3tf8NtpHWw"
      },
      "source": [
        ""
      ],
      "execution_count": null,
      "outputs": []
    },
    {
      "cell_type": "code",
      "metadata": {
        "id": "hcDTSZQUm_b2"
      },
      "source": [
        "img2 = cv2.imread('/content/target_image_1.png')\n",
        "img2 = cv2.cvtColor(img2, cv2.COLOR_BGR2GRAY)\n",
        "img2= cv2.resize(img2, dsize=(128,128), interpolation = cv2.INTER_CUBIC)\n",
        "# plt.imshow(img)\n",
        "img2.shape\n",
        "\n",
        "img2 = np.reshape(img2, (1, 128, 128))\n",
        "# img = np.expand_dims(img, axis = 0)\n",
        "# img = np.expand_dims(img, axis = 3)\n",
        "# img = np.reshape(128,128)\n",
        "# img = img.astype('float32')\n",
        "img2 = img2/255\n",
        "img2 = np.repeat(img2[..., np.newaxis], 3, -1)\n",
        "# plt.imshow(img.reshape(128,128), cmap = plt.cm.binary)"
      ],
      "execution_count": null,
      "outputs": []
    },
    {
      "cell_type": "code",
      "metadata": {
        "id": "4e7k8WDWpa1c"
      },
      "source": [
        "img2.shape"
      ],
      "execution_count": null,
      "outputs": []
    },
    {
      "cell_type": "code",
      "metadata": {
        "id": "BGxf25z0lUM8"
      },
      "source": [
        "predictionimg = model.predict([img,img2])"
      ],
      "execution_count": null,
      "outputs": []
    },
    {
      "cell_type": "code",
      "metadata": {
        "id": "YNAbeatNl20z"
      },
      "source": [
        "predictionimg"
      ],
      "execution_count": null,
      "outputs": []
    },
    {
      "cell_type": "code",
      "metadata": {
        "id": "3Z38S64ZpeB_"
      },
      "source": [
        ""
      ],
      "execution_count": null,
      "outputs": []
    }
  ]
}