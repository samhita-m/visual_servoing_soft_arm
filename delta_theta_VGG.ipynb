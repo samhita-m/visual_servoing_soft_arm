{
  "nbformat": 4,
  "nbformat_minor": 0,
  "metadata": {
    "colab": {
      "name": "delta_theta VGG.ipynb",
      "provenance": [],
      "collapsed_sections": []
    },
    "kernelspec": {
      "name": "python3",
      "display_name": "Python 3"
    },
    "accelerator": "GPU"
  },
  "cells": [
    {
      "cell_type": "code",
      "metadata": {
        "colab": {
          "base_uri": "https://localhost:8080/"
        },
        "id": "b5mcsngV9IjX",
        "outputId": "6c3fa9bc-e5eb-42c6-b915-b7a565b047b0"
      },
      "source": [
        "from google.colab import drive\n",
        "drive.mount('/content/drive', force_remount=True)"
      ],
      "execution_count": 5,
      "outputs": [
        {
          "output_type": "stream",
          "text": [
            "Mounted at /content/drive\n"
          ],
          "name": "stdout"
        }
      ]
    },
    {
      "cell_type": "code",
      "metadata": {
        "colab": {
          "base_uri": "https://localhost:8080/"
        },
        "id": "aClCGALS9N6c",
        "outputId": "f8fcf6da-2452-434d-95ba-8b2d229a6e7b"
      },
      "source": [
        "import os\n",
        "os.chdir('/content/drive/My Drive')\n",
        "!pwd"
      ],
      "execution_count": 6,
      "outputs": [
        {
          "output_type": "stream",
          "text": [
            "/content/drive/My Drive\n"
          ],
          "name": "stdout"
        }
      ]
    },
    {
      "cell_type": "code",
      "metadata": {
        "colab": {
          "base_uri": "https://localhost:8080/"
        },
        "id": "k_YleJ_xiBkd",
        "outputId": "5b59c3f4-734d-4e23-bde4-241815058456"
      },
      "source": [
        "%tensorflow_version"
      ],
      "execution_count": 7,
      "outputs": [
        {
          "output_type": "stream",
          "text": [
            "Currently selected TF version: 2.x\n",
            "Available versions:\n",
            "* 1.x\n",
            "* 2.x\n"
          ],
          "name": "stdout"
        }
      ]
    },
    {
      "cell_type": "code",
      "metadata": {
        "id": "WUAVH2STVC_U"
      },
      "source": [
        "import pandas as pd\n",
        "import numpy as np\n",
        "from skimage.io import imread\n",
        "from sklearn.model_selection import train_test_split\n",
        "from matplotlib import pyplot as plt\n",
        "# %matplotlib inline\n",
        "\n",
        "import keras\n",
        "from keras import optimizers\n",
        "from keras.utils import to_categorical\n",
        "from keras.layers import Input, Dense, Flatten, Dropout, Conv2D, MaxPooling2D, Activation, concatenate\n",
        "from keras.layers.advanced_activations import ReLU\n",
        "from keras.models import Model\n",
        "from keras.optimizers import Adam, SGD\n",
        "from keras.callbacks import ModelCheckpoint"
      ],
      "execution_count": 8,
      "outputs": []
    },
    {
      "cell_type": "code",
      "metadata": {
        "id": "8TAoFO4R-jOC"
      },
      "source": [
        "def load_dataset():\n",
        "  train_data = pd.read_csv('trainset.csv')\n",
        "  y_train = pd.read_csv('delta_theta.csv')\n",
        "  target_data = pd.read_csv('target_data.csv')\n",
        "  # target_label = pd.read_csv('target_label.csv')\n",
        "  return train_data, y_train, target_data"
      ],
      "execution_count": 9,
      "outputs": []
    },
    {
      "cell_type": "code",
      "metadata": {
        "id": "XJwQAkT2-zkv"
      },
      "source": [
        "# train_data.head()\n",
        "# y_train.head()"
      ],
      "execution_count": 10,
      "outputs": []
    },
    {
      "cell_type": "code",
      "metadata": {
        "id": "Wy57sGOsBdNh"
      },
      "source": [
        "train_data, y_train, target_data = load_dataset()"
      ],
      "execution_count": 11,
      "outputs": []
    },
    {
      "cell_type": "code",
      "metadata": {
        "id": "mmppeSVB_BRm"
      },
      "source": [
        "# train_data.shape\n",
        "# target_data.shape"
      ],
      "execution_count": null,
      "outputs": []
    },
    {
      "cell_type": "code",
      "metadata": {
        "id": "KfuJXir7E1-k"
      },
      "source": [
        "num_classes = 4\n",
        "train_data = np.array(train_data.iloc[:,:])\n",
        "train_data = np.array([np.reshape(i,(128,128)) for i in train_data])\n",
        "target_data = np.array(target_data.iloc[:,:])\n",
        "target_data = np.array([np.reshape(i,(128,128)) for i in target_data])"
      ],
      "execution_count": 12,
      "outputs": []
    },
    {
      "cell_type": "code",
      "metadata": {
        "colab": {
          "base_uri": "https://localhost:8080/"
        },
        "id": "w02tvuvtE5k_",
        "outputId": "2832b299-5a7a-437b-a54c-9752231e46a4"
      },
      "source": [
        "train_data.shape\n",
        "target_data.shape"
      ],
      "execution_count": 13,
      "outputs": [
        {
          "output_type": "execute_result",
          "data": {
            "text/plain": [
              "(333, 128, 128)"
            ]
          },
          "metadata": {
            "tags": []
          },
          "execution_count": 13
        }
      ]
    },
    {
      "cell_type": "code",
      "metadata": {
        "colab": {
          "base_uri": "https://localhost:8080/"
        },
        "id": "QaXR-fhI1TMc",
        "outputId": "3f3345c5-b39c-4292-bf2f-72840d6bc464"
      },
      "source": [
        "train_data = train_data.astype('float32')\n",
        "train_data = train_data/255\n",
        "\n",
        "rgb_batch = np.repeat(train_data[..., np.newaxis], 3, -1)\n",
        "rgb_batch.shape\n",
        "\n",
        "target_data = target_data.astype('float32')\n",
        "target_data = target_data/255\n",
        "\n",
        "rgb_target = np.repeat(target_data[..., np.newaxis], 3, -1)\n",
        "rgb_target.shape"
      ],
      "execution_count": 14,
      "outputs": [
        {
          "output_type": "execute_result",
          "data": {
            "text/plain": [
              "(333, 128, 128, 3)"
            ]
          },
          "metadata": {
            "tags": []
          },
          "execution_count": 14
        }
      ]
    },
    {
      "cell_type": "code",
      "metadata": {
        "id": "F8QTLdM0QeBr"
      },
      "source": [
        "target_data = rgb_target"
      ],
      "execution_count": 15,
      "outputs": []
    },
    {
      "cell_type": "code",
      "metadata": {
        "colab": {
          "base_uri": "https://localhost:8080/"
        },
        "id": "lWPUCq7qhC3N",
        "outputId": "6266ba30-544d-4bde-ae51-7d209a4d7f07"
      },
      "source": [
        "target_data.shape"
      ],
      "execution_count": 16,
      "outputs": [
        {
          "output_type": "execute_result",
          "data": {
            "text/plain": [
              "(333, 128, 128, 3)"
            ]
          },
          "metadata": {
            "tags": []
          },
          "execution_count": 16
        }
      ]
    },
    {
      "cell_type": "code",
      "metadata": {
        "id": "l3J9DPmoEonU"
      },
      "source": [
        "x_train, x_test, y_train, y_test = train_test_split(rgb_batch, y_train, test_size = 0.3, random_state=666)\n",
        "target_xtrain, target_xtest = train_test_split(target_data, test_size = 0.3, random_state=666)"
      ],
      "execution_count": 17,
      "outputs": []
    },
    {
      "cell_type": "code",
      "metadata": {
        "id": "mEYix5VfIEhe"
      },
      "source": [
        "input_shape = (128, 128, 3)"
      ],
      "execution_count": 18,
      "outputs": []
    },
    {
      "cell_type": "code",
      "metadata": {
        "colab": {
          "base_uri": "https://localhost:8080/"
        },
        "id": "8yKRdRCEagQy",
        "outputId": "995409bd-050f-4664-aae9-8dc9e218736a"
      },
      "source": [
        "print(y_test)"
      ],
      "execution_count": 33,
      "outputs": [
        {
          "output_type": "stream",
          "text": [
            "     theta  R1  R2   B\n",
            "3       55   7   0   2\n",
            "184     15   7 -25  -3\n",
            "302    -25  -8   0  12\n",
            "239     -5  -3   0  -3\n",
            "50      45  -3   0   2\n",
            "..     ...  ..  ..  ..\n",
            "14      55  -8   0   2\n",
            "253     -5   7 -20   2\n",
            "193      5 -18   0  12\n",
            "54      45  -3   0  -3\n",
            "177     15   7 -10   2\n",
            "\n",
            "[100 rows x 4 columns]\n"
          ],
          "name": "stdout"
        }
      ]
    },
    {
      "cell_type": "code",
      "metadata": {
        "id": "TlmvUKDGMzlZ"
      },
      "source": [
        "def VGG_16(input_image):\n",
        "    model = Conv2D(64, (3,3), padding=\"same\", input_shape = input_shape)(input_image)\n",
        "    model = ReLU(max_value=1.0)(model)\n",
        "    # model = Conv2D(64, (3,3), padding=\"same\")(model)\n",
        "    # model = ReLU(max_value=1.0)(model)\n",
        "    model = MaxPooling2D(pool_size=(2,2), padding=\"same\")(model)\n",
        "    # model = Dropout(0.25)(model)\n",
        "\n",
        "    model = Conv2D(128, (3,3), padding=\"same\")(model)\n",
        "    model = ReLU(max_value=1.0)(model)\n",
        "    # model = Conv2D(128, (3,3), padding=\"same\")(model)\n",
        "    # model = ReLU(max_value=1.0)(model)\n",
        "    # model = MaxPooling2D(pool_size=(2,2), padding=\"same\")(model)\n",
        "    model = Dropout(0.25)(model)\n",
        "\n",
        "    # model = Conv2D(256, (3,3), padding=\"same\")(model)\n",
        "    # model = ReLU(max_value=1.0)(model)\n",
        "    model = Conv2D(256, (3,3), padding=\"same\")(model)\n",
        "    model = ReLU(max_value=1.0)(model)\n",
        "    model = MaxPooling2D(pool_size=(2,2), padding=\"same\")(model)\n",
        "    model = Dropout(0.25)(model)\n",
        "\n",
        "\n",
        "    return model"
      ],
      "execution_count": 35,
      "outputs": []
    },
    {
      "cell_type": "code",
      "metadata": {
        "id": "gyD2K2hs47BT"
      },
      "source": [
        "current_input = Input(shape=input_shape)\n",
        "current_model = VGG_16(current_input)\n",
        "\n",
        "target_input = Input(shape=input_shape)\n",
        "target_model = VGG_16(target_input)"
      ],
      "execution_count": 36,
      "outputs": []
    },
    {
      "cell_type": "code",
      "metadata": {
        "id": "oGY8OydFTU8E"
      },
      "source": [
        "conv = concatenate([current_model, target_model])"
      ],
      "execution_count": 37,
      "outputs": []
    },
    {
      "cell_type": "code",
      "metadata": {
        "id": "IjgFVGD1Ta_N"
      },
      "source": [
        "conv = Flatten()(conv)\n",
        "dense = Dense(512)(conv)\n",
        "dense = ReLU(max_value=1.0)(dense)\n",
        "dense = Dropout(0.25)(dense)\n",
        "# dense = Dense(512)(dense)\n",
        "# dense = ReLU(max_value=1.0)(dense)\n",
        "# dense = Dropout(0.5)(dense)\n",
        "\n",
        "output = Dense(num_classes, activation='tanh')(dense)\n",
        "\n",
        "model = Model(inputs=[current_input, target_input], outputs=[output])\n",
        "\n",
        "opt = SGD(learning_rate=0.01)\n",
        "\n",
        "model.compile(loss='mean_squared_error', optimizer=opt, metrics=['accuracy'])\n"
      ],
      "execution_count": 38,
      "outputs": []
    },
    {
      "cell_type": "code",
      "metadata": {
        "id": "7rHsTXpiU4Zw"
      },
      "source": [
        "best_weights_file=\"weights.best.hdf5\"\n",
        "checkpoint = ModelCheckpoint(best_weights_file, monitor='val_accuracy', verbose=1, save_best_only=True, mode='max')\n",
        "callbacks = [checkpoint]"
      ],
      "execution_count": 39,
      "outputs": []
    },
    {
      "cell_type": "code",
      "metadata": {
        "colab": {
          "base_uri": "https://localhost:8080/"
        },
        "id": "6LLcG_DpWKp7",
        "outputId": "85a1d05c-703f-40e0-cc65-52237ce9f0d7"
      },
      "source": [
        "model.fit([x_train, target_xtrain], y_train,\n",
        "          epochs=15,\n",
        "          validation_data=([x_test, target_xtest], y_test),\n",
        "          callbacks=callbacks,\n",
        "          verbose=1)"
      ],
      "execution_count": 41,
      "outputs": [
        {
          "output_type": "stream",
          "text": [
            "Epoch 1/15\n",
            "8/8 [==============================] - 3s 329ms/step - loss: 289.1003 - accuracy: 0.5837 - val_loss: 273.2384 - val_accuracy: 0.5600\n",
            "\n",
            "Epoch 00001: val_accuracy improved from -inf to 0.56000, saving model to weights.best.hdf5\n",
            "Epoch 2/15\n",
            "8/8 [==============================] - 2s 208ms/step - loss: 289.1882 - accuracy: 0.5837 - val_loss: 273.2382 - val_accuracy: 0.5600\n",
            "\n",
            "Epoch 00002: val_accuracy did not improve from 0.56000\n",
            "Epoch 3/15\n",
            "8/8 [==============================] - 2s 208ms/step - loss: 289.1874 - accuracy: 0.5837 - val_loss: 273.2382 - val_accuracy: 0.5600\n",
            "\n",
            "Epoch 00003: val_accuracy did not improve from 0.56000\n",
            "Epoch 4/15\n",
            "8/8 [==============================] - 2s 207ms/step - loss: 289.1877 - accuracy: 0.5837 - val_loss: 273.2380 - val_accuracy: 0.5600\n",
            "\n",
            "Epoch 00004: val_accuracy did not improve from 0.56000\n",
            "Epoch 5/15\n",
            "8/8 [==============================] - 2s 209ms/step - loss: 289.1869 - accuracy: 0.5837 - val_loss: 273.2380 - val_accuracy: 0.5600\n",
            "\n",
            "Epoch 00005: val_accuracy did not improve from 0.56000\n",
            "Epoch 6/15\n",
            "8/8 [==============================] - 2s 208ms/step - loss: 289.1865 - accuracy: 0.5837 - val_loss: 273.2379 - val_accuracy: 0.5600\n",
            "\n",
            "Epoch 00006: val_accuracy did not improve from 0.56000\n",
            "Epoch 7/15\n",
            "8/8 [==============================] - 2s 208ms/step - loss: 289.1868 - accuracy: 0.5837 - val_loss: 273.2379 - val_accuracy: 0.5600\n",
            "\n",
            "Epoch 00007: val_accuracy did not improve from 0.56000\n",
            "Epoch 8/15\n",
            "8/8 [==============================] - 2s 212ms/step - loss: 289.1868 - accuracy: 0.5837 - val_loss: 273.2379 - val_accuracy: 0.5600\n",
            "\n",
            "Epoch 00008: val_accuracy did not improve from 0.56000\n",
            "Epoch 9/15\n",
            "8/8 [==============================] - 2s 211ms/step - loss: 289.1864 - accuracy: 0.5837 - val_loss: 273.2379 - val_accuracy: 0.5600\n",
            "\n",
            "Epoch 00009: val_accuracy did not improve from 0.56000\n",
            "Epoch 10/15\n",
            "8/8 [==============================] - 2s 212ms/step - loss: 289.1866 - accuracy: 0.5837 - val_loss: 273.2379 - val_accuracy: 0.5600\n",
            "\n",
            "Epoch 00010: val_accuracy did not improve from 0.56000\n",
            "Epoch 11/15\n",
            "8/8 [==============================] - 2s 212ms/step - loss: 289.1864 - accuracy: 0.5837 - val_loss: 273.2379 - val_accuracy: 0.5600\n",
            "\n",
            "Epoch 00011: val_accuracy did not improve from 0.56000\n",
            "Epoch 12/15\n",
            "8/8 [==============================] - 2s 213ms/step - loss: 289.1865 - accuracy: 0.5837 - val_loss: 273.2378 - val_accuracy: 0.5600\n",
            "\n",
            "Epoch 00012: val_accuracy did not improve from 0.56000\n",
            "Epoch 13/15\n",
            "8/8 [==============================] - 2s 209ms/step - loss: 289.1863 - accuracy: 0.5837 - val_loss: 273.2378 - val_accuracy: 0.5600\n",
            "\n",
            "Epoch 00013: val_accuracy did not improve from 0.56000\n",
            "Epoch 14/15\n",
            "8/8 [==============================] - 2s 206ms/step - loss: 289.1864 - accuracy: 0.5837 - val_loss: 273.2378 - val_accuracy: 0.5600\n",
            "\n",
            "Epoch 00014: val_accuracy did not improve from 0.56000\n",
            "Epoch 15/15\n",
            "8/8 [==============================] - 2s 206ms/step - loss: 289.1863 - accuracy: 0.5837 - val_loss: 273.2378 - val_accuracy: 0.5600\n",
            "\n",
            "Epoch 00015: val_accuracy did not improve from 0.56000\n"
          ],
          "name": "stdout"
        },
        {
          "output_type": "execute_result",
          "data": {
            "text/plain": [
              "<tensorflow.python.keras.callbacks.History at 0x7f5cf24cef50>"
            ]
          },
          "metadata": {
            "tags": []
          },
          "execution_count": 41
        }
      ]
    },
    {
      "cell_type": "code",
      "metadata": {
        "id": "Vc_R1cBMXEOM",
        "colab": {
          "base_uri": "https://localhost:8080/"
        },
        "outputId": "29d5b8fd-8363-41e7-812f-fef67bbbc1f9"
      },
      "source": [
        "model.evaluate([x_test, target_xtest], y_test)"
      ],
      "execution_count": 42,
      "outputs": [
        {
          "output_type": "stream",
          "text": [
            "4/4 [==============================] - 0s 50ms/step - loss: 273.2378 - accuracy: 0.5600\n"
          ],
          "name": "stdout"
        },
        {
          "output_type": "execute_result",
          "data": {
            "text/plain": [
              "[273.2378234863281, 0.5600000023841858]"
            ]
          },
          "metadata": {
            "tags": []
          },
          "execution_count": 42
        }
      ]
    },
    {
      "cell_type": "code",
      "metadata": {
        "id": "t-Pp8UsinhpG"
      },
      "source": [
        "prediction = model.predict([x_test, target_xtest])\n",
        "# prediction = np.argmax(prediction[10])"
      ],
      "execution_count": 43,
      "outputs": []
    },
    {
      "cell_type": "code",
      "metadata": {
        "id": "-Ai-hdEUrMcK",
        "colab": {
          "base_uri": "https://localhost:8080/"
        },
        "outputId": "2fd784a1-5c76-48bd-fad4-1f14d196135b"
      },
      "source": [
        "print(prediction)"
      ],
      "execution_count": 44,
      "outputs": [
        {
          "output_type": "stream",
          "text": [
            "[[ 0.9999995  -0.99996245 -0.9999805   0.99983114]\n",
            " [ 0.9999995  -0.9999653  -0.9999805   0.9998382 ]\n",
            " [ 0.9999996  -0.99995315 -0.99997866  0.99979836]\n",
            " [ 0.9999996  -0.99995977 -0.9999805   0.99981403]\n",
            " [ 0.9999996  -0.9999648  -0.9999805   0.999837  ]\n",
            " [ 0.9999996  -0.99996185 -0.99998075  0.99982804]\n",
            " [ 0.9999995  -0.9999652  -0.9999804   0.9998392 ]\n",
            " [ 0.9999994  -0.99995375 -0.999979    0.99980503]\n",
            " [ 0.9999996  -0.99996525 -0.99998057  0.99983895]\n",
            " [ 0.9999994  -0.99993974 -0.99997556  0.9997647 ]\n",
            " [ 0.9999996  -0.9999645  -0.99998057  0.9998365 ]\n",
            " [ 0.9999996  -0.99996275 -0.9999807   0.99983096]\n",
            " [ 0.9999995  -0.99996567 -0.9999802   0.999842  ]\n",
            " [ 0.9999995  -0.999963   -0.9999807   0.9998328 ]\n",
            " [ 0.9999996  -0.9999619  -0.99998075  0.9998275 ]\n",
            " [ 0.9999996  -0.9999644  -0.99998033  0.9998364 ]\n",
            " [ 0.9999996  -0.99995786 -0.999979    0.9998064 ]\n",
            " [ 0.99999946 -0.999946   -0.99997675  0.9997793 ]\n",
            " [ 0.99999946 -0.9999319  -0.9999739   0.999755  ]\n",
            " [ 0.9999996  -0.99996084 -0.9999804   0.9998226 ]\n",
            " [ 0.9999995  -0.9999623  -0.99998057  0.99983   ]\n",
            " [ 0.9999994  -0.9999584  -0.99997985  0.9998131 ]\n",
            " [ 0.9999996  -0.99996245 -0.99998057  0.9998299 ]\n",
            " [ 0.9999996  -0.99996454 -0.9999805   0.9998348 ]\n",
            " [ 0.9999995  -0.99996024 -0.99998075  0.99981654]\n",
            " [ 0.99999964 -0.9999656  -0.9999804   0.9998411 ]\n",
            " [ 0.99999946 -0.9999463  -0.9999773   0.9997877 ]\n",
            " [ 0.99999964 -0.9999652  -0.9999801   0.9998404 ]\n",
            " [ 0.99999946 -0.99996614 -0.9999806   0.9998414 ]\n",
            " [ 0.99999946 -0.9999614  -0.9999805   0.9998241 ]\n",
            " [ 0.99999964 -0.99996525 -0.9999805   0.9998391 ]\n",
            " [ 0.9999995  -0.999961   -0.9999804   0.9998241 ]\n",
            " [ 0.9999995  -0.99996346 -0.99998057  0.99983346]\n",
            " [ 0.99999964 -0.9999618  -0.9999802   0.99982643]\n",
            " [ 0.9999996  -0.9999652  -0.99998045  0.9998389 ]\n",
            " [ 0.9999996  -0.99996483 -0.9999803   0.999838  ]\n",
            " [ 0.9999995  -0.99996436 -0.9999811   0.9998331 ]\n",
            " [ 0.99999964 -0.99996316 -0.99998057  0.99983186]\n",
            " [ 0.99999946 -0.9999608  -0.9999804   0.9998255 ]\n",
            " [ 0.9999995  -0.9999651  -0.9999804   0.99983835]\n",
            " [ 0.99999964 -0.99996465 -0.9999806   0.9998371 ]\n",
            " [ 0.9999996  -0.9999666  -0.99998075  0.9998416 ]\n",
            " [ 0.9999996  -0.99996704 -0.99998075  0.9998428 ]\n",
            " [ 0.9999996  -0.99995685 -0.999979    0.99980736]\n",
            " [ 0.9999996  -0.99996597 -0.9999803   0.9998413 ]\n",
            " [ 0.9999994  -0.9999629  -0.9999806   0.9998305 ]\n",
            " [ 0.99999964 -0.9999646  -0.9999805   0.99983686]\n",
            " [ 0.99999946 -0.9999347  -0.99997485  0.99975324]\n",
            " [ 0.9999996  -0.9999651  -0.9999804   0.999838  ]\n",
            " [ 0.9999995  -0.9999646  -0.99998105  0.99983263]\n",
            " [ 0.99999964 -0.9999669  -0.99998045  0.99984014]\n",
            " [ 0.9999995  -0.9999624  -0.99998075  0.9998284 ]\n",
            " [ 0.9999995  -0.9999664  -0.99998075  0.9998407 ]\n",
            " [ 0.9999996  -0.9999654  -0.99998045  0.9998387 ]\n",
            " [ 0.9999996  -0.9999634  -0.9999807   0.999833  ]\n",
            " [ 0.9999995  -0.9999644  -0.99998045  0.9998359 ]\n",
            " [ 0.9999995  -0.99996597 -0.9999804   0.99984074]\n",
            " [ 0.9999996  -0.99996114 -0.99998075  0.99982345]\n",
            " [ 0.9999994  -0.99996006 -0.9999805   0.9998173 ]\n",
            " [ 0.9999995  -0.9999643  -0.99998033  0.9998357 ]\n",
            " [ 0.99999976 -0.9999662  -0.9999804   0.9998425 ]\n",
            " [ 0.99999946 -0.99996203 -0.9999806   0.99982846]\n",
            " [ 0.9999996  -0.9999636  -0.9999807   0.9998337 ]\n",
            " [ 0.9999995  -0.9999659  -0.9999799   0.9998382 ]\n",
            " [ 0.9999995  -0.99996424 -0.99998045  0.99983513]\n",
            " [ 0.99999964 -0.9999662  -0.99998087  0.9998391 ]\n",
            " [ 0.9999996  -0.9999653  -0.99998075  0.99983394]\n",
            " [ 0.99999964 -0.9999602  -0.99998003  0.9998205 ]\n",
            " [ 0.9999995  -0.9999654  -0.99998057  0.9998387 ]\n",
            " [ 0.9999996  -0.9999613  -0.99998045  0.9998286 ]\n",
            " [ 0.9999996  -0.99995834 -0.9999797   0.9998131 ]\n",
            " [ 0.9999995  -0.9999627  -0.99998057  0.9998306 ]\n",
            " [ 0.9999995  -0.99996465 -0.9999806   0.9998333 ]\n",
            " [ 0.9999997  -0.9999637  -0.9999804   0.99983495]\n",
            " [ 0.99999964 -0.9999656  -0.9999805   0.99984056]\n",
            " [ 0.99999946 -0.99996245 -0.99998057  0.9998291 ]\n",
            " [ 0.9999996  -0.99996364 -0.9999805   0.99983436]\n",
            " [ 0.9999995  -0.9999641  -0.9999807   0.999834  ]\n",
            " [ 0.99999964 -0.9999635  -0.9999802   0.9998381 ]\n",
            " [ 0.99999946 -0.9999405  -0.999976    0.999762  ]\n",
            " [ 0.9999995  -0.99995995 -0.9999804   0.99981856]\n",
            " [ 0.99999964 -0.99996483 -0.9999804   0.9998371 ]\n",
            " [ 0.9999997  -0.99996716 -0.9999807   0.9998427 ]\n",
            " [ 0.99999964 -0.9999627  -0.99998057  0.9998308 ]\n",
            " [ 0.9999996  -0.99996483 -0.9999804   0.9998373 ]\n",
            " [ 0.9999996  -0.9999648  -0.99998057  0.9998331 ]\n",
            " [ 0.99999946 -0.9999646  -0.9999805   0.99983615]\n",
            " [ 0.99999946 -0.9999594  -0.9999796   0.999817  ]\n",
            " [ 0.9999995  -0.99996006 -0.99997985  0.99982363]\n",
            " [ 0.9999995  -0.99994624 -0.9999769   0.9997821 ]\n",
            " [ 0.99999946 -0.999964   -0.9999805   0.9998353 ]\n",
            " [ 0.99999946 -0.9999656  -0.9999806   0.9998384 ]\n",
            " [ 0.9999996  -0.9999644  -0.9999804   0.9998361 ]\n",
            " [ 0.9999995  -0.9999667  -0.99998075  0.9998411 ]\n",
            " [ 0.99999964 -0.99996215 -0.99998057  0.9998297 ]\n",
            " [ 0.99999964 -0.99996513 -0.9999804   0.9998378 ]\n",
            " [ 0.99999964 -0.99996597 -0.99998033  0.99984145]\n",
            " [ 0.9999996  -0.99996406 -0.99998045  0.9998355 ]\n",
            " [ 0.9999995  -0.99996203 -0.99998087  0.9998289 ]\n",
            " [ 0.99999946 -0.9999358  -0.99997485  0.99975514]]\n"
          ],
          "name": "stdout"
        }
      ]
    },
    {
      "cell_type": "code",
      "metadata": {
        "id": "oCcYNaPzr2fx"
      },
      "source": [
        "# import cv2\n",
        "# from google.colab.patches import cv2_imshow\n",
        "# img1 = cv2.imread('data65_27.png')\n",
        "# img2 = cv2.imread('target_image_1.png')\n",
        "#mg1 = cv2.cvtColor(img1, cv2.COLOR_BGR2GRAY)\n",
        "# img1 = cv2.resize(img1, dsize=(128,128), interpolation = cv2.INTER_CUBIC)\n",
        "# plt.imshow(img1)\n",
        "# img1.shape\n",
        "\n",
        "# img1 = np.expand_dims(img1, axis = 0)\n",
        "# img1 = np.expand_dims(img1, axis = 3)\n",
        "# img1 = img1.astype('float32')\n",
        "# img1 = img1/255\n",
        "# plt.imshow(img1.reshape(128,128), cmap = plt.cm.binary)"
      ],
      "execution_count": null,
      "outputs": []
    },
    {
      "cell_type": "code",
      "metadata": {
        "id": "UUBwNh_ul7Hn"
      },
      "source": [
        "# from PIL import Image\n",
        "# # Open the image form working directory\n",
        "# img1 = Image.open('/content/data65_27.png')\n",
        "# img2 = Image.open('/content/target_image_1.png')"
      ],
      "execution_count": null,
      "outputs": []
    },
    {
      "cell_type": "code",
      "metadata": {
        "id": "fbJhnxClmnB7"
      },
      "source": [
        "# from matplotlib import image\n",
        "# from matplotlib import pyplot\n",
        "# # load image as pixel array\n",
        "# img1 = image.imread('/content/data65_27.png')\n",
        "# img2 = image.imread('/content/target_image_1.png')"
      ],
      "execution_count": null,
      "outputs": []
    },
    {
      "cell_type": "code",
      "metadata": {
        "colab": {
          "base_uri": "https://localhost:8080/",
          "height": 238
        },
        "id": "yEwjupKomz2Q",
        "outputId": "7d4959f6-d2c5-4fc3-f44b-8e16d310b899"
      },
      "source": [
        "import cv2\n",
        "from google.colab.patches import cv2_imshow\n",
        "img = cv2.imread('/content/data65_27.png')\n",
        "img = cv2.cvtColor(img, cv2.COLOR_BGR2GRAY)\n",
        "img= cv2.resize(img, dsize=(128,128), interpolation = cv2.INTER_CUBIC)\n",
        "# plt.imshow(img)\n",
        "img.shape\n",
        "\n",
        "img = np.reshape(img, (1, 128, 128))\n",
        "# img = np.expand_dims(img, axis = 0)\n",
        "# img = np.expand_dims(img, axis = 3)\n",
        "# img = np.reshape(128,128)\n",
        "# img = img.astype('float32')\n",
        "img = img/255\n",
        "img = np.repeat(img[..., np.newaxis], 3, -1)\n",
        "# plt.imshow(img.reshape(128,128), cmap = plt.cm.binary)"
      ],
      "execution_count": null,
      "outputs": [
        {
          "output_type": "error",
          "ename": "error",
          "evalue": "ignored",
          "traceback": [
            "\u001b[0;31m---------------------------------------------------------------------------\u001b[0m",
            "\u001b[0;31merror\u001b[0m                                     Traceback (most recent call last)",
            "\u001b[0;32m<ipython-input-35-8a1293317f21>\u001b[0m in \u001b[0;36m<module>\u001b[0;34m()\u001b[0m\n\u001b[1;32m      2\u001b[0m \u001b[0;32mfrom\u001b[0m \u001b[0mgoogle\u001b[0m\u001b[0;34m.\u001b[0m\u001b[0mcolab\u001b[0m\u001b[0;34m.\u001b[0m\u001b[0mpatches\u001b[0m \u001b[0;32mimport\u001b[0m \u001b[0mcv2_imshow\u001b[0m\u001b[0;34m\u001b[0m\u001b[0;34m\u001b[0m\u001b[0m\n\u001b[1;32m      3\u001b[0m \u001b[0mimg\u001b[0m \u001b[0;34m=\u001b[0m \u001b[0mcv2\u001b[0m\u001b[0;34m.\u001b[0m\u001b[0mimread\u001b[0m\u001b[0;34m(\u001b[0m\u001b[0;34m'/content/data65_27.png'\u001b[0m\u001b[0;34m)\u001b[0m\u001b[0;34m\u001b[0m\u001b[0;34m\u001b[0m\u001b[0m\n\u001b[0;32m----> 4\u001b[0;31m \u001b[0mimg\u001b[0m \u001b[0;34m=\u001b[0m \u001b[0mcv2\u001b[0m\u001b[0;34m.\u001b[0m\u001b[0mcvtColor\u001b[0m\u001b[0;34m(\u001b[0m\u001b[0mimg\u001b[0m\u001b[0;34m,\u001b[0m \u001b[0mcv2\u001b[0m\u001b[0;34m.\u001b[0m\u001b[0mCOLOR_BGR2GRAY\u001b[0m\u001b[0;34m)\u001b[0m\u001b[0;34m\u001b[0m\u001b[0;34m\u001b[0m\u001b[0m\n\u001b[0m\u001b[1;32m      5\u001b[0m \u001b[0mimg\u001b[0m\u001b[0;34m=\u001b[0m \u001b[0mcv2\u001b[0m\u001b[0;34m.\u001b[0m\u001b[0mresize\u001b[0m\u001b[0;34m(\u001b[0m\u001b[0mimg\u001b[0m\u001b[0;34m,\u001b[0m \u001b[0mdsize\u001b[0m\u001b[0;34m=\u001b[0m\u001b[0;34m(\u001b[0m\u001b[0;36m128\u001b[0m\u001b[0;34m,\u001b[0m\u001b[0;36m128\u001b[0m\u001b[0;34m)\u001b[0m\u001b[0;34m,\u001b[0m \u001b[0minterpolation\u001b[0m \u001b[0;34m=\u001b[0m \u001b[0mcv2\u001b[0m\u001b[0;34m.\u001b[0m\u001b[0mINTER_CUBIC\u001b[0m\u001b[0;34m)\u001b[0m\u001b[0;34m\u001b[0m\u001b[0;34m\u001b[0m\u001b[0m\n\u001b[1;32m      6\u001b[0m \u001b[0;31m# plt.imshow(img)\u001b[0m\u001b[0;34m\u001b[0m\u001b[0;34m\u001b[0m\u001b[0;34m\u001b[0m\u001b[0m\n",
            "\u001b[0;31merror\u001b[0m: OpenCV(4.1.2) /io/opencv/modules/imgproc/src/color.cpp:182: error: (-215:Assertion failed) !_src.empty() in function 'cvtColor'\n"
          ]
        }
      ]
    },
    {
      "cell_type": "code",
      "metadata": {
        "id": "IPlFIP9VnWcW"
      },
      "source": [
        "img.shape"
      ],
      "execution_count": null,
      "outputs": []
    },
    {
      "cell_type": "code",
      "metadata": {
        "id": "kh3tf8NtpHWw"
      },
      "source": [
        ""
      ],
      "execution_count": null,
      "outputs": []
    },
    {
      "cell_type": "code",
      "metadata": {
        "id": "hcDTSZQUm_b2"
      },
      "source": [
        "img2 = cv2.imread('/content/target_image_1.png')\n",
        "img2 = cv2.cvtColor(img2, cv2.COLOR_BGR2GRAY)\n",
        "img2= cv2.resize(img2, dsize=(128,128), interpolation = cv2.INTER_CUBIC)\n",
        "# plt.imshow(img)\n",
        "img2.shape\n",
        "\n",
        "img2 = np.reshape(img2, (1, 128, 128))\n",
        "# img = np.expand_dims(img, axis = 0)\n",
        "# img = np.expand_dims(img, axis = 3)\n",
        "# img = np.reshape(128,128)\n",
        "# img = img.astype('float32')\n",
        "img2 = img2/255\n",
        "img2 = np.repeat(img2[..., np.newaxis], 3, -1)\n",
        "# plt.imshow(img.reshape(128,128), cmap = plt.cm.binary)"
      ],
      "execution_count": null,
      "outputs": []
    },
    {
      "cell_type": "code",
      "metadata": {
        "id": "4e7k8WDWpa1c"
      },
      "source": [
        "img2.shape"
      ],
      "execution_count": null,
      "outputs": []
    },
    {
      "cell_type": "code",
      "metadata": {
        "id": "BGxf25z0lUM8"
      },
      "source": [
        "predictionimg = model.predict([img,img2])"
      ],
      "execution_count": null,
      "outputs": []
    },
    {
      "cell_type": "code",
      "metadata": {
        "id": "YNAbeatNl20z"
      },
      "source": [
        "predictionimg"
      ],
      "execution_count": null,
      "outputs": []
    },
    {
      "cell_type": "code",
      "metadata": {
        "id": "3Z38S64ZpeB_"
      },
      "source": [
        ""
      ],
      "execution_count": null,
      "outputs": []
    }
  ]
}