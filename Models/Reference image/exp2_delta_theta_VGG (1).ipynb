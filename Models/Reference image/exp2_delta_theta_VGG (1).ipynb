{
  "nbformat": 4,
  "nbformat_minor": 0,
  "metadata": {
    "colab": {
      "name": "exp2 delta_theta VGG.ipynb",
      "provenance": [],
      "collapsed_sections": []
    },
    "kernelspec": {
      "name": "python3",
      "display_name": "Python 3"
    }
  },
  "cells": [
    {
      "cell_type": "code",
      "metadata": {
        "colab": {
          "base_uri": "https://localhost:8080/"
        },
        "id": "b5mcsngV9IjX",
        "outputId": "99eb6af0-67b2-4563-89b8-184ff190aa50"
      },
      "source": [
        "from google.colab import drive\n",
        "drive.mount('/content/drive')"
      ],
      "execution_count": 49,
      "outputs": [
        {
          "output_type": "stream",
          "text": [
            "Drive already mounted at /content/drive; to attempt to forcibly remount, call drive.mount(\"/content/drive\", force_remount=True).\n"
          ],
          "name": "stdout"
        }
      ]
    },
    {
      "cell_type": "code",
      "metadata": {
        "colab": {
          "base_uri": "https://localhost:8080/"
        },
        "id": "aClCGALS9N6c",
        "outputId": "c1d037a2-5434-4895-aa55-699c027a17db"
      },
      "source": [
        "import os\n",
        "os.chdir('/content/drive/My Drive')\n",
        "!pwd"
      ],
      "execution_count": 50,
      "outputs": [
        {
          "output_type": "stream",
          "text": [
            "/content/drive/My Drive\n"
          ],
          "name": "stdout"
        }
      ]
    },
    {
      "cell_type": "code",
      "metadata": {
        "colab": {
          "base_uri": "https://localhost:8080/"
        },
        "id": "k_YleJ_xiBkd",
        "outputId": "bce387bb-75ac-4d1e-be01-3a32f0b96105"
      },
      "source": [
        "%tensorflow_version"
      ],
      "execution_count": 51,
      "outputs": [
        {
          "output_type": "stream",
          "text": [
            "Currently selected TF version: 2.x\n",
            "Available versions:\n",
            "* 1.x\n",
            "* 2.x\n"
          ],
          "name": "stdout"
        }
      ]
    },
    {
      "cell_type": "code",
      "metadata": {
        "id": "WUAVH2STVC_U"
      },
      "source": [
        "import pandas as pd\n",
        "import numpy as np\n",
        "from skimage.io import imread\n",
        "from sklearn.model_selection import train_test_split\n",
        "from matplotlib import pyplot as plt\n",
        "# %matplotlib inline\n",
        "\n",
        "import keras\n",
        "from keras import optimizers\n",
        "from keras.utils import to_categorical\n",
        "from keras.layers import Input, Dense, Flatten, Dropout, Conv2D, MaxPooling2D, Activation, concatenate\n",
        "from keras.layers.advanced_activations import ReLU\n",
        "from keras.models import Model\n",
        "from keras.optimizers import Adam, SGD\n",
        "from keras.callbacks import ModelCheckpoint\n",
        "import random"
      ],
      "execution_count": 52,
      "outputs": []
    },
    {
      "cell_type": "code",
      "metadata": {
        "id": "8TAoFO4R-jOC"
      },
      "source": [
        "def load_dataset():\n",
        "  train_data = pd.read_csv('trainset.csv')\n",
        "  y_train = pd.read_csv('theta.csv')\n",
        "  target_data = pd.read_csv('target_data.csv')\n",
        "  # target_label = pd.read_csv('target_label.csv')\n",
        "  return train_data, y_train, target_data"
      ],
      "execution_count": 53,
      "outputs": []
    },
    {
      "cell_type": "code",
      "metadata": {
        "id": "XJwQAkT2-zkv"
      },
      "source": [
        "# train_data.head()\n",
        "# y_train.head()"
      ],
      "execution_count": 6,
      "outputs": []
    },
    {
      "cell_type": "code",
      "metadata": {
        "id": "Wy57sGOsBdNh"
      },
      "source": [
        "train_data, y_train, target_data = load_dataset()"
      ],
      "execution_count": 54,
      "outputs": []
    },
    {
      "cell_type": "code",
      "metadata": {
        "id": "mmppeSVB_BRm"
      },
      "source": [
        "# train_data.shape\n",
        "# target_data.shape"
      ],
      "execution_count": null,
      "outputs": []
    },
    {
      "cell_type": "code",
      "metadata": {
        "id": "KfuJXir7E1-k"
      },
      "source": [
        "num_classes = 1\n",
        "train_data = np.array(train_data.iloc[:,:])\n",
        "train_data = np.array([np.reshape(i,(128,128)) for i in train_data])\n",
        "target_data = np.array(target_data.iloc[:,:])\n",
        "target_data = np.array([np.reshape(i,(128,128)) for i in target_data])"
      ],
      "execution_count": 55,
      "outputs": []
    },
    {
      "cell_type": "code",
      "metadata": {
        "colab": {
          "base_uri": "https://localhost:8080/"
        },
        "id": "w02tvuvtE5k_",
        "outputId": "dd687e15-e8b1-4225-9a30-7dda0748768c"
      },
      "source": [
        "train_data.shape\n",
        "target_data.shape"
      ],
      "execution_count": 56,
      "outputs": [
        {
          "output_type": "execute_result",
          "data": {
            "text/plain": [
              "(333, 128, 128)"
            ]
          },
          "metadata": {
            "tags": []
          },
          "execution_count": 56
        }
      ]
    },
    {
      "cell_type": "code",
      "metadata": {
        "colab": {
          "base_uri": "https://localhost:8080/"
        },
        "id": "QaXR-fhI1TMc",
        "outputId": "eb6762f6-57ee-4995-d529-c21c6d24d04f"
      },
      "source": [
        "train_data = train_data.astype('float32')\n",
        "train_data = train_data/255\n",
        "\n",
        "rgb_batch = np.repeat(train_data[..., np.newaxis], 3, -1)\n",
        "rgb_batch.shape\n",
        "\n",
        "target_data = target_data.astype('float32')\n",
        "target_data = target_data/255\n",
        "\n",
        "rgb_target = np.repeat(target_data[..., np.newaxis], 3, -1)\n",
        "rgb_target.shape"
      ],
      "execution_count": 57,
      "outputs": [
        {
          "output_type": "execute_result",
          "data": {
            "text/plain": [
              "(333, 128, 128, 3)"
            ]
          },
          "metadata": {
            "tags": []
          },
          "execution_count": 57
        }
      ]
    },
    {
      "cell_type": "code",
      "metadata": {
        "id": "F8QTLdM0QeBr"
      },
      "source": [
        "target_data = rgb_target"
      ],
      "execution_count": 58,
      "outputs": []
    },
    {
      "cell_type": "code",
      "metadata": {
        "colab": {
          "base_uri": "https://localhost:8080/"
        },
        "id": "lWPUCq7qhC3N",
        "outputId": "7fc3ce5b-93cf-4e29-f4bd-2011c922a224"
      },
      "source": [
        "target_data.shape"
      ],
      "execution_count": 59,
      "outputs": [
        {
          "output_type": "execute_result",
          "data": {
            "text/plain": [
              "(333, 128, 128, 3)"
            ]
          },
          "metadata": {
            "tags": []
          },
          "execution_count": 59
        }
      ]
    },
    {
      "cell_type": "code",
      "metadata": {
        "colab": {
          "base_uri": "https://localhost:8080/"
        },
        "id": "rbiybz5AuxHs",
        "outputId": "055fa935-4c30-48f0-fbda-efef46689d40"
      },
      "source": [
        "minx = np.amin(y_train)\n",
        "print(minx)\n",
        "maxx = np.amax(y_train)\n",
        "print(maxx)"
      ],
      "execution_count": 61,
      "outputs": [
        {
          "output_type": "stream",
          "text": [
            "theta   -25\n",
            "dtype: int64\n",
            "theta    55\n",
            "dtype: int64\n"
          ],
          "name": "stdout"
        }
      ]
    },
    {
      "cell_type": "code",
      "metadata": {
        "id": "PP7Qcm5jXV4U"
      },
      "source": [
        "y_norm = (2*(y_train-minx)/(maxx-minx)) - 1"
      ],
      "execution_count": 62,
      "outputs": []
    },
    {
      "cell_type": "code",
      "metadata": {
        "colab": {
          "base_uri": "https://localhost:8080/"
        },
        "id": "6EegBbpyYGNn",
        "outputId": "bcc00c7f-1120-48f7-832f-431b401af468"
      },
      "source": [
        "print(y_norm)"
      ],
      "execution_count": 63,
      "outputs": [
        {
          "output_type": "stream",
          "text": [
            "     theta\n",
            "0      1.0\n",
            "1      1.0\n",
            "2      1.0\n",
            "3      1.0\n",
            "4      1.0\n",
            "..     ...\n",
            "328   -1.0\n",
            "329   -1.0\n",
            "330   -1.0\n",
            "331   -1.0\n",
            "332   -1.0\n",
            "\n",
            "[333 rows x 1 columns]\n"
          ],
          "name": "stdout"
        }
      ]
    },
    {
      "cell_type": "code",
      "metadata": {
        "id": "aAu-kK85Zesh"
      },
      "source": [
        "y_train = y_norm"
      ],
      "execution_count": 64,
      "outputs": []
    },
    {
      "cell_type": "code",
      "metadata": {
        "id": "l3J9DPmoEonU"
      },
      "source": [
        "x_train, x_test, y_train, y_test = train_test_split(rgb_batch, y_train, test_size = 0.3, random_state=666)\n",
        "target_xtrain, target_xtest = train_test_split(target_data, test_size = 0.3, random_state=666)"
      ],
      "execution_count": 65,
      "outputs": []
    },
    {
      "cell_type": "code",
      "metadata": {
        "id": "mEYix5VfIEhe"
      },
      "source": [
        "input_shape = (128, 128, 3)"
      ],
      "execution_count": 66,
      "outputs": []
    },
    {
      "cell_type": "code",
      "metadata": {
        "colab": {
          "base_uri": "https://localhost:8080/"
        },
        "id": "8yKRdRCEagQy",
        "outputId": "3ebf9765-0d1d-4e02-af05-02b5647e480b"
      },
      "source": [
        "# print(y_test)"
      ],
      "execution_count": null,
      "outputs": [
        {
          "output_type": "stream",
          "text": [
            "     theta  R1  R2   B\n",
            "3       55   7   0   2\n",
            "184     15   7 -25  -3\n",
            "302    -25  -8   0  12\n",
            "239     -5  -3   0  -3\n",
            "50      45  -3   0   2\n",
            "..     ...  ..  ..  ..\n",
            "14      55  -8   0   2\n",
            "253     -5   7 -20   2\n",
            "193      5 -18   0  12\n",
            "54      45  -3   0  -3\n",
            "177     15   7 -10   2\n",
            "\n",
            "[100 rows x 4 columns]\n"
          ],
          "name": "stdout"
        }
      ]
    },
    {
      "cell_type": "code",
      "metadata": {
        "id": "TlmvUKDGMzlZ"
      },
      "source": [
        "def VGG_16(input_image):\n",
        "    model = Conv2D(64, (3,3), padding=\"same\", input_shape = input_shape)(input_image)\n",
        "    model = ReLU(max_value=1.0)(model)\n",
        "    # model = Conv2D(64, (3,3), padding=\"same\")(model)\n",
        "    # model = ReLU(max_value=1.0)(model)\n",
        "    model = MaxPooling2D(pool_size=(2,2), padding=\"same\")(model)\n",
        "    # model = Dropout(0.25)(model)\n",
        "\n",
        "    model = Conv2D(128, (3,3), padding=\"same\")(model)\n",
        "    model = ReLU(max_value=1.0)(model)\n",
        "    # model = Conv2D(128, (3,3), padding=\"same\")(model)\n",
        "    # model = ReLU(max_value=1.0)(model)\n",
        "    # model = MaxPooling2D(pool_size=(2,2), padding=\"same\")(model)\n",
        "    model = Dropout(0.25)(model)\n",
        "\n",
        "    # model = Conv2D(256, (3,3), padding=\"same\")(model)\n",
        "    # model = ReLU(max_value=1.0)(model)\n",
        "    model = Conv2D(256, (3,3), padding=\"same\")(model)\n",
        "    model = ReLU(max_value=1.0)(model)\n",
        "    model = MaxPooling2D(pool_size=(2,2), padding=\"same\")(model)\n",
        "    model = Dropout(0.25)(model)\n",
        "\n",
        "\n",
        "    return model"
      ],
      "execution_count": 67,
      "outputs": []
    },
    {
      "cell_type": "code",
      "metadata": {
        "id": "gyD2K2hs47BT"
      },
      "source": [
        "current_input = Input(shape=input_shape)\n",
        "current_model = VGG_16(current_input)\n",
        "\n",
        "target_input = Input(shape=input_shape)\n",
        "target_model = VGG_16(target_input)"
      ],
      "execution_count": 68,
      "outputs": []
    },
    {
      "cell_type": "code",
      "metadata": {
        "id": "oGY8OydFTU8E"
      },
      "source": [
        "conv = concatenate([current_model, target_model])"
      ],
      "execution_count": 69,
      "outputs": []
    },
    {
      "cell_type": "code",
      "metadata": {
        "id": "IjgFVGD1Ta_N"
      },
      "source": [
        "conv = Flatten()(conv)\n",
        "dense = Dense(512)(conv)\n",
        "dense = ReLU(max_value=1.0)(dense)\n",
        "dense = Dropout(0.25)(dense)\n",
        "# dense = Dense(512)(dense)\n",
        "# dense = ReLU(max_value=1.0)(dense)\n",
        "# dense = Dropout(0.5)(dense)\n",
        "\n",
        "output = Dense(num_classes, activation='tanh')(dense)\n",
        "\n",
        "model = Model(inputs=[current_input, target_input], outputs=[output])\n",
        "\n",
        "opt = SGD(learning_rate=0.01)\n",
        "\n",
        "model.compile(loss='mean_squared_error', optimizer=opt, metrics=['mse'])\n"
      ],
      "execution_count": 70,
      "outputs": []
    },
    {
      "cell_type": "code",
      "metadata": {
        "id": "7rHsTXpiU4Zw"
      },
      "source": [
        "best_weights_file=\"weights.best.hdf5\"\n",
        "checkpoint = ModelCheckpoint(best_weights_file, monitor='val_accuracy', verbose=1, save_best_only=True, mode='max')\n",
        "callbacks = [checkpoint]"
      ],
      "execution_count": null,
      "outputs": []
    },
    {
      "cell_type": "code",
      "metadata": {
        "colab": {
          "base_uri": "https://localhost:8080/"
        },
        "id": "6LLcG_DpWKp7",
        "outputId": "87e0e08a-805d-4cfa-ffa5-f2323b8c6717"
      },
      "source": [
        "model.fit([x_train, target_xtrain], y_train,\n",
        "          epochs=30,\n",
        "          verbose=1)"
      ],
      "execution_count": 71,
      "outputs": [
        {
          "output_type": "stream",
          "text": [
            "Epoch 1/30\n",
            "8/8 [==============================] - 116s 14s/step - loss: 1.0543 - mse: 1.0543\n",
            "Epoch 2/30\n",
            "8/8 [==============================] - 111s 14s/step - loss: 1.1598 - mse: 1.1598\n",
            "Epoch 3/30\n",
            "8/8 [==============================] - 111s 14s/step - loss: 0.4384 - mse: 0.4384\n",
            "Epoch 4/30\n",
            "8/8 [==============================] - 113s 14s/step - loss: 0.4192 - mse: 0.4192\n",
            "Epoch 5/30\n",
            "8/8 [==============================] - 111s 14s/step - loss: 0.4028 - mse: 0.4028\n",
            "Epoch 6/30\n",
            "8/8 [==============================] - 112s 14s/step - loss: 0.4173 - mse: 0.4173\n",
            "Epoch 7/30\n",
            "8/8 [==============================] - 111s 14s/step - loss: 0.4056 - mse: 0.4056\n",
            "Epoch 8/30\n",
            "8/8 [==============================] - 113s 14s/step - loss: 0.4267 - mse: 0.4267\n",
            "Epoch 9/30\n",
            "8/8 [==============================] - 111s 14s/step - loss: 0.4009 - mse: 0.4009\n",
            "Epoch 10/30\n",
            "8/8 [==============================] - 110s 14s/step - loss: 0.4048 - mse: 0.4048\n",
            "Epoch 11/30\n",
            "8/8 [==============================] - 111s 14s/step - loss: 0.4022 - mse: 0.4022\n",
            "Epoch 12/30\n",
            "8/8 [==============================] - 110s 14s/step - loss: 0.3984 - mse: 0.3984\n",
            "Epoch 13/30\n",
            "8/8 [==============================] - 110s 14s/step - loss: 0.4323 - mse: 0.4323\n",
            "Epoch 14/30\n",
            "8/8 [==============================] - 113s 14s/step - loss: 0.3762 - mse: 0.3762\n",
            "Epoch 15/30\n",
            "8/8 [==============================] - 110s 14s/step - loss: 0.3901 - mse: 0.3901\n",
            "Epoch 16/30\n",
            "8/8 [==============================] - 111s 14s/step - loss: 0.4139 - mse: 0.4139\n",
            "Epoch 17/30\n",
            "8/8 [==============================] - 110s 14s/step - loss: 0.3919 - mse: 0.3919\n",
            "Epoch 18/30\n",
            "8/8 [==============================] - 110s 14s/step - loss: 0.4084 - mse: 0.4084\n",
            "Epoch 19/30\n",
            "8/8 [==============================] - 110s 14s/step - loss: 0.3876 - mse: 0.3876\n",
            "Epoch 20/30\n",
            "8/8 [==============================] - 110s 14s/step - loss: 0.4119 - mse: 0.4119\n",
            "Epoch 21/30\n",
            "8/8 [==============================] - 111s 14s/step - loss: 0.4128 - mse: 0.4128\n",
            "Epoch 22/30\n",
            "8/8 [==============================] - 110s 14s/step - loss: 0.4084 - mse: 0.4084\n",
            "Epoch 23/30\n",
            "8/8 [==============================] - 110s 14s/step - loss: 0.3627 - mse: 0.3627\n",
            "Epoch 24/30\n",
            "8/8 [==============================] - 110s 14s/step - loss: 0.3807 - mse: 0.3807\n",
            "Epoch 25/30\n",
            "8/8 [==============================] - 110s 14s/step - loss: 0.3875 - mse: 0.3875\n",
            "Epoch 26/30\n",
            "8/8 [==============================] - 110s 14s/step - loss: 0.4174 - mse: 0.4174\n",
            "Epoch 27/30\n",
            "8/8 [==============================] - 110s 14s/step - loss: 0.3821 - mse: 0.3821\n",
            "Epoch 28/30\n",
            "8/8 [==============================] - 111s 14s/step - loss: 0.4058 - mse: 0.4058\n",
            "Epoch 29/30\n",
            "8/8 [==============================] - 110s 14s/step - loss: 0.3854 - mse: 0.3854\n",
            "Epoch 30/30\n",
            "8/8 [==============================] - 111s 14s/step - loss: 0.4301 - mse: 0.4301\n"
          ],
          "name": "stdout"
        },
        {
          "output_type": "execute_result",
          "data": {
            "text/plain": [
              "<tensorflow.python.keras.callbacks.History at 0x7efd2ee69990>"
            ]
          },
          "metadata": {
            "tags": []
          },
          "execution_count": 71
        }
      ]
    },
    {
      "cell_type": "code",
      "metadata": {
        "id": "Vc_R1cBMXEOM",
        "colab": {
          "base_uri": "https://localhost:8080/"
        },
        "outputId": "131c1c16-83e6-451a-e961-26ab133bf254"
      },
      "source": [
        "model.evaluate([x_test, target_xtest], y_test)"
      ],
      "execution_count": 72,
      "outputs": [
        {
          "output_type": "stream",
          "text": [
            "4/4 [==============================] - 12s 3s/step - loss: 0.3989 - mse: 0.3989\n"
          ],
          "name": "stdout"
        },
        {
          "output_type": "execute_result",
          "data": {
            "text/plain": [
              "[0.3988601565361023, 0.3988601565361023]"
            ]
          },
          "metadata": {
            "tags": []
          },
          "execution_count": 72
        }
      ]
    },
    {
      "cell_type": "code",
      "metadata": {
        "colab": {
          "base_uri": "https://localhost:8080/",
          "height": 195
        },
        "id": "ATVPipF3oiAz",
        "outputId": "40918071-3867-4448-fe82-f108fa3bc91b"
      },
      "source": [
        "y_test.head()"
      ],
      "execution_count": 28,
      "outputs": [
        {
          "output_type": "execute_result",
          "data": {
            "text/html": [
              "<div>\n",
              "<style scoped>\n",
              "    .dataframe tbody tr th:only-of-type {\n",
              "        vertical-align: middle;\n",
              "    }\n",
              "\n",
              "    .dataframe tbody tr th {\n",
              "        vertical-align: top;\n",
              "    }\n",
              "\n",
              "    .dataframe thead th {\n",
              "        text-align: right;\n",
              "    }\n",
              "</style>\n",
              "<table border=\"1\" class=\"dataframe\">\n",
              "  <thead>\n",
              "    <tr style=\"text-align: right;\">\n",
              "      <th></th>\n",
              "      <th>theta</th>\n",
              "    </tr>\n",
              "  </thead>\n",
              "  <tbody>\n",
              "    <tr>\n",
              "      <th>3</th>\n",
              "      <td>1.00</td>\n",
              "    </tr>\n",
              "    <tr>\n",
              "      <th>184</th>\n",
              "      <td>0.00</td>\n",
              "    </tr>\n",
              "    <tr>\n",
              "      <th>302</th>\n",
              "      <td>-1.00</td>\n",
              "    </tr>\n",
              "    <tr>\n",
              "      <th>239</th>\n",
              "      <td>-0.50</td>\n",
              "    </tr>\n",
              "    <tr>\n",
              "      <th>50</th>\n",
              "      <td>0.75</td>\n",
              "    </tr>\n",
              "  </tbody>\n",
              "</table>\n",
              "</div>"
            ],
            "text/plain": [
              "     theta\n",
              "3     1.00\n",
              "184   0.00\n",
              "302  -1.00\n",
              "239  -0.50\n",
              "50    0.75"
            ]
          },
          "metadata": {
            "tags": []
          },
          "execution_count": 28
        }
      ]
    },
    {
      "cell_type": "code",
      "metadata": {
        "id": "t-Pp8UsinhpG"
      },
      "source": [
        "prediction = model.predict([x_test, target_xtest])\n",
        "# prediction = np.rint(prediction)"
      ],
      "execution_count": 73,
      "outputs": []
    },
    {
      "cell_type": "code",
      "metadata": {
        "id": "-Ai-hdEUrMcK",
        "colab": {
          "base_uri": "https://localhost:8080/"
        },
        "outputId": "3d601eeb-2e66-4903-bdbf-37e97f5d8475"
      },
      "source": [
        "print(prediction)"
      ],
      "execution_count": 74,
      "outputs": [
        {
          "output_type": "stream",
          "text": [
            "[[-0.03188336]\n",
            " [ 0.00914084]\n",
            " [-0.09318174]\n",
            " [-0.04803247]\n",
            " [-0.00203466]\n",
            " [-0.09740642]\n",
            " [ 0.02748317]\n",
            " [-0.04390462]\n",
            " [ 0.03010703]\n",
            " [-0.08657096]\n",
            " [-0.13793817]\n",
            " [-0.05444599]\n",
            " [ 0.04946668]\n",
            " [ 0.00573944]\n",
            " [-0.07695134]\n",
            " [-0.01470434]\n",
            " [-0.10797944]\n",
            " [-0.11021017]\n",
            " [-0.07943436]\n",
            " [-0.05983481]\n",
            " [-0.06298362]\n",
            " [-0.05643654]\n",
            " [-0.06251619]\n",
            " [-0.03402146]\n",
            " [-0.07464283]\n",
            " [-0.00287849]\n",
            " [-0.0669593 ]\n",
            " [ 0.03735997]\n",
            " [ 0.03182318]\n",
            " [-0.12525657]\n",
            " [ 0.02087166]\n",
            " [-0.10347075]\n",
            " [ 0.06758225]\n",
            " [-0.10929802]\n",
            " [ 0.03685772]\n",
            " [-0.0024672 ]\n",
            " [ 0.07398522]\n",
            " [-0.08331723]\n",
            " [-0.1026245 ]\n",
            " [ 0.01526519]\n",
            " [-0.05024613]\n",
            " [ 0.07374408]\n",
            " [ 0.09768215]\n",
            " [-0.10067534]\n",
            " [ 0.02812889]\n",
            " [-0.04592271]\n",
            " [-0.02307035]\n",
            " [-0.08727916]\n",
            " [ 0.01075698]\n",
            " [-0.07288319]\n",
            " [ 0.087308  ]\n",
            " [-0.01394879]\n",
            " [ 0.02379046]\n",
            " [ 0.02012995]\n",
            " [-0.06649878]\n",
            " [-0.02132892]\n",
            " [ 0.0299034 ]\n",
            " [-0.01199036]\n",
            " [ 0.00378139]\n",
            " [-0.01128882]\n",
            " [-0.12192337]\n",
            " [-0.08393504]\n",
            " [-0.04558968]\n",
            " [ 0.06663311]\n",
            " [-0.03718079]\n",
            " [ 0.03378954]\n",
            " [-0.00791576]\n",
            " [-0.09176574]\n",
            " [ 0.03483233]\n",
            " [-0.01332446]\n",
            " [-0.10358234]\n",
            " [-0.0465422 ]\n",
            " [-0.03495584]\n",
            " [-0.0369129 ]\n",
            " [ 0.05283147]\n",
            " [-0.07682933]\n",
            " [-0.03497426]\n",
            " [-0.03855352]\n",
            " [ 0.05343002]\n",
            " [-0.10770372]\n",
            " [-0.08003088]\n",
            " [-0.01289784]\n",
            " [ 0.08051984]\n",
            " [ 0.00374543]\n",
            " [-0.00206901]\n",
            " [-0.03619374]\n",
            " [-0.01660862]\n",
            " [-0.11522093]\n",
            " [-0.02946452]\n",
            " [-0.07938208]\n",
            " [-0.03014284]\n",
            " [ 0.00801922]\n",
            " [-0.00874879]\n",
            " [ 0.07001044]\n",
            " [-0.04992867]\n",
            " [ 0.00517903]\n",
            " [ 0.02706667]\n",
            " [-0.01783971]\n",
            " [ 0.04300828]\n",
            " [-0.10135523]]\n"
          ],
          "name": "stdout"
        }
      ]
    },
    {
      "cell_type": "code",
      "metadata": {
        "id": "965J0fNFpjiJ"
      },
      "source": [
        "true_value = prediction+1"
      ],
      "execution_count": 76,
      "outputs": []
    },
    {
      "cell_type": "code",
      "metadata": {
        "id": "iuhgiB7i-wU9"
      },
      "source": [
        "true_value = ((true_value*80)/2) + (-25)"
      ],
      "execution_count": 81,
      "outputs": []
    },
    {
      "cell_type": "code",
      "metadata": {
        "colab": {
          "base_uri": "https://localhost:8080/"
        },
        "id": "sNdbMkZXqLCM",
        "outputId": "6c443844-2058-42db-f222-dde03efe2cf2"
      },
      "source": [
        "print(true_value)"
      ],
      "execution_count": 82,
      "outputs": [
        {
          "output_type": "stream",
          "text": [
            "[[13.724667 ]\n",
            " [15.365635 ]\n",
            " [11.272732 ]\n",
            " [13.078701 ]\n",
            " [14.918613 ]\n",
            " [11.1037445]\n",
            " [16.099327 ]\n",
            " [13.243816 ]\n",
            " [16.20428  ]\n",
            " [11.537163 ]\n",
            " [ 9.482475 ]\n",
            " [12.822159 ]\n",
            " [16.978668 ]\n",
            " [15.229576 ]\n",
            " [11.9219475]\n",
            " [14.411827 ]\n",
            " [10.680824 ]\n",
            " [10.591591 ]\n",
            " [11.822628 ]\n",
            " [12.606606 ]\n",
            " [12.480656 ]\n",
            " [12.742538 ]\n",
            " [12.4993515]\n",
            " [13.639141 ]\n",
            " [12.014286 ]\n",
            " [14.884861 ]\n",
            " [12.321629 ]\n",
            " [16.4944   ]\n",
            " [16.272926 ]\n",
            " [ 9.989738 ]\n",
            " [15.834866 ]\n",
            " [10.861172 ]\n",
            " [17.703289 ]\n",
            " [10.628082 ]\n",
            " [16.474308 ]\n",
            " [14.90131  ]\n",
            " [17.959408 ]\n",
            " [11.667313 ]\n",
            " [10.89502  ]\n",
            " [15.610611 ]\n",
            " [12.990154 ]\n",
            " [17.94976  ]\n",
            " [18.907284 ]\n",
            " [10.972984 ]\n",
            " [16.125153 ]\n",
            " [13.163094 ]\n",
            " [14.077187 ]\n",
            " [11.508835 ]\n",
            " [15.430279 ]\n",
            " [12.084671 ]\n",
            " [18.492321 ]\n",
            " [14.442047 ]\n",
            " [15.951618 ]\n",
            " [15.805199 ]\n",
            " [12.34005  ]\n",
            " [14.146843 ]\n",
            " [16.196136 ]\n",
            " [14.520386 ]\n",
            " [15.151257 ]\n",
            " [14.548447 ]\n",
            " [10.123066 ]\n",
            " [11.642601 ]\n",
            " [13.1764145]\n",
            " [17.665325 ]\n",
            " [13.512768 ]\n",
            " [16.351582 ]\n",
            " [14.6833725]\n",
            " [11.329369 ]\n",
            " [16.393295 ]\n",
            " [14.467022 ]\n",
            " [10.856709 ]\n",
            " [13.138313 ]\n",
            " [13.601765 ]\n",
            " [13.523483 ]\n",
            " [17.113262 ]\n",
            " [11.9268265]\n",
            " [13.601028 ]\n",
            " [13.457859 ]\n",
            " [17.137203 ]\n",
            " [10.691849 ]\n",
            " [11.798767 ]\n",
            " [14.484085 ]\n",
            " [18.22079  ]\n",
            " [15.149818 ]\n",
            " [14.91724  ]\n",
            " [13.55225  ]\n",
            " [14.335655 ]\n",
            " [10.391163 ]\n",
            " [13.821419 ]\n",
            " [11.824718 ]\n",
            " [13.794285 ]\n",
            " [15.32077  ]\n",
            " [14.650047 ]\n",
            " [17.800415 ]\n",
            " [13.002853 ]\n",
            " [15.207161 ]\n",
            " [16.082668 ]\n",
            " [14.286411 ]\n",
            " [16.720333 ]\n",
            " [10.945789 ]]\n"
          ],
          "name": "stdout"
        }
      ]
    },
    {
      "cell_type": "code",
      "metadata": {
        "id": "mKKobFoZqQHn"
      },
      "source": [
        "true_gt = (((y_test + 1)*(55+25))/2)-25"
      ],
      "execution_count": 83,
      "outputs": []
    },
    {
      "cell_type": "code",
      "metadata": {
        "colab": {
          "base_uri": "https://localhost:8080/"
        },
        "id": "oGWLz2rZqUYU",
        "outputId": "7775d8ff-d1d3-4e05-e9e2-c165bb01c7f9"
      },
      "source": [
        "print(true_gt)"
      ],
      "execution_count": 84,
      "outputs": [
        {
          "output_type": "stream",
          "text": [
            "     theta\n",
            "3     55.0\n",
            "184   15.0\n",
            "302  -25.0\n",
            "239   -5.0\n",
            "50    45.0\n",
            "..     ...\n",
            "14    55.0\n",
            "253   -5.0\n",
            "193    5.0\n",
            "54    45.0\n",
            "177   15.0\n",
            "\n",
            "[100 rows x 1 columns]\n"
          ],
          "name": "stdout"
        }
      ]
    },
    {
      "cell_type": "code",
      "metadata": {
        "id": "eJG4d0sotr3v"
      },
      "source": [
        "arr_gt = true_gt.to_numpy()"
      ],
      "execution_count": 42,
      "outputs": []
    },
    {
      "cell_type": "code",
      "metadata": {
        "colab": {
          "base_uri": "https://localhost:8080/"
        },
        "id": "JYWb_ztJt1KM",
        "outputId": "210300d5-e3c3-4527-ca18-6b402e73deb6"
      },
      "source": [
        "print(arr_gt)"
      ],
      "execution_count": 43,
      "outputs": [
        {
          "output_type": "stream",
          "text": [
            "[[ 55.]\n",
            " [ 15.]\n",
            " [-25.]\n",
            " [ -5.]\n",
            " [ 45.]\n",
            " [-15.]\n",
            " [ 15.]\n",
            " [ 55.]\n",
            " [ 25.]\n",
            " [-25.]\n",
            " [  5.]\n",
            " [-25.]\n",
            " [ -5.]\n",
            " [  5.]\n",
            " [  5.]\n",
            " [-15.]\n",
            " [ -5.]\n",
            " [ 15.]\n",
            " [ 15.]\n",
            " [ 15.]\n",
            " [ 15.]\n",
            " [-25.]\n",
            " [ 45.]\n",
            " [ 35.]\n",
            " [ 55.]\n",
            " [ 55.]\n",
            " [  5.]\n",
            " [ 35.]\n",
            " [  5.]\n",
            " [  5.]\n",
            " [ 35.]\n",
            " [ 15.]\n",
            " [ 15.]\n",
            " [-15.]\n",
            " [ 45.]\n",
            " [ 35.]\n",
            " [ 55.]\n",
            " [ -5.]\n",
            " [-15.]\n",
            " [ -5.]\n",
            " [ 15.]\n",
            " [ 25.]\n",
            " [-25.]\n",
            " [ -5.]\n",
            " [ 45.]\n",
            " [ 55.]\n",
            " [ 15.]\n",
            " [-15.]\n",
            " [ 55.]\n",
            " [ 25.]\n",
            " [ 15.]\n",
            " [ 15.]\n",
            " [ -5.]\n",
            " [ 45.]\n",
            " [ 55.]\n",
            " [ 35.]\n",
            " [ 45.]\n",
            " [ 15.]\n",
            " [ 25.]\n",
            " [-25.]\n",
            " [ -5.]\n",
            " [ 15.]\n",
            " [  5.]\n",
            " [  5.]\n",
            " [-15.]\n",
            " [ 55.]\n",
            " [ 45.]\n",
            " [-25.]\n",
            " [  5.]\n",
            " [-15.]\n",
            " [-15.]\n",
            " [ -5.]\n",
            " [-15.]\n",
            " [ 55.]\n",
            " [ 25.]\n",
            " [ -5.]\n",
            " [-25.]\n",
            " [ 35.]\n",
            " [ 25.]\n",
            " [  5.]\n",
            " [ 35.]\n",
            " [ 45.]\n",
            " [-25.]\n",
            " [-15.]\n",
            " [ 35.]\n",
            " [ 15.]\n",
            " [ 35.]\n",
            " [-25.]\n",
            " [  5.]\n",
            " [-25.]\n",
            " [ 15.]\n",
            " [ 45.]\n",
            " [-15.]\n",
            " [ 55.]\n",
            " [-25.]\n",
            " [ 55.]\n",
            " [ -5.]\n",
            " [  5.]\n",
            " [ 45.]\n",
            " [ 15.]]\n"
          ],
          "name": "stdout"
        }
      ]
    },
    {
      "cell_type": "code",
      "metadata": {
        "colab": {
          "base_uri": "https://localhost:8080/"
        },
        "id": "4rWiTZbit7Dt",
        "outputId": "ad63a755-f9fe-4240-c26c-229f08d3d913"
      },
      "source": [
        "count = 0\n",
        "for i in range(len(arr_gt)):\n",
        "  if arr_gt[i]==15:\n",
        "    count+=1\n",
        "\n",
        "print(count)"
      ],
      "execution_count": 46,
      "outputs": [
        {
          "output_type": "stream",
          "text": [
            "17\n"
          ],
          "name": "stdout"
        }
      ]
    },
    {
      "cell_type": "code",
      "metadata": {
        "id": "oCcYNaPzr2fx"
      },
      "source": [
        "# import cv2\n",
        "# from google.colab.patches import cv2_imshow\n",
        "# img1 = cv2.imread('data65_27.png')\n",
        "# img2 = cv2.imread('target_image_1.png')\n",
        "#mg1 = cv2.cvtColor(img1, cv2.COLOR_BGR2GRAY)\n",
        "# img1 = cv2.resize(img1, dsize=(128,128), interpolation = cv2.INTER_CUBIC)\n",
        "# plt.imshow(img1)\n",
        "# img1.shape\n",
        "\n",
        "# img1 = np.expand_dims(img1, axis = 0)\n",
        "# img1 = np.expand_dims(img1, axis = 3)\n",
        "# img1 = img1.astype('float32')\n",
        "# img1 = img1/255\n",
        "# plt.imshow(img1.reshape(128,128), cmap = plt.cm.binary)"
      ],
      "execution_count": null,
      "outputs": []
    },
    {
      "cell_type": "code",
      "metadata": {
        "id": "UUBwNh_ul7Hn"
      },
      "source": [
        "# from PIL import Image\n",
        "# # Open the image form working directory\n",
        "# img1 = Image.open('/content/data65_27.png')\n",
        "# img2 = Image.open('/content/target_image_1.png')"
      ],
      "execution_count": null,
      "outputs": []
    },
    {
      "cell_type": "code",
      "metadata": {
        "id": "fbJhnxClmnB7"
      },
      "source": [
        "# from matplotlib import image\n",
        "# from matplotlib import pyplot\n",
        "# # load image as pixel array\n",
        "# img1 = image.imread('/content/data65_27.png')\n",
        "# img2 = image.imread('/content/target_image_1.png')"
      ],
      "execution_count": null,
      "outputs": []
    },
    {
      "cell_type": "code",
      "metadata": {
        "id": "yEwjupKomz2Q"
      },
      "source": [
        "import cv2\n",
        "from google.colab.patches import cv2_imshow\n",
        "img = cv2.imread('/content/data65_27.png')\n",
        "img = cv2.cvtColor(img, cv2.COLOR_BGR2GRAY)\n",
        "img= cv2.resize(img, dsize=(128,128), interpolation = cv2.INTER_CUBIC)\n",
        "# plt.imshow(img)\n",
        "img.shape\n",
        "\n",
        "img = np.reshape(img, (1, 128, 128))\n",
        "# img = np.expand_dims(img, axis = 0)\n",
        "# img = np.expand_dims(img, axis = 3)\n",
        "# img = np.reshape(128,128)\n",
        "# img = img.astype('float32')\n",
        "img = img/255\n",
        "img = np.repeat(img[..., np.newaxis], 3, -1)\n",
        "# plt.imshow(img.reshape(128,128), cmap = plt.cm.binary)"
      ],
      "execution_count": null,
      "outputs": []
    },
    {
      "cell_type": "code",
      "metadata": {
        "id": "IPlFIP9VnWcW"
      },
      "source": [
        "img.shape"
      ],
      "execution_count": null,
      "outputs": []
    },
    {
      "cell_type": "code",
      "metadata": {
        "id": "kh3tf8NtpHWw"
      },
      "source": [
        ""
      ],
      "execution_count": null,
      "outputs": []
    },
    {
      "cell_type": "code",
      "metadata": {
        "id": "hcDTSZQUm_b2"
      },
      "source": [
        "img2 = cv2.imread('/content/target_image_1.png')\n",
        "img2 = cv2.cvtColor(img2, cv2.COLOR_BGR2GRAY)\n",
        "img2= cv2.resize(img2, dsize=(128,128), interpolation = cv2.INTER_CUBIC)\n",
        "# plt.imshow(img)\n",
        "img2.shape\n",
        "\n",
        "img2 = np.reshape(img2, (1, 128, 128))\n",
        "# img = np.expand_dims(img, axis = 0)\n",
        "# img = np.expand_dims(img, axis = 3)\n",
        "# img = np.reshape(128,128)\n",
        "# img = img.astype('float32')\n",
        "img2 = img2/255\n",
        "img2 = np.repeat(img2[..., np.newaxis], 3, -1)\n",
        "# plt.imshow(img.reshape(128,128), cmap = plt.cm.binary)"
      ],
      "execution_count": null,
      "outputs": []
    },
    {
      "cell_type": "code",
      "metadata": {
        "id": "4e7k8WDWpa1c"
      },
      "source": [
        "img2.shape"
      ],
      "execution_count": null,
      "outputs": []
    },
    {
      "cell_type": "code",
      "metadata": {
        "id": "BGxf25z0lUM8"
      },
      "source": [
        "predictionimg = model.predict([img,img2])"
      ],
      "execution_count": null,
      "outputs": []
    },
    {
      "cell_type": "code",
      "metadata": {
        "id": "YNAbeatNl20z"
      },
      "source": [
        "predictionimg"
      ],
      "execution_count": null,
      "outputs": []
    },
    {
      "cell_type": "code",
      "metadata": {
        "id": "3Z38S64ZpeB_"
      },
      "source": [
        ""
      ],
      "execution_count": null,
      "outputs": []
    }
  ]
}