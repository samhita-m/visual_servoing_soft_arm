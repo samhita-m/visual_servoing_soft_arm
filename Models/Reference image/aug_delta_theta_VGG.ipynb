{
  "nbformat": 4,
  "nbformat_minor": 0,
  "metadata": {
    "colab": {
      "name": "experiment delta_theta VGG.ipynb",
      "provenance": [],
      "collapsed_sections": []
    },
    "kernelspec": {
      "name": "python3",
      "display_name": "Python 3"
    },
    "accelerator": "GPU"
  },
  "cells": [
    {
      "cell_type": "code",
      "metadata": {
        "colab": {
          "base_uri": "https://localhost:8080/"
        },
        "id": "b5mcsngV9IjX",
        "outputId": "aaa4c901-4253-4444-f10c-275f436202d3"
      },
      "source": [
        "from google.colab import drive\n",
        "drive.mount('/content/drive')"
      ],
      "execution_count": 12,
      "outputs": [
        {
          "output_type": "stream",
          "text": [
            "Drive already mounted at /content/drive; to attempt to forcibly remount, call drive.mount(\"/content/drive\", force_remount=True).\n"
          ],
          "name": "stdout"
        }
      ]
    },
    {
      "cell_type": "code",
      "metadata": {
        "colab": {
          "base_uri": "https://localhost:8080/"
        },
        "id": "aClCGALS9N6c",
        "outputId": "f8c4e955-12bc-45d0-ee30-196c11c68fa0"
      },
      "source": [
        "import os\n",
        "os.chdir('/content/drive/My Drive')\n",
        "!pwd"
      ],
      "execution_count": 13,
      "outputs": [
        {
          "output_type": "stream",
          "text": [
            "/content/drive/My Drive\n"
          ],
          "name": "stdout"
        }
      ]
    },
    {
      "cell_type": "code",
      "metadata": {
        "colab": {
          "base_uri": "https://localhost:8080/"
        },
        "id": "k_YleJ_xiBkd",
        "outputId": "ce689857-85c9-4f45-9d51-6d21a921f7ab"
      },
      "source": [
        "%tensorflow_version"
      ],
      "execution_count": 3,
      "outputs": [
        {
          "output_type": "stream",
          "text": [
            "Currently selected TF version: 2.x\n",
            "Available versions:\n",
            "* 1.x\n",
            "* 2.x\n"
          ],
          "name": "stdout"
        }
      ]
    },
    {
      "cell_type": "code",
      "metadata": {
        "id": "WUAVH2STVC_U"
      },
      "source": [
        "import pandas as pd\n",
        "import numpy as np\n",
        "from skimage.io import imread\n",
        "from sklearn.model_selection import train_test_split\n",
        "from matplotlib import pyplot as plt\n",
        "# %matplotlib inline\n",
        "\n",
        "import keras\n",
        "from keras import optimizers\n",
        "from keras.utils import to_categorical\n",
        "from keras.layers import Input, Dense, Flatten, Dropout, Conv2D, MaxPooling2D, Activation, concatenate\n",
        "from keras.layers.advanced_activations import ReLU\n",
        "from keras.models import Model\n",
        "from keras.optimizers import Adam, SGD\n",
        "from keras.callbacks import ModelCheckpoint\n",
        "import random\n",
        "import math\n",
        "import matplotlib.image as mpimg\n",
        "import cv2\n",
        "import os"
      ],
      "execution_count": 5,
      "outputs": []
    },
    {
      "cell_type": "code",
      "metadata": {
        "id": "J6iETxCaGyaj"
      },
      "source": [
        "IMG_WIDTH=216\n",
        "IMG_HEIGHT=216\n",
        "path='augmented_dataset'"
      ],
      "execution_count": 7,
      "outputs": []
    },
    {
      "cell_type": "code",
      "metadata": {
        "id": "aOcam1t5G8sN"
      },
      "source": [
        "def create_dataset(path):\n",
        "  img_data_array = []\n",
        "  for img in os.listdir(path):\n",
        "    \n",
        "    image= cv2.imread( os.path.join(path,img), cv2.COLOR_BGR2RGB)\n",
        "    image=cv2.resize(image, (IMG_HEIGHT, IMG_WIDTH),interpolation = cv2.INTER_AREA)\n",
        "    image=np.array(image)\n",
        "    image = image.astype('float32')\n",
        "    image /= 255 \n",
        "    img_data_array.append(image)\n",
        "\n",
        "\n",
        "  return img_data_array\n",
        "# extract the image array and class name\n",
        "img_data=create_dataset('augmented_dataset')"
      ],
      "execution_count": 8,
      "outputs": []
    },
    {
      "cell_type": "code",
      "metadata": {
        "colab": {
          "base_uri": "https://localhost:8080/"
        },
        "id": "VguOMN0XG-2g",
        "outputId": "47b83508-10bc-4734-e275-0f88bd4035f2"
      },
      "source": [
        "train_data = np.asarray(img_data)\n",
        "train_data.shape"
      ],
      "execution_count": 9,
      "outputs": [
        {
          "output_type": "execute_result",
          "data": {
            "text/plain": [
              "(928, 216, 216, 3)"
            ]
          },
          "metadata": {
            "tags": []
          },
          "execution_count": 9
        }
      ]
    },
    {
      "cell_type": "code",
      "metadata": {
        "id": "w5awbV2XHsrn"
      },
      "source": [
        "target_path = 'target_image'"
      ],
      "execution_count": 14,
      "outputs": []
    },
    {
      "cell_type": "code",
      "metadata": {
        "id": "DZuP0RtuH0RY"
      },
      "source": [
        "target_data=create_dataset('target_image')"
      ],
      "execution_count": 15,
      "outputs": []
    },
    {
      "cell_type": "code",
      "metadata": {
        "colab": {
          "base_uri": "https://localhost:8080/"
        },
        "id": "Eo9ykoISH4KC",
        "outputId": "d43a9dd6-3f3d-4b04-8d30-5082f326cd16"
      },
      "source": [
        "target_data = np.asarray(target_data)\n",
        "target_data.shape"
      ],
      "execution_count": 16,
      "outputs": [
        {
          "output_type": "execute_result",
          "data": {
            "text/plain": [
              "(928, 216, 216, 3)"
            ]
          },
          "metadata": {
            "tags": []
          },
          "execution_count": 16
        }
      ]
    },
    {
      "cell_type": "code",
      "metadata": {
        "id": "8TAoFO4R-jOC"
      },
      "source": [
        "# def load_dataset():\n",
        "#   # train_data = pd.read_csv('train_aug_dataset.csv')\n",
        "#   y_train = pd.read_csv('augmented_labels_delta.csv')\n",
        "#   target_data = pd.read_csv('target_data.csv')\n",
        "#   # target_label = pd.read_csv('target_label.csv')\n",
        "#   return train_data, y_train, target_data\n",
        "# train_data, y_train, target_data = load_dataset()"
      ],
      "execution_count": null,
      "outputs": []
    },
    {
      "cell_type": "code",
      "metadata": {
        "id": "oHcfWA4WIA3z"
      },
      "source": [
        "y_train = pd.read_csv('augmented_labels_delta.csv')"
      ],
      "execution_count": 17,
      "outputs": []
    },
    {
      "cell_type": "code",
      "metadata": {
        "id": "Wy57sGOsBdNh"
      },
      "source": [
        "num_classes = 4"
      ],
      "execution_count": 18,
      "outputs": []
    },
    {
      "cell_type": "code",
      "metadata": {
        "id": "KfuJXir7E1-k"
      },
      "source": [
        "# train_data = np.array(train_data.iloc[:,:])\n",
        "# train_data = np.array([np.reshape(i,(128,128)) for i in train_data])\n",
        "# target_data = np.array(target_data.iloc[:,:])\n",
        "# target_data = np.array([np.reshape(i,(128,128)) for i in target_data])"
      ],
      "execution_count": null,
      "outputs": []
    },
    {
      "cell_type": "code",
      "metadata": {
        "colab": {
          "base_uri": "https://localhost:8080/"
        },
        "id": "lVMG4LIy51aw",
        "outputId": "74eecf68-56f5-4b25-f799-35811e972f89"
      },
      "source": [
        "train_data.shape\n",
        "target_data.shape"
      ],
      "execution_count": 19,
      "outputs": [
        {
          "output_type": "execute_result",
          "data": {
            "text/plain": [
              "(928, 216, 216, 3)"
            ]
          },
          "metadata": {
            "tags": []
          },
          "execution_count": 19
        }
      ]
    },
    {
      "cell_type": "code",
      "metadata": {
        "id": "QaXR-fhI1TMc"
      },
      "source": [
        "# train_data = train_data.astype('float32')\n",
        "# train_data = train_data/255\n",
        "\n",
        "# rgb_batch = np.repeat(train_data[..., np.newaxis], 3, -1)\n",
        "# rgb_batch.shape\n",
        "\n",
        "# target_data = target_data.astype('float32')\n",
        "# target_data = target_data/255\n",
        "\n",
        "# rgb_target = np.repeat(target_data[..., np.newaxis], 3, -1)\n",
        "# rgb_target.shape"
      ],
      "execution_count": 20,
      "outputs": []
    },
    {
      "cell_type": "code",
      "metadata": {
        "id": "F8QTLdM0QeBr"
      },
      "source": [
        "# target_data = rgb_target"
      ],
      "execution_count": 21,
      "outputs": []
    },
    {
      "cell_type": "code",
      "metadata": {
        "id": "lWPUCq7qhC3N"
      },
      "source": [
        "# target_data.shape"
      ],
      "execution_count": 22,
      "outputs": []
    },
    {
      "cell_type": "code",
      "metadata": {
        "id": "l3J9DPmoEonU"
      },
      "source": [
        "x_train, x_test, y_train, y_test = train_test_split(train_data, y_train, test_size = 0.3, random_state=666)\n",
        "target_xtrain, target_xtest = train_test_split(target_data, test_size = 0.3, random_state=666)"
      ],
      "execution_count": 23,
      "outputs": []
    },
    {
      "cell_type": "code",
      "metadata": {
        "id": "mEYix5VfIEhe"
      },
      "source": [
        "input_shape = (216, 216, 3)"
      ],
      "execution_count": 24,
      "outputs": []
    },
    {
      "cell_type": "code",
      "metadata": {
        "id": "8yKRdRCEagQy"
      },
      "source": [
        "# print(y_test)"
      ],
      "execution_count": null,
      "outputs": []
    },
    {
      "cell_type": "code",
      "metadata": {
        "id": "TlmvUKDGMzlZ"
      },
      "source": [
        "def VGG_16(input_image):\n",
        "    model = Conv2D(64, (3,3), padding=\"same\", input_shape = input_shape)(input_image)\n",
        "    model = ReLU(max_value=1.0)(model)\n",
        "    model = Conv2D(64, (3,3), padding=\"same\")(model)\n",
        "    model = ReLU(max_value=1.0)(model)\n",
        "    model = MaxPooling2D(pool_size=(2,2), padding=\"same\")(model)\n",
        "    model = Dropout(0.25)(model)\n",
        "\n",
        "    model = Conv2D(128, (3,3), padding=\"same\")(model)\n",
        "    model = ReLU(max_value=1.0)(model)\n",
        "    # model = Conv2D(128, (3,3), padding=\"same\")(model)\n",
        "    # model = ReLU(max_value=1.0)(model)\n",
        "    model = MaxPooling2D(pool_size=(2,2), padding=\"same\")(model)\n",
        "    # model = Dropout(0.25)(model)\n",
        "\n",
        "    # model = Conv2D(256, (3,3), padding=\"same\")(model)\n",
        "    # model = ReLU(max_value=1.0)(model)\n",
        "    model = Conv2D(256, (3,3), padding=\"same\")(model)\n",
        "    model = ReLU(max_value=1.0)(model)\n",
        "    model = MaxPooling2D(pool_size=(2,2), padding=\"same\")(model)\n",
        "    model = Dropout(0.25)(model)\n",
        "\n",
        "\n",
        "    return model"
      ],
      "execution_count": 31,
      "outputs": []
    },
    {
      "cell_type": "code",
      "metadata": {
        "id": "gyD2K2hs47BT"
      },
      "source": [
        "current_input = Input(shape=input_shape)\n",
        "current_model = VGG_16(current_input)\n",
        "\n",
        "target_input = Input(shape=input_shape)\n",
        "target_model = VGG_16(target_input)"
      ],
      "execution_count": 32,
      "outputs": []
    },
    {
      "cell_type": "code",
      "metadata": {
        "id": "oGY8OydFTU8E"
      },
      "source": [
        "conv = concatenate([current_model, target_model])"
      ],
      "execution_count": 33,
      "outputs": []
    },
    {
      "cell_type": "code",
      "metadata": {
        "id": "IjgFVGD1Ta_N"
      },
      "source": [
        "conv = Flatten()(conv)\n",
        "dense = Dense(512)(conv)\n",
        "dense = ReLU(max_value=None)(dense)\n",
        "dense = Dropout(0.5)(dense)\n",
        "# dense = Dense(512)(dense)\n",
        "# dense = ReLU(max_value=1.0)(dense)\n",
        "# dense = Dropout(0.5)(dense)\n",
        "\n",
        "output = Dense(num_classes, activation='linear')(dense)\n",
        "# output = math.floor(output)\n",
        "model = Model(inputs=[current_input, target_input], outputs=[output])\n",
        "\n",
        "opt = Adam(learning_rate=0.0001)\n",
        "\n",
        "model.compile(loss='mean_squared_error', optimizer=opt, metrics=['mse'])\n"
      ],
      "execution_count": 34,
      "outputs": []
    },
    {
      "cell_type": "code",
      "metadata": {
        "id": "7rHsTXpiU4Zw"
      },
      "source": [
        "best_weights_file=\"weights.aug.best.hdf5\"\n",
        "checkpoint = ModelCheckpoint(best_weights_file, monitor='val_mse', verbose=1, save_best_only=True, mode='max')\n",
        "callbacks = [checkpoint]"
      ],
      "execution_count": 35,
      "outputs": []
    },
    {
      "cell_type": "code",
      "metadata": {
        "colab": {
          "base_uri": "https://localhost:8080/",
          "height": 1000
        },
        "id": "6LLcG_DpWKp7",
        "outputId": "612a4696-290b-4532-87e8-a27b4f77084f"
      },
      "source": [
        "model.fit([x_train, target_xtrain], y_train,\n",
        "          epochs=100,\n",
        "          validation_split=0.3,\n",
        "          callbacks = callbacks,\n",
        "          verbose=1)"
      ],
      "execution_count": 36,
      "outputs": [
        {
          "output_type": "stream",
          "text": [
            "Epoch 1/100\n",
            "15/15 [==============================] - 13s 678ms/step - loss: 192.7166 - mse: 192.7166 - val_loss: 184.1483 - val_mse: 184.1483\n",
            "\n",
            "Epoch 00001: val_mse improved from -inf to 184.14833, saving model to weights.aug.best.hdf5\n",
            "Epoch 2/100\n",
            "15/15 [==============================] - 9s 570ms/step - loss: 188.3797 - mse: 188.3797 - val_loss: 193.1387 - val_mse: 193.1387\n",
            "\n",
            "Epoch 00002: val_mse improved from 184.14833 to 193.13866, saving model to weights.aug.best.hdf5\n",
            "Epoch 3/100\n",
            "15/15 [==============================] - 9s 575ms/step - loss: 176.6090 - mse: 176.6090 - val_loss: 190.8761 - val_mse: 190.8761\n",
            "\n",
            "Epoch 00003: val_mse did not improve from 193.13866\n",
            "Epoch 4/100\n",
            "15/15 [==============================] - 9s 574ms/step - loss: 166.9187 - mse: 166.9187 - val_loss: 188.7865 - val_mse: 188.7865\n",
            "\n",
            "Epoch 00004: val_mse did not improve from 193.13866\n",
            "Epoch 5/100\n",
            "15/15 [==============================] - 9s 578ms/step - loss: 167.9042 - mse: 167.9042 - val_loss: 184.7536 - val_mse: 184.7536\n",
            "\n",
            "Epoch 00005: val_mse did not improve from 193.13866\n",
            "Epoch 6/100\n",
            "15/15 [==============================] - 9s 571ms/step - loss: 166.7979 - mse: 166.7979 - val_loss: 197.2723 - val_mse: 197.2723\n",
            "\n",
            "Epoch 00006: val_mse improved from 193.13866 to 197.27226, saving model to weights.aug.best.hdf5\n",
            "Epoch 7/100\n",
            "15/15 [==============================] - 8s 561ms/step - loss: 155.1519 - mse: 155.1519 - val_loss: 179.8751 - val_mse: 179.8751\n",
            "\n",
            "Epoch 00007: val_mse did not improve from 197.27226\n",
            "Epoch 8/100\n",
            "15/15 [==============================] - 8s 569ms/step - loss: 153.3088 - mse: 153.3088 - val_loss: 174.2151 - val_mse: 174.2151\n",
            "\n",
            "Epoch 00008: val_mse did not improve from 197.27226\n",
            "Epoch 9/100\n",
            "15/15 [==============================] - 9s 572ms/step - loss: 140.1104 - mse: 140.1104 - val_loss: 162.1861 - val_mse: 162.1861\n",
            "\n",
            "Epoch 00009: val_mse did not improve from 197.27226\n",
            "Epoch 10/100\n",
            "15/15 [==============================] - 9s 575ms/step - loss: 137.7082 - mse: 137.7082 - val_loss: 152.7783 - val_mse: 152.7783\n",
            "\n",
            "Epoch 00010: val_mse did not improve from 197.27226\n",
            "Epoch 11/100\n",
            "15/15 [==============================] - 9s 579ms/step - loss: 122.6512 - mse: 122.6512 - val_loss: 161.7216 - val_mse: 161.7216\n",
            "\n",
            "Epoch 00011: val_mse did not improve from 197.27226\n",
            "Epoch 12/100\n",
            "15/15 [==============================] - 9s 571ms/step - loss: 120.2035 - mse: 120.2035 - val_loss: 149.6327 - val_mse: 149.6327\n",
            "\n",
            "Epoch 00012: val_mse did not improve from 197.27226\n",
            "Epoch 13/100\n",
            "15/15 [==============================] - 9s 570ms/step - loss: 113.5563 - mse: 113.5563 - val_loss: 166.8662 - val_mse: 166.8662\n",
            "\n",
            "Epoch 00013: val_mse did not improve from 197.27226\n",
            "Epoch 14/100\n",
            "15/15 [==============================] - 8s 566ms/step - loss: 111.5920 - mse: 111.5920 - val_loss: 164.1310 - val_mse: 164.1310\n",
            "\n",
            "Epoch 00014: val_mse did not improve from 197.27226\n",
            "Epoch 15/100\n",
            "15/15 [==============================] - 8s 565ms/step - loss: 93.8469 - mse: 93.8469 - val_loss: 152.9311 - val_mse: 152.9311\n",
            "\n",
            "Epoch 00015: val_mse did not improve from 197.27226\n",
            "Epoch 16/100\n",
            "15/15 [==============================] - 8s 563ms/step - loss: 86.7512 - mse: 86.7512 - val_loss: 156.5780 - val_mse: 156.5780\n",
            "\n",
            "Epoch 00016: val_mse did not improve from 197.27226\n",
            "Epoch 17/100\n",
            "15/15 [==============================] - 8s 562ms/step - loss: 90.8656 - mse: 90.8656 - val_loss: 150.5303 - val_mse: 150.5303\n",
            "\n",
            "Epoch 00017: val_mse did not improve from 197.27226\n",
            "Epoch 18/100\n",
            "15/15 [==============================] - 8s 564ms/step - loss: 79.0649 - mse: 79.0649 - val_loss: 149.0843 - val_mse: 149.0843\n",
            "\n",
            "Epoch 00018: val_mse did not improve from 197.27226\n",
            "Epoch 19/100\n",
            "15/15 [==============================] - 8s 568ms/step - loss: 69.6111 - mse: 69.6111 - val_loss: 148.4654 - val_mse: 148.4654\n",
            "\n",
            "Epoch 00019: val_mse did not improve from 197.27226\n",
            "Epoch 20/100\n",
            "15/15 [==============================] - 8s 569ms/step - loss: 62.4082 - mse: 62.4082 - val_loss: 147.3580 - val_mse: 147.3580\n",
            "\n",
            "Epoch 00020: val_mse did not improve from 197.27226\n",
            "Epoch 21/100\n",
            "15/15 [==============================] - 8s 569ms/step - loss: 62.0129 - mse: 62.0129 - val_loss: 153.2950 - val_mse: 153.2950\n",
            "\n",
            "Epoch 00021: val_mse did not improve from 197.27226\n",
            "Epoch 22/100\n",
            "15/15 [==============================] - 8s 567ms/step - loss: 59.8351 - mse: 59.8351 - val_loss: 151.2695 - val_mse: 151.2695\n",
            "\n",
            "Epoch 00022: val_mse did not improve from 197.27226\n",
            "Epoch 23/100\n",
            "15/15 [==============================] - 8s 568ms/step - loss: 56.7307 - mse: 56.7307 - val_loss: 152.6171 - val_mse: 152.6171\n",
            "\n",
            "Epoch 00023: val_mse did not improve from 197.27226\n",
            "Epoch 24/100\n",
            "15/15 [==============================] - 8s 563ms/step - loss: 48.1631 - mse: 48.1631 - val_loss: 150.5547 - val_mse: 150.5547\n",
            "\n",
            "Epoch 00024: val_mse did not improve from 197.27226\n",
            "Epoch 25/100\n",
            "15/15 [==============================] - 8s 565ms/step - loss: 48.7067 - mse: 48.7067 - val_loss: 152.5033 - val_mse: 152.5033\n",
            "\n",
            "Epoch 00025: val_mse did not improve from 197.27226\n",
            "Epoch 26/100\n",
            "15/15 [==============================] - 8s 561ms/step - loss: 48.2457 - mse: 48.2457 - val_loss: 153.4146 - val_mse: 153.4146\n",
            "\n",
            "Epoch 00026: val_mse did not improve from 197.27226\n",
            "Epoch 27/100\n",
            "15/15 [==============================] - 8s 567ms/step - loss: 51.1902 - mse: 51.1902 - val_loss: 155.5802 - val_mse: 155.5802\n",
            "\n",
            "Epoch 00027: val_mse did not improve from 197.27226\n",
            "Epoch 28/100\n",
            "15/15 [==============================] - 8s 569ms/step - loss: 45.6725 - mse: 45.6725 - val_loss: 158.8464 - val_mse: 158.8464\n",
            "\n",
            "Epoch 00028: val_mse did not improve from 197.27226\n",
            "Epoch 29/100\n",
            "15/15 [==============================] - 8s 566ms/step - loss: 49.1770 - mse: 49.1770 - val_loss: 158.8294 - val_mse: 158.8294\n",
            "\n",
            "Epoch 00029: val_mse did not improve from 197.27226\n",
            "Epoch 30/100\n",
            "15/15 [==============================] - 8s 569ms/step - loss: 46.9846 - mse: 46.9846 - val_loss: 154.8685 - val_mse: 154.8685\n",
            "\n",
            "Epoch 00030: val_mse did not improve from 197.27226\n",
            "Epoch 31/100\n",
            "15/15 [==============================] - 8s 569ms/step - loss: 38.8658 - mse: 38.8658 - val_loss: 158.5878 - val_mse: 158.5878\n",
            "\n",
            "Epoch 00031: val_mse did not improve from 197.27226\n",
            "Epoch 32/100\n",
            "15/15 [==============================] - 8s 568ms/step - loss: 42.3991 - mse: 42.3991 - val_loss: 161.3617 - val_mse: 161.3617\n",
            "\n",
            "Epoch 00032: val_mse did not improve from 197.27226\n",
            "Epoch 33/100\n",
            "15/15 [==============================] - 8s 567ms/step - loss: 43.5792 - mse: 43.5792 - val_loss: 159.7891 - val_mse: 159.7891\n",
            "\n",
            "Epoch 00033: val_mse did not improve from 197.27226\n",
            "Epoch 34/100\n",
            "15/15 [==============================] - 8s 567ms/step - loss: 40.7752 - mse: 40.7752 - val_loss: 158.4984 - val_mse: 158.4984\n",
            "\n",
            "Epoch 00034: val_mse did not improve from 197.27226\n",
            "Epoch 35/100\n",
            "15/15 [==============================] - 8s 566ms/step - loss: 39.2731 - mse: 39.2731 - val_loss: 155.0875 - val_mse: 155.0875\n",
            "\n",
            "Epoch 00035: val_mse did not improve from 197.27226\n",
            "Epoch 36/100\n",
            "15/15 [==============================] - 8s 564ms/step - loss: 34.9098 - mse: 34.9098 - val_loss: 160.5189 - val_mse: 160.5189\n",
            "\n",
            "Epoch 00036: val_mse did not improve from 197.27226\n",
            "Epoch 37/100\n",
            "15/15 [==============================] - 8s 568ms/step - loss: 40.9241 - mse: 40.9241 - val_loss: 158.6826 - val_mse: 158.6826\n",
            "\n",
            "Epoch 00037: val_mse did not improve from 197.27226\n",
            "Epoch 38/100\n",
            "15/15 [==============================] - 8s 568ms/step - loss: 34.2394 - mse: 34.2394 - val_loss: 167.8474 - val_mse: 167.8474\n",
            "\n",
            "Epoch 00038: val_mse did not improve from 197.27226\n",
            "Epoch 39/100\n",
            "15/15 [==============================] - 8s 567ms/step - loss: 40.4617 - mse: 40.4617 - val_loss: 160.6201 - val_mse: 160.6201\n",
            "\n",
            "Epoch 00039: val_mse did not improve from 197.27226\n",
            "Epoch 40/100\n",
            "15/15 [==============================] - 8s 567ms/step - loss: 44.1723 - mse: 44.1723 - val_loss: 161.4453 - val_mse: 161.4453\n",
            "\n",
            "Epoch 00040: val_mse did not improve from 197.27226\n",
            "Epoch 41/100\n",
            "15/15 [==============================] - 8s 567ms/step - loss: 37.4869 - mse: 37.4869 - val_loss: 160.2375 - val_mse: 160.2375\n",
            "\n",
            "Epoch 00041: val_mse did not improve from 197.27226\n",
            "Epoch 42/100\n",
            "15/15 [==============================] - 8s 566ms/step - loss: 38.8434 - mse: 38.8434 - val_loss: 160.8643 - val_mse: 160.8643\n",
            "\n",
            "Epoch 00042: val_mse did not improve from 197.27226\n",
            "Epoch 43/100\n",
            "15/15 [==============================] - 8s 567ms/step - loss: 37.0883 - mse: 37.0883 - val_loss: 158.3420 - val_mse: 158.3420\n",
            "\n",
            "Epoch 00043: val_mse did not improve from 197.27226\n",
            "Epoch 44/100\n",
            "15/15 [==============================] - 8s 567ms/step - loss: 30.2287 - mse: 30.2287 - val_loss: 165.7890 - val_mse: 165.7890\n",
            "\n",
            "Epoch 00044: val_mse did not improve from 197.27226\n",
            "Epoch 45/100\n",
            "15/15 [==============================] - 8s 565ms/step - loss: 31.5958 - mse: 31.5958 - val_loss: 159.5291 - val_mse: 159.5291\n",
            "\n",
            "Epoch 00045: val_mse did not improve from 197.27226\n",
            "Epoch 46/100\n",
            "15/15 [==============================] - 8s 567ms/step - loss: 29.0279 - mse: 29.0279 - val_loss: 160.5147 - val_mse: 160.5147\n",
            "\n",
            "Epoch 00046: val_mse did not improve from 197.27226\n",
            "Epoch 47/100\n",
            "15/15 [==============================] - 8s 567ms/step - loss: 31.9566 - mse: 31.9566 - val_loss: 166.8966 - val_mse: 166.8966\n",
            "\n",
            "Epoch 00047: val_mse did not improve from 197.27226\n",
            "Epoch 48/100\n",
            "15/15 [==============================] - 9s 569ms/step - loss: 32.0305 - mse: 32.0305 - val_loss: 165.6822 - val_mse: 165.6822\n",
            "\n",
            "Epoch 00048: val_mse did not improve from 197.27226\n",
            "Epoch 49/100\n",
            "15/15 [==============================] - 8s 567ms/step - loss: 27.9649 - mse: 27.9649 - val_loss: 166.8866 - val_mse: 166.8866\n",
            "\n",
            "Epoch 00049: val_mse did not improve from 197.27226\n",
            "Epoch 50/100\n",
            "15/15 [==============================] - 8s 567ms/step - loss: 30.1663 - mse: 30.1663 - val_loss: 165.8224 - val_mse: 165.8224\n",
            "\n",
            "Epoch 00050: val_mse did not improve from 197.27226\n",
            "Epoch 51/100\n",
            "15/15 [==============================] - 8s 564ms/step - loss: 29.4687 - mse: 29.4687 - val_loss: 167.4220 - val_mse: 167.4220\n",
            "\n",
            "Epoch 00051: val_mse did not improve from 197.27226\n",
            "Epoch 52/100\n",
            " 7/15 [=============>................] - ETA: 4s - loss: 26.6486 - mse: 26.6486"
          ],
          "name": "stdout"
        },
        {
          "output_type": "error",
          "ename": "KeyboardInterrupt",
          "evalue": "ignored",
          "traceback": [
            "\u001b[0;31m---------------------------------------------------------------------------\u001b[0m",
            "\u001b[0;31mKeyboardInterrupt\u001b[0m                         Traceback (most recent call last)",
            "\u001b[0;32m<ipython-input-36-d0370408213b>\u001b[0m in \u001b[0;36m<module>\u001b[0;34m()\u001b[0m\n\u001b[1;32m      3\u001b[0m           \u001b[0mvalidation_split\u001b[0m\u001b[0;34m=\u001b[0m\u001b[0;36m0.3\u001b[0m\u001b[0;34m,\u001b[0m\u001b[0;34m\u001b[0m\u001b[0;34m\u001b[0m\u001b[0m\n\u001b[1;32m      4\u001b[0m           \u001b[0mcallbacks\u001b[0m \u001b[0;34m=\u001b[0m \u001b[0mcallbacks\u001b[0m\u001b[0;34m,\u001b[0m\u001b[0;34m\u001b[0m\u001b[0;34m\u001b[0m\u001b[0m\n\u001b[0;32m----> 5\u001b[0;31m           verbose=1)\n\u001b[0m",
            "\u001b[0;32m/usr/local/lib/python3.7/dist-packages/tensorflow/python/keras/engine/training.py\u001b[0m in \u001b[0;36mfit\u001b[0;34m(self, x, y, batch_size, epochs, verbose, callbacks, validation_split, validation_data, shuffle, class_weight, sample_weight, initial_epoch, steps_per_epoch, validation_steps, validation_batch_size, validation_freq, max_queue_size, workers, use_multiprocessing)\u001b[0m\n\u001b[1;32m   1098\u001b[0m                 _r=1):\n\u001b[1;32m   1099\u001b[0m               \u001b[0mcallbacks\u001b[0m\u001b[0;34m.\u001b[0m\u001b[0mon_train_batch_begin\u001b[0m\u001b[0;34m(\u001b[0m\u001b[0mstep\u001b[0m\u001b[0;34m)\u001b[0m\u001b[0;34m\u001b[0m\u001b[0;34m\u001b[0m\u001b[0m\n\u001b[0;32m-> 1100\u001b[0;31m               \u001b[0mtmp_logs\u001b[0m \u001b[0;34m=\u001b[0m \u001b[0mself\u001b[0m\u001b[0;34m.\u001b[0m\u001b[0mtrain_function\u001b[0m\u001b[0;34m(\u001b[0m\u001b[0miterator\u001b[0m\u001b[0;34m)\u001b[0m\u001b[0;34m\u001b[0m\u001b[0;34m\u001b[0m\u001b[0m\n\u001b[0m\u001b[1;32m   1101\u001b[0m               \u001b[0;32mif\u001b[0m \u001b[0mdata_handler\u001b[0m\u001b[0;34m.\u001b[0m\u001b[0mshould_sync\u001b[0m\u001b[0;34m:\u001b[0m\u001b[0;34m\u001b[0m\u001b[0;34m\u001b[0m\u001b[0m\n\u001b[1;32m   1102\u001b[0m                 \u001b[0mcontext\u001b[0m\u001b[0;34m.\u001b[0m\u001b[0masync_wait\u001b[0m\u001b[0;34m(\u001b[0m\u001b[0;34m)\u001b[0m\u001b[0;34m\u001b[0m\u001b[0;34m\u001b[0m\u001b[0m\n",
            "\u001b[0;32m/usr/local/lib/python3.7/dist-packages/tensorflow/python/eager/def_function.py\u001b[0m in \u001b[0;36m__call__\u001b[0;34m(self, *args, **kwds)\u001b[0m\n\u001b[1;32m    826\u001b[0m     \u001b[0mtracing_count\u001b[0m \u001b[0;34m=\u001b[0m \u001b[0mself\u001b[0m\u001b[0;34m.\u001b[0m\u001b[0mexperimental_get_tracing_count\u001b[0m\u001b[0;34m(\u001b[0m\u001b[0;34m)\u001b[0m\u001b[0;34m\u001b[0m\u001b[0;34m\u001b[0m\u001b[0m\n\u001b[1;32m    827\u001b[0m     \u001b[0;32mwith\u001b[0m \u001b[0mtrace\u001b[0m\u001b[0;34m.\u001b[0m\u001b[0mTrace\u001b[0m\u001b[0;34m(\u001b[0m\u001b[0mself\u001b[0m\u001b[0;34m.\u001b[0m\u001b[0m_name\u001b[0m\u001b[0;34m)\u001b[0m \u001b[0;32mas\u001b[0m \u001b[0mtm\u001b[0m\u001b[0;34m:\u001b[0m\u001b[0;34m\u001b[0m\u001b[0;34m\u001b[0m\u001b[0m\n\u001b[0;32m--> 828\u001b[0;31m       \u001b[0mresult\u001b[0m \u001b[0;34m=\u001b[0m \u001b[0mself\u001b[0m\u001b[0;34m.\u001b[0m\u001b[0m_call\u001b[0m\u001b[0;34m(\u001b[0m\u001b[0;34m*\u001b[0m\u001b[0margs\u001b[0m\u001b[0;34m,\u001b[0m \u001b[0;34m**\u001b[0m\u001b[0mkwds\u001b[0m\u001b[0;34m)\u001b[0m\u001b[0;34m\u001b[0m\u001b[0;34m\u001b[0m\u001b[0m\n\u001b[0m\u001b[1;32m    829\u001b[0m       \u001b[0mcompiler\u001b[0m \u001b[0;34m=\u001b[0m \u001b[0;34m\"xla\"\u001b[0m \u001b[0;32mif\u001b[0m \u001b[0mself\u001b[0m\u001b[0;34m.\u001b[0m\u001b[0m_experimental_compile\u001b[0m \u001b[0;32melse\u001b[0m \u001b[0;34m\"nonXla\"\u001b[0m\u001b[0;34m\u001b[0m\u001b[0;34m\u001b[0m\u001b[0m\n\u001b[1;32m    830\u001b[0m       \u001b[0mnew_tracing_count\u001b[0m \u001b[0;34m=\u001b[0m \u001b[0mself\u001b[0m\u001b[0;34m.\u001b[0m\u001b[0mexperimental_get_tracing_count\u001b[0m\u001b[0;34m(\u001b[0m\u001b[0;34m)\u001b[0m\u001b[0;34m\u001b[0m\u001b[0;34m\u001b[0m\u001b[0m\n",
            "\u001b[0;32m/usr/local/lib/python3.7/dist-packages/tensorflow/python/eager/def_function.py\u001b[0m in \u001b[0;36m_call\u001b[0;34m(self, *args, **kwds)\u001b[0m\n\u001b[1;32m    853\u001b[0m       \u001b[0;31m# In this case we have created variables on the first call, so we run the\u001b[0m\u001b[0;34m\u001b[0m\u001b[0;34m\u001b[0m\u001b[0;34m\u001b[0m\u001b[0m\n\u001b[1;32m    854\u001b[0m       \u001b[0;31m# defunned version which is guaranteed to never create variables.\u001b[0m\u001b[0;34m\u001b[0m\u001b[0;34m\u001b[0m\u001b[0;34m\u001b[0m\u001b[0m\n\u001b[0;32m--> 855\u001b[0;31m       \u001b[0;32mreturn\u001b[0m \u001b[0mself\u001b[0m\u001b[0;34m.\u001b[0m\u001b[0m_stateless_fn\u001b[0m\u001b[0;34m(\u001b[0m\u001b[0;34m*\u001b[0m\u001b[0margs\u001b[0m\u001b[0;34m,\u001b[0m \u001b[0;34m**\u001b[0m\u001b[0mkwds\u001b[0m\u001b[0;34m)\u001b[0m  \u001b[0;31m# pylint: disable=not-callable\u001b[0m\u001b[0;34m\u001b[0m\u001b[0;34m\u001b[0m\u001b[0m\n\u001b[0m\u001b[1;32m    856\u001b[0m     \u001b[0;32melif\u001b[0m \u001b[0mself\u001b[0m\u001b[0;34m.\u001b[0m\u001b[0m_stateful_fn\u001b[0m \u001b[0;32mis\u001b[0m \u001b[0;32mnot\u001b[0m \u001b[0;32mNone\u001b[0m\u001b[0;34m:\u001b[0m\u001b[0;34m\u001b[0m\u001b[0;34m\u001b[0m\u001b[0m\n\u001b[1;32m    857\u001b[0m       \u001b[0;31m# Release the lock early so that multiple threads can perform the call\u001b[0m\u001b[0;34m\u001b[0m\u001b[0;34m\u001b[0m\u001b[0;34m\u001b[0m\u001b[0m\n",
            "\u001b[0;32m/usr/local/lib/python3.7/dist-packages/tensorflow/python/eager/function.py\u001b[0m in \u001b[0;36m__call__\u001b[0;34m(self, *args, **kwargs)\u001b[0m\n\u001b[1;32m   2941\u001b[0m        filtered_flat_args) = self._maybe_define_function(args, kwargs)\n\u001b[1;32m   2942\u001b[0m     return graph_function._call_flat(\n\u001b[0;32m-> 2943\u001b[0;31m         filtered_flat_args, captured_inputs=graph_function.captured_inputs)  # pylint: disable=protected-access\n\u001b[0m\u001b[1;32m   2944\u001b[0m \u001b[0;34m\u001b[0m\u001b[0m\n\u001b[1;32m   2945\u001b[0m   \u001b[0;34m@\u001b[0m\u001b[0mproperty\u001b[0m\u001b[0;34m\u001b[0m\u001b[0;34m\u001b[0m\u001b[0m\n",
            "\u001b[0;32m/usr/local/lib/python3.7/dist-packages/tensorflow/python/eager/function.py\u001b[0m in \u001b[0;36m_call_flat\u001b[0;34m(self, args, captured_inputs, cancellation_manager)\u001b[0m\n\u001b[1;32m   1917\u001b[0m       \u001b[0;31m# No tape is watching; skip to running the function.\u001b[0m\u001b[0;34m\u001b[0m\u001b[0;34m\u001b[0m\u001b[0;34m\u001b[0m\u001b[0m\n\u001b[1;32m   1918\u001b[0m       return self._build_call_outputs(self._inference_function.call(\n\u001b[0;32m-> 1919\u001b[0;31m           ctx, args, cancellation_manager=cancellation_manager))\n\u001b[0m\u001b[1;32m   1920\u001b[0m     forward_backward = self._select_forward_and_backward_functions(\n\u001b[1;32m   1921\u001b[0m         \u001b[0margs\u001b[0m\u001b[0;34m,\u001b[0m\u001b[0;34m\u001b[0m\u001b[0;34m\u001b[0m\u001b[0m\n",
            "\u001b[0;32m/usr/local/lib/python3.7/dist-packages/tensorflow/python/eager/function.py\u001b[0m in \u001b[0;36mcall\u001b[0;34m(self, ctx, args, cancellation_manager)\u001b[0m\n\u001b[1;32m    558\u001b[0m               \u001b[0minputs\u001b[0m\u001b[0;34m=\u001b[0m\u001b[0margs\u001b[0m\u001b[0;34m,\u001b[0m\u001b[0;34m\u001b[0m\u001b[0;34m\u001b[0m\u001b[0m\n\u001b[1;32m    559\u001b[0m               \u001b[0mattrs\u001b[0m\u001b[0;34m=\u001b[0m\u001b[0mattrs\u001b[0m\u001b[0;34m,\u001b[0m\u001b[0;34m\u001b[0m\u001b[0;34m\u001b[0m\u001b[0m\n\u001b[0;32m--> 560\u001b[0;31m               ctx=ctx)\n\u001b[0m\u001b[1;32m    561\u001b[0m         \u001b[0;32melse\u001b[0m\u001b[0;34m:\u001b[0m\u001b[0;34m\u001b[0m\u001b[0;34m\u001b[0m\u001b[0m\n\u001b[1;32m    562\u001b[0m           outputs = execute.execute_with_cancellation(\n",
            "\u001b[0;32m/usr/local/lib/python3.7/dist-packages/tensorflow/python/eager/execute.py\u001b[0m in \u001b[0;36mquick_execute\u001b[0;34m(op_name, num_outputs, inputs, attrs, ctx, name)\u001b[0m\n\u001b[1;32m     58\u001b[0m     \u001b[0mctx\u001b[0m\u001b[0;34m.\u001b[0m\u001b[0mensure_initialized\u001b[0m\u001b[0;34m(\u001b[0m\u001b[0;34m)\u001b[0m\u001b[0;34m\u001b[0m\u001b[0;34m\u001b[0m\u001b[0m\n\u001b[1;32m     59\u001b[0m     tensors = pywrap_tfe.TFE_Py_Execute(ctx._handle, device_name, op_name,\n\u001b[0;32m---> 60\u001b[0;31m                                         inputs, attrs, num_outputs)\n\u001b[0m\u001b[1;32m     61\u001b[0m   \u001b[0;32mexcept\u001b[0m \u001b[0mcore\u001b[0m\u001b[0;34m.\u001b[0m\u001b[0m_NotOkStatusException\u001b[0m \u001b[0;32mas\u001b[0m \u001b[0me\u001b[0m\u001b[0;34m:\u001b[0m\u001b[0;34m\u001b[0m\u001b[0;34m\u001b[0m\u001b[0m\n\u001b[1;32m     62\u001b[0m     \u001b[0;32mif\u001b[0m \u001b[0mname\u001b[0m \u001b[0;32mis\u001b[0m \u001b[0;32mnot\u001b[0m \u001b[0;32mNone\u001b[0m\u001b[0;34m:\u001b[0m\u001b[0;34m\u001b[0m\u001b[0;34m\u001b[0m\u001b[0m\n",
            "\u001b[0;31mKeyboardInterrupt\u001b[0m: "
          ]
        }
      ]
    },
    {
      "cell_type": "code",
      "metadata": {
        "id": "Vc_R1cBMXEOM",
        "colab": {
          "base_uri": "https://localhost:8080/"
        },
        "outputId": "fbf9cebf-650b-4d78-9701-e75b77d17a10"
      },
      "source": [
        "model.evaluate([x_test, target_xtest], y_test)"
      ],
      "execution_count": null,
      "outputs": [
        {
          "output_type": "stream",
          "text": [
            "9/9 [==============================] - 1s 135ms/step - loss: 115.3931 - mse: 115.3931\n"
          ],
          "name": "stdout"
        },
        {
          "output_type": "execute_result",
          "data": {
            "text/plain": [
              "[115.3930892944336, 115.3930892944336]"
            ]
          },
          "metadata": {
            "tags": []
          },
          "execution_count": 21
        }
      ]
    },
    {
      "cell_type": "code",
      "metadata": {
        "id": "t-Pp8UsinhpG"
      },
      "source": [
        "prediction = model.predict([x_test, target_xtest])\n",
        "prediction = np.rint(prediction)"
      ],
      "execution_count": null,
      "outputs": []
    },
    {
      "cell_type": "code",
      "metadata": {
        "id": "-Ai-hdEUrMcK",
        "colab": {
          "base_uri": "https://localhost:8080/"
        },
        "outputId": "462b3117-a3dc-488e-c4a1-369faad13a31"
      },
      "source": [
        "print(prediction)"
      ],
      "execution_count": null,
      "outputs": [
        {
          "output_type": "stream",
          "text": [
            "[[ 29.  -8.  -1.   6.]\n",
            " [ -0.  -0.  -0.   0.]\n",
            " [ -0.  -0.  -0.   0.]\n",
            " ...\n",
            " [-10.  -3.  -5.   6.]\n",
            " [ -0.  -0.  -0.   0.]\n",
            " [  1.   3.  -5.   1.]]\n"
          ],
          "name": "stdout"
        }
      ]
    },
    {
      "cell_type": "code",
      "metadata": {
        "id": "vjxbhobI7fE2"
      },
      "source": [
        "np.savetxt('predictions.csv', prediction, delimiter=\",\")"
      ],
      "execution_count": null,
      "outputs": []
    },
    {
      "cell_type": "code",
      "metadata": {
        "colab": {
          "base_uri": "https://localhost:8080/"
        },
        "id": "9BmFwU6HAgmb",
        "outputId": "7e6e112f-bb4d-41f3-fbe1-217e428aa5c0"
      },
      "source": [
        "y_test.to_numpy()"
      ],
      "execution_count": null,
      "outputs": [
        {
          "output_type": "execute_result",
          "data": {
            "text/plain": [
              "array([[ 35, -13,   0,   7],\n",
              "       [  0,   0,   0,   0],\n",
              "       [  0,   0,   0,   0],\n",
              "       ...,\n",
              "       [-25, -18,   0,  -3],\n",
              "       [  0,   0,   0,   0],\n",
              "       [ 25, -18,   0,   2]])"
            ]
          },
          "metadata": {
            "tags": []
          },
          "execution_count": 32
        }
      ]
    },
    {
      "cell_type": "code",
      "metadata": {
        "id": "0hOGftKwApgo"
      },
      "source": [
        "np.savetxt('ground_truth.csv', y_test, delimiter=',')"
      ],
      "execution_count": null,
      "outputs": []
    },
    {
      "cell_type": "code",
      "metadata": {
        "id": "oCcYNaPzr2fx"
      },
      "source": [
        "# import cv2\n",
        "# from google.colab.patches import cv2_imshow\n",
        "# img1 = cv2.imread('data65_27.png')\n",
        "# img2 = cv2.imread('target_image_1.png')\n",
        "#mg1 = cv2.cvtColor(img1, cv2.COLOR_BGR2GRAY)\n",
        "# img1 = cv2.resize(img1, dsize=(128,128), interpolation = cv2.INTER_CUBIC)\n",
        "# plt.imshow(img1)\n",
        "# img1.shape\n",
        "\n",
        "# img1 = np.expand_dims(img1, axis = 0)\n",
        "# img1 = np.expand_dims(img1, axis = 3)\n",
        "# img1 = img1.astype('float32')\n",
        "# img1 = img1/255\n",
        "# plt.imshow(img1.reshape(128,128), cmap = plt.cm.binary)"
      ],
      "execution_count": null,
      "outputs": []
    },
    {
      "cell_type": "code",
      "metadata": {
        "id": "UUBwNh_ul7Hn"
      },
      "source": [
        "# from PIL import Image\n",
        "# # Open the image form working directory\n",
        "# img1 = Image.open('/content/data65_27.png')\n",
        "# img2 = Image.open('/content/target_image_1.png')"
      ],
      "execution_count": null,
      "outputs": []
    },
    {
      "cell_type": "code",
      "metadata": {
        "id": "fbJhnxClmnB7"
      },
      "source": [
        "# from matplotlib import image\n",
        "# from matplotlib import pyplot\n",
        "# # load image as pixel array\n",
        "# img1 = image.imread('/content/data65_27.png')\n",
        "# img2 = image.imread('/content/target_image_1.png')"
      ],
      "execution_count": null,
      "outputs": []
    },
    {
      "cell_type": "code",
      "metadata": {
        "id": "yEwjupKomz2Q"
      },
      "source": [
        "import cv2\n",
        "from google.colab.patches import cv2_imshow\n",
        "img = cv2.imread('test8_res_res_res_res_res_res_res_res_000011.png')\n",
        "img = cv2.cvtColor(img, cv2.COLOR_BGR2GRAY)\n",
        "img= cv2.resize(img, dsize=(128,128), interpolation = cv2.INTER_CUBIC)\n",
        "# plt.imshow(img)\n",
        "img.shape\n",
        "\n",
        "img = np.reshape(img, (1, 128, 128))\n",
        "# img = np.expand_dims(img, axis = 0)\n",
        "# img = np.expand_dims(img, axis = 3)\n",
        "# img = np.reshape(128,128)\n",
        "# img = img.astype('float32')\n",
        "img = img/255\n",
        "img = np.repeat(img[..., np.newaxis], 3, -1)\n",
        "# plt.imshow(img.reshape(128,128), cmap = plt.cm.binary)"
      ],
      "execution_count": null,
      "outputs": []
    },
    {
      "cell_type": "code",
      "metadata": {
        "id": "IPlFIP9VnWcW",
        "colab": {
          "base_uri": "https://localhost:8080/"
        },
        "outputId": "8a376082-75f7-4891-a2e9-d81bd60a34db"
      },
      "source": [
        "img.shape"
      ],
      "execution_count": null,
      "outputs": [
        {
          "output_type": "execute_result",
          "data": {
            "text/plain": [
              "(1, 128, 128, 3)"
            ]
          },
          "metadata": {
            "tags": []
          },
          "execution_count": 157
        }
      ]
    },
    {
      "cell_type": "code",
      "metadata": {
        "id": "hcDTSZQUm_b2"
      },
      "source": [
        "img2 = cv2.imread('target_image.png')\n",
        "img2 = cv2.cvtColor(img2, cv2.COLOR_BGR2GRAY)\n",
        "img2= cv2.resize(img2, dsize=(128,128), interpolation = cv2.INTER_CUBIC)\n",
        "# plt.imshow(img)\n",
        "img2.shape\n",
        "\n",
        "img2 = np.reshape(img2, (1, 128, 128))\n",
        "# img = np.expand_dims(img, axis = 0)\n",
        "# img = np.expand_dims(img, axis = 3)\n",
        "# img = np.reshape(128,128)\n",
        "# img = img.astype('float32')\n",
        "img2 = img2/255\n",
        "img2 = np.repeat(img2[..., np.newaxis], 3, -1)\n",
        "# plt.imshow(img.reshape(128,128), cmap = plt.cm.binary)"
      ],
      "execution_count": null,
      "outputs": []
    },
    {
      "cell_type": "code",
      "metadata": {
        "id": "4e7k8WDWpa1c",
        "colab": {
          "base_uri": "https://localhost:8080/"
        },
        "outputId": "5c57c42b-2a52-4c87-c94d-447e339914ba"
      },
      "source": [
        "img2.shape"
      ],
      "execution_count": null,
      "outputs": [
        {
          "output_type": "execute_result",
          "data": {
            "text/plain": [
              "(1, 128, 128, 3)"
            ]
          },
          "metadata": {
            "tags": []
          },
          "execution_count": 159
        }
      ]
    },
    {
      "cell_type": "code",
      "metadata": {
        "id": "BGxf25z0lUM8"
      },
      "source": [
        "predictionimg = model.predict([img,img2])\n",
        "predictionimg = np.rint(predictionimg)"
      ],
      "execution_count": null,
      "outputs": []
    },
    {
      "cell_type": "code",
      "metadata": {
        "id": "YNAbeatNl20z",
        "colab": {
          "base_uri": "https://localhost:8080/"
        },
        "outputId": "a9527f5b-a838-46b5-cef0-8d28c4ea0e89"
      },
      "source": [
        "predictionimg"
      ],
      "execution_count": null,
      "outputs": [
        {
          "output_type": "execute_result",
          "data": {
            "text/plain": [
              "array([[-17.,  -3.,  -5.,   3.]], dtype=float32)"
            ]
          },
          "metadata": {
            "tags": []
          },
          "execution_count": 161
        }
      ]
    },
    {
      "cell_type": "code",
      "metadata": {
        "id": "3Z38S64ZpeB_"
      },
      "source": [
        ""
      ],
      "execution_count": null,
      "outputs": []
    }
  ]
}