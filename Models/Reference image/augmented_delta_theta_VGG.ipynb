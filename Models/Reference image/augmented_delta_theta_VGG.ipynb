{
  "nbformat": 4,
  "nbformat_minor": 0,
  "metadata": {
    "colab": {
      "name": "experiment delta_theta VGG.ipynb",
      "provenance": [],
      "collapsed_sections": []
    },
    "kernelspec": {
      "name": "python3",
      "display_name": "Python 3"
    },
    "accelerator": "GPU"
  },
  "cells": [
    {
      "cell_type": "code",
      "metadata": {
        "colab": {
          "base_uri": "https://localhost:8080/"
        },
        "id": "b5mcsngV9IjX",
        "outputId": "6fddec9a-29fc-4d9b-d121-fb458c1e4321"
      },
      "source": [
        "from google.colab import drive\n",
        "drive.mount('/content/drive')"
      ],
      "execution_count": 1,
      "outputs": [
        {
          "output_type": "stream",
          "text": [
            "Mounted at /content/drive\n"
          ],
          "name": "stdout"
        }
      ]
    },
    {
      "cell_type": "code",
      "metadata": {
        "colab": {
          "base_uri": "https://localhost:8080/"
        },
        "id": "aClCGALS9N6c",
        "outputId": "d368a50c-574f-481f-ab6f-8504c2698706"
      },
      "source": [
        "import os\n",
        "os.chdir('/content/drive/My Drive')\n",
        "!pwd"
      ],
      "execution_count": 2,
      "outputs": [
        {
          "output_type": "stream",
          "text": [
            "/content/drive/My Drive\n"
          ],
          "name": "stdout"
        }
      ]
    },
    {
      "cell_type": "code",
      "metadata": {
        "colab": {
          "base_uri": "https://localhost:8080/"
        },
        "id": "k_YleJ_xiBkd",
        "outputId": "b489b462-9ec5-4cbb-8916-68bb1b98f192"
      },
      "source": [
        "%tensorflow_version"
      ],
      "execution_count": 3,
      "outputs": [
        {
          "output_type": "stream",
          "text": [
            "Currently selected TF version: 2.x\n",
            "Available versions:\n",
            "* 1.x\n",
            "* 2.x\n"
          ],
          "name": "stdout"
        }
      ]
    },
    {
      "cell_type": "code",
      "metadata": {
        "id": "WUAVH2STVC_U"
      },
      "source": [
        "import pandas as pd\n",
        "import numpy as np\n",
        "from skimage.io import imread\n",
        "from sklearn.model_selection import train_test_split\n",
        "from matplotlib import pyplot as plt\n",
        "# %matplotlib inline\n",
        "\n",
        "import keras\n",
        "from keras import optimizers\n",
        "from keras.utils import to_categorical\n",
        "from keras.layers import Input, Dense, Flatten, Dropout, Conv2D, MaxPooling2D, Activation, concatenate\n",
        "from keras.layers.advanced_activations import ReLU\n",
        "from keras.models import Model\n",
        "from keras.optimizers import Adam, SGD\n",
        "from keras.callbacks import ModelCheckpoint\n",
        "import random\n",
        "import math\n",
        "import matplotlib.image as mpimg\n",
        "import cv2\n",
        "import os"
      ],
      "execution_count": 4,
      "outputs": []
    },
    {
      "cell_type": "code",
      "metadata": {
        "id": "qRHAHX-79Oii"
      },
      "source": [
        "# path = 'train_dataset'"
      ],
      "execution_count": 5,
      "outputs": []
    },
    {
      "cell_type": "code",
      "metadata": {
        "id": "s_rDWwfM8_iq"
      },
      "source": [
        "# for img in os.listdir(path):  # iterate over each image per dogs and cats\n",
        "#     img_array = cv2.imread(os.path.join(path,img))\n",
        "#     img_array = cv2.resize(img_array, (216, 216),interpolation = cv2.INTER_AREA)\n"
      ],
      "execution_count": 6,
      "outputs": []
    },
    {
      "cell_type": "code",
      "metadata": {
        "id": "mWsFvY-d9ZH8"
      },
      "source": [
        "# img_array.shape"
      ],
      "execution_count": 7,
      "outputs": []
    },
    {
      "cell_type": "code",
      "metadata": {
        "id": "y1Ro75NIBlvM"
      },
      "source": [
        "# target_path = 'target_image'"
      ],
      "execution_count": 8,
      "outputs": []
    },
    {
      "cell_type": "code",
      "metadata": {
        "id": "d70wGkosBsvD"
      },
      "source": [
        "# for img in os.listdir(target_path):  # iterate over each image per dogs and cats\n",
        "#     target_arr = cv2.imread(os.path.join(target_path,img))\n",
        "#     target_arr=cv2.resize(target_arr, (216, 216),interpolation = cv2.INTER_AREA)"
      ],
      "execution_count": 9,
      "outputs": []
    },
    {
      "cell_type": "code",
      "metadata": {
        "id": "Z8W1FsfNDzZr"
      },
      "source": [
        "# target_arr"
      ],
      "execution_count": 10,
      "outputs": []
    },
    {
      "cell_type": "code",
      "metadata": {
        "id": "8TAoFO4R-jOC"
      },
      "source": [
        "def load_dataset():\n",
        "  train_data = pd.read_csv('train_aug_dataset.csv')\n",
        "  y_train = pd.read_csv('augmented_labels_delta.csv')\n",
        "  target_data = pd.read_csv('target_data.csv')\n",
        "  # target_label = pd.read_csv('target_label.csv')\n",
        "  return train_data, y_train, target_data"
      ],
      "execution_count": 11,
      "outputs": []
    },
    {
      "cell_type": "code",
      "metadata": {
        "id": "Wy57sGOsBdNh"
      },
      "source": [
        "train_data, y_train, target_data = load_dataset()"
      ],
      "execution_count": 12,
      "outputs": []
    },
    {
      "cell_type": "code",
      "metadata": {
        "id": "bkfeEE1F6NzG"
      },
      "source": [
        "# train_data = img_array\n",
        "# target_data = target_arr"
      ],
      "execution_count": 126,
      "outputs": []
    },
    {
      "cell_type": "code",
      "metadata": {
        "id": "KfuJXir7E1-k"
      },
      "source": [
        "num_classes = 4\n",
        "train_data = np.array(train_data.iloc[:,:])\n",
        "train_data = np.array([np.reshape(i,(128,128)) for i in train_data])\n",
        "target_data = np.array(target_data.iloc[:,:])\n",
        "target_data = np.array([np.reshape(i,(128,128)) for i in target_data])"
      ],
      "execution_count": 13,
      "outputs": []
    },
    {
      "cell_type": "code",
      "metadata": {
        "colab": {
          "base_uri": "https://localhost:8080/"
        },
        "id": "lVMG4LIy51aw",
        "outputId": "b6acd1d9-d043-4d19-a44d-c53e487d5cdd"
      },
      "source": [
        "train_data.shape\n",
        "target_data.shape"
      ],
      "execution_count": 15,
      "outputs": [
        {
          "output_type": "execute_result",
          "data": {
            "text/plain": [
              "(928, 128, 128)"
            ]
          },
          "metadata": {
            "tags": []
          },
          "execution_count": 15
        }
      ]
    },
    {
      "cell_type": "code",
      "metadata": {
        "colab": {
          "base_uri": "https://localhost:8080/"
        },
        "id": "QaXR-fhI1TMc",
        "outputId": "61100949-85c9-4716-81f1-5271737a775b"
      },
      "source": [
        "train_data = train_data.astype('float32')\n",
        "train_data = train_data/255\n",
        "\n",
        "rgb_batch = np.repeat(train_data[..., np.newaxis], 3, -1)\n",
        "rgb_batch.shape\n",
        "\n",
        "target_data = target_data.astype('float32')\n",
        "target_data = target_data/255\n",
        "\n",
        "rgb_target = np.repeat(target_data[..., np.newaxis], 3, -1)\n",
        "rgb_target.shape"
      ],
      "execution_count": 16,
      "outputs": [
        {
          "output_type": "execute_result",
          "data": {
            "text/plain": [
              "(928, 128, 128, 3)"
            ]
          },
          "metadata": {
            "tags": []
          },
          "execution_count": 16
        }
      ]
    },
    {
      "cell_type": "code",
      "metadata": {
        "id": "F8QTLdM0QeBr"
      },
      "source": [
        "target_data = rgb_target"
      ],
      "execution_count": 17,
      "outputs": []
    },
    {
      "cell_type": "code",
      "metadata": {
        "colab": {
          "base_uri": "https://localhost:8080/"
        },
        "id": "lWPUCq7qhC3N",
        "outputId": "dbe0f3b8-6db9-4d3e-b6d8-7624c519bfac"
      },
      "source": [
        "target_data.shape"
      ],
      "execution_count": 18,
      "outputs": [
        {
          "output_type": "execute_result",
          "data": {
            "text/plain": [
              "(928, 128, 128, 3)"
            ]
          },
          "metadata": {
            "tags": []
          },
          "execution_count": 18
        }
      ]
    },
    {
      "cell_type": "code",
      "metadata": {
        "id": "l3J9DPmoEonU"
      },
      "source": [
        "x_train, x_test, y_train, y_test = train_test_split(rgb_batch, y_train, test_size = 0.3, random_state=666)\n",
        "target_xtrain, target_xtest = train_test_split(target_data, test_size = 0.3, random_state=666)"
      ],
      "execution_count": 19,
      "outputs": []
    },
    {
      "cell_type": "code",
      "metadata": {
        "id": "mEYix5VfIEhe"
      },
      "source": [
        "input_shape = (128, 128, 3)"
      ],
      "execution_count": 20,
      "outputs": []
    },
    {
      "cell_type": "code",
      "metadata": {
        "id": "8yKRdRCEagQy"
      },
      "source": [
        "# print(y_test)"
      ],
      "execution_count": null,
      "outputs": []
    },
    {
      "cell_type": "code",
      "metadata": {
        "id": "TlmvUKDGMzlZ"
      },
      "source": [
        "def VGG_16(input_image):\n",
        "    model = Conv2D(64, (3,3), padding=\"same\", input_shape = input_shape)(input_image)\n",
        "    model = ReLU(max_value=1.0)(model)\n",
        "    # model = Conv2D(64, (3,3), padding=\"same\")(model)\n",
        "    # model = ReLU(max_value=1.0)(model)\n",
        "    model = MaxPooling2D(pool_size=(2,2), padding=\"same\")(model)\n",
        "    # model = Dropout(0.25)(model)\n",
        "\n",
        "    model = Conv2D(128, (3,3), padding=\"same\")(model)\n",
        "    model = ReLU(max_value=1.0)(model)\n",
        "    # model = Conv2D(128, (3,3), padding=\"same\")(model)\n",
        "    # model = ReLU(max_value=1.0)(model)\n",
        "    model = MaxPooling2D(pool_size=(2,2), padding=\"same\")(model)\n",
        "    # model = Dropout(0.25)(model)\n",
        "\n",
        "    # model = Conv2D(256, (3,3), padding=\"same\")(model)\n",
        "    # model = ReLU(max_value=1.0)(model)\n",
        "    model = Conv2D(256, (3,3), padding=\"same\")(model)\n",
        "    model = ReLU(max_value=1.0)(model)\n",
        "    model = MaxPooling2D(pool_size=(2,2), padding=\"same\")(model)\n",
        "    model = Dropout(0.25)(model)\n",
        "\n",
        "\n",
        "    return model"
      ],
      "execution_count": 50,
      "outputs": []
    },
    {
      "cell_type": "code",
      "metadata": {
        "id": "gyD2K2hs47BT"
      },
      "source": [
        "current_input = Input(shape=input_shape)\n",
        "current_model = VGG_16(current_input)\n",
        "\n",
        "target_input = Input(shape=input_shape)\n",
        "target_model = VGG_16(target_input)"
      ],
      "execution_count": 51,
      "outputs": []
    },
    {
      "cell_type": "code",
      "metadata": {
        "id": "oGY8OydFTU8E"
      },
      "source": [
        "conv = concatenate([current_model, target_model])"
      ],
      "execution_count": 52,
      "outputs": []
    },
    {
      "cell_type": "code",
      "metadata": {
        "id": "IjgFVGD1Ta_N"
      },
      "source": [
        "conv = Flatten()(conv)\n",
        "dense = Dense(512)(conv)\n",
        "dense = ReLU(max_value=None)(dense)\n",
        "dense = Dropout(0.5)(dense)\n",
        "# dense = Dense(512)(dense)\n",
        "# dense = ReLU(max_value=1.0)(dense)\n",
        "# dense = Dropout(0.5)(dense)\n",
        "\n",
        "output = Dense(num_classes, activation='linear')(dense)\n",
        "# output = math.floor(output)\n",
        "model = Model(inputs=[current_input, target_input], outputs=[output])\n",
        "\n",
        "opt = Adam(learning_rate=0.0001)\n",
        "\n",
        "model.compile(loss='mean_squared_error', optimizer=opt, metrics=['mse'])\n"
      ],
      "execution_count": 53,
      "outputs": []
    },
    {
      "cell_type": "code",
      "metadata": {
        "id": "7rHsTXpiU4Zw"
      },
      "source": [
        "best_weights_file=\"weights.aug.best.hdf5\"\n",
        "checkpoint = ModelCheckpoint(best_weights_file, monitor='val_mse', verbose=1, save_best_only=True, mode='max')\n",
        "callbacks = [checkpoint]"
      ],
      "execution_count": 54,
      "outputs": []
    },
    {
      "cell_type": "code",
      "metadata": {
        "colab": {
          "base_uri": "https://localhost:8080/"
        },
        "id": "6LLcG_DpWKp7",
        "outputId": "83e7cf99-9291-4f0b-921e-92d525347569"
      },
      "source": [
        "model.fit([x_train, target_xtrain], y_train,\n",
        "          epochs=100,\n",
        "          validation_split=0.3,\n",
        "          callbacks = callbacks,\n",
        "          verbose=1)"
      ],
      "execution_count": 55,
      "outputs": [
        {
          "output_type": "stream",
          "text": [
            "Epoch 1/100\n",
            "15/15 [==============================] - 3s 133ms/step - loss: 187.2904 - mse: 187.2904 - val_loss: 183.7189 - val_mse: 183.7189\n",
            "\n",
            "Epoch 00001: val_mse improved from -inf to 183.71893, saving model to weights.aug.best.hdf5\n",
            "Epoch 2/100\n",
            "15/15 [==============================] - 2s 121ms/step - loss: 183.5077 - mse: 183.5077 - val_loss: 178.9776 - val_mse: 178.9776\n",
            "\n",
            "Epoch 00002: val_mse did not improve from 183.71893\n",
            "Epoch 3/100\n",
            "15/15 [==============================] - 2s 117ms/step - loss: 186.8622 - mse: 186.8622 - val_loss: 169.6604 - val_mse: 169.6604\n",
            "\n",
            "Epoch 00003: val_mse did not improve from 183.71893\n",
            "Epoch 4/100\n",
            "15/15 [==============================] - 2s 118ms/step - loss: 169.8379 - mse: 169.8379 - val_loss: 162.5482 - val_mse: 162.5482\n",
            "\n",
            "Epoch 00004: val_mse did not improve from 183.71893\n",
            "Epoch 5/100\n",
            "15/15 [==============================] - 2s 118ms/step - loss: 171.6377 - mse: 171.6377 - val_loss: 162.2836 - val_mse: 162.2836\n",
            "\n",
            "Epoch 00005: val_mse did not improve from 183.71893\n",
            "Epoch 6/100\n",
            "15/15 [==============================] - 2s 121ms/step - loss: 169.0826 - mse: 169.0826 - val_loss: 167.0535 - val_mse: 167.0535\n",
            "\n",
            "Epoch 00006: val_mse did not improve from 183.71893\n",
            "Epoch 7/100\n",
            "15/15 [==============================] - 2s 121ms/step - loss: 149.6726 - mse: 149.6726 - val_loss: 156.7003 - val_mse: 156.7003\n",
            "\n",
            "Epoch 00007: val_mse did not improve from 183.71893\n",
            "Epoch 8/100\n",
            "15/15 [==============================] - 2s 121ms/step - loss: 163.4041 - mse: 163.4041 - val_loss: 154.8334 - val_mse: 154.8334\n",
            "\n",
            "Epoch 00008: val_mse did not improve from 183.71893\n",
            "Epoch 9/100\n",
            "15/15 [==============================] - 2s 120ms/step - loss: 153.7078 - mse: 153.7078 - val_loss: 163.0716 - val_mse: 163.0716\n",
            "\n",
            "Epoch 00009: val_mse did not improve from 183.71893\n",
            "Epoch 10/100\n",
            "15/15 [==============================] - 2s 119ms/step - loss: 159.7329 - mse: 159.7329 - val_loss: 157.7978 - val_mse: 157.7978\n",
            "\n",
            "Epoch 00010: val_mse did not improve from 183.71893\n",
            "Epoch 11/100\n",
            "15/15 [==============================] - 2s 119ms/step - loss: 148.2343 - mse: 148.2343 - val_loss: 153.5023 - val_mse: 153.5023\n",
            "\n",
            "Epoch 00011: val_mse did not improve from 183.71893\n",
            "Epoch 12/100\n",
            "15/15 [==============================] - 2s 118ms/step - loss: 147.6314 - mse: 147.6314 - val_loss: 169.8192 - val_mse: 169.8192\n",
            "\n",
            "Epoch 00012: val_mse did not improve from 183.71893\n",
            "Epoch 13/100\n",
            "15/15 [==============================] - 2s 119ms/step - loss: 151.0788 - mse: 151.0788 - val_loss: 152.1370 - val_mse: 152.1370\n",
            "\n",
            "Epoch 00013: val_mse did not improve from 183.71893\n",
            "Epoch 14/100\n",
            "15/15 [==============================] - 2s 119ms/step - loss: 135.6422 - mse: 135.6422 - val_loss: 151.0598 - val_mse: 151.0598\n",
            "\n",
            "Epoch 00014: val_mse did not improve from 183.71893\n",
            "Epoch 15/100\n",
            "15/15 [==============================] - 2s 119ms/step - loss: 138.0388 - mse: 138.0388 - val_loss: 160.1839 - val_mse: 160.1839\n",
            "\n",
            "Epoch 00015: val_mse did not improve from 183.71893\n",
            "Epoch 16/100\n",
            "15/15 [==============================] - 2s 118ms/step - loss: 131.4804 - mse: 131.4804 - val_loss: 156.5634 - val_mse: 156.5634\n",
            "\n",
            "Epoch 00016: val_mse did not improve from 183.71893\n",
            "Epoch 17/100\n",
            "15/15 [==============================] - 2s 118ms/step - loss: 120.9467 - mse: 120.9467 - val_loss: 147.8310 - val_mse: 147.8310\n",
            "\n",
            "Epoch 00017: val_mse did not improve from 183.71893\n",
            "Epoch 18/100\n",
            "15/15 [==============================] - 2s 120ms/step - loss: 125.9377 - mse: 125.9377 - val_loss: 151.5677 - val_mse: 151.5677\n",
            "\n",
            "Epoch 00018: val_mse did not improve from 183.71893\n",
            "Epoch 19/100\n",
            "15/15 [==============================] - 2s 119ms/step - loss: 111.9934 - mse: 111.9934 - val_loss: 146.2526 - val_mse: 146.2526\n",
            "\n",
            "Epoch 00019: val_mse did not improve from 183.71893\n",
            "Epoch 20/100\n",
            "15/15 [==============================] - 2s 118ms/step - loss: 119.9205 - mse: 119.9205 - val_loss: 154.9596 - val_mse: 154.9596\n",
            "\n",
            "Epoch 00020: val_mse did not improve from 183.71893\n",
            "Epoch 21/100\n",
            "15/15 [==============================] - 2s 118ms/step - loss: 109.2941 - mse: 109.2941 - val_loss: 145.1451 - val_mse: 145.1451\n",
            "\n",
            "Epoch 00021: val_mse did not improve from 183.71893\n",
            "Epoch 22/100\n",
            "15/15 [==============================] - 2s 118ms/step - loss: 115.2306 - mse: 115.2306 - val_loss: 144.2942 - val_mse: 144.2942\n",
            "\n",
            "Epoch 00022: val_mse did not improve from 183.71893\n",
            "Epoch 23/100\n",
            "15/15 [==============================] - 2s 118ms/step - loss: 104.6603 - mse: 104.6603 - val_loss: 157.9536 - val_mse: 157.9536\n",
            "\n",
            "Epoch 00023: val_mse did not improve from 183.71893\n",
            "Epoch 24/100\n",
            "15/15 [==============================] - 2s 117ms/step - loss: 95.6216 - mse: 95.6216 - val_loss: 145.2330 - val_mse: 145.2330\n",
            "\n",
            "Epoch 00024: val_mse did not improve from 183.71893\n",
            "Epoch 25/100\n",
            "15/15 [==============================] - 2s 117ms/step - loss: 91.1143 - mse: 91.1143 - val_loss: 139.2453 - val_mse: 139.2453\n",
            "\n",
            "Epoch 00025: val_mse did not improve from 183.71893\n",
            "Epoch 26/100\n",
            "15/15 [==============================] - 2s 120ms/step - loss: 93.3276 - mse: 93.3276 - val_loss: 139.6341 - val_mse: 139.6341\n",
            "\n",
            "Epoch 00026: val_mse did not improve from 183.71893\n",
            "Epoch 27/100\n",
            "15/15 [==============================] - 2s 118ms/step - loss: 93.4904 - mse: 93.4904 - val_loss: 141.6195 - val_mse: 141.6195\n",
            "\n",
            "Epoch 00027: val_mse did not improve from 183.71893\n",
            "Epoch 28/100\n",
            "15/15 [==============================] - 2s 118ms/step - loss: 85.9553 - mse: 85.9553 - val_loss: 138.8305 - val_mse: 138.8305\n",
            "\n",
            "Epoch 00028: val_mse did not improve from 183.71893\n",
            "Epoch 29/100\n",
            "15/15 [==============================] - 2s 116ms/step - loss: 81.8202 - mse: 81.8202 - val_loss: 147.0321 - val_mse: 147.0321\n",
            "\n",
            "Epoch 00029: val_mse did not improve from 183.71893\n",
            "Epoch 30/100\n",
            "15/15 [==============================] - 2s 117ms/step - loss: 80.8978 - mse: 80.8978 - val_loss: 133.6539 - val_mse: 133.6539\n",
            "\n",
            "Epoch 00030: val_mse did not improve from 183.71893\n",
            "Epoch 31/100\n",
            "15/15 [==============================] - 2s 118ms/step - loss: 73.7061 - mse: 73.7061 - val_loss: 135.1109 - val_mse: 135.1109\n",
            "\n",
            "Epoch 00031: val_mse did not improve from 183.71893\n",
            "Epoch 32/100\n",
            "15/15 [==============================] - 2s 118ms/step - loss: 83.1234 - mse: 83.1234 - val_loss: 133.9290 - val_mse: 133.9290\n",
            "\n",
            "Epoch 00032: val_mse did not improve from 183.71893\n",
            "Epoch 33/100\n",
            "15/15 [==============================] - 2s 118ms/step - loss: 73.8030 - mse: 73.8030 - val_loss: 139.5503 - val_mse: 139.5503\n",
            "\n",
            "Epoch 00033: val_mse did not improve from 183.71893\n",
            "Epoch 34/100\n",
            "15/15 [==============================] - 2s 117ms/step - loss: 71.5626 - mse: 71.5626 - val_loss: 139.6606 - val_mse: 139.6606\n",
            "\n",
            "Epoch 00034: val_mse did not improve from 183.71893\n",
            "Epoch 35/100\n",
            "15/15 [==============================] - 2s 117ms/step - loss: 64.0551 - mse: 64.0551 - val_loss: 135.0018 - val_mse: 135.0018\n",
            "\n",
            "Epoch 00035: val_mse did not improve from 183.71893\n",
            "Epoch 36/100\n",
            "15/15 [==============================] - 2s 119ms/step - loss: 71.3937 - mse: 71.3937 - val_loss: 126.8866 - val_mse: 126.8866\n",
            "\n",
            "Epoch 00036: val_mse did not improve from 183.71893\n",
            "Epoch 37/100\n",
            "15/15 [==============================] - 2s 117ms/step - loss: 68.1379 - mse: 68.1379 - val_loss: 129.0101 - val_mse: 129.0101\n",
            "\n",
            "Epoch 00037: val_mse did not improve from 183.71893\n",
            "Epoch 38/100\n",
            "15/15 [==============================] - 2s 118ms/step - loss: 67.4770 - mse: 67.4770 - val_loss: 130.8234 - val_mse: 130.8234\n",
            "\n",
            "Epoch 00038: val_mse did not improve from 183.71893\n",
            "Epoch 39/100\n",
            "15/15 [==============================] - 2s 117ms/step - loss: 64.5217 - mse: 64.5217 - val_loss: 132.6316 - val_mse: 132.6316\n",
            "\n",
            "Epoch 00039: val_mse did not improve from 183.71893\n",
            "Epoch 40/100\n",
            "15/15 [==============================] - 2s 118ms/step - loss: 63.2910 - mse: 63.2910 - val_loss: 131.4142 - val_mse: 131.4142\n",
            "\n",
            "Epoch 00040: val_mse did not improve from 183.71893\n",
            "Epoch 41/100\n",
            "15/15 [==============================] - 2s 116ms/step - loss: 62.9719 - mse: 62.9719 - val_loss: 125.0146 - val_mse: 125.0146\n",
            "\n",
            "Epoch 00041: val_mse did not improve from 183.71893\n",
            "Epoch 42/100\n",
            "15/15 [==============================] - 2s 118ms/step - loss: 64.2143 - mse: 64.2143 - val_loss: 129.4664 - val_mse: 129.4664\n",
            "\n",
            "Epoch 00042: val_mse did not improve from 183.71893\n",
            "Epoch 43/100\n",
            "15/15 [==============================] - 2s 117ms/step - loss: 67.5467 - mse: 67.5467 - val_loss: 128.8939 - val_mse: 128.8939\n",
            "\n",
            "Epoch 00043: val_mse did not improve from 183.71893\n",
            "Epoch 44/100\n",
            "15/15 [==============================] - 2s 117ms/step - loss: 58.4822 - mse: 58.4822 - val_loss: 126.3435 - val_mse: 126.3435\n",
            "\n",
            "Epoch 00044: val_mse did not improve from 183.71893\n",
            "Epoch 45/100\n",
            "15/15 [==============================] - 2s 117ms/step - loss: 57.9532 - mse: 57.9532 - val_loss: 126.8633 - val_mse: 126.8633\n",
            "\n",
            "Epoch 00045: val_mse did not improve from 183.71893\n",
            "Epoch 46/100\n",
            "15/15 [==============================] - 2s 117ms/step - loss: 52.1847 - mse: 52.1847 - val_loss: 124.0219 - val_mse: 124.0219\n",
            "\n",
            "Epoch 00046: val_mse did not improve from 183.71893\n",
            "Epoch 47/100\n",
            "15/15 [==============================] - 2s 119ms/step - loss: 56.2476 - mse: 56.2476 - val_loss: 127.2741 - val_mse: 127.2741\n",
            "\n",
            "Epoch 00047: val_mse did not improve from 183.71893\n",
            "Epoch 48/100\n",
            "15/15 [==============================] - 2s 117ms/step - loss: 48.4731 - mse: 48.4731 - val_loss: 124.9263 - val_mse: 124.9263\n",
            "\n",
            "Epoch 00048: val_mse did not improve from 183.71893\n",
            "Epoch 49/100\n",
            "15/15 [==============================] - 2s 117ms/step - loss: 56.2666 - mse: 56.2666 - val_loss: 129.6657 - val_mse: 129.6657\n",
            "\n",
            "Epoch 00049: val_mse did not improve from 183.71893\n",
            "Epoch 50/100\n",
            "15/15 [==============================] - 2s 118ms/step - loss: 52.5746 - mse: 52.5746 - val_loss: 130.9310 - val_mse: 130.9310\n",
            "\n",
            "Epoch 00050: val_mse did not improve from 183.71893\n",
            "Epoch 51/100\n",
            "15/15 [==============================] - 2s 119ms/step - loss: 53.8410 - mse: 53.8410 - val_loss: 127.8485 - val_mse: 127.8485\n",
            "\n",
            "Epoch 00051: val_mse did not improve from 183.71893\n",
            "Epoch 52/100\n",
            "15/15 [==============================] - 2s 119ms/step - loss: 56.0582 - mse: 56.0582 - val_loss: 128.1351 - val_mse: 128.1351\n",
            "\n",
            "Epoch 00052: val_mse did not improve from 183.71893\n",
            "Epoch 53/100\n",
            "15/15 [==============================] - 2s 120ms/step - loss: 56.6657 - mse: 56.6657 - val_loss: 126.0156 - val_mse: 126.0156\n",
            "\n",
            "Epoch 00053: val_mse did not improve from 183.71893\n",
            "Epoch 54/100\n",
            "15/15 [==============================] - 2s 119ms/step - loss: 53.0249 - mse: 53.0249 - val_loss: 139.3357 - val_mse: 139.3357\n",
            "\n",
            "Epoch 00054: val_mse did not improve from 183.71893\n",
            "Epoch 55/100\n",
            "15/15 [==============================] - 2s 116ms/step - loss: 49.7945 - mse: 49.7945 - val_loss: 132.2799 - val_mse: 132.2799\n",
            "\n",
            "Epoch 00055: val_mse did not improve from 183.71893\n",
            "Epoch 56/100\n",
            "15/15 [==============================] - 2s 119ms/step - loss: 48.3468 - mse: 48.3468 - val_loss: 128.3886 - val_mse: 128.3886\n",
            "\n",
            "Epoch 00056: val_mse did not improve from 183.71893\n",
            "Epoch 57/100\n",
            "15/15 [==============================] - 2s 118ms/step - loss: 49.5423 - mse: 49.5423 - val_loss: 122.7255 - val_mse: 122.7255\n",
            "\n",
            "Epoch 00057: val_mse did not improve from 183.71893\n",
            "Epoch 58/100\n",
            "15/15 [==============================] - 2s 118ms/step - loss: 52.4040 - mse: 52.4040 - val_loss: 124.6927 - val_mse: 124.6927\n",
            "\n",
            "Epoch 00058: val_mse did not improve from 183.71893\n",
            "Epoch 59/100\n",
            "15/15 [==============================] - 2s 119ms/step - loss: 43.8944 - mse: 43.8944 - val_loss: 126.5022 - val_mse: 126.5022\n",
            "\n",
            "Epoch 00059: val_mse did not improve from 183.71893\n",
            "Epoch 60/100\n",
            "15/15 [==============================] - 2s 118ms/step - loss: 44.6280 - mse: 44.6280 - val_loss: 123.4002 - val_mse: 123.4002\n",
            "\n",
            "Epoch 00060: val_mse did not improve from 183.71893\n",
            "Epoch 61/100\n",
            "15/15 [==============================] - 2s 117ms/step - loss: 51.5870 - mse: 51.5870 - val_loss: 121.0762 - val_mse: 121.0762\n",
            "\n",
            "Epoch 00061: val_mse did not improve from 183.71893\n",
            "Epoch 62/100\n",
            "15/15 [==============================] - 2s 118ms/step - loss: 41.7962 - mse: 41.7962 - val_loss: 121.1329 - val_mse: 121.1329\n",
            "\n",
            "Epoch 00062: val_mse did not improve from 183.71893\n",
            "Epoch 63/100\n",
            "15/15 [==============================] - 2s 118ms/step - loss: 56.4449 - mse: 56.4449 - val_loss: 124.4464 - val_mse: 124.4464\n",
            "\n",
            "Epoch 00063: val_mse did not improve from 183.71893\n",
            "Epoch 64/100\n",
            "15/15 [==============================] - 2s 118ms/step - loss: 47.7854 - mse: 47.7854 - val_loss: 124.8985 - val_mse: 124.8985\n",
            "\n",
            "Epoch 00064: val_mse did not improve from 183.71893\n",
            "Epoch 65/100\n",
            "15/15 [==============================] - 2s 119ms/step - loss: 45.2391 - mse: 45.2391 - val_loss: 124.4571 - val_mse: 124.4571\n",
            "\n",
            "Epoch 00065: val_mse did not improve from 183.71893\n",
            "Epoch 66/100\n",
            "15/15 [==============================] - 2s 117ms/step - loss: 47.5685 - mse: 47.5685 - val_loss: 120.3082 - val_mse: 120.3082\n",
            "\n",
            "Epoch 00066: val_mse did not improve from 183.71893\n",
            "Epoch 67/100\n",
            "15/15 [==============================] - 2s 120ms/step - loss: 42.8264 - mse: 42.8264 - val_loss: 127.0733 - val_mse: 127.0733\n",
            "\n",
            "Epoch 00067: val_mse did not improve from 183.71893\n",
            "Epoch 68/100\n",
            "15/15 [==============================] - 2s 119ms/step - loss: 41.8037 - mse: 41.8037 - val_loss: 124.3019 - val_mse: 124.3019\n",
            "\n",
            "Epoch 00068: val_mse did not improve from 183.71893\n",
            "Epoch 69/100\n",
            "15/15 [==============================] - 2s 117ms/step - loss: 47.1489 - mse: 47.1489 - val_loss: 123.3382 - val_mse: 123.3382\n",
            "\n",
            "Epoch 00069: val_mse did not improve from 183.71893\n",
            "Epoch 70/100\n",
            "15/15 [==============================] - 2s 119ms/step - loss: 51.9724 - mse: 51.9724 - val_loss: 126.8338 - val_mse: 126.8338\n",
            "\n",
            "Epoch 00070: val_mse did not improve from 183.71893\n",
            "Epoch 71/100\n",
            "15/15 [==============================] - 2s 119ms/step - loss: 47.9311 - mse: 47.9311 - val_loss: 131.0869 - val_mse: 131.0869\n",
            "\n",
            "Epoch 00071: val_mse did not improve from 183.71893\n",
            "Epoch 72/100\n",
            "15/15 [==============================] - 2s 121ms/step - loss: 40.6616 - mse: 40.6616 - val_loss: 123.6688 - val_mse: 123.6688\n",
            "\n",
            "Epoch 00072: val_mse did not improve from 183.71893\n",
            "Epoch 73/100\n",
            "15/15 [==============================] - 2s 119ms/step - loss: 45.8405 - mse: 45.8405 - val_loss: 122.5979 - val_mse: 122.5979\n",
            "\n",
            "Epoch 00073: val_mse did not improve from 183.71893\n",
            "Epoch 74/100\n",
            "15/15 [==============================] - 2s 118ms/step - loss: 44.0297 - mse: 44.0297 - val_loss: 124.1629 - val_mse: 124.1629\n",
            "\n",
            "Epoch 00074: val_mse did not improve from 183.71893\n",
            "Epoch 75/100\n",
            "15/15 [==============================] - 2s 118ms/step - loss: 45.8566 - mse: 45.8566 - val_loss: 124.3642 - val_mse: 124.3642\n",
            "\n",
            "Epoch 00075: val_mse did not improve from 183.71893\n",
            "Epoch 76/100\n",
            "15/15 [==============================] - 2s 118ms/step - loss: 39.3129 - mse: 39.3129 - val_loss: 128.5004 - val_mse: 128.5004\n",
            "\n",
            "Epoch 00076: val_mse did not improve from 183.71893\n",
            "Epoch 77/100\n",
            "15/15 [==============================] - 2s 119ms/step - loss: 37.5633 - mse: 37.5633 - val_loss: 137.3562 - val_mse: 137.3562\n",
            "\n",
            "Epoch 00077: val_mse did not improve from 183.71893\n",
            "Epoch 78/100\n",
            "15/15 [==============================] - 2s 117ms/step - loss: 48.3888 - mse: 48.3888 - val_loss: 129.5703 - val_mse: 129.5703\n",
            "\n",
            "Epoch 00078: val_mse did not improve from 183.71893\n",
            "Epoch 79/100\n",
            "15/15 [==============================] - 2s 119ms/step - loss: 41.7539 - mse: 41.7539 - val_loss: 126.4039 - val_mse: 126.4039\n",
            "\n",
            "Epoch 00079: val_mse did not improve from 183.71893\n",
            "Epoch 80/100\n",
            "15/15 [==============================] - 2s 118ms/step - loss: 36.2342 - mse: 36.2342 - val_loss: 119.1138 - val_mse: 119.1138\n",
            "\n",
            "Epoch 00080: val_mse did not improve from 183.71893\n",
            "Epoch 81/100\n",
            "15/15 [==============================] - 2s 119ms/step - loss: 41.6750 - mse: 41.6750 - val_loss: 120.5992 - val_mse: 120.5992\n",
            "\n",
            "Epoch 00081: val_mse did not improve from 183.71893\n",
            "Epoch 82/100\n",
            "15/15 [==============================] - 2s 117ms/step - loss: 38.6269 - mse: 38.6269 - val_loss: 126.2909 - val_mse: 126.2909\n",
            "\n",
            "Epoch 00082: val_mse did not improve from 183.71893\n",
            "Epoch 83/100\n",
            "15/15 [==============================] - 2s 117ms/step - loss: 37.6996 - mse: 37.6996 - val_loss: 123.8354 - val_mse: 123.8354\n",
            "\n",
            "Epoch 00083: val_mse did not improve from 183.71893\n",
            "Epoch 84/100\n",
            "15/15 [==============================] - 2s 117ms/step - loss: 40.0438 - mse: 40.0438 - val_loss: 124.7897 - val_mse: 124.7897\n",
            "\n",
            "Epoch 00084: val_mse did not improve from 183.71893\n",
            "Epoch 85/100\n",
            "15/15 [==============================] - 2s 118ms/step - loss: 38.7307 - mse: 38.7307 - val_loss: 120.8734 - val_mse: 120.8734\n",
            "\n",
            "Epoch 00085: val_mse did not improve from 183.71893\n",
            "Epoch 86/100\n",
            "15/15 [==============================] - 2s 118ms/step - loss: 42.1722 - mse: 42.1722 - val_loss: 123.1222 - val_mse: 123.1222\n",
            "\n",
            "Epoch 00086: val_mse did not improve from 183.71893\n",
            "Epoch 87/100\n",
            "15/15 [==============================] - 2s 118ms/step - loss: 39.5151 - mse: 39.5151 - val_loss: 127.4515 - val_mse: 127.4515\n",
            "\n",
            "Epoch 00087: val_mse did not improve from 183.71893\n",
            "Epoch 88/100\n",
            "15/15 [==============================] - 2s 118ms/step - loss: 31.7025 - mse: 31.7025 - val_loss: 126.1220 - val_mse: 126.1220\n",
            "\n",
            "Epoch 00088: val_mse did not improve from 183.71893\n",
            "Epoch 89/100\n",
            "15/15 [==============================] - 2s 117ms/step - loss: 31.7642 - mse: 31.7642 - val_loss: 128.9766 - val_mse: 128.9766\n",
            "\n",
            "Epoch 00089: val_mse did not improve from 183.71893\n",
            "Epoch 90/100\n",
            "15/15 [==============================] - 2s 118ms/step - loss: 35.3800 - mse: 35.3800 - val_loss: 129.5353 - val_mse: 129.5353\n",
            "\n",
            "Epoch 00090: val_mse did not improve from 183.71893\n",
            "Epoch 91/100\n",
            "15/15 [==============================] - 2s 118ms/step - loss: 36.8914 - mse: 36.8914 - val_loss: 133.9808 - val_mse: 133.9808\n",
            "\n",
            "Epoch 00091: val_mse did not improve from 183.71893\n",
            "Epoch 92/100\n",
            "15/15 [==============================] - 2s 118ms/step - loss: 34.8454 - mse: 34.8454 - val_loss: 128.2161 - val_mse: 128.2161\n",
            "\n",
            "Epoch 00092: val_mse did not improve from 183.71893\n",
            "Epoch 93/100\n",
            "15/15 [==============================] - 2s 118ms/step - loss: 38.4766 - mse: 38.4766 - val_loss: 120.1365 - val_mse: 120.1365\n",
            "\n",
            "Epoch 00093: val_mse did not improve from 183.71893\n",
            "Epoch 94/100\n",
            "15/15 [==============================] - 2s 117ms/step - loss: 38.9069 - mse: 38.9069 - val_loss: 120.0454 - val_mse: 120.0454\n",
            "\n",
            "Epoch 00094: val_mse did not improve from 183.71893\n",
            "Epoch 95/100\n",
            "15/15 [==============================] - 2s 117ms/step - loss: 35.7585 - mse: 35.7585 - val_loss: 125.7309 - val_mse: 125.7309\n",
            "\n",
            "Epoch 00095: val_mse did not improve from 183.71893\n",
            "Epoch 96/100\n",
            "15/15 [==============================] - 2s 120ms/step - loss: 39.5498 - mse: 39.5498 - val_loss: 130.7274 - val_mse: 130.7274\n",
            "\n",
            "Epoch 00096: val_mse did not improve from 183.71893\n",
            "Epoch 97/100\n",
            "15/15 [==============================] - 2s 118ms/step - loss: 37.0488 - mse: 37.0488 - val_loss: 123.3568 - val_mse: 123.3568\n",
            "\n",
            "Epoch 00097: val_mse did not improve from 183.71893\n",
            "Epoch 98/100\n",
            "15/15 [==============================] - 2s 118ms/step - loss: 33.5236 - mse: 33.5236 - val_loss: 125.2374 - val_mse: 125.2374\n",
            "\n",
            "Epoch 00098: val_mse did not improve from 183.71893\n",
            "Epoch 99/100\n",
            "15/15 [==============================] - 2s 118ms/step - loss: 36.2015 - mse: 36.2015 - val_loss: 122.3829 - val_mse: 122.3829\n",
            "\n",
            "Epoch 00099: val_mse did not improve from 183.71893\n",
            "Epoch 100/100\n",
            "15/15 [==============================] - 2s 117ms/step - loss: 34.7838 - mse: 34.7838 - val_loss: 122.7551 - val_mse: 122.7551\n",
            "\n",
            "Epoch 00100: val_mse did not improve from 183.71893\n"
          ],
          "name": "stdout"
        },
        {
          "output_type": "execute_result",
          "data": {
            "text/plain": [
              "<tensorflow.python.keras.callbacks.History at 0x7fecfae007d0>"
            ]
          },
          "metadata": {
            "tags": []
          },
          "execution_count": 55
        }
      ]
    },
    {
      "cell_type": "code",
      "metadata": {
        "id": "Vc_R1cBMXEOM",
        "colab": {
          "base_uri": "https://localhost:8080/"
        },
        "outputId": "79d75bee-b097-4371-9dc0-31e4ff938501"
      },
      "source": [
        "model.evaluate([x_test, target_xtest], y_test)"
      ],
      "execution_count": 56,
      "outputs": [
        {
          "output_type": "stream",
          "text": [
            "9/9 [==============================] - 0s 36ms/step - loss: 120.9053 - mse: 120.9053\n"
          ],
          "name": "stdout"
        },
        {
          "output_type": "execute_result",
          "data": {
            "text/plain": [
              "[120.90534210205078, 120.90534210205078]"
            ]
          },
          "metadata": {
            "tags": []
          },
          "execution_count": 56
        }
      ]
    },
    {
      "cell_type": "code",
      "metadata": {
        "id": "t-Pp8UsinhpG"
      },
      "source": [
        "prediction = model.predict([x_test, target_xtest])\n",
        "prediction = np.rint(prediction)"
      ],
      "execution_count": 57,
      "outputs": []
    },
    {
      "cell_type": "code",
      "metadata": {
        "id": "-Ai-hdEUrMcK",
        "colab": {
          "base_uri": "https://localhost:8080/"
        },
        "outputId": "a08cd933-4543-419e-dd52-8a0c5c0bfd0d"
      },
      "source": [
        "print(prediction)"
      ],
      "execution_count": 58,
      "outputs": [
        {
          "output_type": "stream",
          "text": [
            "[[ 33. -10.   0.   6.]\n",
            " [ -0.  -0.  -0.   0.]\n",
            " [ -0.  -0.  -0.   0.]\n",
            " ...\n",
            " [-10.  -3.  -6.   9.]\n",
            " [ -0.  -0.  -0.   0.]\n",
            " [  3.   1.  -4.   2.]]\n"
          ],
          "name": "stdout"
        }
      ]
    },
    {
      "cell_type": "code",
      "metadata": {
        "id": "vjxbhobI7fE2"
      },
      "source": [
        "np.savetxt('predictions.csv', prediction, delimiter=\",\")"
      ],
      "execution_count": 59,
      "outputs": []
    },
    {
      "cell_type": "code",
      "metadata": {
        "colab": {
          "base_uri": "https://localhost:8080/"
        },
        "id": "9BmFwU6HAgmb",
        "outputId": "98eca9ef-d5fc-471b-be16-2ac12f2e6343"
      },
      "source": [
        "y_test.to_numpy()"
      ],
      "execution_count": 61,
      "outputs": [
        {
          "output_type": "execute_result",
          "data": {
            "text/plain": [
              "array([[ 35, -13,   0,   7],\n",
              "       [  0,   0,   0,   0],\n",
              "       [  0,   0,   0,   0],\n",
              "       ...,\n",
              "       [-25, -18,   0,  -3],\n",
              "       [  0,   0,   0,   0],\n",
              "       [ 25, -18,   0,   2]])"
            ]
          },
          "metadata": {
            "tags": []
          },
          "execution_count": 61
        }
      ]
    },
    {
      "cell_type": "code",
      "metadata": {
        "id": "0hOGftKwApgo"
      },
      "source": [
        "np.savetxt('ground_truth.csv', y_test, delimiter=',')"
      ],
      "execution_count": 62,
      "outputs": []
    },
    {
      "cell_type": "code",
      "metadata": {
        "id": "oCcYNaPzr2fx"
      },
      "source": [
        "# import cv2\n",
        "# from google.colab.patches import cv2_imshow\n",
        "# img1 = cv2.imread('data65_27.png')\n",
        "# img2 = cv2.imread('target_image_1.png')\n",
        "#mg1 = cv2.cvtColor(img1, cv2.COLOR_BGR2GRAY)\n",
        "# img1 = cv2.resize(img1, dsize=(128,128), interpolation = cv2.INTER_CUBIC)\n",
        "# plt.imshow(img1)\n",
        "# img1.shape\n",
        "\n",
        "# img1 = np.expand_dims(img1, axis = 0)\n",
        "# img1 = np.expand_dims(img1, axis = 3)\n",
        "# img1 = img1.astype('float32')\n",
        "# img1 = img1/255\n",
        "# plt.imshow(img1.reshape(128,128), cmap = plt.cm.binary)"
      ],
      "execution_count": null,
      "outputs": []
    },
    {
      "cell_type": "code",
      "metadata": {
        "id": "UUBwNh_ul7Hn"
      },
      "source": [
        "# from PIL import Image\n",
        "# # Open the image form working directory\n",
        "# img1 = Image.open('/content/data65_27.png')\n",
        "# img2 = Image.open('/content/target_image_1.png')"
      ],
      "execution_count": null,
      "outputs": []
    },
    {
      "cell_type": "code",
      "metadata": {
        "id": "fbJhnxClmnB7"
      },
      "source": [
        "# from matplotlib import image\n",
        "# from matplotlib import pyplot\n",
        "# # load image as pixel array\n",
        "# img1 = image.imread('/content/data65_27.png')\n",
        "# img2 = image.imread('/content/target_image_1.png')"
      ],
      "execution_count": null,
      "outputs": []
    },
    {
      "cell_type": "code",
      "metadata": {
        "id": "yEwjupKomz2Q"
      },
      "source": [
        "import cv2\n",
        "from google.colab.patches import cv2_imshow\n",
        "img = cv2.imread('/content/data65_27.png')\n",
        "img = cv2.cvtColor(img, cv2.COLOR_BGR2GRAY)\n",
        "img= cv2.resize(img, dsize=(128,128), interpolation = cv2.INTER_CUBIC)\n",
        "# plt.imshow(img)\n",
        "img.shape\n",
        "\n",
        "img = np.reshape(img, (1, 128, 128))\n",
        "# img = np.expand_dims(img, axis = 0)\n",
        "# img = np.expand_dims(img, axis = 3)\n",
        "# img = np.reshape(128,128)\n",
        "# img = img.astype('float32')\n",
        "img = img/255\n",
        "img = np.repeat(img[..., np.newaxis], 3, -1)\n",
        "# plt.imshow(img.reshape(128,128), cmap = plt.cm.binary)"
      ],
      "execution_count": null,
      "outputs": []
    },
    {
      "cell_type": "code",
      "metadata": {
        "id": "IPlFIP9VnWcW"
      },
      "source": [
        "img.shape"
      ],
      "execution_count": null,
      "outputs": []
    },
    {
      "cell_type": "code",
      "metadata": {
        "id": "kh3tf8NtpHWw"
      },
      "source": [
        ""
      ],
      "execution_count": null,
      "outputs": []
    },
    {
      "cell_type": "code",
      "metadata": {
        "id": "hcDTSZQUm_b2"
      },
      "source": [
        "img2 = cv2.imread('/content/target_image_1.png')\n",
        "img2 = cv2.cvtColor(img2, cv2.COLOR_BGR2GRAY)\n",
        "img2= cv2.resize(img2, dsize=(128,128), interpolation = cv2.INTER_CUBIC)\n",
        "# plt.imshow(img)\n",
        "img2.shape\n",
        "\n",
        "img2 = np.reshape(img2, (1, 128, 128))\n",
        "# img = np.expand_dims(img, axis = 0)\n",
        "# img = np.expand_dims(img, axis = 3)\n",
        "# img = np.reshape(128,128)\n",
        "# img = img.astype('float32')\n",
        "img2 = img2/255\n",
        "img2 = np.repeat(img2[..., np.newaxis], 3, -1)\n",
        "# plt.imshow(img.reshape(128,128), cmap = plt.cm.binary)"
      ],
      "execution_count": null,
      "outputs": []
    },
    {
      "cell_type": "code",
      "metadata": {
        "id": "4e7k8WDWpa1c"
      },
      "source": [
        "img2.shape"
      ],
      "execution_count": null,
      "outputs": []
    },
    {
      "cell_type": "code",
      "metadata": {
        "id": "BGxf25z0lUM8"
      },
      "source": [
        "predictionimg = model.predict([img,img2])"
      ],
      "execution_count": null,
      "outputs": []
    },
    {
      "cell_type": "code",
      "metadata": {
        "id": "YNAbeatNl20z"
      },
      "source": [
        "predictionimg"
      ],
      "execution_count": null,
      "outputs": []
    },
    {
      "cell_type": "code",
      "metadata": {
        "id": "3Z38S64ZpeB_"
      },
      "source": [
        ""
      ],
      "execution_count": null,
      "outputs": []
    }
  ]
}