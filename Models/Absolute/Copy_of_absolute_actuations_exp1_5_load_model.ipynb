{
  "nbformat": 4,
  "nbformat_minor": 0,
  "metadata": {
    "accelerator": "GPU",
    "colab": {
      "name": "Copy of absolute_actuations_exp1-5 load model.ipynb",
      "provenance": [],
      "collapsed_sections": []
    },
    "kernelspec": {
      "display_name": "Python 3",
      "name": "python3"
    }
  },
  "cells": [
    {
      "cell_type": "code",
      "metadata": {
        "colab": {
          "base_uri": "https://localhost:8080/"
        },
        "id": "b5mcsngV9IjX",
        "outputId": "8dfa6e47-27de-4bc4-f1a8-7503d1568ae8"
      },
      "source": [
        "from google.colab import drive\n",
        "drive.mount('/content/drive')"
      ],
      "execution_count": null,
      "outputs": [
        {
          "output_type": "stream",
          "text": [
            "Mounted at /content/drive\n"
          ],
          "name": "stdout"
        }
      ]
    },
    {
      "cell_type": "code",
      "metadata": {
        "colab": {
          "base_uri": "https://localhost:8080/"
        },
        "id": "aClCGALS9N6c",
        "outputId": "9f4805b9-640d-4531-948a-59c9f6b1cc4e"
      },
      "source": [
        "import os\n",
        "os.chdir('/content/drive/My Drive')\n",
        "!pwd"
      ],
      "execution_count": null,
      "outputs": [
        {
          "output_type": "stream",
          "text": [
            "/content/drive/My Drive\n"
          ],
          "name": "stdout"
        }
      ]
    },
    {
      "cell_type": "code",
      "metadata": {
        "colab": {
          "base_uri": "https://localhost:8080/"
        },
        "id": "k_YleJ_xiBkd",
        "outputId": "11b0cde4-8d4d-420d-f0c2-811fae90dcd5"
      },
      "source": [
        "%tensorflow_version"
      ],
      "execution_count": null,
      "outputs": [
        {
          "output_type": "stream",
          "text": [
            "Currently selected TF version: 2.x\n",
            "Available versions:\n",
            "* 1.x\n",
            "* 2.x\n"
          ],
          "name": "stdout"
        }
      ]
    },
    {
      "cell_type": "code",
      "metadata": {
        "id": "WUAVH2STVC_U"
      },
      "source": [
        "import pandas as pd\n",
        "import numpy as np\n",
        "from tqdm import trange\n",
        "\n",
        "\n",
        "from skimage.io import imread\n",
        "from sklearn.model_selection import train_test_split\n",
        "from matplotlib import pyplot as plt\n",
        "\n",
        "from keras import regularizers\n",
        "import keras\n",
        "from keras import optimizers\n",
        "from keras.layers import Input, Dense, Flatten, Dropout, Conv2D, MaxPooling2D, Activation, concatenate\n",
        "from keras.layers.advanced_activations import ReLU\n",
        "from keras.models import Model\n",
        "from keras.optimizers import Adam, SGD\n",
        "from keras.callbacks import ModelCheckpoint\n",
        "import random\n",
        "import math\n",
        "import matplotlib.image as mpimg\n",
        "import cv2\n",
        "import os\n",
        "from sklearn.preprocessing import MinMaxScaler\n",
        "from keras.models import Sequential\n",
        "from keras import callbacks\n",
        "from keras import layers, models\n",
        "\n",
        "from keras.applications.vgg16 import VGG16\n",
        "from keras.applications.resnet50 import ResNet50\n",
        "\n",
        "from google.colab.patches import cv2_imshow"
      ],
      "execution_count": null,
      "outputs": []
    },
    {
      "cell_type": "code",
      "metadata": {
        "id": "J6iETxCaGyaj"
      },
      "source": [
        "IMG_WIDTH=256\n",
        "IMG_HEIGHT=256"
      ],
      "execution_count": null,
      "outputs": []
    },
    {
      "cell_type": "code",
      "metadata": {
        "id": "aOcam1t5G8sN",
        "colab": {
          "base_uri": "https://localhost:8080/"
        },
        "outputId": "96974571-75bd-43e4-91c9-3220d76da8c6"
      },
      "source": [
        "def create_dataset(path):\n",
        "  img_data_array = []\n",
        "\n",
        "  for i in trange(1, 4126):\n",
        "            \n",
        "        path2 = \"img\"+ str(i) +\".jpg\"\n",
        "        path1 = os.path.join(path, path2)\n",
        "        # print(path1)\n",
        "        image= cv2.imread(path1, cv2.COLOR_BGR2RGB)\n",
        "        image=cv2.resize(image, (224, 224),interpolation = cv2.INTER_AREA)\n",
        "        # cv2_imshow(image)\n",
        "        image=np.array(image)\n",
        "        image = image.astype('float32')\n",
        "        image /= 255 \n",
        "        img_data_array.append(image)\n",
        "      \n",
        "        # print(image)\n",
        "\n",
        "  return img_data_array\n",
        "\n",
        "\n",
        "# extract the image array and class name\n",
        "img_data=create_dataset('10psi-images')     #check if the images are mapped correctly to labels"
      ],
      "execution_count": null,
      "outputs": [
        {
          "output_type": "stream",
          "text": [
            "100%|██████████| 4125/4125 [20:11<00:00,  3.40it/s]\n"
          ],
          "name": "stderr"
        }
      ]
    },
    {
      "cell_type": "code",
      "metadata": {
        "id": "VguOMN0XG-2g",
        "colab": {
          "base_uri": "https://localhost:8080/"
        },
        "outputId": "b8d7fe8a-7fb1-4e69-a17d-1db20635070c"
      },
      "source": [
        "train_data = np.asarray(img_data)\n",
        "train_data.shape"
      ],
      "execution_count": null,
      "outputs": [
        {
          "output_type": "execute_result",
          "data": {
            "text/plain": [
              "(4125, 224, 224, 3)"
            ]
          },
          "metadata": {
            "tags": []
          },
          "execution_count": 7
        }
      ]
    },
    {
      "cell_type": "code",
      "metadata": {
        "id": "oHcfWA4WIA3z"
      },
      "source": [
        "y_train = pd.read_csv('10psi-labels-all.csv')"
      ],
      "execution_count": null,
      "outputs": []
    },
    {
      "cell_type": "code",
      "metadata": {
        "id": "Wy57sGOsBdNh"
      },
      "source": [
        "num_classes = 5"
      ],
      "execution_count": null,
      "outputs": []
    },
    {
      "cell_type": "code",
      "metadata": {
        "colab": {
          "base_uri": "https://localhost:8080/"
        },
        "id": "lVMG4LIy51aw",
        "outputId": "3afc06ba-97d0-45f8-cf03-b95ec0904b23"
      },
      "source": [
        "train_data.shape"
      ],
      "execution_count": null,
      "outputs": [
        {
          "output_type": "execute_result",
          "data": {
            "text/plain": [
              "(4125, 224, 224, 3)"
            ]
          },
          "metadata": {
            "tags": []
          },
          "execution_count": 10
        }
      ]
    },
    {
      "cell_type": "code",
      "metadata": {
        "id": "l3J9DPmoEonU"
      },
      "source": [
        "x_train, x_test, y_train, y_test = train_test_split(train_data, y_train, test_size = 0.3, random_state=600, shuffle=True)"
      ],
      "execution_count": null,
      "outputs": []
    },
    {
      "cell_type": "code",
      "metadata": {
        "id": "YcvAQLCmlWL1",
        "colab": {
          "base_uri": "https://localhost:8080/"
        },
        "outputId": "4096e721-1346-447d-efcd-0f198f9463fe"
      },
      "source": [
        "print(y_train)"
      ],
      "execution_count": null,
      "outputs": [
        {
          "output_type": "stream",
          "text": [
            "       B   R  Theta   X   Y\n",
            "2317  18  10    -20  16  18\n",
            "443   22  12    -10  16  16\n",
            "692   20  10     10  16  16\n",
            "2739  30   4     20  16  18\n",
            "2649  22  24     20  16  18\n",
            "...   ..  ..    ...  ..  ..\n",
            "410   20  -4    -10  16  16\n",
            "2506  12 -12     20  16  18\n",
            "3375  16 -24     10  18  16\n",
            "954   20 -16    -20  16  16\n",
            "3275  30 -24    -10  18  16\n",
            "\n",
            "[2887 rows x 5 columns]\n"
          ],
          "name": "stdout"
        }
      ]
    },
    {
      "cell_type": "code",
      "metadata": {
        "id": "mEYix5VfIEhe"
      },
      "source": [
        "input_shape = (224, 224, 3)"
      ],
      "execution_count": null,
      "outputs": []
    },
    {
      "cell_type": "code",
      "metadata": {
        "id": "tFnAalhWA-O2"
      },
      "source": [
        "maxb = y_train.iloc[:,0].max()\n",
        "minb = y_train.iloc[:,0].min()\n",
        "\n",
        "maxr = y_train.iloc[:,1].max()       #finding the min and max of r, x, y columns in the train data\n",
        "minr = y_train.iloc[:,1].min()\n",
        "\n",
        "maxt = y_train.iloc[:,2].max()\n",
        "mint = y_train.iloc[:,2].min()\n",
        "\n",
        "maxx = y_train.iloc[:,3].max()\n",
        "minx = y_train.iloc[:,3].min()\n",
        "\n",
        "maxy = y_train.iloc[:,4].max()\n",
        "miny = y_train.iloc[:,4].min()\n"
      ],
      "execution_count": null,
      "outputs": []
    },
    {
      "cell_type": "code",
      "metadata": {
        "colab": {
          "base_uri": "https://localhost:8080/"
        },
        "id": "xBHpjTPABEXE",
        "outputId": "89f20181-d68a-4cf9-8912-576c68592063"
      },
      "source": [
        "print(maxb, minb, maxr, minr, maxt, mint, maxx, minx, maxy, miny)"
      ],
      "execution_count": null,
      "outputs": [
        {
          "output_type": "stream",
          "text": [
            "30 10 24 -24 20 -20 18 16 18 16\n"
          ],
          "name": "stdout"
        }
      ]
    },
    {
      "cell_type": "code",
      "metadata": {
        "colab": {
          "base_uri": "https://localhost:8080/",
          "height": 419
        },
        "id": "MPzbZ0xgChPG",
        "outputId": "c09fdf45-fc08-4035-b1b8-d3767b910999"
      },
      "source": [
        "y_train_scaled = y_train      #creating another variable y_train_scaled where i copy y_train\n",
        "y_train_scaled"
      ],
      "execution_count": null,
      "outputs": [
        {
          "output_type": "execute_result",
          "data": {
            "text/html": [
              "<div>\n",
              "<style scoped>\n",
              "    .dataframe tbody tr th:only-of-type {\n",
              "        vertical-align: middle;\n",
              "    }\n",
              "\n",
              "    .dataframe tbody tr th {\n",
              "        vertical-align: top;\n",
              "    }\n",
              "\n",
              "    .dataframe thead th {\n",
              "        text-align: right;\n",
              "    }\n",
              "</style>\n",
              "<table border=\"1\" class=\"dataframe\">\n",
              "  <thead>\n",
              "    <tr style=\"text-align: right;\">\n",
              "      <th></th>\n",
              "      <th>B</th>\n",
              "      <th>R</th>\n",
              "      <th>Theta</th>\n",
              "      <th>X</th>\n",
              "      <th>Y</th>\n",
              "    </tr>\n",
              "  </thead>\n",
              "  <tbody>\n",
              "    <tr>\n",
              "      <th>2317</th>\n",
              "      <td>18</td>\n",
              "      <td>10</td>\n",
              "      <td>-20</td>\n",
              "      <td>16</td>\n",
              "      <td>18</td>\n",
              "    </tr>\n",
              "    <tr>\n",
              "      <th>443</th>\n",
              "      <td>22</td>\n",
              "      <td>12</td>\n",
              "      <td>-10</td>\n",
              "      <td>16</td>\n",
              "      <td>16</td>\n",
              "    </tr>\n",
              "    <tr>\n",
              "      <th>692</th>\n",
              "      <td>20</td>\n",
              "      <td>10</td>\n",
              "      <td>10</td>\n",
              "      <td>16</td>\n",
              "      <td>16</td>\n",
              "    </tr>\n",
              "    <tr>\n",
              "      <th>2739</th>\n",
              "      <td>30</td>\n",
              "      <td>4</td>\n",
              "      <td>20</td>\n",
              "      <td>16</td>\n",
              "      <td>18</td>\n",
              "    </tr>\n",
              "    <tr>\n",
              "      <th>2649</th>\n",
              "      <td>22</td>\n",
              "      <td>24</td>\n",
              "      <td>20</td>\n",
              "      <td>16</td>\n",
              "      <td>18</td>\n",
              "    </tr>\n",
              "    <tr>\n",
              "      <th>...</th>\n",
              "      <td>...</td>\n",
              "      <td>...</td>\n",
              "      <td>...</td>\n",
              "      <td>...</td>\n",
              "      <td>...</td>\n",
              "    </tr>\n",
              "    <tr>\n",
              "      <th>410</th>\n",
              "      <td>20</td>\n",
              "      <td>-4</td>\n",
              "      <td>-10</td>\n",
              "      <td>16</td>\n",
              "      <td>16</td>\n",
              "    </tr>\n",
              "    <tr>\n",
              "      <th>2506</th>\n",
              "      <td>12</td>\n",
              "      <td>-12</td>\n",
              "      <td>20</td>\n",
              "      <td>16</td>\n",
              "      <td>18</td>\n",
              "    </tr>\n",
              "    <tr>\n",
              "      <th>3375</th>\n",
              "      <td>16</td>\n",
              "      <td>-24</td>\n",
              "      <td>10</td>\n",
              "      <td>18</td>\n",
              "      <td>16</td>\n",
              "    </tr>\n",
              "    <tr>\n",
              "      <th>954</th>\n",
              "      <td>20</td>\n",
              "      <td>-16</td>\n",
              "      <td>-20</td>\n",
              "      <td>16</td>\n",
              "      <td>16</td>\n",
              "    </tr>\n",
              "    <tr>\n",
              "      <th>3275</th>\n",
              "      <td>30</td>\n",
              "      <td>-24</td>\n",
              "      <td>-10</td>\n",
              "      <td>18</td>\n",
              "      <td>16</td>\n",
              "    </tr>\n",
              "  </tbody>\n",
              "</table>\n",
              "<p>2887 rows × 5 columns</p>\n",
              "</div>"
            ],
            "text/plain": [
              "       B   R  Theta   X   Y\n",
              "2317  18  10    -20  16  18\n",
              "443   22  12    -10  16  16\n",
              "692   20  10     10  16  16\n",
              "2739  30   4     20  16  18\n",
              "2649  22  24     20  16  18\n",
              "...   ..  ..    ...  ..  ..\n",
              "410   20  -4    -10  16  16\n",
              "2506  12 -12     20  16  18\n",
              "3375  16 -24     10  18  16\n",
              "954   20 -16    -20  16  16\n",
              "3275  30 -24    -10  18  16\n",
              "\n",
              "[2887 rows x 5 columns]"
            ]
          },
          "metadata": {
            "tags": []
          },
          "execution_count": 16
        }
      ]
    },
    {
      "cell_type": "code",
      "metadata": {
        "id": "1fiTHrVbB1ZE"
      },
      "source": [
        "for i in range(len(y_train_scaled.iloc[:,0])):    #scaling \n",
        "  y_train_scaled.iloc[i,0] = (2 *(y_train_scaled.iloc[i,0] - minb)/(maxb-minb)) - 1   #\n",
        "\n",
        "for i in range(len(y_train_scaled.iloc[:,1])):    #scaling \n",
        "  y_train_scaled.iloc[i,1] = (2 *(y_train_scaled.iloc[i,1] - minr)/(maxr-minr)) - 1   #\n",
        "\n",
        "for i in range(len(y_train_scaled.iloc[:,2])):    #scaling \n",
        "  y_train_scaled.iloc[i,2] = (2 *(y_train_scaled.iloc[i,2] - mint)/(maxt-mint)) - 1   #\n",
        "\n",
        "for i in range(len(y_train_scaled.iloc[:,3])):    #scaling \n",
        "  y_train_scaled.iloc[i,3] = (2 *(y_train_scaled.iloc[i,3] - minx)/(maxx-minx)) - 1   #\n",
        "\n",
        "for i in range(len(y_train_scaled.iloc[:,4])):    #scaling \n",
        "  y_train_scaled.iloc[i,4] = (2 *(y_train_scaled.iloc[i,4] - miny)/(maxy-miny)) - 1   #\n"
      ],
      "execution_count": null,
      "outputs": []
    },
    {
      "cell_type": "code",
      "metadata": {
        "colab": {
          "base_uri": "https://localhost:8080/",
          "height": 419
        },
        "id": "EK4yXzbXVTc4",
        "outputId": "bc422b53-2344-4609-86e4-d1ac97d29df9"
      },
      "source": [
        "y_train_scaled"
      ],
      "execution_count": null,
      "outputs": [
        {
          "output_type": "execute_result",
          "data": {
            "text/html": [
              "<div>\n",
              "<style scoped>\n",
              "    .dataframe tbody tr th:only-of-type {\n",
              "        vertical-align: middle;\n",
              "    }\n",
              "\n",
              "    .dataframe tbody tr th {\n",
              "        vertical-align: top;\n",
              "    }\n",
              "\n",
              "    .dataframe thead th {\n",
              "        text-align: right;\n",
              "    }\n",
              "</style>\n",
              "<table border=\"1\" class=\"dataframe\">\n",
              "  <thead>\n",
              "    <tr style=\"text-align: right;\">\n",
              "      <th></th>\n",
              "      <th>B</th>\n",
              "      <th>R</th>\n",
              "      <th>Theta</th>\n",
              "      <th>X</th>\n",
              "      <th>Y</th>\n",
              "    </tr>\n",
              "  </thead>\n",
              "  <tbody>\n",
              "    <tr>\n",
              "      <th>2317</th>\n",
              "      <td>-0.2</td>\n",
              "      <td>0.416667</td>\n",
              "      <td>-1.0</td>\n",
              "      <td>-1.0</td>\n",
              "      <td>1.0</td>\n",
              "    </tr>\n",
              "    <tr>\n",
              "      <th>443</th>\n",
              "      <td>0.2</td>\n",
              "      <td>0.500000</td>\n",
              "      <td>-0.5</td>\n",
              "      <td>-1.0</td>\n",
              "      <td>-1.0</td>\n",
              "    </tr>\n",
              "    <tr>\n",
              "      <th>692</th>\n",
              "      <td>0.0</td>\n",
              "      <td>0.416667</td>\n",
              "      <td>0.5</td>\n",
              "      <td>-1.0</td>\n",
              "      <td>-1.0</td>\n",
              "    </tr>\n",
              "    <tr>\n",
              "      <th>2739</th>\n",
              "      <td>1.0</td>\n",
              "      <td>0.166667</td>\n",
              "      <td>1.0</td>\n",
              "      <td>-1.0</td>\n",
              "      <td>1.0</td>\n",
              "    </tr>\n",
              "    <tr>\n",
              "      <th>2649</th>\n",
              "      <td>0.2</td>\n",
              "      <td>1.000000</td>\n",
              "      <td>1.0</td>\n",
              "      <td>-1.0</td>\n",
              "      <td>1.0</td>\n",
              "    </tr>\n",
              "    <tr>\n",
              "      <th>...</th>\n",
              "      <td>...</td>\n",
              "      <td>...</td>\n",
              "      <td>...</td>\n",
              "      <td>...</td>\n",
              "      <td>...</td>\n",
              "    </tr>\n",
              "    <tr>\n",
              "      <th>410</th>\n",
              "      <td>0.0</td>\n",
              "      <td>-0.166667</td>\n",
              "      <td>-0.5</td>\n",
              "      <td>-1.0</td>\n",
              "      <td>-1.0</td>\n",
              "    </tr>\n",
              "    <tr>\n",
              "      <th>2506</th>\n",
              "      <td>-0.8</td>\n",
              "      <td>-0.500000</td>\n",
              "      <td>1.0</td>\n",
              "      <td>-1.0</td>\n",
              "      <td>1.0</td>\n",
              "    </tr>\n",
              "    <tr>\n",
              "      <th>3375</th>\n",
              "      <td>-0.4</td>\n",
              "      <td>-1.000000</td>\n",
              "      <td>0.5</td>\n",
              "      <td>1.0</td>\n",
              "      <td>-1.0</td>\n",
              "    </tr>\n",
              "    <tr>\n",
              "      <th>954</th>\n",
              "      <td>0.0</td>\n",
              "      <td>-0.666667</td>\n",
              "      <td>-1.0</td>\n",
              "      <td>-1.0</td>\n",
              "      <td>-1.0</td>\n",
              "    </tr>\n",
              "    <tr>\n",
              "      <th>3275</th>\n",
              "      <td>1.0</td>\n",
              "      <td>-1.000000</td>\n",
              "      <td>-0.5</td>\n",
              "      <td>1.0</td>\n",
              "      <td>-1.0</td>\n",
              "    </tr>\n",
              "  </tbody>\n",
              "</table>\n",
              "<p>2887 rows × 5 columns</p>\n",
              "</div>"
            ],
            "text/plain": [
              "        B         R  Theta    X    Y\n",
              "2317 -0.2  0.416667   -1.0 -1.0  1.0\n",
              "443   0.2  0.500000   -0.5 -1.0 -1.0\n",
              "692   0.0  0.416667    0.5 -1.0 -1.0\n",
              "2739  1.0  0.166667    1.0 -1.0  1.0\n",
              "2649  0.2  1.000000    1.0 -1.0  1.0\n",
              "...   ...       ...    ...  ...  ...\n",
              "410   0.0 -0.166667   -0.5 -1.0 -1.0\n",
              "2506 -0.8 -0.500000    1.0 -1.0  1.0\n",
              "3375 -0.4 -1.000000    0.5  1.0 -1.0\n",
              "954   0.0 -0.666667   -1.0 -1.0 -1.0\n",
              "3275  1.0 -1.000000   -0.5  1.0 -1.0\n",
              "\n",
              "[2887 rows x 5 columns]"
            ]
          },
          "metadata": {
            "tags": []
          },
          "execution_count": 18
        }
      ]
    },
    {
      "cell_type": "code",
      "metadata": {
        "id": "zD1m_MT1D3oC"
      },
      "source": [
        "maxb = y_test.iloc[:,0].max()\n",
        "minb = y_test.iloc[:,0].min()\n",
        "\n",
        "maxr = y_test.iloc[:,1].max()       #finding the min and max of r, x, y columns in the test data\n",
        "minr = y_test.iloc[:,1].min()\n",
        "\n",
        "maxt = y_test.iloc[:,2].max()\n",
        "mint = y_test.iloc[:,2].min()\n",
        "\n",
        "maxx = y_test.iloc[:,3].max()\n",
        "minx = y_test.iloc[:,3].min()\n",
        "\n",
        "maxy = y_test.iloc[:,4].max()\n",
        "miny = y_test.iloc[:,4].min()\n"
      ],
      "execution_count": null,
      "outputs": []
    },
    {
      "cell_type": "code",
      "metadata": {
        "colab": {
          "base_uri": "https://localhost:8080/"
        },
        "id": "7635z3kZEWoM",
        "outputId": "36bcd331-221f-412f-e04a-6a6de97790d3"
      },
      "source": [
        "print(maxb, minb, maxr, minr, maxt, mint, maxx, minx, maxy, miny)"
      ],
      "execution_count": null,
      "outputs": [
        {
          "output_type": "stream",
          "text": [
            "30 10 24 -24 20 -20 18 16 18 16\n"
          ],
          "name": "stdout"
        }
      ]
    },
    {
      "cell_type": "code",
      "metadata": {
        "colab": {
          "base_uri": "https://localhost:8080/",
          "height": 419
        },
        "id": "LsLosVosECGp",
        "outputId": "3265a098-36c9-429d-d5d6-5961fea21f2d"
      },
      "source": [
        "y_test_scaled = y_test\n",
        "y_test_scaled"
      ],
      "execution_count": null,
      "outputs": [
        {
          "output_type": "execute_result",
          "data": {
            "text/html": [
              "<div>\n",
              "<style scoped>\n",
              "    .dataframe tbody tr th:only-of-type {\n",
              "        vertical-align: middle;\n",
              "    }\n",
              "\n",
              "    .dataframe tbody tr th {\n",
              "        vertical-align: top;\n",
              "    }\n",
              "\n",
              "    .dataframe thead th {\n",
              "        text-align: right;\n",
              "    }\n",
              "</style>\n",
              "<table border=\"1\" class=\"dataframe\">\n",
              "  <thead>\n",
              "    <tr style=\"text-align: right;\">\n",
              "      <th></th>\n",
              "      <th>B</th>\n",
              "      <th>R</th>\n",
              "      <th>Theta</th>\n",
              "      <th>X</th>\n",
              "      <th>Y</th>\n",
              "    </tr>\n",
              "  </thead>\n",
              "  <tbody>\n",
              "    <tr>\n",
              "      <th>2893</th>\n",
              "      <td>20</td>\n",
              "      <td>12</td>\n",
              "      <td>0</td>\n",
              "      <td>18</td>\n",
              "      <td>16</td>\n",
              "    </tr>\n",
              "    <tr>\n",
              "      <th>3055</th>\n",
              "      <td>12</td>\n",
              "      <td>-14</td>\n",
              "      <td>-10</td>\n",
              "      <td>18</td>\n",
              "      <td>16</td>\n",
              "    </tr>\n",
              "    <tr>\n",
              "      <th>2155</th>\n",
              "      <td>28</td>\n",
              "      <td>-14</td>\n",
              "      <td>10</td>\n",
              "      <td>16</td>\n",
              "      <td>18</td>\n",
              "    </tr>\n",
              "    <tr>\n",
              "      <th>481</th>\n",
              "      <td>26</td>\n",
              "      <td>-12</td>\n",
              "      <td>-10</td>\n",
              "      <td>16</td>\n",
              "      <td>16</td>\n",
              "    </tr>\n",
              "    <tr>\n",
              "      <th>665</th>\n",
              "      <td>18</td>\n",
              "      <td>6</td>\n",
              "      <td>10</td>\n",
              "      <td>16</td>\n",
              "      <td>16</td>\n",
              "    </tr>\n",
              "    <tr>\n",
              "      <th>...</th>\n",
              "      <td>...</td>\n",
              "      <td>...</td>\n",
              "      <td>...</td>\n",
              "      <td>...</td>\n",
              "      <td>...</td>\n",
              "    </tr>\n",
              "    <tr>\n",
              "      <th>3874</th>\n",
              "      <td>10</td>\n",
              "      <td>24</td>\n",
              "      <td>20</td>\n",
              "      <td>18</td>\n",
              "      <td>16</td>\n",
              "    </tr>\n",
              "    <tr>\n",
              "      <th>3552</th>\n",
              "      <td>30</td>\n",
              "      <td>-20</td>\n",
              "      <td>10</td>\n",
              "      <td>18</td>\n",
              "      <td>16</td>\n",
              "    </tr>\n",
              "    <tr>\n",
              "      <th>619</th>\n",
              "      <td>14</td>\n",
              "      <td>14</td>\n",
              "      <td>10</td>\n",
              "      <td>16</td>\n",
              "      <td>16</td>\n",
              "    </tr>\n",
              "    <tr>\n",
              "      <th>539</th>\n",
              "      <td>30</td>\n",
              "      <td>4</td>\n",
              "      <td>-10</td>\n",
              "      <td>16</td>\n",
              "      <td>16</td>\n",
              "    </tr>\n",
              "    <tr>\n",
              "      <th>2555</th>\n",
              "      <td>16</td>\n",
              "      <td>-14</td>\n",
              "      <td>20</td>\n",
              "      <td>16</td>\n",
              "      <td>18</td>\n",
              "    </tr>\n",
              "  </tbody>\n",
              "</table>\n",
              "<p>1238 rows × 5 columns</p>\n",
              "</div>"
            ],
            "text/plain": [
              "       B   R  Theta   X   Y\n",
              "2893  20  12      0  18  16\n",
              "3055  12 -14    -10  18  16\n",
              "2155  28 -14     10  16  18\n",
              "481   26 -12    -10  16  16\n",
              "665   18   6     10  16  16\n",
              "...   ..  ..    ...  ..  ..\n",
              "3874  10  24     20  18  16\n",
              "3552  30 -20     10  18  16\n",
              "619   14  14     10  16  16\n",
              "539   30   4    -10  16  16\n",
              "2555  16 -14     20  16  18\n",
              "\n",
              "[1238 rows x 5 columns]"
            ]
          },
          "metadata": {
            "tags": []
          },
          "execution_count": 21
        }
      ]
    },
    {
      "cell_type": "code",
      "metadata": {
        "id": "tyV2A8bREN_Q"
      },
      "source": [
        "for i in range(len(y_test_scaled.iloc[:,0])):    #scaling \n",
        "  y_test_scaled.iloc[i,0] = (2 *(y_test_scaled.iloc[i,0] - minb)/(maxb-minb)) - 1   #\n",
        "\n",
        "for i in range(len(y_test_scaled.iloc[:,1])):    #scaling \n",
        "  y_test_scaled.iloc[i,1] = (2 *(y_test_scaled.iloc[i,1] - minr)/(maxr-minr)) - 1   #\n",
        "\n",
        "for i in range(len(y_test_scaled.iloc[:,2])):    #scaling \n",
        "  y_test_scaled.iloc[i,2] = (2 *(y_test_scaled.iloc[i,2] - mint)/(maxt-mint)) - 1   #\n",
        "\n",
        "for i in range(len(y_test_scaled.iloc[:,3])):    #scaling \n",
        "  y_test_scaled.iloc[i,3] = (2 *(y_test_scaled.iloc[i,3] - minx)/(maxx-minx)) - 1   #\n",
        "\n",
        "for i in range(len(y_test_scaled.iloc[:,4])):    #scaling \n",
        "  y_test_scaled.iloc[i,4] = (2 *(y_test_scaled.iloc[i,4] - miny)/(maxy-miny)) - 1   #\n"
      ],
      "execution_count": null,
      "outputs": []
    },
    {
      "cell_type": "code",
      "metadata": {
        "id": "mDg0jryivygj",
        "colab": {
          "base_uri": "https://localhost:8080/"
        },
        "outputId": "1942d35f-c025-4fe0-f11e-9556703f19b8"
      },
      "source": [
        "new_input = Input(shape=(224, 224, 3))\n",
        "vgg_model = VGG16(include_top=False, weights='imagenet', input_tensor=new_input)\n",
        "\n",
        "for layer in vgg_model.layers[:15]:\n",
        "  layer.trainable = False\n",
        "\n",
        "\n",
        "for layer in vgg_model.layers:\n",
        "    print(layer, layer.trainable)\n"
      ],
      "execution_count": null,
      "outputs": [
        {
          "output_type": "stream",
          "text": [
            "<keras.engine.input_layer.InputLayer object at 0x7f686e4d3bd0> False\n",
            "<keras.layers.convolutional.Conv2D object at 0x7f686e8af5d0> False\n",
            "<keras.layers.convolutional.Conv2D object at 0x7f685c2e6dd0> False\n",
            "<keras.layers.pooling.MaxPooling2D object at 0x7f685c27b810> False\n",
            "<keras.layers.convolutional.Conv2D object at 0x7f686e4aec50> False\n",
            "<keras.layers.convolutional.Conv2D object at 0x7f685c289090> False\n",
            "<keras.layers.pooling.MaxPooling2D object at 0x7f686e3e5710> False\n",
            "<keras.layers.convolutional.Conv2D object at 0x7f685c27ba90> False\n",
            "<keras.layers.convolutional.Conv2D object at 0x7f685c24b710> False\n",
            "<keras.layers.convolutional.Conv2D object at 0x7f686ef72810> False\n",
            "<keras.layers.pooling.MaxPooling2D object at 0x7f685c3253d0> False\n",
            "<keras.layers.convolutional.Conv2D object at 0x7f67bc4021d0> False\n",
            "<keras.layers.convolutional.Conv2D object at 0x7f685c25acd0> False\n",
            "<keras.layers.convolutional.Conv2D object at 0x7f6880099b10> False\n",
            "<keras.layers.pooling.MaxPooling2D object at 0x7f685c13f850> False\n",
            "<keras.layers.convolutional.Conv2D object at 0x7f686ed9df10> True\n",
            "<keras.layers.convolutional.Conv2D object at 0x7f685c154b10> True\n",
            "<keras.layers.convolutional.Conv2D object at 0x7f685c15c390> True\n",
            "<keras.layers.pooling.MaxPooling2D object at 0x7f685c3950d0> True\n"
          ],
          "name": "stdout"
        }
      ]
    },
    {
      "cell_type": "code",
      "metadata": {
        "id": "TlmvUKDGMzlZ"
      },
      "source": [
        "def create_model():\n",
        "  model = Sequential()\n",
        "  model.add(vgg_model)\n",
        "\n",
        "  model.add(layers.Flatten())\n",
        "  model.add(layers.BatchNormalization())\n",
        "  model.add(layers.Dense(64, activation='relu', kernel_regularizer=keras.regularizers.l1_l2(l1=0.0001, l2=0.0005)))\n",
        "  model.add(layers.Dropout(0.4))\n",
        "  \n",
        "  model.add(layers.BatchNormalization())\n",
        "  \n",
        "  model.add(layers.Dense(5, activation='tanh', kernel_regularizer=keras.regularizers.l1_l2(l1=0.0001, l2=0.0005)))\n",
        "  model.add(layers.Dropout(0.4) )  # L1 + L2 penalties\n",
        "  model.compile(optimizer= Adam(0.00005), # adam\n",
        "              loss='mean_squared_error',\n",
        "              metrics=['mse'])\n",
        "\n",
        "  return model\n"
      ],
      "execution_count": null,
      "outputs": []
    },
    {
      "cell_type": "code",
      "metadata": {
        "id": "FJ7t3EShuWwE"
      },
      "source": [
        "# def create_model():\n",
        "#   model = Sequential()\n",
        "#   model.add(vgg_model)\n",
        "#   model.add(layers.Flatten())\n",
        "#   model.add(layers.BatchNormalization())\n",
        "#   model.add(layers.Dense(64, activation='relu'))\n",
        "#   model.add(layers.Dropout(0.25))\n",
        "#   model.add(layers.BatchNormalization())\n",
        "#   model.add(layers.Dense(3, activation='tanh'))\n",
        "#   model.add(layers.Dropout(0.25))\n",
        "#   model.compile(optimizer= Adam(0.0003),#\"adam\",\n",
        "#               loss='mean_squared_error',\n",
        "#               metrics=['mse'])\n",
        "#   return model\n"
      ],
      "execution_count": null,
      "outputs": []
    },
    {
      "cell_type": "code",
      "metadata": {
        "colab": {
          "base_uri": "https://localhost:8080/"
        },
        "id": "AGh1O-V4m7Ub",
        "outputId": "a4de3e1b-3a7f-4fd6-cfb8-5bc21f34af6f"
      },
      "source": [
        "model = create_model()\n",
        "model.summary()"
      ],
      "execution_count": null,
      "outputs": [
        {
          "output_type": "stream",
          "text": [
            "Model: \"sequential_1\"\n",
            "_________________________________________________________________\n",
            "Layer (type)                 Output Shape              Param #   \n",
            "=================================================================\n",
            "vgg16 (Functional)           (None, 7, 7, 512)         14714688  \n",
            "_________________________________________________________________\n",
            "flatten_1 (Flatten)          (None, 25088)             0         \n",
            "_________________________________________________________________\n",
            "batch_normalization_2 (Batch (None, 25088)             100352    \n",
            "_________________________________________________________________\n",
            "dense_3 (Dense)              (None, 64)                1605696   \n",
            "_________________________________________________________________\n",
            "dropout_3 (Dropout)          (None, 64)                0         \n",
            "_________________________________________________________________\n",
            "batch_normalization_3 (Batch (None, 64)                256       \n",
            "_________________________________________________________________\n",
            "dense_4 (Dense)              (None, 5)                 325       \n",
            "_________________________________________________________________\n",
            "dropout_4 (Dropout)          (None, 5)                 0         \n",
            "=================================================================\n",
            "Total params: 16,421,317\n",
            "Trainable params: 8,735,749\n",
            "Non-trainable params: 7,685,568\n",
            "_________________________________________________________________\n"
          ],
          "name": "stdout"
        }
      ]
    },
    {
      "cell_type": "code",
      "metadata": {
        "id": "ipbxNNNkNIo8",
        "colab": {
          "base_uri": "https://localhost:8080/",
          "height": 52
        },
        "outputId": "fc5b4ee7-373e-4fe1-a82e-2fcd8c463211"
      },
      "source": [
        "'''\n",
        "initial_learning_rate = 0.01\n",
        "epochs = 100\n",
        "decay = initial_learning_rate / epochs  \n",
        "def lr_time_based_decay(epoch, lr):\n",
        "  red_lr = 0.0001\n",
        "  if epoch < 20:  \n",
        "    lr = 0.01\n",
        "\n",
        "  else:\n",
        "    lr = red_lr * 1 / (1 + decay * epoch)\n",
        "\n",
        "  return lr\n",
        "'''"
      ],
      "execution_count": null,
      "outputs": [
        {
          "output_type": "execute_result",
          "data": {
            "application/vnd.google.colaboratory.intrinsic+json": {
              "type": "string"
            },
            "text/plain": [
              "'\\ninitial_learning_rate = 0.01\\nepochs = 100\\ndecay = initial_learning_rate / epochs  \\ndef lr_time_based_decay(epoch, lr):\\n  red_lr = 0.0001\\n  if epoch < 20:  \\n    lr = 0.01\\n\\n  else:\\n    lr = red_lr * 1 / (1 + decay * epoch)\\n\\n  return lr\\n'"
            ]
          },
          "metadata": {
            "tags": []
          },
          "execution_count": 25
        }
      ]
    },
    {
      "cell_type": "code",
      "metadata": {
        "id": "xwAk6gNgjRz5"
      },
      "source": [
        "initial_learning_rate = 0.01\n",
        "epochs = 100\n",
        "decay = initial_learning_rate / epochs\n",
        "def lr_time_based_decay(epoch, lr):\n",
        "    return lr * 1 / (1 + decay * epoch)"
      ],
      "execution_count": null,
      "outputs": []
    },
    {
      "cell_type": "code",
      "metadata": {
        "colab": {
          "base_uri": "https://localhost:8080/"
        },
        "id": "6LLcG_DpWKp7",
        "outputId": "5aaee6fc-1a10-42c6-8cd5-ff4d5ed6657b"
      },
      "source": [
        "history = model.fit(x_train, y_train_scaled,\n",
        "          epochs=150,\n",
        "          batch_size = 128,\n",
        "          validation_split=0.3,\n",
        "          callbacks=[callbacks.LearningRateScheduler(lr_time_based_decay, verbose=1)],\n",
        "          verbose=1)"
      ],
      "execution_count": null,
      "outputs": [
        {
          "output_type": "stream",
          "text": [
            "Epoch 1/150\n",
            "\n",
            "Epoch 00001: LearningRateScheduler reducing learning rate to 4.999999873689376e-05.\n",
            "16/16 [==============================] - 15s 823ms/step - loss: 2.6995 - mse: 1.3933 - val_loss: 2.1425 - val_mse: 0.8569\n",
            "Epoch 2/150\n",
            "\n",
            "Epoch 00002: LearningRateScheduler reducing learning rate to 4.999499923697006e-05.\n",
            "16/16 [==============================] - 12s 789ms/step - loss: 2.4890 - mse: 1.2087 - val_loss: 2.0321 - val_mse: 0.7672\n",
            "Epoch 3/150\n",
            "\n",
            "Epoch 00003: LearningRateScheduler reducing learning rate to 4.998500315338214e-05.\n",
            "16/16 [==============================] - 13s 797ms/step - loss: 2.3389 - mse: 1.0786 - val_loss: 1.9551 - val_mse: 0.7085\n",
            "Epoch 4/150\n",
            "\n",
            "Epoch 00004: LearningRateScheduler reducing learning rate to 4.9970011984655534e-05.\n",
            "16/16 [==============================] - 13s 809ms/step - loss: 2.2023 - mse: 0.9599 - val_loss: 1.9135 - val_mse: 0.6834\n",
            "Epoch 5/150\n",
            "\n",
            "Epoch 00005: LearningRateScheduler reducing learning rate to 4.9950030865240805e-05.\n",
            "16/16 [==============================] - 13s 815ms/step - loss: 2.1375 - mse: 0.9112 - val_loss: 1.8548 - val_mse: 0.6400\n",
            "Epoch 6/150\n",
            "\n",
            "Epoch 00006: LearningRateScheduler reducing learning rate to 4.992506856369651e-05.\n",
            "16/16 [==============================] - 13s 821ms/step - loss: 2.0685 - mse: 0.8573 - val_loss: 1.8256 - val_mse: 0.6251\n",
            "Epoch 7/150\n",
            "\n",
            "Epoch 00007: LearningRateScheduler reducing learning rate to 4.989513020927853e-05.\n",
            "16/16 [==============================] - 13s 826ms/step - loss: 2.0304 - mse: 0.8333 - val_loss: 1.7957 - val_mse: 0.6085\n",
            "Epoch 8/150\n",
            "\n",
            "Epoch 00008: LearningRateScheduler reducing learning rate to 4.986022820006049e-05.\n",
            "16/16 [==============================] - 13s 840ms/step - loss: 1.9684 - mse: 0.7844 - val_loss: 1.7794 - val_mse: 0.6048\n",
            "Epoch 9/150\n",
            "\n",
            "Epoch 00009: LearningRateScheduler reducing learning rate to 4.9820371294090025e-05.\n",
            "16/16 [==============================] - 13s 854ms/step - loss: 1.9284 - mse: 0.7567 - val_loss: 1.7628 - val_mse: 0.6000\n",
            "Epoch 10/150\n",
            "\n",
            "Epoch 00010: LearningRateScheduler reducing learning rate to 4.977557188062224e-05.\n",
            "16/16 [==============================] - 14s 866ms/step - loss: 1.8625 - mse: 0.7024 - val_loss: 1.7487 - val_mse: 0.5969\n",
            "Epoch 11/150\n",
            "\n",
            "Epoch 00011: LearningRateScheduler reducing learning rate to 4.972584597830597e-05.\n",
            "16/16 [==============================] - 14s 876ms/step - loss: 1.8439 - mse: 0.6947 - val_loss: 1.7490 - val_mse: 0.6076\n",
            "Epoch 12/150\n",
            "\n",
            "Epoch 00012: LearningRateScheduler reducing learning rate to 4.967120596540818e-05.\n",
            "16/16 [==============================] - 14s 875ms/step - loss: 1.7987 - mse: 0.6598 - val_loss: 1.7386 - val_mse: 0.6070\n",
            "Epoch 13/150\n",
            "\n",
            "Epoch 00013: LearningRateScheduler reducing learning rate to 4.9611671482487435e-05.\n",
            "16/16 [==============================] - 14s 875ms/step - loss: 1.7813 - mse: 0.6520 - val_loss: 1.7239 - val_mse: 0.6016\n",
            "Epoch 14/150\n",
            "\n",
            "Epoch 00014: LearningRateScheduler reducing learning rate to 4.954725852900066e-05.\n",
            "16/16 [==============================] - 14s 871ms/step - loss: 1.7517 - mse: 0.6315 - val_loss: 1.7079 - val_mse: 0.5942\n",
            "Epoch 15/150\n",
            "\n",
            "Epoch 00015: LearningRateScheduler reducing learning rate to 4.947799036379949e-05.\n",
            "16/16 [==============================] - 14s 871ms/step - loss: 1.7361 - mse: 0.6244 - val_loss: 1.6942 - val_mse: 0.5887\n",
            "Epoch 16/150\n",
            "\n",
            "Epoch 00016: LearningRateScheduler reducing learning rate to 4.9403882971385895e-05.\n",
            "16/16 [==============================] - 14s 869ms/step - loss: 1.7192 - mse: 0.6156 - val_loss: 1.6794 - val_mse: 0.5815\n",
            "Epoch 17/150\n",
            "\n",
            "Epoch 00017: LearningRateScheduler reducing learning rate to 4.932496322638031e-05.\n",
            "16/16 [==============================] - 14s 873ms/step - loss: 1.7168 - mse: 0.6207 - val_loss: 1.6755 - val_mse: 0.5848\n",
            "Epoch 18/150\n",
            "\n",
            "Epoch 00018: LearningRateScheduler reducing learning rate to 4.92412543608668e-05.\n",
            "16/16 [==============================] - 14s 873ms/step - loss: 1.6959 - mse: 0.6069 - val_loss: 1.6690 - val_mse: 0.5850\n",
            "Epoch 19/150\n",
            "\n",
            "Epoch 00019: LearningRateScheduler reducing learning rate to 4.915277959765332e-05.\n",
            "16/16 [==============================] - 14s 873ms/step - loss: 1.6472 - mse: 0.5648 - val_loss: 1.6650 - val_mse: 0.5874\n",
            "Epoch 20/150\n",
            "\n",
            "Epoch 00020: LearningRateScheduler reducing learning rate to 4.905956578135605e-05.\n",
            "16/16 [==============================] - 14s 876ms/step - loss: 1.6711 - mse: 0.5949 - val_loss: 1.6552 - val_mse: 0.5833\n",
            "Epoch 21/150\n",
            "\n",
            "Epoch 00021: LearningRateScheduler reducing learning rate to 4.8961643376592136e-05.\n",
            "16/16 [==============================] - 14s 876ms/step - loss: 1.6383 - mse: 0.5679 - val_loss: 1.6482 - val_mse: 0.5819\n",
            "Epoch 22/150\n",
            "\n",
            "Epoch 00022: LearningRateScheduler reducing learning rate to 4.885903920546336e-05.\n",
            "16/16 [==============================] - 14s 878ms/step - loss: 1.6303 - mse: 0.5654 - val_loss: 1.6301 - val_mse: 0.5694\n",
            "Epoch 23/150\n",
            "\n",
            "Epoch 00023: LearningRateScheduler reducing learning rate to 4.8751783709359034e-05.\n",
            "16/16 [==============================] - 14s 875ms/step - loss: 1.6193 - mse: 0.5599 - val_loss: 1.6367 - val_mse: 0.5814\n",
            "Epoch 24/150\n",
            "\n",
            "Epoch 00024: LearningRateScheduler reducing learning rate to 4.8639910947150496e-05.\n",
            "16/16 [==============================] - 14s 874ms/step - loss: 1.6037 - mse: 0.5499 - val_loss: 1.6282 - val_mse: 0.5784\n",
            "Epoch 25/150\n",
            "\n",
            "Epoch 00025: LearningRateScheduler reducing learning rate to 4.852345496411818e-05.\n",
            "16/16 [==============================] - 14s 879ms/step - loss: 1.5905 - mse: 0.5420 - val_loss: 1.6204 - val_mse: 0.5759\n",
            "Epoch 26/150\n",
            "\n",
            "Epoch 00026: LearningRateScheduler reducing learning rate to 4.840244979195836e-05.\n",
            "16/16 [==============================] - 14s 870ms/step - loss: 1.5925 - mse: 0.5494 - val_loss: 1.6176 - val_mse: 0.5785\n",
            "Epoch 27/150\n",
            "\n",
            "Epoch 00027: LearningRateScheduler reducing learning rate to 4.8276929448789915e-05.\n",
            "16/16 [==============================] - 14s 874ms/step - loss: 1.5844 - mse: 0.5467 - val_loss: 1.6073 - val_mse: 0.5735\n",
            "Epoch 28/150\n",
            "\n",
            "Epoch 00028: LearningRateScheduler reducing learning rate to 4.814693156734386e-05.\n",
            "16/16 [==============================] - 14s 874ms/step - loss: 1.5548 - mse: 0.5223 - val_loss: 1.5950 - val_mse: 0.5664\n",
            "Epoch 29/150\n",
            "\n",
            "Epoch 00029: LearningRateScheduler reducing learning rate to 4.801249739316103e-05.\n",
            "16/16 [==============================] - 14s 873ms/step - loss: 1.5538 - mse: 0.5266 - val_loss: 1.5904 - val_mse: 0.5671\n",
            "Epoch 30/150\n",
            "\n",
            "Epoch 00030: LearningRateScheduler reducing learning rate to 4.787366452787259e-05.\n",
            "16/16 [==============================] - 14s 871ms/step - loss: 1.5409 - mse: 0.5190 - val_loss: 1.5938 - val_mse: 0.5758\n",
            "Epoch 31/150\n",
            "\n",
            "Epoch 00031: LearningRateScheduler reducing learning rate to 4.773047418521155e-05.\n",
            "16/16 [==============================] - 14s 878ms/step - loss: 1.5344 - mse: 0.5177 - val_loss: 1.5616 - val_mse: 0.5489\n",
            "Epoch 32/150\n",
            "\n",
            "Epoch 00032: LearningRateScheduler reducing learning rate to 4.758296756247637e-05.\n",
            "16/16 [==============================] - 14s 879ms/step - loss: 1.5278 - mse: 0.5163 - val_loss: 1.5630 - val_mse: 0.5555\n",
            "Epoch 33/150\n",
            "\n",
            "Epoch 00033: LearningRateScheduler reducing learning rate to 4.743118946691358e-05.\n",
            "16/16 [==============================] - 14s 878ms/step - loss: 1.5223 - mse: 0.5162 - val_loss: 1.5501 - val_mse: 0.5479\n",
            "Epoch 34/150\n",
            "\n",
            "Epoch 00034: LearningRateScheduler reducing learning rate to 4.7275181061892785e-05.\n",
            "16/16 [==============================] - 14s 869ms/step - loss: 1.5113 - mse: 0.5104 - val_loss: 1.5522 - val_mse: 0.5553\n",
            "Epoch 35/150\n",
            "\n",
            "Epoch 00035: LearningRateScheduler reducing learning rate to 4.711499074567721e-05.\n",
            "16/16 [==============================] - 14s 871ms/step - loss: 1.4824 - mse: 0.4867 - val_loss: 1.5344 - val_mse: 0.5426\n",
            "Epoch 36/150\n",
            "\n",
            "Epoch 00036: LearningRateScheduler reducing learning rate to 4.695066327194803e-05.\n",
            "16/16 [==============================] - 14s 870ms/step - loss: 1.4890 - mse: 0.4985 - val_loss: 1.5280 - val_mse: 0.5414\n",
            "Epoch 37/150\n",
            "\n",
            "Epoch 00037: LearningRateScheduler reducing learning rate to 4.67822470014782e-05.\n",
            "16/16 [==============================] - 14s 869ms/step - loss: 1.4894 - mse: 0.5041 - val_loss: 1.5391 - val_mse: 0.5575\n",
            "Epoch 38/150\n",
            "\n",
            "Epoch 00038: LearningRateScheduler reducing learning rate to 4.660979027576767e-05.\n",
            "16/16 [==============================] - 14s 871ms/step - loss: 1.4745 - mse: 0.4942 - val_loss: 1.5206 - val_mse: 0.5441\n",
            "Epoch 39/150\n",
            "\n",
            "Epoch 00039: LearningRateScheduler reducing learning rate to 4.6433345041259854e-05.\n",
            "16/16 [==============================] - 14s 873ms/step - loss: 1.4671 - mse: 0.4920 - val_loss: 1.5305 - val_mse: 0.5592\n",
            "Epoch 40/150\n",
            "\n",
            "Epoch 00040: LearningRateScheduler reducing learning rate to 4.625295959985445e-05.\n",
            "16/16 [==============================] - 14s 873ms/step - loss: 1.4572 - mse: 0.4872 - val_loss: 1.5081 - val_mse: 0.5420\n",
            "Epoch 41/150\n",
            "\n",
            "Epoch 00041: LearningRateScheduler reducing learning rate to 4.606868585769228e-05.\n",
            "16/16 [==============================] - 14s 878ms/step - loss: 1.4550 - mse: 0.4900 - val_loss: 1.5094 - val_mse: 0.5482\n",
            "Epoch 42/150\n",
            "\n",
            "Epoch 00042: LearningRateScheduler reducing learning rate to 4.5880575700236467e-05.\n",
            "16/16 [==============================] - 14s 879ms/step - loss: 1.4439 - mse: 0.4839 - val_loss: 1.5021 - val_mse: 0.5459\n",
            "Epoch 43/150\n",
            "\n",
            "Epoch 00043: LearningRateScheduler reducing learning rate to 4.568868461504595e-05.\n",
            "16/16 [==============================] - 14s 877ms/step - loss: 1.4515 - mse: 0.4966 - val_loss: 1.4951 - val_mse: 0.5438\n",
            "Epoch 44/150\n",
            "\n",
            "Epoch 00044: LearningRateScheduler reducing learning rate to 4.5493064445177215e-05.\n",
            "16/16 [==============================] - 14s 872ms/step - loss: 1.4207 - mse: 0.4707 - val_loss: 1.4890 - val_mse: 0.5427\n",
            "Epoch 45/150\n",
            "\n",
            "Epoch 00045: LearningRateScheduler reducing learning rate to 4.529377063508218e-05.\n",
            "16/16 [==============================] - 14s 872ms/step - loss: 1.4362 - mse: 0.4911 - val_loss: 1.4801 - val_mse: 0.5388\n",
            "Epoch 46/150\n",
            "\n",
            "Epoch 00046: LearningRateScheduler reducing learning rate to 4.509086222881558e-05.\n",
            "16/16 [==============================] - 14s 872ms/step - loss: 1.4272 - mse: 0.4871 - val_loss: 1.4813 - val_mse: 0.5449\n",
            "Epoch 47/150\n",
            "\n",
            "Epoch 00047: LearningRateScheduler reducing learning rate to 4.4884394625601943e-05.\n",
            "16/16 [==============================] - 14s 870ms/step - loss: 1.4114 - mse: 0.4762 - val_loss: 1.4779 - val_mse: 0.5463\n",
            "Epoch 48/150\n",
            "\n",
            "Epoch 00048: LearningRateScheduler reducing learning rate to 4.467442320260976e-05.\n",
            "16/16 [==============================] - 14s 870ms/step - loss: 1.3942 - mse: 0.4638 - val_loss: 1.4671 - val_mse: 0.5404\n",
            "Epoch 49/150\n",
            "\n",
            "Epoch 00049: LearningRateScheduler reducing learning rate to 4.446101055616234e-05.\n",
            "16/16 [==============================] - 14s 874ms/step - loss: 1.4047 - mse: 0.4792 - val_loss: 1.4590 - val_mse: 0.5371\n",
            "Epoch 50/150\n",
            "\n",
            "Epoch 00050: LearningRateScheduler reducing learning rate to 4.424421563742692e-05.\n",
            "16/16 [==============================] - 14s 878ms/step - loss: 1.3775 - mse: 0.4568 - val_loss: 1.4587 - val_mse: 0.5417\n",
            "Epoch 51/150\n",
            "\n",
            "Epoch 00051: LearningRateScheduler reducing learning rate to 4.4024093754228153e-05.\n",
            "16/16 [==============================] - 14s 884ms/step - loss: 1.3891 - mse: 0.4732 - val_loss: 1.4485 - val_mse: 0.5361\n",
            "Epoch 52/150\n",
            "\n",
            "Epoch 00052: LearningRateScheduler reducing learning rate to 4.380071105093761e-05.\n",
            "16/16 [==============================] - 14s 875ms/step - loss: 1.3762 - mse: 0.4650 - val_loss: 1.4439 - val_mse: 0.5363\n",
            "Epoch 53/150\n",
            "\n",
            "Epoch 00053: LearningRateScheduler reducing learning rate to 4.3574126407287645e-05.\n",
            "16/16 [==============================] - 14s 874ms/step - loss: 1.3911 - mse: 0.4846 - val_loss: 1.4347 - val_mse: 0.5317\n",
            "Epoch 54/150\n",
            "\n",
            "Epoch 00054: LearningRateScheduler reducing learning rate to 4.334440229838202e-05.\n",
            "16/16 [==============================] - 14s 869ms/step - loss: 1.3694 - mse: 0.4675 - val_loss: 1.4344 - val_mse: 0.5360\n",
            "Epoch 55/150\n",
            "\n",
            "Epoch 00055: LearningRateScheduler reducing learning rate to 4.311160117446871e-05.\n",
            "16/16 [==============================] - 14s 871ms/step - loss: 1.3728 - mse: 0.4756 - val_loss: 1.4199 - val_mse: 0.5261\n",
            "Epoch 56/150\n",
            "\n",
            "Epoch 00056: LearningRateScheduler reducing learning rate to 4.2875785460952185e-05.\n",
            "16/16 [==============================] - 14s 877ms/step - loss: 1.3468 - mse: 0.4542 - val_loss: 1.4247 - val_mse: 0.5357\n",
            "Epoch 57/150\n",
            "\n",
            "Epoch 00057: LearningRateScheduler reducing learning rate to 4.263701755840586e-05.\n",
            "16/16 [==============================] - 14s 883ms/step - loss: 1.3512 - mse: 0.4633 - val_loss: 1.4138 - val_mse: 0.5294\n",
            "Epoch 58/150\n",
            "\n",
            "Epoch 00058: LearningRateScheduler reducing learning rate to 4.2395363459944206e-05.\n",
            "16/16 [==============================] - 14s 879ms/step - loss: 1.3414 - mse: 0.4581 - val_loss: 1.4025 - val_mse: 0.5228\n",
            "Epoch 59/150\n",
            "\n",
            "Epoch 00059: LearningRateScheduler reducing learning rate to 4.215088913243669e-05.\n",
            "16/16 [==============================] - 14s 878ms/step - loss: 1.3301 - mse: 0.4515 - val_loss: 1.3981 - val_mse: 0.5230\n",
            "Epoch 60/150\n",
            "\n",
            "Epoch 00060: LearningRateScheduler reducing learning rate to 4.190365689988016e-05.\n",
            "16/16 [==============================] - 14s 873ms/step - loss: 1.3211 - mse: 0.4471 - val_loss: 1.3960 - val_mse: 0.5255\n",
            "Epoch 61/150\n",
            "\n",
            "Epoch 00061: LearningRateScheduler reducing learning rate to 4.1653736294052796e-05.\n",
            "16/16 [==============================] - 14s 872ms/step - loss: 1.3232 - mse: 0.4538 - val_loss: 1.3885 - val_mse: 0.5224\n",
            "Epoch 62/150\n",
            "\n",
            "Epoch 00062: LearningRateScheduler reducing learning rate to 4.1401189587245336e-05.\n",
            "16/16 [==============================] - 14s 872ms/step - loss: 1.3248 - mse: 0.4598 - val_loss: 1.3925 - val_mse: 0.5308\n",
            "Epoch 63/150\n",
            "\n",
            "Epoch 00063: LearningRateScheduler reducing learning rate to 4.114608264255538e-05.\n",
            "16/16 [==============================] - 14s 875ms/step - loss: 1.3093 - mse: 0.4487 - val_loss: 1.3838 - val_mse: 0.5265\n",
            "Epoch 64/150\n",
            "\n",
            "Epoch 00064: LearningRateScheduler reducing learning rate to 4.088848491210328e-05.\n",
            "16/16 [==============================] - 14s 875ms/step - loss: 1.3081 - mse: 0.4519 - val_loss: 1.3905 - val_mse: 0.5375\n",
            "Epoch 65/150\n",
            "\n",
            "Epoch 00065: LearningRateScheduler reducing learning rate to 4.0628462205561386e-05.\n",
            "16/16 [==============================] - 14s 876ms/step - loss: 1.2988 - mse: 0.4469 - val_loss: 1.3726 - val_mse: 0.5240\n",
            "Epoch 66/150\n",
            "\n",
            "Epoch 00066: LearningRateScheduler reducing learning rate to 4.0366083920932845e-05.\n",
            "16/16 [==============================] - 14s 876ms/step - loss: 1.2894 - mse: 0.4418 - val_loss: 1.3765 - val_mse: 0.5321\n",
            "Epoch 67/150\n",
            "\n",
            "Epoch 00067: LearningRateScheduler reducing learning rate to 4.0101415814518025e-05.\n",
            "16/16 [==============================] - 14s 876ms/step - loss: 1.3227 - mse: 0.4793 - val_loss: 1.3605 - val_mse: 0.5203\n",
            "Epoch 68/150\n",
            "\n",
            "Epoch 00068: LearningRateScheduler reducing learning rate to 3.9834523616489826e-05.\n",
            "16/16 [==============================] - 14s 880ms/step - loss: 1.2848 - mse: 0.4457 - val_loss: 1.3500 - val_mse: 0.5142\n",
            "Epoch 69/150\n",
            "\n",
            "Epoch 00069: LearningRateScheduler reducing learning rate to 3.95654766443143e-05.\n",
            "16/16 [==============================] - 14s 879ms/step - loss: 1.2719 - mse: 0.4372 - val_loss: 1.3477 - val_mse: 0.5164\n",
            "Epoch 70/150\n",
            "\n",
            "Epoch 00070: LearningRateScheduler reducing learning rate to 3.9294344187920515e-05.\n",
            "16/16 [==============================] - 14s 876ms/step - loss: 1.2549 - mse: 0.4246 - val_loss: 1.3476 - val_mse: 0.5204\n",
            "Epoch 71/150\n",
            "\n",
            "Epoch 00071: LearningRateScheduler reducing learning rate to 3.902119550971424e-05.\n",
            "16/16 [==============================] - 14s 877ms/step - loss: 1.2662 - mse: 0.4400 - val_loss: 1.3430 - val_mse: 0.5200\n",
            "Epoch 72/150\n",
            "\n",
            "Epoch 00072: LearningRateScheduler reducing learning rate to 3.874609984459157e-05.\n",
            "16/16 [==============================] - 14s 877ms/step - loss: 1.2670 - mse: 0.4450 - val_loss: 1.3399 - val_mse: 0.5211\n",
            "Epoch 73/150\n",
            "\n",
            "Epoch 00073: LearningRateScheduler reducing learning rate to 3.8469122787980054e-05.\n",
            "16/16 [==============================] - 14s 872ms/step - loss: 1.2471 - mse: 0.4293 - val_loss: 1.3304 - val_mse: 0.5157\n",
            "Epoch 74/150\n",
            "\n",
            "Epoch 00074: LearningRateScheduler reducing learning rate to 3.819033352087321e-05.\n",
            "16/16 [==============================] - 14s 870ms/step - loss: 1.2406 - mse: 0.4269 - val_loss: 1.3303 - val_mse: 0.5198\n",
            "Epoch 75/150\n",
            "\n",
            "Epoch 00075: LearningRateScheduler reducing learning rate to 3.790980119679544e-05.\n",
            "16/16 [==============================] - 14s 873ms/step - loss: 1.2533 - mse: 0.4437 - val_loss: 1.3278 - val_mse: 0.5211\n",
            "Epoch 76/150\n",
            "\n",
            "Epoch 00076: LearningRateScheduler reducing learning rate to 3.762759494181565e-05.\n",
            "16/16 [==============================] - 14s 876ms/step - loss: 1.2506 - mse: 0.4449 - val_loss: 1.3316 - val_mse: 0.5288\n",
            "Epoch 77/150\n",
            "\n",
            "Epoch 00077: LearningRateScheduler reducing learning rate to 3.734378385456089e-05.\n",
            "16/16 [==============================] - 14s 880ms/step - loss: 1.2382 - mse: 0.4364 - val_loss: 1.3239 - val_mse: 0.5252\n",
            "Epoch 78/150\n",
            "\n",
            "Epoch 00078: LearningRateScheduler reducing learning rate to 3.7058433396049514e-05.\n",
            "16/16 [==============================] - 14s 880ms/step - loss: 1.2255 - mse: 0.4278 - val_loss: 1.3183 - val_mse: 0.5236\n",
            "Epoch 79/150\n",
            "\n",
            "Epoch 00079: LearningRateScheduler reducing learning rate to 3.677161622096255e-05.\n",
            "16/16 [==============================] - 14s 879ms/step - loss: 1.2255 - mse: 0.4318 - val_loss: 1.3046 - val_mse: 0.5138\n",
            "Epoch 80/150\n",
            "\n",
            "Epoch 00080: LearningRateScheduler reducing learning rate to 3.6483397736218814e-05.\n",
            "16/16 [==============================] - 14s 876ms/step - loss: 1.2168 - mse: 0.4270 - val_loss: 1.3028 - val_mse: 0.5159\n",
            "Epoch 81/150\n",
            "\n",
            "Epoch 00081: LearningRateScheduler reducing learning rate to 3.6193846931887995e-05.\n",
            "16/16 [==============================] - 14s 877ms/step - loss: 1.2036 - mse: 0.4177 - val_loss: 1.3003 - val_mse: 0.5172\n",
            "Epoch 82/150\n",
            "\n",
            "Epoch 00082: LearningRateScheduler reducing learning rate to 3.590303277066547e-05.\n",
            "16/16 [==============================] - 14s 874ms/step - loss: 1.2251 - mse: 0.4430 - val_loss: 1.2866 - val_mse: 0.5072\n",
            "Epoch 83/150\n",
            "\n",
            "Epoch 00083: LearningRateScheduler reducing learning rate to 3.56110241878859e-05.\n",
            "16/16 [==============================] - 14s 875ms/step - loss: 1.2055 - mse: 0.4271 - val_loss: 1.2868 - val_mse: 0.5111\n",
            "Epoch 84/150\n",
            "\n",
            "Epoch 00084: LearningRateScheduler reducing learning rate to 3.531788648350465e-05.\n",
            "16/16 [==============================] - 14s 879ms/step - loss: 1.2101 - mse: 0.4354 - val_loss: 1.2950 - val_mse: 0.5230\n",
            "Epoch 85/150\n",
            "\n",
            "Epoch 00085: LearningRateScheduler reducing learning rate to 3.502368853924902e-05.\n",
            "16/16 [==============================] - 14s 880ms/step - loss: 1.2009 - mse: 0.4298 - val_loss: 1.2673 - val_mse: 0.4990\n",
            "Epoch 86/150\n",
            "\n",
            "Epoch 00086: LearningRateScheduler reducing learning rate to 3.472849560220923e-05.\n",
            "16/16 [==============================] - 14s 877ms/step - loss: 1.2069 - mse: 0.4396 - val_loss: 1.2782 - val_mse: 0.5137\n",
            "Epoch 87/150\n",
            "\n",
            "Epoch 00087: LearningRateScheduler reducing learning rate to 3.443237650055817e-05.\n",
            "16/16 [==============================] - 14s 874ms/step - loss: 1.1950 - mse: 0.4314 - val_loss: 1.2671 - val_mse: 0.5063\n",
            "Epoch 88/150\n",
            "\n",
            "Epoch 00088: LearningRateScheduler reducing learning rate to 3.413540003517492e-05.\n",
            "16/16 [==============================] - 14s 877ms/step - loss: 1.1802 - mse: 0.4203 - val_loss: 1.2668 - val_mse: 0.5097\n",
            "Epoch 89/150\n",
            "\n",
            "Epoch 00089: LearningRateScheduler reducing learning rate to 3.383762776717052e-05.\n",
            "16/16 [==============================] - 14s 875ms/step - loss: 1.1806 - mse: 0.4243 - val_loss: 1.2486 - val_mse: 0.4950\n",
            "Epoch 90/150\n",
            "\n",
            "Epoch 00090: LearningRateScheduler reducing learning rate to 3.3539128445021666e-05.\n",
            "16/16 [==============================] - 14s 875ms/step - loss: 1.1714 - mse: 0.4187 - val_loss: 1.2621 - val_mse: 0.5120\n",
            "Epoch 91/150\n",
            "\n",
            "Epoch 00091: LearningRateScheduler reducing learning rate to 3.323996718442188e-05.\n",
            "16/16 [==============================] - 14s 876ms/step - loss: 1.1826 - mse: 0.4334 - val_loss: 1.2509 - val_mse: 0.5043\n",
            "Epoch 92/150\n",
            "\n",
            "Epoch 00092: LearningRateScheduler reducing learning rate to 3.2940212680425036e-05.\n",
            "16/16 [==============================] - 14s 877ms/step - loss: 1.1726 - mse: 0.4269 - val_loss: 1.2533 - val_mse: 0.5102\n",
            "Epoch 93/150\n",
            "\n",
            "Epoch 00093: LearningRateScheduler reducing learning rate to 3.263992639122847e-05.\n",
            "16/16 [==============================] - 14s 875ms/step - loss: 1.1819 - mse: 0.4396 - val_loss: 1.2474 - val_mse: 0.5076\n",
            "Epoch 94/150\n",
            "\n",
            "Epoch 00094: LearningRateScheduler reducing learning rate to 3.23391733551301e-05.\n",
            "16/16 [==============================] - 14s 877ms/step - loss: 1.1612 - mse: 0.4223 - val_loss: 1.2411 - val_mse: 0.5047\n",
            "Epoch 95/150\n",
            "\n",
            "Epoch 00095: LearningRateScheduler reducing learning rate to 3.203801498055452e-05.\n",
            "16/16 [==============================] - 14s 876ms/step - loss: 1.1541 - mse: 0.4186 - val_loss: 1.2449 - val_mse: 0.5120\n",
            "Epoch 96/150\n",
            "\n",
            "Epoch 00096: LearningRateScheduler reducing learning rate to 3.1736519859080604e-05.\n",
            "16/16 [==============================] - 14s 877ms/step - loss: 1.1458 - mse: 0.4137 - val_loss: 1.2349 - val_mse: 0.5054\n",
            "Epoch 97/150\n",
            "\n",
            "Epoch 00097: LearningRateScheduler reducing learning rate to 3.1434745744952604e-05.\n",
            "16/16 [==============================] - 14s 879ms/step - loss: 1.1500 - mse: 0.4212 - val_loss: 1.2391 - val_mse: 0.5128\n",
            "Epoch 98/150\n",
            "\n",
            "Epoch 00098: LearningRateScheduler reducing learning rate to 3.113275757559382e-05.\n",
            "16/16 [==============================] - 14s 878ms/step - loss: 1.1582 - mse: 0.4327 - val_loss: 1.2307 - val_mse: 0.5076\n",
            "Epoch 99/150\n",
            "\n",
            "Epoch 00099: LearningRateScheduler reducing learning rate to 3.083061666003209e-05.\n",
            "16/16 [==============================] - 14s 877ms/step - loss: 1.1352 - mse: 0.4130 - val_loss: 1.2271 - val_mse: 0.5072\n",
            "Epoch 100/150\n",
            "\n",
            "Epoch 00100: LearningRateScheduler reducing learning rate to 3.0528384283012004e-05.\n",
            "16/16 [==============================] - 14s 876ms/step - loss: 1.1314 - mse: 0.4123 - val_loss: 1.2238 - val_mse: 0.5072\n",
            "Epoch 101/150\n",
            "\n",
            "Epoch 00101: LearningRateScheduler reducing learning rate to 3.0226121705006992e-05.\n",
            "16/16 [==============================] - 14s 874ms/step - loss: 1.1339 - mse: 0.4180 - val_loss: 1.2249 - val_mse: 0.5113\n",
            "Epoch 102/150\n",
            "\n",
            "Epoch 00102: LearningRateScheduler reducing learning rate to 2.992389016223131e-05.\n",
            "16/16 [==============================] - 14s 878ms/step - loss: 1.1287 - mse: 0.4159 - val_loss: 1.2175 - val_mse: 0.5071\n",
            "Epoch 103/150\n",
            "\n",
            "Epoch 00103: LearningRateScheduler reducing learning rate to 2.9621749066029e-05.\n",
            "16/16 [==============================] - 14s 875ms/step - loss: 1.1221 - mse: 0.4124 - val_loss: 1.2100 - val_mse: 0.5027\n",
            "Epoch 104/150\n",
            "\n",
            "Epoch 00104: LearningRateScheduler reducing learning rate to 2.9319756003777008e-05.\n",
            "16/16 [==============================] - 14s 873ms/step - loss: 1.1151 - mse: 0.4086 - val_loss: 1.2098 - val_mse: 0.5055\n",
            "Epoch 105/150\n",
            "\n",
            "Epoch 00105: LearningRateScheduler reducing learning rate to 2.9017968540054453e-05.\n",
            "16/16 [==============================] - 14s 873ms/step - loss: 1.1279 - mse: 0.4244 - val_loss: 1.2068 - val_mse: 0.5056\n",
            "Epoch 106/150\n",
            "\n",
            "Epoch 00106: LearningRateScheduler reducing learning rate to 2.8716446016742336e-05.\n",
            "16/16 [==============================] - 14s 873ms/step - loss: 1.1155 - mse: 0.4150 - val_loss: 1.2055 - val_mse: 0.5072\n",
            "Epoch 107/150\n",
            "\n",
            "Epoch 00107: LearningRateScheduler reducing learning rate to 2.8415244152413176e-05.\n",
            "16/16 [==============================] - 14s 875ms/step - loss: 1.1049 - mse: 0.4073 - val_loss: 1.2012 - val_mse: 0.5058\n",
            "Epoch 108/150\n",
            "\n",
            "Epoch 00108: LearningRateScheduler reducing learning rate to 2.811442044332028e-05.\n",
            "16/16 [==============================] - 14s 877ms/step - loss: 1.1006 - mse: 0.4059 - val_loss: 1.2004 - val_mse: 0.5080\n",
            "Epoch 109/150\n",
            "\n",
            "Epoch 00109: LearningRateScheduler reducing learning rate to 2.7814028763855753e-05.\n",
            "16/16 [==============================] - 14s 880ms/step - loss: 1.0938 - mse: 0.4021 - val_loss: 1.1949 - val_mse: 0.5055\n",
            "Epoch 110/150\n",
            "\n",
            "Epoch 00110: LearningRateScheduler reducing learning rate to 2.7514124766470495e-05.\n",
            "16/16 [==============================] - 14s 877ms/step - loss: 1.1008 - mse: 0.4121 - val_loss: 1.1876 - val_mse: 0.5010\n",
            "Epoch 111/150\n",
            "\n",
            "Epoch 00111: LearningRateScheduler reducing learning rate to 2.721476228239842e-05.\n",
            "16/16 [==============================] - 14s 876ms/step - loss: 1.0888 - mse: 0.4029 - val_loss: 1.1801 - val_mse: 0.4964\n",
            "Epoch 112/150\n",
            "\n",
            "Epoch 00112: LearningRateScheduler reducing learning rate to 2.6915995121577327e-05.\n",
            "16/16 [==============================] - 14s 873ms/step - loss: 1.0949 - mse: 0.4119 - val_loss: 1.1828 - val_mse: 0.5019\n",
            "Epoch 113/150\n",
            "\n",
            "Epoch 00113: LearningRateScheduler reducing learning rate to 2.661787527381708e-05.\n",
            "16/16 [==============================] - 14s 874ms/step - loss: 1.0905 - mse: 0.4102 - val_loss: 1.1767 - val_mse: 0.4986\n",
            "Epoch 114/150\n",
            "\n",
            "Epoch 00114: LearningRateScheduler reducing learning rate to 2.632045470836398e-05.\n",
            "16/16 [==============================] - 14s 875ms/step - loss: 1.0801 - mse: 0.4027 - val_loss: 1.1820 - val_mse: 0.5066\n",
            "Epoch 115/150\n",
            "\n",
            "Epoch 00115: LearningRateScheduler reducing learning rate to 2.6023783575424277e-05.\n",
            "16/16 [==============================] - 14s 877ms/step - loss: 1.0883 - mse: 0.4136 - val_loss: 1.1668 - val_mse: 0.4940\n",
            "Epoch 116/150\n",
            "\n",
            "Epoch 00116: LearningRateScheduler reducing learning rate to 2.5727912005372216e-05.\n",
            "16/16 [==============================] - 14s 877ms/step - loss: 1.0805 - mse: 0.4084 - val_loss: 1.1757 - val_mse: 0.5057\n",
            "Epoch 117/150\n",
            "\n",
            "Epoch 00117: LearningRateScheduler reducing learning rate to 2.5432890108759824e-05.\n",
            "16/16 [==============================] - 14s 876ms/step - loss: 1.0683 - mse: 0.3988 - val_loss: 1.1627 - val_mse: 0.4953\n",
            "Epoch 118/150\n",
            "\n",
            "Epoch 00118: LearningRateScheduler reducing learning rate to 2.5138766178373366e-05.\n",
            "16/16 [==============================] - 14s 879ms/step - loss: 1.0680 - mse: 0.4012 - val_loss: 1.1742 - val_mse: 0.5096\n",
            "Epoch 119/150\n",
            "\n",
            "Epoch 00119: LearningRateScheduler reducing learning rate to 2.484558848790728e-05.\n",
            "16/16 [==============================] - 14s 873ms/step - loss: 1.0733 - mse: 0.4092 - val_loss: 1.1621 - val_mse: 0.5000\n",
            "Epoch 120/150\n",
            "\n",
            "Epoch 00120: LearningRateScheduler reducing learning rate to 2.4553403494375607e-05.\n",
            "16/16 [==============================] - 14s 876ms/step - loss: 1.0596 - mse: 0.3981 - val_loss: 1.1625 - val_mse: 0.5030\n",
            "Epoch 121/150\n",
            "\n",
            "Epoch 00121: LearningRateScheduler reducing learning rate to 2.426225583900959e-05.\n",
            "16/16 [==============================] - 14s 872ms/step - loss: 1.0680 - mse: 0.4091 - val_loss: 1.1525 - val_mse: 0.4956\n",
            "Epoch 122/150\n",
            "\n",
            "Epoch 00122: LearningRateScheduler reducing learning rate to 2.3972191942640208e-05.\n",
            "16/16 [==============================] - 14s 878ms/step - loss: 1.0570 - mse: 0.4007 - val_loss: 1.1525 - val_mse: 0.4980\n",
            "Epoch 123/150\n",
            "\n",
            "Epoch 00123: LearningRateScheduler reducing learning rate to 2.3683256410688716e-05.\n",
            "16/16 [==============================] - 14s 873ms/step - loss: 1.0644 - mse: 0.4106 - val_loss: 1.1515 - val_mse: 0.4995\n",
            "Epoch 124/150\n",
            "\n",
            "Epoch 00124: LearningRateScheduler reducing learning rate to 2.3395492034063303e-05.\n",
            "16/16 [==============================] - 14s 876ms/step - loss: 1.0551 - mse: 0.4037 - val_loss: 1.1513 - val_mse: 0.5018\n",
            "Epoch 125/150\n",
            "\n",
            "Epoch 00125: LearningRateScheduler reducing learning rate to 2.3108941586765436e-05.\n",
            "16/16 [==============================] - 14s 875ms/step - loss: 1.0585 - mse: 0.4095 - val_loss: 1.1651 - val_mse: 0.5179\n",
            "Epoch 126/150\n",
            "\n",
            "Epoch 00126: LearningRateScheduler reducing learning rate to 2.282364602936547e-05.\n",
            "16/16 [==============================] - 14s 876ms/step - loss: 1.0409 - mse: 0.3943 - val_loss: 1.1411 - val_mse: 0.4963\n",
            "Epoch 127/150\n",
            "\n",
            "Epoch 00127: LearningRateScheduler reducing learning rate to 2.25396463062534e-05.\n",
            "16/16 [==============================] - 14s 878ms/step - loss: 1.0386 - mse: 0.3943 - val_loss: 1.1438 - val_mse: 0.5012\n",
            "Epoch 128/150\n",
            "\n",
            "Epoch 00128: LearningRateScheduler reducing learning rate to 2.2256983345646865e-05.\n",
            "16/16 [==============================] - 14s 874ms/step - loss: 1.0309 - mse: 0.3889 - val_loss: 1.1382 - val_mse: 0.4980\n",
            "Epoch 129/150\n",
            "\n",
            "Epoch 00129: LearningRateScheduler reducing learning rate to 2.1975694467597915e-05.\n",
            "16/16 [==============================] - 14s 880ms/step - loss: 1.0391 - mse: 0.3995 - val_loss: 1.1476 - val_mse: 0.5097\n",
            "Epoch 130/150\n",
            "\n",
            "Epoch 00130: LearningRateScheduler reducing learning rate to 2.169581877324399e-05.\n",
            "16/16 [==============================] - 14s 879ms/step - loss: 1.0422 - mse: 0.4048 - val_loss: 1.1372 - val_mse: 0.5015\n",
            "Epoch 131/150\n",
            "\n",
            "Epoch 00131: LearningRateScheduler reducing learning rate to 2.1417393552636784e-05.\n",
            "16/16 [==============================] - 14s 878ms/step - loss: 1.0344 - mse: 0.3993 - val_loss: 1.1326 - val_mse: 0.4992\n",
            "Epoch 132/150\n",
            "\n",
            "Epoch 00132: LearningRateScheduler reducing learning rate to 2.1140454285636074e-05.\n",
            "16/16 [==============================] - 14s 877ms/step - loss: 1.0285 - mse: 0.3956 - val_loss: 1.1345 - val_mse: 0.5033\n",
            "Epoch 133/150\n",
            "\n",
            "Epoch 00133: LearningRateScheduler reducing learning rate to 2.0865036438094605e-05.\n",
            "16/16 [==============================] - 14s 874ms/step - loss: 1.0346 - mse: 0.4039 - val_loss: 1.1313 - val_mse: 0.5023\n",
            "Epoch 134/150\n",
            "\n",
            "Epoch 00134: LearningRateScheduler reducing learning rate to 2.0591173666750583e-05.\n",
            "16/16 [==============================] - 14s 877ms/step - loss: 1.0291 - mse: 0.4006 - val_loss: 1.1260 - val_mse: 0.4990\n",
            "Epoch 135/150\n",
            "\n",
            "Epoch 00135: LearningRateScheduler reducing learning rate to 2.031889961505754e-05.\n",
            "16/16 [==============================] - 14s 874ms/step - loss: 1.0353 - mse: 0.4088 - val_loss: 1.1332 - val_mse: 0.5083\n",
            "Epoch 136/150\n",
            "\n",
            "Epoch 00136: LearningRateScheduler reducing learning rate to 2.0048247913190873e-05.\n",
            "16/16 [==============================] - 14s 873ms/step - loss: 1.0279 - mse: 0.4036 - val_loss: 1.1242 - val_mse: 0.5015\n",
            "Epoch 137/150\n",
            "\n",
            "Epoch 00137: LearningRateScheduler reducing learning rate to 1.9779250383471347e-05.\n",
            "16/16 [==============================] - 14s 875ms/step - loss: 1.0146 - mse: 0.3923 - val_loss: 1.1179 - val_mse: 0.4972\n",
            "Epoch 138/150\n",
            "\n",
            "Epoch 00138: LearningRateScheduler reducing learning rate to 1.9511937041256766e-05.\n",
            "16/16 [==============================] - 14s 877ms/step - loss: 1.0250 - mse: 0.4047 - val_loss: 1.1150 - val_mse: 0.4962\n",
            "Epoch 139/150\n",
            "\n",
            "Epoch 00139: LearningRateScheduler reducing learning rate to 1.9246337890062238e-05.\n",
            "16/16 [==============================] - 14s 876ms/step - loss: 1.0161 - mse: 0.3978 - val_loss: 1.1138 - val_mse: 0.4970\n",
            "Epoch 140/150\n",
            "\n",
            "Epoch 00140: LearningRateScheduler reducing learning rate to 1.8982481127513907e-05.\n",
            "16/16 [==============================] - 14s 879ms/step - loss: 1.0163 - mse: 0.4000 - val_loss: 1.1093 - val_mse: 0.4945\n",
            "Epoch 141/150\n",
            "\n",
            "Epoch 00141: LearningRateScheduler reducing learning rate to 1.8720394940114592e-05.\n",
            "16/16 [==============================] - 14s 879ms/step - loss: 1.0120 - mse: 0.3977 - val_loss: 1.1119 - val_mse: 0.4990\n",
            "Epoch 142/150\n",
            "\n",
            "Epoch 00142: LearningRateScheduler reducing learning rate to 1.8460107503249286e-05.\n",
            "16/16 [==============================] - 14s 883ms/step - loss: 1.0201 - mse: 0.4078 - val_loss: 1.1088 - val_mse: 0.4980\n",
            "Epoch 143/150\n",
            "\n",
            "Epoch 00143: LearningRateScheduler reducing learning rate to 1.8201643394147808e-05.\n",
            "16/16 [==============================] - 14s 878ms/step - loss: 1.0075 - mse: 0.3971 - val_loss: 1.1099 - val_mse: 0.5011\n",
            "Epoch 144/150\n",
            "\n",
            "Epoch 00144: LearningRateScheduler reducing learning rate to 1.794502897369227e-05.\n",
            "16/16 [==============================] - 14s 873ms/step - loss: 1.0008 - mse: 0.3924 - val_loss: 1.1076 - val_mse: 0.5007\n",
            "Epoch 145/150\n",
            "\n",
            "Epoch 00145: LearningRateScheduler reducing learning rate to 1.7690288799202324e-05.\n",
            "16/16 [==============================] - 14s 877ms/step - loss: 1.0161 - mse: 0.4097 - val_loss: 1.1104 - val_mse: 0.5053\n",
            "Epoch 146/150\n",
            "\n",
            "Epoch 00146: LearningRateScheduler reducing learning rate to 1.743744562532406e-05.\n",
            "16/16 [==============================] - 14s 871ms/step - loss: 0.9927 - mse: 0.3880 - val_loss: 1.1051 - val_mse: 0.5018\n",
            "Epoch 147/150\n",
            "\n",
            "Epoch 00147: LearningRateScheduler reducing learning rate to 1.7186522197732678e-05.\n",
            "16/16 [==============================] - 14s 874ms/step - loss: 0.9934 - mse: 0.3905 - val_loss: 1.0976 - val_mse: 0.4962\n",
            "Epoch 148/150\n",
            "\n",
            "Epoch 00148: LearningRateScheduler reducing learning rate to 1.6937539460499296e-05.\n",
            "16/16 [==============================] - 14s 878ms/step - loss: 1.0061 - mse: 0.4051 - val_loss: 1.0918 - val_mse: 0.4921\n",
            "Epoch 149/150\n",
            "\n",
            "Epoch 00149: LearningRateScheduler reducing learning rate to 1.6690520141900553e-05.\n",
            "16/16 [==============================] - 14s 883ms/step - loss: 0.9906 - mse: 0.3912 - val_loss: 1.1000 - val_mse: 0.5018\n",
            "Epoch 150/150\n",
            "\n",
            "Epoch 00150: LearningRateScheduler reducing learning rate to 1.644548158440216e-05.\n",
            "16/16 [==============================] - 14s 884ms/step - loss: 0.9858 - mse: 0.3880 - val_loss: 1.0932 - val_mse: 0.4967\n"
          ],
          "name": "stdout"
        }
      ]
    },
    {
      "cell_type": "code",
      "metadata": {
        "id": "3Z38S64ZpeB_",
        "colab": {
          "base_uri": "https://localhost:8080/",
          "height": 295
        },
        "outputId": "dc934d0b-8fa8-43d5-d5c7-ffc5080ddbf7"
      },
      "source": [
        "plt.plot(history.history['mse'])\n",
        "plt.plot(history.history['val_mse'])\n",
        "plt.title('Model MSE')\n",
        "plt.ylabel('MSE')\n",
        "plt.xlabel('Epoch')\n",
        "plt.legend(['train', 'validation'], loc='best')\n",
        "plt.show()"
      ],
      "execution_count": null,
      "outputs": [
        {
          "output_type": "display_data",
          "data": {
            "image/png": "[encoded data removed]",
            "text/plain": [
              "<Figure size 432x288 with 1 Axes>"
            ]
          },
          "metadata": {
            "tags": [],
            "needs_background": "light"
          }
        }
      ]
    },
    {
      "cell_type": "code",
      "metadata": {
        "colab": {
          "base_uri": "https://localhost:8080/",
          "height": 295
        },
        "id": "osgMWhxRIibD",
        "outputId": "caad439e-4cb3-4f62-df1b-3b0bea9e1f72"
      },
      "source": [
        "plt.plot(history.history['loss'])\n",
        "plt.plot(history.history['val_loss'])\n",
        "plt.title('Model Loss')\n",
        "plt.ylabel('Loss')\n",
        "plt.xlabel('Epoch')\n",
        "plt.legend(['train', 'validation'], loc='best')\n",
        "plt.show()"
      ],
      "execution_count": null,
      "outputs": [
        {
          "output_type": "display_data",
          "data": {
            "image/png": "[encoded data removed]",
            "text/plain": [
              "<Figure size 432x288 with 1 Axes>"
            ]
          },
          "metadata": {
            "tags": [],
            "needs_background": "light"
          }
        }
      ]
    },
    {
      "cell_type": "code",
      "metadata": {
        "id": "hYEHkn7jBD03"
      },
      "source": [
        "# initial_learning_rate = 0.0001\n",
        "# epochs = 100\n",
        "# decay = initial_learning_rate / epochs\n",
        "# def lr_time_based_decay(epoch, lr):\n",
        "#     lr = lr * 1 / (1 + decay * epoch)\n",
        "#     return lr\n"
      ],
      "execution_count": null,
      "outputs": []
    },
    {
      "cell_type": "code",
      "metadata": {
        "id": "-NqyrbTTA1_W"
      },
      "source": [
        "# history = model.fit(x_train, y_train_scaled,\n",
        "#           epochs=100,\n",
        "#           batch_size = 128,\n",
        "#           validation_split=0.3,\n",
        "#           callbacks=[callbacks.LearningRateScheduler(lr_time_based_decay, verbose=1)],\n",
        "#           verbose=1)"
      ],
      "execution_count": null,
      "outputs": []
    },
    {
      "cell_type": "code",
      "metadata": {
        "id": "mM9oEpO0RSVZ"
      },
      "source": [
        "for i in range(len(y_test_scaled.iloc[:,0])):     #unscaling y_test_scaled back to original distribution\n",
        "  # print(i)\n",
        "  y_test_scaled.iloc[i,0] = ((y_test_scaled.iloc[i,0] + 1)*(maxb-minb))/2 + minb\n",
        "\n",
        "\n",
        "for i in range(len(y_test_scaled.iloc[:,1])):\n",
        "  # print(i)\n",
        "  y_test_scaled.iloc[i,1] = ((y_test_scaled.iloc[i,1] + 1)*(maxr-minr))/2 + minr   #\n",
        "\n",
        "for i in range(len(y_test_scaled.iloc[:,2])):\n",
        "  # print(i)\n",
        "  y_test_scaled.iloc[i,2] = ((y_test_scaled.iloc[i,2] + 1)*(maxt-mint))/2 + mint \n",
        "\n",
        "for i in range(len(y_test_scaled.iloc[:,3])):\n",
        "  # print(i)\n",
        "  y_test_scaled.iloc[i,3] = ((y_test_scaled.iloc[i,3] + 1)*(maxx-minx))/2 + minx   #\n",
        "\n",
        "for i in range(len(y_test_scaled.iloc[:,4])):\n",
        "  # print(i)\n",
        "  y_test_scaled.iloc[i,4] = ((y_test_scaled.iloc[i,4] + 1)*(maxy-miny))/2 + miny "
      ],
      "execution_count": null,
      "outputs": []
    },
    {
      "cell_type": "code",
      "metadata": {
        "id": "ciu3jV4hR5C-",
        "colab": {
          "base_uri": "https://localhost:8080/",
          "height": 419
        },
        "outputId": "b7bff7b4-36ac-4e10-8faa-a6bf29574362"
      },
      "source": [
        "y_test_scaled"
      ],
      "execution_count": null,
      "outputs": [
        {
          "output_type": "execute_result",
          "data": {
            "text/html": [
              "<div>\n",
              "<style scoped>\n",
              "    .dataframe tbody tr th:only-of-type {\n",
              "        vertical-align: middle;\n",
              "    }\n",
              "\n",
              "    .dataframe tbody tr th {\n",
              "        vertical-align: top;\n",
              "    }\n",
              "\n",
              "    .dataframe thead th {\n",
              "        text-align: right;\n",
              "    }\n",
              "</style>\n",
              "<table border=\"1\" class=\"dataframe\">\n",
              "  <thead>\n",
              "    <tr style=\"text-align: right;\">\n",
              "      <th></th>\n",
              "      <th>B</th>\n",
              "      <th>R</th>\n",
              "      <th>Theta</th>\n",
              "      <th>X</th>\n",
              "      <th>Y</th>\n",
              "    </tr>\n",
              "  </thead>\n",
              "  <tbody>\n",
              "    <tr>\n",
              "      <th>2893</th>\n",
              "      <td>2220.0</td>\n",
              "      <td>6912.0</td>\n",
              "      <td>0.0</td>\n",
              "      <td>52.0</td>\n",
              "      <td>50.0</td>\n",
              "    </tr>\n",
              "    <tr>\n",
              "      <th>3055</th>\n",
              "      <td>1420.0</td>\n",
              "      <td>-8064.0</td>\n",
              "      <td>-4000.0</td>\n",
              "      <td>52.0</td>\n",
              "      <td>50.0</td>\n",
              "    </tr>\n",
              "    <tr>\n",
              "      <th>2155</th>\n",
              "      <td>3020.0</td>\n",
              "      <td>-8064.0</td>\n",
              "      <td>4000.0</td>\n",
              "      <td>50.0</td>\n",
              "      <td>52.0</td>\n",
              "    </tr>\n",
              "    <tr>\n",
              "      <th>481</th>\n",
              "      <td>2820.0</td>\n",
              "      <td>-6912.0</td>\n",
              "      <td>-4000.0</td>\n",
              "      <td>50.0</td>\n",
              "      <td>50.0</td>\n",
              "    </tr>\n",
              "    <tr>\n",
              "      <th>665</th>\n",
              "      <td>2020.0</td>\n",
              "      <td>3456.0</td>\n",
              "      <td>4000.0</td>\n",
              "      <td>50.0</td>\n",
              "      <td>50.0</td>\n",
              "    </tr>\n",
              "    <tr>\n",
              "      <th>...</th>\n",
              "      <td>...</td>\n",
              "      <td>...</td>\n",
              "      <td>...</td>\n",
              "      <td>...</td>\n",
              "      <td>...</td>\n",
              "    </tr>\n",
              "    <tr>\n",
              "      <th>3874</th>\n",
              "      <td>1220.0</td>\n",
              "      <td>13824.0</td>\n",
              "      <td>8000.0</td>\n",
              "      <td>52.0</td>\n",
              "      <td>50.0</td>\n",
              "    </tr>\n",
              "    <tr>\n",
              "      <th>3552</th>\n",
              "      <td>3220.0</td>\n",
              "      <td>-11520.0</td>\n",
              "      <td>4000.0</td>\n",
              "      <td>52.0</td>\n",
              "      <td>50.0</td>\n",
              "    </tr>\n",
              "    <tr>\n",
              "      <th>619</th>\n",
              "      <td>1620.0</td>\n",
              "      <td>8064.0</td>\n",
              "      <td>4000.0</td>\n",
              "      <td>50.0</td>\n",
              "      <td>50.0</td>\n",
              "    </tr>\n",
              "    <tr>\n",
              "      <th>539</th>\n",
              "      <td>3220.0</td>\n",
              "      <td>2304.0</td>\n",
              "      <td>-4000.0</td>\n",
              "      <td>50.0</td>\n",
              "      <td>50.0</td>\n",
              "    </tr>\n",
              "    <tr>\n",
              "      <th>2555</th>\n",
              "      <td>1820.0</td>\n",
              "      <td>-8064.0</td>\n",
              "      <td>8000.0</td>\n",
              "      <td>50.0</td>\n",
              "      <td>52.0</td>\n",
              "    </tr>\n",
              "  </tbody>\n",
              "</table>\n",
              "<p>1238 rows × 5 columns</p>\n",
              "</div>"
            ],
            "text/plain": [
              "           B        R   Theta     X     Y\n",
              "2893  2220.0   6912.0     0.0  52.0  50.0\n",
              "3055  1420.0  -8064.0 -4000.0  52.0  50.0\n",
              "2155  3020.0  -8064.0  4000.0  50.0  52.0\n",
              "481   2820.0  -6912.0 -4000.0  50.0  50.0\n",
              "665   2020.0   3456.0  4000.0  50.0  50.0\n",
              "...      ...      ...     ...   ...   ...\n",
              "3874  1220.0  13824.0  8000.0  52.0  50.0\n",
              "3552  3220.0 -11520.0  4000.0  52.0  50.0\n",
              "619   1620.0   8064.0  4000.0  50.0  50.0\n",
              "539   3220.0   2304.0 -4000.0  50.0  50.0\n",
              "2555  1820.0  -8064.0  8000.0  50.0  52.0\n",
              "\n",
              "[1238 rows x 5 columns]"
            ]
          },
          "metadata": {
            "tags": []
          },
          "execution_count": 68
        }
      ]
    },
    {
      "cell_type": "code",
      "metadata": {
        "id": "cWUwm9HmSbBu"
      },
      "source": [
        "prediction = model.predict(x_test)    #finding predictions on x_test"
      ],
      "execution_count": null,
      "outputs": []
    },
    {
      "cell_type": "markdown",
      "metadata": {
        "id": "QD6VeZttjmDO"
      },
      "source": [
        "## Prediction"
      ]
    },
    {
      "cell_type": "code",
      "metadata": {
        "id": "dUQl7xuXSg53"
      },
      "source": [
        "for i in range(len(prediction[:,0])):     #unscaling prediction back to original distribution\n",
        "  # print(i)\n",
        "  prediction[i,0] = ((prediction[i,0] + 1)*(maxb-minb))/2 + minb\n",
        "\n",
        "\n",
        "for i in range(len(prediction[:,1])):\n",
        "  # print(i)\n",
        "  prediction[i,1] = ((prediction[i,1] + 1)*(maxr-minr))/2 + minr   #\n",
        "\n",
        "for i in range(len(prediction[:,2])):\n",
        "  # print(i)\n",
        "  prediction[i,2] = ((prediction[i,2] + 1)*(maxt-mint))/2 + mint \n",
        "\n",
        "for i in range(len(prediction[:,3])):\n",
        "  # print(i)\n",
        "  prediction[i,3] = ((prediction[i,3] + 1)*(maxx-minx))/2 + minx   #\n",
        "\n",
        "for i in range(len(prediction[:,4])):\n",
        "  # print(i)\n",
        "  prediction[i,4] = ((prediction[i,4] + 1)*(maxy-miny))/2 + miny "
      ],
      "execution_count": null,
      "outputs": []
    },
    {
      "cell_type": "code",
      "metadata": {
        "id": "A9settPVSmmo",
        "colab": {
          "base_uri": "https://localhost:8080/"
        },
        "outputId": "cc58bc1b-b087-4414-f7c8-802d002c8421"
      },
      "source": [
        "prediction"
      ],
      "execution_count": null,
      "outputs": [
        {
          "output_type": "execute_result",
          "data": {
            "text/plain": [
              "array([[ 18.704205 ,   8.268025 ,   6.6444325,  17.379068 ,  16.510143 ],\n",
              "       [ 20.17179  ,   1.351907 , -19.947721 ,  16.17385  ,  16.013565 ],\n",
              "       [ 18.147415 ,   2.2511263,  -3.1462283,  16.436237 ,  17.610424 ],\n",
              "       ...,\n",
              "       [ 17.869741 ,   7.73464  ,   1.8196359,  16.623913 ,  16.534464 ],\n",
              "       [ 22.0707   ,   0.2343053,  -4.8081083,  16.716135 ,  16.484648 ],\n",
              "       [ 20.015505 ,   8.783417 ,   6.0361223,  16.76498  ,  17.418926 ]],\n",
              "      dtype=float32)"
            ]
          },
          "metadata": {
            "tags": []
          },
          "execution_count": 71
        }
      ]
    },
    {
      "cell_type": "code",
      "metadata": {
        "id": "Xi7rCA1ATByn"
      },
      "source": [
        "prediction_round = np.rint(prediction)"
      ],
      "execution_count": null,
      "outputs": []
    },
    {
      "cell_type": "code",
      "metadata": {
        "id": "XgEcPPOvTIJN",
        "colab": {
          "base_uri": "https://localhost:8080/"
        },
        "outputId": "a6570ef7-6fbc-4f07-c8d8-494c5a7390b1"
      },
      "source": [
        "prediction_round"
      ],
      "execution_count": null,
      "outputs": [
        {
          "output_type": "execute_result",
          "data": {
            "text/plain": [
              "array([[ 19.,   8.,   7.,  17.,  17.],\n",
              "       [ 20.,   1., -20.,  16.,  16.],\n",
              "       [ 18.,   2.,  -3.,  16.,  18.],\n",
              "       ...,\n",
              "       [ 18.,   8.,   2.,  17.,  17.],\n",
              "       [ 22.,   0.,  -5.,  17.,  16.],\n",
              "       [ 20.,   9.,   6.,  17.,  17.]], dtype=float32)"
            ]
          },
          "metadata": {
            "tags": []
          },
          "execution_count": 73
        }
      ]
    },
    {
      "cell_type": "code",
      "metadata": {
        "colab": {
          "base_uri": "https://localhost:8080/",
          "height": 419
        },
        "id": "UR6iyR6x12W2",
        "outputId": "fcce2857-ce4f-49d5-cbea-ca19de9aeed4"
      },
      "source": [
        "y_test_scaled"
      ],
      "execution_count": null,
      "outputs": [
        {
          "output_type": "execute_result",
          "data": {
            "text/html": [
              "<div>\n",
              "<style scoped>\n",
              "    .dataframe tbody tr th:only-of-type {\n",
              "        vertical-align: middle;\n",
              "    }\n",
              "\n",
              "    .dataframe tbody tr th {\n",
              "        vertical-align: top;\n",
              "    }\n",
              "\n",
              "    .dataframe thead th {\n",
              "        text-align: right;\n",
              "    }\n",
              "</style>\n",
              "<table border=\"1\" class=\"dataframe\">\n",
              "  <thead>\n",
              "    <tr style=\"text-align: right;\">\n",
              "      <th></th>\n",
              "      <th>B</th>\n",
              "      <th>R</th>\n",
              "      <th>Theta</th>\n",
              "      <th>X</th>\n",
              "      <th>Y</th>\n",
              "    </tr>\n",
              "  </thead>\n",
              "  <tbody>\n",
              "    <tr>\n",
              "      <th>2893</th>\n",
              "      <td>2220.0</td>\n",
              "      <td>6912.0</td>\n",
              "      <td>0.0</td>\n",
              "      <td>52.0</td>\n",
              "      <td>50.0</td>\n",
              "    </tr>\n",
              "    <tr>\n",
              "      <th>3055</th>\n",
              "      <td>1420.0</td>\n",
              "      <td>-8064.0</td>\n",
              "      <td>-4000.0</td>\n",
              "      <td>52.0</td>\n",
              "      <td>50.0</td>\n",
              "    </tr>\n",
              "    <tr>\n",
              "      <th>2155</th>\n",
              "      <td>3020.0</td>\n",
              "      <td>-8064.0</td>\n",
              "      <td>4000.0</td>\n",
              "      <td>50.0</td>\n",
              "      <td>52.0</td>\n",
              "    </tr>\n",
              "    <tr>\n",
              "      <th>481</th>\n",
              "      <td>2820.0</td>\n",
              "      <td>-6912.0</td>\n",
              "      <td>-4000.0</td>\n",
              "      <td>50.0</td>\n",
              "      <td>50.0</td>\n",
              "    </tr>\n",
              "    <tr>\n",
              "      <th>665</th>\n",
              "      <td>2020.0</td>\n",
              "      <td>3456.0</td>\n",
              "      <td>4000.0</td>\n",
              "      <td>50.0</td>\n",
              "      <td>50.0</td>\n",
              "    </tr>\n",
              "    <tr>\n",
              "      <th>...</th>\n",
              "      <td>...</td>\n",
              "      <td>...</td>\n",
              "      <td>...</td>\n",
              "      <td>...</td>\n",
              "      <td>...</td>\n",
              "    </tr>\n",
              "    <tr>\n",
              "      <th>3874</th>\n",
              "      <td>1220.0</td>\n",
              "      <td>13824.0</td>\n",
              "      <td>8000.0</td>\n",
              "      <td>52.0</td>\n",
              "      <td>50.0</td>\n",
              "    </tr>\n",
              "    <tr>\n",
              "      <th>3552</th>\n",
              "      <td>3220.0</td>\n",
              "      <td>-11520.0</td>\n",
              "      <td>4000.0</td>\n",
              "      <td>52.0</td>\n",
              "      <td>50.0</td>\n",
              "    </tr>\n",
              "    <tr>\n",
              "      <th>619</th>\n",
              "      <td>1620.0</td>\n",
              "      <td>8064.0</td>\n",
              "      <td>4000.0</td>\n",
              "      <td>50.0</td>\n",
              "      <td>50.0</td>\n",
              "    </tr>\n",
              "    <tr>\n",
              "      <th>539</th>\n",
              "      <td>3220.0</td>\n",
              "      <td>2304.0</td>\n",
              "      <td>-4000.0</td>\n",
              "      <td>50.0</td>\n",
              "      <td>50.0</td>\n",
              "    </tr>\n",
              "    <tr>\n",
              "      <th>2555</th>\n",
              "      <td>1820.0</td>\n",
              "      <td>-8064.0</td>\n",
              "      <td>8000.0</td>\n",
              "      <td>50.0</td>\n",
              "      <td>52.0</td>\n",
              "    </tr>\n",
              "  </tbody>\n",
              "</table>\n",
              "<p>1238 rows × 5 columns</p>\n",
              "</div>"
            ],
            "text/plain": [
              "           B        R   Theta     X     Y\n",
              "2893  2220.0   6912.0     0.0  52.0  50.0\n",
              "3055  1420.0  -8064.0 -4000.0  52.0  50.0\n",
              "2155  3020.0  -8064.0  4000.0  50.0  52.0\n",
              "481   2820.0  -6912.0 -4000.0  50.0  50.0\n",
              "665   2020.0   3456.0  4000.0  50.0  50.0\n",
              "...      ...      ...     ...   ...   ...\n",
              "3874  1220.0  13824.0  8000.0  52.0  50.0\n",
              "3552  3220.0 -11520.0  4000.0  52.0  50.0\n",
              "619   1620.0   8064.0  4000.0  50.0  50.0\n",
              "539   3220.0   2304.0 -4000.0  50.0  50.0\n",
              "2555  1820.0  -8064.0  8000.0  50.0  52.0\n",
              "\n",
              "[1238 rows x 5 columns]"
            ]
          },
          "metadata": {
            "tags": []
          },
          "execution_count": 74
        }
      ]
    },
    {
      "cell_type": "code",
      "metadata": {
        "id": "1tp_R8uZLMml"
      },
      "source": [
        "# y_test_inv = target_scaler.inverse_transform(y_test)"
      ],
      "execution_count": null,
      "outputs": []
    },
    {
      "cell_type": "code",
      "metadata": {
        "id": "HP0uoETYLPsX"
      },
      "source": [
        "# prediction = model.predict(x_test)\n",
        "# prediction = target_scaler.inverse_transform(prediction)"
      ],
      "execution_count": null,
      "outputs": []
    },
    {
      "cell_type": "code",
      "metadata": {
        "id": "OnB_UDyJLSyk"
      },
      "source": [
        "from sklearn.metrics import mean_squared_error, mean_absolute_error"
      ],
      "execution_count": null,
      "outputs": []
    },
    {
      "cell_type": "code",
      "metadata": {
        "id": "fgdKp4DRLVb-"
      },
      "source": [
        "mse = mean_squared_error(y_test_scaled, prediction)\n",
        "mae = mean_absolute_error(y_test_scaled, prediction)"
      ],
      "execution_count": null,
      "outputs": []
    },
    {
      "cell_type": "code",
      "metadata": {
        "id": "pT5Cbf9ALYUS",
        "colab": {
          "base_uri": "https://localhost:8080/"
        },
        "outputId": "f827aa3e-7990-4d59-8008-1acc40718011"
      },
      "source": [
        "print(mse)\n",
        "print(mae)"
      ],
      "execution_count": null,
      "outputs": [
        {
          "output_type": "stream",
          "text": [
            "20737821.17114968\n",
            "2816.478427997175\n"
          ],
          "name": "stdout"
        }
      ]
    },
    {
      "cell_type": "code",
      "metadata": {
        "id": "udXes8FKM4eo",
        "colab": {
          "base_uri": "https://localhost:8080/"
        },
        "outputId": "7dfe61e3-0262-45f8-dd0c-0a3db92ef4af"
      },
      "source": [
        "model.save(\"absolute-best-model6\")"
      ],
      "execution_count": null,
      "outputs": [
        {
          "output_type": "stream",
          "text": [
            "INFO:tensorflow:Assets written to: absolute-best-model4/assets\n"
          ],
          "name": "stdout"
        }
      ]
    },
    {
      "cell_type": "code",
      "metadata": {
        "id": "AHWLOTn51sIA"
      },
      "source": [
        "model.save(\"absolute-best-model6.h5\")"
      ],
      "execution_count": null,
      "outputs": []
    },
    {
      "cell_type": "code",
      "metadata": {
        "id": "2XkC4i0v3pKH"
      },
      "source": [
        "# np.savetxt('absolute-best-model3-predictions.csv', prediction_round, delimiter=\",\")"
      ],
      "execution_count": null,
      "outputs": []
    },
    {
      "cell_type": "code",
      "metadata": {
        "id": "ecdzdeZd3sgC"
      },
      "source": [
        "# np.savetxt('ground-truth--1to1-rxy.csv', y_test_scaled, delimiter=\",\")"
      ],
      "execution_count": null,
      "outputs": []
    },
    {
      "cell_type": "code",
      "metadata": {
        "id": "IXmWSHqtk2Nz"
      },
      "source": [
        "# b1 = y_test_inv[:,0]\n",
        "# b2 = prediction_round[:,0]\n",
        "# error_b = mean_absolute_error(b1, b2)\n",
        "# print(error_b)"
      ],
      "execution_count": null,
      "outputs": []
    },
    {
      "cell_type": "code",
      "metadata": {
        "id": "0kEyoMZRmksi"
      },
      "source": [
        "# r1 = y_test_scaled.iloc[:,0]\n",
        "# r2 = prediction_round[:,0]\n",
        "# error_r = mean_absolute_error(r1, r2)\n",
        "# print(error_r)"
      ],
      "execution_count": null,
      "outputs": []
    },
    {
      "cell_type": "code",
      "metadata": {
        "id": "TbTZbN0lmsWL"
      },
      "source": [
        "# t1 = y_test_inv[:,2]\n",
        "# t2 = prediction_round[:,2]\n",
        "# error_t = mean_absolute_error(t1, t2)\n",
        "# print(error_t)"
      ],
      "execution_count": null,
      "outputs": []
    },
    {
      "cell_type": "code",
      "metadata": {
        "id": "eHTDJCqWReot"
      },
      "source": [
        "from keras.models import load_model"
      ],
      "execution_count": null,
      "outputs": []
    },
    {
      "cell_type": "code",
      "metadata": {
        "id": "5PVN0407RuXv"
      },
      "source": [
        "n_members = 3\n",
        "models = list()\n",
        "\n",
        "# model1 = load_model('absolute-best-model2.h5')\n",
        "model2 = load_model('absolute-best-model3.h5')\n",
        "model3 = load_model('absolute-best-model6.h5')\n",
        "# model4 = load_model('absolute-best-model5.h5')\n",
        "\t# store in memory\n",
        "# models.append(model1)\n",
        "models.append(model2)\n",
        "models.append(model3)\n",
        "# models.append(model4)"
      ],
      "execution_count": null,
      "outputs": []
    },
    {
      "cell_type": "code",
      "metadata": {
        "id": "yEwjupKomz2Q"
      },
      "source": [
        "import cv2\n",
        "from google.colab.patches import cv2_imshow\n",
        "img = cv2.imread('img1259.jpg')\n",
        "img = cv2.cvtColor(img, cv2.COLOR_BGR2GRAY)\n",
        "img= cv2.resize(img, dsize=(224,224), interpolation = cv2.INTER_CUBIC)\n",
        "# plt.imshow(img)\n",
        "img.shape\n",
        "\n",
        "img = np.reshape(img, (1, 224, 224))\n",
        "# img = np.expand_dims(img, axis = 0)\n",
        "# img = np.expand_dims(img, axis = 3)\n",
        "# img = np.reshape(128,128)\n",
        "# img = img.astype('float32')\n",
        "img = img/255\n",
        "img = np.repeat(img[..., np.newaxis], 3, -1)\n",
        "# plt.imshow(img.reshape(128,128), cmap = plt.cm.binary)"
      ],
      "execution_count": null,
      "outputs": []
    },
    {
      "cell_type": "code",
      "metadata": {
        "id": "IPlFIP9VnWcW",
        "colab": {
          "base_uri": "https://localhost:8080/"
        },
        "outputId": "696a8d09-8037-4839-8fb5-b3f524dd00ea"
      },
      "source": [
        "img.shape"
      ],
      "execution_count": null,
      "outputs": [
        {
          "output_type": "execute_result",
          "data": {
            "text/plain": [
              "(1, 224, 224, 3)"
            ]
          },
          "metadata": {
            "tags": []
          },
          "execution_count": 103
        }
      ]
    },
    {
      "cell_type": "code",
      "metadata": {
        "id": "hcDTSZQUm_b2"
      },
      "source": [
        "img2 = cv2.imread('target_image.png')\n",
        "img2 = cv2.cvtColor(img2, cv2.COLOR_BGR2GRAY)\n",
        "img2= cv2.resize(img2, dsize=(224,224), interpolation = cv2.INTER_CUBIC)\n",
        "# plt.imshow(img)\n",
        "img2.shape\n",
        "\n",
        "img2 = np.reshape(img2, (1, 224, 224))\n",
        "# img = np.expand_dims(img, axis = 0)\n",
        "# img = np.expand_dims(img, axis = 3)\n",
        "# img = np.reshape(128,128)\n",
        "# img = img.astype('float32')\n",
        "img2 = img2/255\n",
        "img2 = np.repeat(img2[..., np.newaxis], 3, -1)\n",
        "# plt.imshow(img.reshape(128,128), cmap = plt.cm.binary)"
      ],
      "execution_count": null,
      "outputs": []
    },
    {
      "cell_type": "code",
      "metadata": {
        "id": "4e7k8WDWpa1c"
      },
      "source": [
        "img2.shape"
      ],
      "execution_count": null,
      "outputs": []
    },
    {
      "cell_type": "code",
      "metadata": {
        "id": "BGxf25z0lUM8"
      },
      "source": [
        "# predictionimg = model.predict([img,img2])\n",
        "# predictionimg = np.rint(predictionimg)"
      ],
      "execution_count": null,
      "outputs": []
    },
    {
      "cell_type": "code",
      "metadata": {
        "id": "YNAbeatNl20z"
      },
      "source": [
        "predictionimg = model2.predict(img2)\n",
        "print(predictionimg)"
      ],
      "execution_count": null,
      "outputs": []
    },
    {
      "cell_type": "code",
      "metadata": {
        "colab": {
          "base_uri": "https://localhost:8080/"
        },
        "id": "WW6Ey-y7Z9Dk",
        "outputId": "ee6b8f7a-2dbc-475d-ce38-e2eb57871360"
      },
      "source": [
        "targetimg = model2.predict(img)\n",
        "print(targetimg)"
      ],
      "execution_count": null,
      "outputs": [
        {
          "output_type": "stream",
          "text": [
            "[[-0.00883751 -0.00230948 -0.04072975 -0.45861852 -0.37419677]]\n"
          ],
          "name": "stdout"
        }
      ]
    },
    {
      "cell_type": "code",
      "metadata": {
        "id": "1oSIIfeZ31k9"
      },
      "source": [
        "for i in range(len(predictionimg[:,0])):     #unscaling predictionimg back to original distribution\n",
        "  # print(i)\n",
        "  predictionimg[i,0] = ((predictionimg[i,0] + 1)*(maxb-minb))/2 + minb\n",
        "\n",
        "\n",
        "for i in range(len(predictionimg[:,1])):\n",
        "  # print(i)\n",
        "  predictionimg[i,1] = ((predictionimg[i,1] + 1)*(maxr-minr))/2 + minr   #\n",
        "\n",
        "for i in range(len(predictionimg[:,2])):\n",
        "  # print(i)\n",
        "  predictionimg[i,2] = ((predictionimg[i,2] + 1)*(maxt-mint))/2 + mint \n",
        "\n",
        "for i in range(len(predictionimg[:,3])):\n",
        "  # print(i)\n",
        "  predictionimg[i,3] = ((predictionimg[i,3] + 1)*(maxx-minx))/2 + minx   #\n",
        "\n",
        "for i in range(len(predictionimg[:,4])):\n",
        "  # print(i)\n",
        "  predictionimg[i,4] = ((predictionimg[i,4] + 1)*(maxy-miny))/2 + miny "
      ],
      "execution_count": null,
      "outputs": []
    },
    {
      "cell_type": "code",
      "metadata": {
        "id": "5h0NOkn7ZaYE"
      },
      "source": [
        "print(predictionimg)"
      ],
      "execution_count": null,
      "outputs": []
    },
    {
      "cell_type": "code",
      "metadata": {
        "id": "xOGq9JNlZ20j"
      },
      "source": [
        "for i in range(len(targetimg[:,0])):     #unscaling targetimg back to original distribution\n",
        "  # print(i)\n",
        "  targetimg[i,0] = ((targetimg[i,0] + 1)*(maxb-minb))/2 + minb\n",
        "\n",
        "\n",
        "for i in range(len(targetimg[:,1])):\n",
        "  # print(i)\n",
        "  targetimg[i,1] = ((targetimg[i,1] + 1)*(maxr-minr))/2 + minr   #\n",
        "\n",
        "for i in range(len(targetimg[:,2])):\n",
        "  # print(i)\n",
        "  targetimg[i,2] = ((targetimg[i,2] + 1)*(maxt-mint))/2 + mint \n",
        "\n",
        "for i in range(len(targetimg[:,3])):\n",
        "  # print(i)\n",
        "  targetimg[i,3] = ((targetimg[i,3] + 1)*(maxx-minx))/2 + minx   #\n",
        "\n",
        "for i in range(len(targetimg[:,4])):\n",
        "  # print(i)\n",
        "  targetimg[i,4] = ((targetimg[i,4] + 1)*(maxy-miny))/2 + miny "
      ],
      "execution_count": null,
      "outputs": []
    },
    {
      "cell_type": "code",
      "metadata": {
        "colab": {
          "base_uri": "https://localhost:8080/"
        },
        "id": "yGg31zTpaY-4",
        "outputId": "cbb78187-11fc-40c8-cc2c-cc8376c30b5a"
      },
      "source": [
        "print(targetimg)"
      ],
      "execution_count": null,
      "outputs": [
        {
          "output_type": "stream",
          "text": [
            "[[19.911625   -0.05542746 -0.8145951  16.541382   16.625803  ]]\n"
          ],
          "name": "stdout"
        }
      ]
    },
    {
      "cell_type": "code",
      "metadata": {
        "id": "zNg99yJ7aiB7"
      },
      "source": [
        "delta = targetimg - predictionimg\n",
        "print(delta)"
      ],
      "execution_count": null,
      "outputs": []
    },
    {
      "cell_type": "markdown",
      "metadata": {
        "id": "yiJg_pZvlZc0"
      },
      "source": [
        "target =  22  -8 20 16 16.   "
      ]
    },
    {
      "cell_type": "code",
      "metadata": {
        "id": "1tMCY8XPl5pH"
      },
      "source": [
        ""
      ],
      "execution_count": null,
      "outputs": []
    },
    {
      "cell_type": "code",
      "metadata": {
        "id": "k3idkZYdl5WR"
      },
      "source": [
        ""
      ],
      "execution_count": null,
      "outputs": []
    },
    {
      "cell_type": "code",
      "metadata": {
        "id": "iU0bVcavl5Id"
      },
      "source": [
        ""
      ],
      "execution_count": null,
      "outputs": []
    },
    {
      "cell_type": "code",
      "metadata": {
        "id": "guH2vUqtlZAE"
      },
      "source": [
        "predictionimg2 = model3.predict(img2)\n",
        "print(predictionimg2)"
      ],
      "execution_count": null,
      "outputs": []
    },
    {
      "cell_type": "code",
      "metadata": {
        "colab": {
          "base_uri": "https://localhost:8080/"
        },
        "id": "saJ_EUpwlotO",
        "outputId": "067d9b8c-eee2-4381-a93d-a81d1e7edbf5"
      },
      "source": [
        "targetimg2 = model3.predict(img)\n",
        "print(targetimg2)"
      ],
      "execution_count": null,
      "outputs": [
        {
          "output_type": "stream",
          "text": [
            "[[-0.2067085  -0.00386199  0.16158421 -0.57697517  0.05799635]]\n"
          ],
          "name": "stdout"
        }
      ]
    },
    {
      "cell_type": "code",
      "metadata": {
        "id": "pG3YZh_klzmh"
      },
      "source": [
        "for i in range(len(predictionimg2[:,0])):     #unscaling predictionimg2 back to original distribution\n",
        "  # print(i)\n",
        "  predictionimg2[i,0] = ((predictionimg2[i,0] + 1)*(maxb-minb))/2 + minb\n",
        "\n",
        "\n",
        "for i in range(len(predictionimg2[:,1])):\n",
        "  # print(i)\n",
        "  predictionimg2[i,1] = ((predictionimg2[i,1] + 1)*(maxr-minr))/2 + minr   #\n",
        "\n",
        "for i in range(len(predictionimg2[:,2])):\n",
        "  # print(i)\n",
        "  predictionimg2[i,2] = ((predictionimg2[i,2] + 1)*(maxt-mint))/2 + mint \n",
        "\n",
        "for i in range(len(predictionimg2[:,3])):\n",
        "  # print(i)\n",
        "  predictionimg2[i,3] = ((predictionimg2[i,3] + 1)*(maxx-minx))/2 + minx   #\n",
        "\n",
        "for i in range(len(predictionimg2[:,4])):\n",
        "  # print(i)\n",
        "  predictionimg2[i,4] = ((predictionimg2[i,4] + 1)*(maxy-miny))/2 + miny "
      ],
      "execution_count": null,
      "outputs": []
    },
    {
      "cell_type": "code",
      "metadata": {
        "id": "fO8n7h8tl2UG"
      },
      "source": [
        "print(predictionimg2)"
      ],
      "execution_count": null,
      "outputs": []
    },
    {
      "cell_type": "code",
      "metadata": {
        "id": "CkCQfXKjl0L9"
      },
      "source": [
        "for i in range(len(targetimg2[:,0])):     #unscaling targetimg2 back to original distribution\n",
        "  # print(i)\n",
        "  targetimg2[i,0] = ((targetimg2[i,0] + 1)*(maxb-minb))/2 + minb\n",
        "\n",
        "\n",
        "for i in range(len(targetimg2[:,1])):\n",
        "  # print(i)\n",
        "  targetimg2[i,1] = ((targetimg2[i,1] + 1)*(maxr-minr))/2 + minr   #\n",
        "\n",
        "for i in range(len(targetimg2[:,2])):\n",
        "  # print(i)\n",
        "  targetimg2[i,2] = ((targetimg2[i,2] + 1)*(maxt-mint))/2 + mint \n",
        "\n",
        "for i in range(len(targetimg2[:,3])):\n",
        "  # print(i)\n",
        "  targetimg2[i,3] = ((targetimg2[i,3] + 1)*(maxx-minx))/2 + minx   #\n",
        "\n",
        "for i in range(len(targetimg2[:,4])):\n",
        "  # print(i)\n",
        "  targetimg2[i,4] = ((targetimg2[i,4] + 1)*(maxy-miny))/2 + miny "
      ],
      "execution_count": null,
      "outputs": []
    },
    {
      "cell_type": "code",
      "metadata": {
        "colab": {
          "base_uri": "https://localhost:8080/"
        },
        "id": "Nkrue3znmEEU",
        "outputId": "fcdfd0f9-0259-4a06-f8f7-bc3eacee7069"
      },
      "source": [
        "print(targetimg2)"
      ],
      "execution_count": null,
      "outputs": [
        {
          "output_type": "stream",
          "text": [
            "[[17.932915   -0.09268773  3.2316842  16.423025   17.057997  ]]\n"
          ],
          "name": "stdout"
        }
      ]
    },
    {
      "cell_type": "code",
      "metadata": {
        "id": "SwObrsCHmGhV"
      },
      "source": [
        "delta = targetimg2 - predictionimg2\n",
        "print(delta)"
      ],
      "execution_count": null,
      "outputs": []
    },
    {
      "cell_type": "code",
      "metadata": {
        "id": "fIYkh1QGmNoV"
      },
      "source": [
        ""
      ],
      "execution_count": null,
      "outputs": []
    }
  ]
}